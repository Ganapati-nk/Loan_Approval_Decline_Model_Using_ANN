{
  "cells": [
    {
      "cell_type": "markdown",
      "metadata": {
        "id": "view-in-github",
        "colab_type": "text"
      },
      "source": [
        "<a href=\"https://colab.research.google.com/github/Ganapati-nk/Loan_Approval_Decline_Model_Using_ANN/blob/main/Loan_Approval_Decline_Model_Using_ANN.ipynb\" target=\"_parent\"><img src=\"https://colab.research.google.com/assets/colab-badge.svg\" alt=\"Open In Colab\"/></a>"
      ]
    },
    {
      "cell_type": "code",
      "execution_count": 1025,
      "metadata": {
        "id": "AQowna3MGn5m"
      },
      "outputs": [],
      "source": [
        "import pandas as pd\n",
        "import numpy as np\n",
        "import matplotlib.pyplot as plt\n",
        "import seaborn as sns\n",
        "import warnings\n",
        "\n",
        "warnings.filterwarnings('ignore')"
      ]
    },
    {
      "cell_type": "code",
      "execution_count": 1026,
      "metadata": {
        "id": "6XyDJC03Gn5p"
      },
      "outputs": [],
      "source": [
        "train=pd.read_csv(\"train.csv\")\n",
        "test=pd.read_csv(\"test.csv\")\n",
        "\n"
      ]
    },
    {
      "cell_type": "code",
      "execution_count": 1027,
      "metadata": {
        "colab": {
          "base_uri": "https://localhost:8080/"
        },
        "id": "gDi-d1_0Gn5q",
        "outputId": "279ba24a-3011-4942-a6bd-2e90aaece8e6"
      },
      "outputs": [
        {
          "output_type": "stream",
          "name": "stdout",
          "text": [
            "Shape of train data is (10000, 55)\n"
          ]
        }
      ],
      "source": [
        "print(f\"Shape of train data is {train.shape}\")"
      ]
    },
    {
      "cell_type": "code",
      "execution_count": 1028,
      "metadata": {
        "colab": {
          "base_uri": "https://localhost:8080/"
        },
        "id": "071-48mhGn5r",
        "outputId": "4eefc03b-4665-421c-b32e-94ffadc38354"
      },
      "outputs": [
        {
          "output_type": "execute_result",
          "data": {
            "text/plain": [
              "Index(['DEALER ID', 'APPLICATION LOGIN DATE', 'HDB BRANCH NAME',\n",
              "       'HDB BRANCH STATE', 'FIRST NAME', 'MIDDLE NAME', 'LAST NAME', 'mobile',\n",
              "       'AADHAR VERIFIED', 'Cibil Score', 'MOBILE VERIFICATION', 'DEALER NAME',\n",
              "       'TOTAL ASSET COST', 'ASSET CTG', 'ASSET MODEL NO', 'APPLIED AMOUNT',\n",
              "       'PRIMARY ASSET MAKE', 'Primary Asset Model No',\n",
              "       'Personal Email Address', 'MARITAL STATUS', 'GENDER', 'DOB', 'AGE',\n",
              "       'ADDRESS TYPE', 'EMPLOY CONSTITUTION', 'EMPLOYER NAME', 'EMPLOYER TYPE',\n",
              "       'Pan Name', 'name', 'vpa', 'upi_name', 'Phone Social Premium.a23games',\n",
              "       'Phone Social Premium.amazon', 'Phone Social Premium.byjus',\n",
              "       'Phone Social Premium.flipkart', 'Phone Social Premium.housing',\n",
              "       'Phone Social Premium.indiamart', 'Phone Social Premium.instagram',\n",
              "       'Phone Social Premium.isWABusiness',\n",
              "       'Phone Social Premium.jeevansaathi', 'Phone Social Premium.jiomart',\n",
              "       'Phone Social Premium.microsoft', 'Phone Social Premium.my11',\n",
              "       'Phone Social Premium.paytm', 'Phone Social Premium.rummycircle',\n",
              "       'Phone Social Premium.shaadi', 'Phone Social Premium.skype',\n",
              "       'Phone Social Premium.toi', 'Phone Social Premium.whatsapp',\n",
              "       'Phone Social Premium.yatra', 'Phone Social Premium.zoho',\n",
              "       'phone_digitalage', 'phone_nameMatchScore',\n",
              "       'phone_phoneFootprintStrengthOverall', 'Application Status'],\n",
              "      dtype='object')"
            ]
          },
          "metadata": {},
          "execution_count": 1028
        }
      ],
      "source": [
        "train.columns"
      ]
    },
    {
      "cell_type": "code",
      "execution_count": 1029,
      "metadata": {
        "colab": {
          "base_uri": "https://localhost:8080/",
          "height": 1000
        },
        "id": "fBHH8rqZGn5t",
        "outputId": "d27f65d4-0981-4c22-c852-5831123eb2f7"
      },
      "outputs": [
        {
          "output_type": "execute_result",
          "data": {
            "text/plain": [
              "DEALER ID                              0.0000\n",
              "APPLICATION LOGIN DATE                 0.0000\n",
              "HDB BRANCH NAME                        0.0001\n",
              "HDB BRANCH STATE                       0.0854\n",
              "FIRST NAME                             0.0000\n",
              "MIDDLE NAME                            0.7145\n",
              "LAST NAME                              0.0681\n",
              "mobile                                 0.0000\n",
              "AADHAR VERIFIED                        0.0000\n",
              "Cibil Score                            0.4297\n",
              "MOBILE VERIFICATION                    0.0000\n",
              "DEALER NAME                            0.0004\n",
              "TOTAL ASSET COST                       0.5108\n",
              "ASSET CTG                              0.5108\n",
              "ASSET MODEL NO                         0.0000\n",
              "APPLIED AMOUNT                         0.0000\n",
              "PRIMARY ASSET MAKE                     0.0000\n",
              "Primary Asset Model No                 0.0000\n",
              "Personal Email Address                 0.0000\n",
              "MARITAL STATUS                         0.4894\n",
              "GENDER                                 0.0000\n",
              "DOB                                    0.0000\n",
              "AGE                                    0.0000\n",
              "ADDRESS TYPE                           0.3312\n",
              "EMPLOY CONSTITUTION                    0.4998\n",
              "EMPLOYER NAME                          0.5010\n",
              "EMPLOYER TYPE                          0.4998\n",
              "Pan Name                               0.1053\n",
              "name                                   0.0000\n",
              "vpa                                    0.2787\n",
              "upi_name                               0.2789\n",
              "Phone Social Premium.a23games          0.9999\n",
              "Phone Social Premium.amazon            0.1916\n",
              "Phone Social Premium.byjus             0.1948\n",
              "Phone Social Premium.flipkart          0.1832\n",
              "Phone Social Premium.housing           0.1776\n",
              "Phone Social Premium.indiamart         0.1775\n",
              "Phone Social Premium.instagram         0.6630\n",
              "Phone Social Premium.isWABusiness      0.8427\n",
              "Phone Social Premium.jeevansaathi      0.1829\n",
              "Phone Social Premium.jiomart           0.9590\n",
              "Phone Social Premium.microsoft         0.1872\n",
              "Phone Social Premium.my11              0.9998\n",
              "Phone Social Premium.paytm             0.1757\n",
              "Phone Social Premium.rummycircle       0.9999\n",
              "Phone Social Premium.shaadi            0.1779\n",
              "Phone Social Premium.skype             0.1785\n",
              "Phone Social Premium.toi               0.1943\n",
              "Phone Social Premium.whatsapp          0.8427\n",
              "Phone Social Premium.yatra             0.9991\n",
              "Phone Social Premium.zoho              0.1782\n",
              "phone_digitalage                       0.0004\n",
              "phone_nameMatchScore                   0.0004\n",
              "phone_phoneFootprintStrengthOverall    0.0006\n",
              "Application Status                     0.0000\n",
              "dtype: float64"
            ],
            "text/html": [
              "<div>\n",
              "<style scoped>\n",
              "    .dataframe tbody tr th:only-of-type {\n",
              "        vertical-align: middle;\n",
              "    }\n",
              "\n",
              "    .dataframe tbody tr th {\n",
              "        vertical-align: top;\n",
              "    }\n",
              "\n",
              "    .dataframe thead th {\n",
              "        text-align: right;\n",
              "    }\n",
              "</style>\n",
              "<table border=\"1\" class=\"dataframe\">\n",
              "  <thead>\n",
              "    <tr style=\"text-align: right;\">\n",
              "      <th></th>\n",
              "      <th>0</th>\n",
              "    </tr>\n",
              "  </thead>\n",
              "  <tbody>\n",
              "    <tr>\n",
              "      <th>DEALER ID</th>\n",
              "      <td>0.0000</td>\n",
              "    </tr>\n",
              "    <tr>\n",
              "      <th>APPLICATION LOGIN DATE</th>\n",
              "      <td>0.0000</td>\n",
              "    </tr>\n",
              "    <tr>\n",
              "      <th>HDB BRANCH NAME</th>\n",
              "      <td>0.0001</td>\n",
              "    </tr>\n",
              "    <tr>\n",
              "      <th>HDB BRANCH STATE</th>\n",
              "      <td>0.0854</td>\n",
              "    </tr>\n",
              "    <tr>\n",
              "      <th>FIRST NAME</th>\n",
              "      <td>0.0000</td>\n",
              "    </tr>\n",
              "    <tr>\n",
              "      <th>MIDDLE NAME</th>\n",
              "      <td>0.7145</td>\n",
              "    </tr>\n",
              "    <tr>\n",
              "      <th>LAST NAME</th>\n",
              "      <td>0.0681</td>\n",
              "    </tr>\n",
              "    <tr>\n",
              "      <th>mobile</th>\n",
              "      <td>0.0000</td>\n",
              "    </tr>\n",
              "    <tr>\n",
              "      <th>AADHAR VERIFIED</th>\n",
              "      <td>0.0000</td>\n",
              "    </tr>\n",
              "    <tr>\n",
              "      <th>Cibil Score</th>\n",
              "      <td>0.4297</td>\n",
              "    </tr>\n",
              "    <tr>\n",
              "      <th>MOBILE VERIFICATION</th>\n",
              "      <td>0.0000</td>\n",
              "    </tr>\n",
              "    <tr>\n",
              "      <th>DEALER NAME</th>\n",
              "      <td>0.0004</td>\n",
              "    </tr>\n",
              "    <tr>\n",
              "      <th>TOTAL ASSET COST</th>\n",
              "      <td>0.5108</td>\n",
              "    </tr>\n",
              "    <tr>\n",
              "      <th>ASSET CTG</th>\n",
              "      <td>0.5108</td>\n",
              "    </tr>\n",
              "    <tr>\n",
              "      <th>ASSET MODEL NO</th>\n",
              "      <td>0.0000</td>\n",
              "    </tr>\n",
              "    <tr>\n",
              "      <th>APPLIED AMOUNT</th>\n",
              "      <td>0.0000</td>\n",
              "    </tr>\n",
              "    <tr>\n",
              "      <th>PRIMARY ASSET MAKE</th>\n",
              "      <td>0.0000</td>\n",
              "    </tr>\n",
              "    <tr>\n",
              "      <th>Primary Asset Model No</th>\n",
              "      <td>0.0000</td>\n",
              "    </tr>\n",
              "    <tr>\n",
              "      <th>Personal Email Address</th>\n",
              "      <td>0.0000</td>\n",
              "    </tr>\n",
              "    <tr>\n",
              "      <th>MARITAL STATUS</th>\n",
              "      <td>0.4894</td>\n",
              "    </tr>\n",
              "    <tr>\n",
              "      <th>GENDER</th>\n",
              "      <td>0.0000</td>\n",
              "    </tr>\n",
              "    <tr>\n",
              "      <th>DOB</th>\n",
              "      <td>0.0000</td>\n",
              "    </tr>\n",
              "    <tr>\n",
              "      <th>AGE</th>\n",
              "      <td>0.0000</td>\n",
              "    </tr>\n",
              "    <tr>\n",
              "      <th>ADDRESS TYPE</th>\n",
              "      <td>0.3312</td>\n",
              "    </tr>\n",
              "    <tr>\n",
              "      <th>EMPLOY CONSTITUTION</th>\n",
              "      <td>0.4998</td>\n",
              "    </tr>\n",
              "    <tr>\n",
              "      <th>EMPLOYER NAME</th>\n",
              "      <td>0.5010</td>\n",
              "    </tr>\n",
              "    <tr>\n",
              "      <th>EMPLOYER TYPE</th>\n",
              "      <td>0.4998</td>\n",
              "    </tr>\n",
              "    <tr>\n",
              "      <th>Pan Name</th>\n",
              "      <td>0.1053</td>\n",
              "    </tr>\n",
              "    <tr>\n",
              "      <th>name</th>\n",
              "      <td>0.0000</td>\n",
              "    </tr>\n",
              "    <tr>\n",
              "      <th>vpa</th>\n",
              "      <td>0.2787</td>\n",
              "    </tr>\n",
              "    <tr>\n",
              "      <th>upi_name</th>\n",
              "      <td>0.2789</td>\n",
              "    </tr>\n",
              "    <tr>\n",
              "      <th>Phone Social Premium.a23games</th>\n",
              "      <td>0.9999</td>\n",
              "    </tr>\n",
              "    <tr>\n",
              "      <th>Phone Social Premium.amazon</th>\n",
              "      <td>0.1916</td>\n",
              "    </tr>\n",
              "    <tr>\n",
              "      <th>Phone Social Premium.byjus</th>\n",
              "      <td>0.1948</td>\n",
              "    </tr>\n",
              "    <tr>\n",
              "      <th>Phone Social Premium.flipkart</th>\n",
              "      <td>0.1832</td>\n",
              "    </tr>\n",
              "    <tr>\n",
              "      <th>Phone Social Premium.housing</th>\n",
              "      <td>0.1776</td>\n",
              "    </tr>\n",
              "    <tr>\n",
              "      <th>Phone Social Premium.indiamart</th>\n",
              "      <td>0.1775</td>\n",
              "    </tr>\n",
              "    <tr>\n",
              "      <th>Phone Social Premium.instagram</th>\n",
              "      <td>0.6630</td>\n",
              "    </tr>\n",
              "    <tr>\n",
              "      <th>Phone Social Premium.isWABusiness</th>\n",
              "      <td>0.8427</td>\n",
              "    </tr>\n",
              "    <tr>\n",
              "      <th>Phone Social Premium.jeevansaathi</th>\n",
              "      <td>0.1829</td>\n",
              "    </tr>\n",
              "    <tr>\n",
              "      <th>Phone Social Premium.jiomart</th>\n",
              "      <td>0.9590</td>\n",
              "    </tr>\n",
              "    <tr>\n",
              "      <th>Phone Social Premium.microsoft</th>\n",
              "      <td>0.1872</td>\n",
              "    </tr>\n",
              "    <tr>\n",
              "      <th>Phone Social Premium.my11</th>\n",
              "      <td>0.9998</td>\n",
              "    </tr>\n",
              "    <tr>\n",
              "      <th>Phone Social Premium.paytm</th>\n",
              "      <td>0.1757</td>\n",
              "    </tr>\n",
              "    <tr>\n",
              "      <th>Phone Social Premium.rummycircle</th>\n",
              "      <td>0.9999</td>\n",
              "    </tr>\n",
              "    <tr>\n",
              "      <th>Phone Social Premium.shaadi</th>\n",
              "      <td>0.1779</td>\n",
              "    </tr>\n",
              "    <tr>\n",
              "      <th>Phone Social Premium.skype</th>\n",
              "      <td>0.1785</td>\n",
              "    </tr>\n",
              "    <tr>\n",
              "      <th>Phone Social Premium.toi</th>\n",
              "      <td>0.1943</td>\n",
              "    </tr>\n",
              "    <tr>\n",
              "      <th>Phone Social Premium.whatsapp</th>\n",
              "      <td>0.8427</td>\n",
              "    </tr>\n",
              "    <tr>\n",
              "      <th>Phone Social Premium.yatra</th>\n",
              "      <td>0.9991</td>\n",
              "    </tr>\n",
              "    <tr>\n",
              "      <th>Phone Social Premium.zoho</th>\n",
              "      <td>0.1782</td>\n",
              "    </tr>\n",
              "    <tr>\n",
              "      <th>phone_digitalage</th>\n",
              "      <td>0.0004</td>\n",
              "    </tr>\n",
              "    <tr>\n",
              "      <th>phone_nameMatchScore</th>\n",
              "      <td>0.0004</td>\n",
              "    </tr>\n",
              "    <tr>\n",
              "      <th>phone_phoneFootprintStrengthOverall</th>\n",
              "      <td>0.0006</td>\n",
              "    </tr>\n",
              "    <tr>\n",
              "      <th>Application Status</th>\n",
              "      <td>0.0000</td>\n",
              "    </tr>\n",
              "  </tbody>\n",
              "</table>\n",
              "</div><br><label><b>dtype:</b> float64</label>"
            ]
          },
          "metadata": {},
          "execution_count": 1029
        }
      ],
      "source": [
        "train.isnull().sum()/len(train)"
      ]
    },
    {
      "cell_type": "code",
      "execution_count": 1030,
      "metadata": {
        "colab": {
          "base_uri": "https://localhost:8080/"
        },
        "id": "M59ltjyRGn5u",
        "outputId": "d25690dd-e729-4d34-b111-f65e1a73ecd9"
      },
      "outputs": [
        {
          "output_type": "stream",
          "name": "stdout",
          "text": [
            "<class 'pandas.core.frame.DataFrame'>\n",
            "RangeIndex: 10000 entries, 0 to 9999\n",
            "Data columns (total 55 columns):\n",
            " #   Column                               Non-Null Count  Dtype  \n",
            "---  ------                               --------------  -----  \n",
            " 0   DEALER ID                            10000 non-null  int64  \n",
            " 1   APPLICATION LOGIN DATE               10000 non-null  object \n",
            " 2   HDB BRANCH NAME                      9999 non-null   object \n",
            " 3   HDB BRANCH STATE                     9146 non-null   object \n",
            " 4   FIRST NAME                           10000 non-null  object \n",
            " 5   MIDDLE NAME                          2855 non-null   object \n",
            " 6   LAST NAME                            9319 non-null   object \n",
            " 7   mobile                               10000 non-null  int64  \n",
            " 8   AADHAR VERIFIED                      10000 non-null  object \n",
            " 9   Cibil Score                          5703 non-null   object \n",
            " 10  MOBILE VERIFICATION                  10000 non-null  bool   \n",
            " 11  DEALER NAME                          9996 non-null   object \n",
            " 12  TOTAL ASSET COST                     4892 non-null   float64\n",
            " 13  ASSET CTG                            4892 non-null   object \n",
            " 14  ASSET MODEL NO                       10000 non-null  int64  \n",
            " 15  APPLIED AMOUNT                       10000 non-null  int64  \n",
            " 16  PRIMARY ASSET MAKE                   10000 non-null  object \n",
            " 17  Primary Asset Model No               10000 non-null  object \n",
            " 18  Personal Email Address               10000 non-null  object \n",
            " 19  MARITAL STATUS                       5106 non-null   object \n",
            " 20  GENDER                               10000 non-null  object \n",
            " 21  DOB                                  10000 non-null  int64  \n",
            " 22  AGE                                  10000 non-null  int64  \n",
            " 23  ADDRESS TYPE                         6688 non-null   object \n",
            " 24  EMPLOY CONSTITUTION                  5002 non-null   object \n",
            " 25  EMPLOYER NAME                        4990 non-null   object \n",
            " 26  EMPLOYER TYPE                        5002 non-null   object \n",
            " 27  Pan Name                             8947 non-null   object \n",
            " 28  name                                 10000 non-null  object \n",
            " 29  vpa                                  7213 non-null   object \n",
            " 30  upi_name                             7211 non-null   object \n",
            " 31  Phone Social Premium.a23games        1 non-null      float64\n",
            " 32  Phone Social Premium.amazon          8084 non-null   float64\n",
            " 33  Phone Social Premium.byjus           8052 non-null   float64\n",
            " 34  Phone Social Premium.flipkart        8168 non-null   float64\n",
            " 35  Phone Social Premium.housing         8224 non-null   float64\n",
            " 36  Phone Social Premium.indiamart       8225 non-null   float64\n",
            " 37  Phone Social Premium.instagram       3370 non-null   float64\n",
            " 38  Phone Social Premium.isWABusiness    1573 non-null   float64\n",
            " 39  Phone Social Premium.jeevansaathi    8171 non-null   float64\n",
            " 40  Phone Social Premium.jiomart         410 non-null    float64\n",
            " 41  Phone Social Premium.microsoft       8128 non-null   float64\n",
            " 42  Phone Social Premium.my11            2 non-null      float64\n",
            " 43  Phone Social Premium.paytm           8243 non-null   float64\n",
            " 44  Phone Social Premium.rummycircle     1 non-null      float64\n",
            " 45  Phone Social Premium.shaadi          8221 non-null   float64\n",
            " 46  Phone Social Premium.skype           8215 non-null   float64\n",
            " 47  Phone Social Premium.toi             8057 non-null   float64\n",
            " 48  Phone Social Premium.whatsapp        1573 non-null   float64\n",
            " 49  Phone Social Premium.yatra           9 non-null      float64\n",
            " 50  Phone Social Premium.zoho            8218 non-null   float64\n",
            " 51  phone_digitalage                     9996 non-null   float64\n",
            " 52  phone_nameMatchScore                 9996 non-null   float64\n",
            " 53  phone_phoneFootprintStrengthOverall  9994 non-null   object \n",
            " 54  Application Status                   10000 non-null  object \n",
            "dtypes: bool(1), float64(23), int64(6), object(25)\n",
            "memory usage: 4.1+ MB\n"
          ]
        }
      ],
      "source": [
        "train.info()"
      ]
    },
    {
      "cell_type": "code",
      "execution_count": 1031,
      "metadata": {
        "id": "LdyfOtgMGn5v"
      },
      "outputs": [],
      "source": [
        "train=train.drop_duplicates()"
      ]
    },
    {
      "cell_type": "markdown",
      "metadata": {
        "id": "PzZ9_KFCGn5w"
      },
      "source": [
        "# DEALER ID"
      ]
    },
    {
      "cell_type": "code",
      "execution_count": 1032,
      "metadata": {
        "colab": {
          "base_uri": "https://localhost:8080/",
          "height": 458
        },
        "id": "h8QV3RXGGn5z",
        "outputId": "c1dabd6b-b138-46a1-a78c-3c276a4f4236"
      },
      "outputs": [
        {
          "output_type": "execute_result",
          "data": {
            "text/plain": [
              "0       106989\n",
              "1       108975\n",
              "2       111004\n",
              "3       192020\n",
              "4        55095\n",
              "         ...  \n",
              "9995    105101\n",
              "9996     85054\n",
              "9997     53710\n",
              "9998     89240\n",
              "9999    109455\n",
              "Name: DEALER ID, Length: 9991, dtype: int64"
            ],
            "text/html": [
              "<div>\n",
              "<style scoped>\n",
              "    .dataframe tbody tr th:only-of-type {\n",
              "        vertical-align: middle;\n",
              "    }\n",
              "\n",
              "    .dataframe tbody tr th {\n",
              "        vertical-align: top;\n",
              "    }\n",
              "\n",
              "    .dataframe thead th {\n",
              "        text-align: right;\n",
              "    }\n",
              "</style>\n",
              "<table border=\"1\" class=\"dataframe\">\n",
              "  <thead>\n",
              "    <tr style=\"text-align: right;\">\n",
              "      <th></th>\n",
              "      <th>DEALER ID</th>\n",
              "    </tr>\n",
              "  </thead>\n",
              "  <tbody>\n",
              "    <tr>\n",
              "      <th>0</th>\n",
              "      <td>106989</td>\n",
              "    </tr>\n",
              "    <tr>\n",
              "      <th>1</th>\n",
              "      <td>108975</td>\n",
              "    </tr>\n",
              "    <tr>\n",
              "      <th>2</th>\n",
              "      <td>111004</td>\n",
              "    </tr>\n",
              "    <tr>\n",
              "      <th>3</th>\n",
              "      <td>192020</td>\n",
              "    </tr>\n",
              "    <tr>\n",
              "      <th>4</th>\n",
              "      <td>55095</td>\n",
              "    </tr>\n",
              "    <tr>\n",
              "      <th>...</th>\n",
              "      <td>...</td>\n",
              "    </tr>\n",
              "    <tr>\n",
              "      <th>9995</th>\n",
              "      <td>105101</td>\n",
              "    </tr>\n",
              "    <tr>\n",
              "      <th>9996</th>\n",
              "      <td>85054</td>\n",
              "    </tr>\n",
              "    <tr>\n",
              "      <th>9997</th>\n",
              "      <td>53710</td>\n",
              "    </tr>\n",
              "    <tr>\n",
              "      <th>9998</th>\n",
              "      <td>89240</td>\n",
              "    </tr>\n",
              "    <tr>\n",
              "      <th>9999</th>\n",
              "      <td>109455</td>\n",
              "    </tr>\n",
              "  </tbody>\n",
              "</table>\n",
              "<p>9991 rows × 1 columns</p>\n",
              "</div><br><label><b>dtype:</b> int64</label>"
            ]
          },
          "metadata": {},
          "execution_count": 1032
        }
      ],
      "source": [
        "train['DEALER ID']"
      ]
    },
    {
      "cell_type": "code",
      "execution_count": 1033,
      "metadata": {
        "colab": {
          "base_uri": "https://localhost:8080/"
        },
        "id": "6rOf_EsYGn50",
        "outputId": "ce06dd45-5dd8-4156-e7d3-53eb759e64ea"
      },
      "outputs": [
        {
          "output_type": "execute_result",
          "data": {
            "text/plain": [
              "2416"
            ]
          },
          "metadata": {},
          "execution_count": 1033
        }
      ],
      "source": [
        "train['DEALER ID'].nunique()"
      ]
    },
    {
      "cell_type": "code",
      "execution_count": 1034,
      "metadata": {
        "colab": {
          "base_uri": "https://localhost:8080/",
          "height": 565
        },
        "id": "3JxBWqUqGn50",
        "outputId": "df22b6d2-00b3-4eef-d4e6-632c6d582712"
      },
      "outputs": [
        {
          "output_type": "execute_result",
          "data": {
            "text/plain": [
              "      DEALER ID APPLICATION LOGIN DATE HDB BRANCH NAME HDB BRANCH STATE  \\\n",
              "0        106989             07/20/2022        DELHI-SF            DELHI   \n",
              "1        108975             07/28/2022        PATNA-SF            BIHAR   \n",
              "2        111004             07/15/2022   DARJEELING-SF      WEST BENGAL   \n",
              "3        192020               07/04/22   SAHARANPUR-SF    UTTAR PRADESH   \n",
              "4         55095             07/15/2022       MODASA-SF          GUJARAT   \n",
              "...         ...                    ...             ...              ...   \n",
              "9995     105101               07/11/22  FARRUKHABAD-SF    UTTAR PRADESH   \n",
              "9996      85054               07/04/22    BHAGALPUR-SF            BIHAR   \n",
              "9997      53710               07/10/22     LUDHIANA-SF           PUNJAB   \n",
              "9998      89240             07/29/2022       MEERUT-SF    UTTAR PRADESH   \n",
              "9999     109455             07/14/2022      ALIGARH-SF    UTTAR PRADESH   \n",
              "\n",
              "     FIRST NAME MIDDLE NAME  LAST NAME      mobile AADHAR VERIFIED  \\\n",
              "0         SUNIL         NaN    CHANDER  9210574080              NO   \n",
              "1         AMRIT         NaN      KUMAR  8877987018              NO   \n",
              "2       ANIMESH         NaN      THAPA  8910862135              NO   \n",
              "3        ADITYA         NaN      SINGH  9758428017              NO   \n",
              "4        PARMAR  HARESHBHAI  AMRUTBHAI  9687028486              NO   \n",
              "...         ...         ...        ...         ...             ...   \n",
              "9995       AJAY         NaN     NARESH  8400644964              NO   \n",
              "9996     SURESH       KUMAR     PRASAD  9708883564              NO   \n",
              "9997     SANJAY         NaN      AAGAN  9888532016              NO   \n",
              "9998     SANJAY         NaN      SINGH  8923338426              NO   \n",
              "9999     SAMEER         NaN     SALEEM  6396509887              NO   \n",
              "\n",
              "     Cibil Score  ...  Phone Social Premium.shaadi Phone Social Premium.skype  \\\n",
              "0            726  ...                          0.0                        0.0   \n",
              "1            NaN  ...                          0.0                        0.0   \n",
              "2            737  ...                          0.0                        0.0   \n",
              "3            713  ...                          0.0                        0.0   \n",
              "4            669  ...                          0.0                        0.0   \n",
              "...          ...  ...                          ...                        ...   \n",
              "9995         NaN  ...                          0.0                        1.0   \n",
              "9996         NaN  ...                          0.0                        0.0   \n",
              "9997         NaN  ...                          0.0                        0.0   \n",
              "9998         NaN  ...                          0.0                        0.0   \n",
              "9999         761  ...                          0.0                        0.0   \n",
              "\n",
              "      Phone Social Premium.toi Phone Social Premium.whatsapp  \\\n",
              "0                          1.0                           NaN   \n",
              "1                          0.0                           NaN   \n",
              "2                          0.0                           NaN   \n",
              "3                          1.0                           NaN   \n",
              "4                          1.0                           NaN   \n",
              "...                        ...                           ...   \n",
              "9995                       1.0                           NaN   \n",
              "9996                       0.0                           0.0   \n",
              "9997                       0.0                           1.0   \n",
              "9998                       0.0                           NaN   \n",
              "9999                       0.0                           1.0   \n",
              "\n",
              "      Phone Social Premium.yatra  Phone Social Premium.zoho phone_digitalage  \\\n",
              "0                            NaN                        0.0           5324.0   \n",
              "1                            NaN                        0.0           1998.0   \n",
              "2                            NaN                        0.0             -1.0   \n",
              "3                            NaN                        0.0           1998.0   \n",
              "4                            NaN                        0.0           1998.0   \n",
              "...                          ...                        ...              ...   \n",
              "9995                         NaN                        0.0             -1.0   \n",
              "9996                         NaN                        0.0           1998.0   \n",
              "9997                         NaN                        0.0           1988.0   \n",
              "9998                         NaN                        0.0           1096.0   \n",
              "9999                         NaN                        0.0            809.0   \n",
              "\n",
              "     phone_nameMatchScore phone_phoneFootprintStrengthOverall  \\\n",
              "0               67.222222                                High   \n",
              "1              100.000000                                High   \n",
              "2               -1.000000                                 Low   \n",
              "3               72.777778                                High   \n",
              "4               68.095238                                High   \n",
              "...                   ...                                 ...   \n",
              "9995            60.576923                              Medium   \n",
              "9996            71.078431                                High   \n",
              "9997           100.000000                              Medium   \n",
              "9998            -1.000000                                 Low   \n",
              "9999            66.239316                                High   \n",
              "\n",
              "     Application Status  \n",
              "0              APPROVED  \n",
              "1              APPROVED  \n",
              "2              APPROVED  \n",
              "3              APPROVED  \n",
              "4              DECLINED  \n",
              "...                 ...  \n",
              "9995           APPROVED  \n",
              "9996           APPROVED  \n",
              "9997           APPROVED  \n",
              "9998           APPROVED  \n",
              "9999           APPROVED  \n",
              "\n",
              "[9991 rows x 55 columns]"
            ],
            "text/html": [
              "\n",
              "  <div id=\"df-73ab2603-8b56-4c68-bb1d-4e15e526d680\" class=\"colab-df-container\">\n",
              "    <div>\n",
              "<style scoped>\n",
              "    .dataframe tbody tr th:only-of-type {\n",
              "        vertical-align: middle;\n",
              "    }\n",
              "\n",
              "    .dataframe tbody tr th {\n",
              "        vertical-align: top;\n",
              "    }\n",
              "\n",
              "    .dataframe thead th {\n",
              "        text-align: right;\n",
              "    }\n",
              "</style>\n",
              "<table border=\"1\" class=\"dataframe\">\n",
              "  <thead>\n",
              "    <tr style=\"text-align: right;\">\n",
              "      <th></th>\n",
              "      <th>DEALER ID</th>\n",
              "      <th>APPLICATION LOGIN DATE</th>\n",
              "      <th>HDB BRANCH NAME</th>\n",
              "      <th>HDB BRANCH STATE</th>\n",
              "      <th>FIRST NAME</th>\n",
              "      <th>MIDDLE NAME</th>\n",
              "      <th>LAST NAME</th>\n",
              "      <th>mobile</th>\n",
              "      <th>AADHAR VERIFIED</th>\n",
              "      <th>Cibil Score</th>\n",
              "      <th>...</th>\n",
              "      <th>Phone Social Premium.shaadi</th>\n",
              "      <th>Phone Social Premium.skype</th>\n",
              "      <th>Phone Social Premium.toi</th>\n",
              "      <th>Phone Social Premium.whatsapp</th>\n",
              "      <th>Phone Social Premium.yatra</th>\n",
              "      <th>Phone Social Premium.zoho</th>\n",
              "      <th>phone_digitalage</th>\n",
              "      <th>phone_nameMatchScore</th>\n",
              "      <th>phone_phoneFootprintStrengthOverall</th>\n",
              "      <th>Application Status</th>\n",
              "    </tr>\n",
              "  </thead>\n",
              "  <tbody>\n",
              "    <tr>\n",
              "      <th>0</th>\n",
              "      <td>106989</td>\n",
              "      <td>07/20/2022</td>\n",
              "      <td>DELHI-SF</td>\n",
              "      <td>DELHI</td>\n",
              "      <td>SUNIL</td>\n",
              "      <td>NaN</td>\n",
              "      <td>CHANDER</td>\n",
              "      <td>9210574080</td>\n",
              "      <td>NO</td>\n",
              "      <td>726</td>\n",
              "      <td>...</td>\n",
              "      <td>0.0</td>\n",
              "      <td>0.0</td>\n",
              "      <td>1.0</td>\n",
              "      <td>NaN</td>\n",
              "      <td>NaN</td>\n",
              "      <td>0.0</td>\n",
              "      <td>5324.0</td>\n",
              "      <td>67.222222</td>\n",
              "      <td>High</td>\n",
              "      <td>APPROVED</td>\n",
              "    </tr>\n",
              "    <tr>\n",
              "      <th>1</th>\n",
              "      <td>108975</td>\n",
              "      <td>07/28/2022</td>\n",
              "      <td>PATNA-SF</td>\n",
              "      <td>BIHAR</td>\n",
              "      <td>AMRIT</td>\n",
              "      <td>NaN</td>\n",
              "      <td>KUMAR</td>\n",
              "      <td>8877987018</td>\n",
              "      <td>NO</td>\n",
              "      <td>NaN</td>\n",
              "      <td>...</td>\n",
              "      <td>0.0</td>\n",
              "      <td>0.0</td>\n",
              "      <td>0.0</td>\n",
              "      <td>NaN</td>\n",
              "      <td>NaN</td>\n",
              "      <td>0.0</td>\n",
              "      <td>1998.0</td>\n",
              "      <td>100.000000</td>\n",
              "      <td>High</td>\n",
              "      <td>APPROVED</td>\n",
              "    </tr>\n",
              "    <tr>\n",
              "      <th>2</th>\n",
              "      <td>111004</td>\n",
              "      <td>07/15/2022</td>\n",
              "      <td>DARJEELING-SF</td>\n",
              "      <td>WEST BENGAL</td>\n",
              "      <td>ANIMESH</td>\n",
              "      <td>NaN</td>\n",
              "      <td>THAPA</td>\n",
              "      <td>8910862135</td>\n",
              "      <td>NO</td>\n",
              "      <td>737</td>\n",
              "      <td>...</td>\n",
              "      <td>0.0</td>\n",
              "      <td>0.0</td>\n",
              "      <td>0.0</td>\n",
              "      <td>NaN</td>\n",
              "      <td>NaN</td>\n",
              "      <td>0.0</td>\n",
              "      <td>-1.0</td>\n",
              "      <td>-1.000000</td>\n",
              "      <td>Low</td>\n",
              "      <td>APPROVED</td>\n",
              "    </tr>\n",
              "    <tr>\n",
              "      <th>3</th>\n",
              "      <td>192020</td>\n",
              "      <td>07/04/22</td>\n",
              "      <td>SAHARANPUR-SF</td>\n",
              "      <td>UTTAR PRADESH</td>\n",
              "      <td>ADITYA</td>\n",
              "      <td>NaN</td>\n",
              "      <td>SINGH</td>\n",
              "      <td>9758428017</td>\n",
              "      <td>NO</td>\n",
              "      <td>713</td>\n",
              "      <td>...</td>\n",
              "      <td>0.0</td>\n",
              "      <td>0.0</td>\n",
              "      <td>1.0</td>\n",
              "      <td>NaN</td>\n",
              "      <td>NaN</td>\n",
              "      <td>0.0</td>\n",
              "      <td>1998.0</td>\n",
              "      <td>72.777778</td>\n",
              "      <td>High</td>\n",
              "      <td>APPROVED</td>\n",
              "    </tr>\n",
              "    <tr>\n",
              "      <th>4</th>\n",
              "      <td>55095</td>\n",
              "      <td>07/15/2022</td>\n",
              "      <td>MODASA-SF</td>\n",
              "      <td>GUJARAT</td>\n",
              "      <td>PARMAR</td>\n",
              "      <td>HARESHBHAI</td>\n",
              "      <td>AMRUTBHAI</td>\n",
              "      <td>9687028486</td>\n",
              "      <td>NO</td>\n",
              "      <td>669</td>\n",
              "      <td>...</td>\n",
              "      <td>0.0</td>\n",
              "      <td>0.0</td>\n",
              "      <td>1.0</td>\n",
              "      <td>NaN</td>\n",
              "      <td>NaN</td>\n",
              "      <td>0.0</td>\n",
              "      <td>1998.0</td>\n",
              "      <td>68.095238</td>\n",
              "      <td>High</td>\n",
              "      <td>DECLINED</td>\n",
              "    </tr>\n",
              "    <tr>\n",
              "      <th>...</th>\n",
              "      <td>...</td>\n",
              "      <td>...</td>\n",
              "      <td>...</td>\n",
              "      <td>...</td>\n",
              "      <td>...</td>\n",
              "      <td>...</td>\n",
              "      <td>...</td>\n",
              "      <td>...</td>\n",
              "      <td>...</td>\n",
              "      <td>...</td>\n",
              "      <td>...</td>\n",
              "      <td>...</td>\n",
              "      <td>...</td>\n",
              "      <td>...</td>\n",
              "      <td>...</td>\n",
              "      <td>...</td>\n",
              "      <td>...</td>\n",
              "      <td>...</td>\n",
              "      <td>...</td>\n",
              "      <td>...</td>\n",
              "      <td>...</td>\n",
              "    </tr>\n",
              "    <tr>\n",
              "      <th>9995</th>\n",
              "      <td>105101</td>\n",
              "      <td>07/11/22</td>\n",
              "      <td>FARRUKHABAD-SF</td>\n",
              "      <td>UTTAR PRADESH</td>\n",
              "      <td>AJAY</td>\n",
              "      <td>NaN</td>\n",
              "      <td>NARESH</td>\n",
              "      <td>8400644964</td>\n",
              "      <td>NO</td>\n",
              "      <td>NaN</td>\n",
              "      <td>...</td>\n",
              "      <td>0.0</td>\n",
              "      <td>1.0</td>\n",
              "      <td>1.0</td>\n",
              "      <td>NaN</td>\n",
              "      <td>NaN</td>\n",
              "      <td>0.0</td>\n",
              "      <td>-1.0</td>\n",
              "      <td>60.576923</td>\n",
              "      <td>Medium</td>\n",
              "      <td>APPROVED</td>\n",
              "    </tr>\n",
              "    <tr>\n",
              "      <th>9996</th>\n",
              "      <td>85054</td>\n",
              "      <td>07/04/22</td>\n",
              "      <td>BHAGALPUR-SF</td>\n",
              "      <td>BIHAR</td>\n",
              "      <td>SURESH</td>\n",
              "      <td>KUMAR</td>\n",
              "      <td>PRASAD</td>\n",
              "      <td>9708883564</td>\n",
              "      <td>NO</td>\n",
              "      <td>NaN</td>\n",
              "      <td>...</td>\n",
              "      <td>0.0</td>\n",
              "      <td>0.0</td>\n",
              "      <td>0.0</td>\n",
              "      <td>0.0</td>\n",
              "      <td>NaN</td>\n",
              "      <td>0.0</td>\n",
              "      <td>1998.0</td>\n",
              "      <td>71.078431</td>\n",
              "      <td>High</td>\n",
              "      <td>APPROVED</td>\n",
              "    </tr>\n",
              "    <tr>\n",
              "      <th>9997</th>\n",
              "      <td>53710</td>\n",
              "      <td>07/10/22</td>\n",
              "      <td>LUDHIANA-SF</td>\n",
              "      <td>PUNJAB</td>\n",
              "      <td>SANJAY</td>\n",
              "      <td>NaN</td>\n",
              "      <td>AAGAN</td>\n",
              "      <td>9888532016</td>\n",
              "      <td>NO</td>\n",
              "      <td>NaN</td>\n",
              "      <td>...</td>\n",
              "      <td>0.0</td>\n",
              "      <td>0.0</td>\n",
              "      <td>0.0</td>\n",
              "      <td>1.0</td>\n",
              "      <td>NaN</td>\n",
              "      <td>0.0</td>\n",
              "      <td>1988.0</td>\n",
              "      <td>100.000000</td>\n",
              "      <td>Medium</td>\n",
              "      <td>APPROVED</td>\n",
              "    </tr>\n",
              "    <tr>\n",
              "      <th>9998</th>\n",
              "      <td>89240</td>\n",
              "      <td>07/29/2022</td>\n",
              "      <td>MEERUT-SF</td>\n",
              "      <td>UTTAR PRADESH</td>\n",
              "      <td>SANJAY</td>\n",
              "      <td>NaN</td>\n",
              "      <td>SINGH</td>\n",
              "      <td>8923338426</td>\n",
              "      <td>NO</td>\n",
              "      <td>NaN</td>\n",
              "      <td>...</td>\n",
              "      <td>0.0</td>\n",
              "      <td>0.0</td>\n",
              "      <td>0.0</td>\n",
              "      <td>NaN</td>\n",
              "      <td>NaN</td>\n",
              "      <td>0.0</td>\n",
              "      <td>1096.0</td>\n",
              "      <td>-1.000000</td>\n",
              "      <td>Low</td>\n",
              "      <td>APPROVED</td>\n",
              "    </tr>\n",
              "    <tr>\n",
              "      <th>9999</th>\n",
              "      <td>109455</td>\n",
              "      <td>07/14/2022</td>\n",
              "      <td>ALIGARH-SF</td>\n",
              "      <td>UTTAR PRADESH</td>\n",
              "      <td>SAMEER</td>\n",
              "      <td>NaN</td>\n",
              "      <td>SALEEM</td>\n",
              "      <td>6396509887</td>\n",
              "      <td>NO</td>\n",
              "      <td>761</td>\n",
              "      <td>...</td>\n",
              "      <td>0.0</td>\n",
              "      <td>0.0</td>\n",
              "      <td>0.0</td>\n",
              "      <td>1.0</td>\n",
              "      <td>NaN</td>\n",
              "      <td>0.0</td>\n",
              "      <td>809.0</td>\n",
              "      <td>66.239316</td>\n",
              "      <td>High</td>\n",
              "      <td>APPROVED</td>\n",
              "    </tr>\n",
              "  </tbody>\n",
              "</table>\n",
              "<p>9991 rows × 55 columns</p>\n",
              "</div>\n",
              "    <div class=\"colab-df-buttons\">\n",
              "\n",
              "  <div class=\"colab-df-container\">\n",
              "    <button class=\"colab-df-convert\" onclick=\"convertToInteractive('df-73ab2603-8b56-4c68-bb1d-4e15e526d680')\"\n",
              "            title=\"Convert this dataframe to an interactive table.\"\n",
              "            style=\"display:none;\">\n",
              "\n",
              "  <svg xmlns=\"http://www.w3.org/2000/svg\" height=\"24px\" viewBox=\"0 -960 960 960\">\n",
              "    <path d=\"M120-120v-720h720v720H120Zm60-500h600v-160H180v160Zm220 220h160v-160H400v160Zm0 220h160v-160H400v160ZM180-400h160v-160H180v160Zm440 0h160v-160H620v160ZM180-180h160v-160H180v160Zm440 0h160v-160H620v160Z\"/>\n",
              "  </svg>\n",
              "    </button>\n",
              "\n",
              "  <style>\n",
              "    .colab-df-container {\n",
              "      display:flex;\n",
              "      gap: 12px;\n",
              "    }\n",
              "\n",
              "    .colab-df-convert {\n",
              "      background-color: #E8F0FE;\n",
              "      border: none;\n",
              "      border-radius: 50%;\n",
              "      cursor: pointer;\n",
              "      display: none;\n",
              "      fill: #1967D2;\n",
              "      height: 32px;\n",
              "      padding: 0 0 0 0;\n",
              "      width: 32px;\n",
              "    }\n",
              "\n",
              "    .colab-df-convert:hover {\n",
              "      background-color: #E2EBFA;\n",
              "      box-shadow: 0px 1px 2px rgba(60, 64, 67, 0.3), 0px 1px 3px 1px rgba(60, 64, 67, 0.15);\n",
              "      fill: #174EA6;\n",
              "    }\n",
              "\n",
              "    .colab-df-buttons div {\n",
              "      margin-bottom: 4px;\n",
              "    }\n",
              "\n",
              "    [theme=dark] .colab-df-convert {\n",
              "      background-color: #3B4455;\n",
              "      fill: #D2E3FC;\n",
              "    }\n",
              "\n",
              "    [theme=dark] .colab-df-convert:hover {\n",
              "      background-color: #434B5C;\n",
              "      box-shadow: 0px 1px 3px 1px rgba(0, 0, 0, 0.15);\n",
              "      filter: drop-shadow(0px 1px 2px rgba(0, 0, 0, 0.3));\n",
              "      fill: #FFFFFF;\n",
              "    }\n",
              "  </style>\n",
              "\n",
              "    <script>\n",
              "      const buttonEl =\n",
              "        document.querySelector('#df-73ab2603-8b56-4c68-bb1d-4e15e526d680 button.colab-df-convert');\n",
              "      buttonEl.style.display =\n",
              "        google.colab.kernel.accessAllowed ? 'block' : 'none';\n",
              "\n",
              "      async function convertToInteractive(key) {\n",
              "        const element = document.querySelector('#df-73ab2603-8b56-4c68-bb1d-4e15e526d680');\n",
              "        const dataTable =\n",
              "          await google.colab.kernel.invokeFunction('convertToInteractive',\n",
              "                                                    [key], {});\n",
              "        if (!dataTable) return;\n",
              "\n",
              "        const docLinkHtml = 'Like what you see? Visit the ' +\n",
              "          '<a target=\"_blank\" href=https://colab.research.google.com/notebooks/data_table.ipynb>data table notebook</a>'\n",
              "          + ' to learn more about interactive tables.';\n",
              "        element.innerHTML = '';\n",
              "        dataTable['output_type'] = 'display_data';\n",
              "        await google.colab.output.renderOutput(dataTable, element);\n",
              "        const docLink = document.createElement('div');\n",
              "        docLink.innerHTML = docLinkHtml;\n",
              "        element.appendChild(docLink);\n",
              "      }\n",
              "    </script>\n",
              "  </div>\n",
              "\n",
              "\n",
              "<div id=\"df-418f5822-edce-4420-b349-c0a195d0548a\">\n",
              "  <button class=\"colab-df-quickchart\" onclick=\"quickchart('df-418f5822-edce-4420-b349-c0a195d0548a')\"\n",
              "            title=\"Suggest charts\"\n",
              "            style=\"display:none;\">\n",
              "\n",
              "<svg xmlns=\"http://www.w3.org/2000/svg\" height=\"24px\"viewBox=\"0 0 24 24\"\n",
              "     width=\"24px\">\n",
              "    <g>\n",
              "        <path d=\"M19 3H5c-1.1 0-2 .9-2 2v14c0 1.1.9 2 2 2h14c1.1 0 2-.9 2-2V5c0-1.1-.9-2-2-2zM9 17H7v-7h2v7zm4 0h-2V7h2v10zm4 0h-2v-4h2v4z\"/>\n",
              "    </g>\n",
              "</svg>\n",
              "  </button>\n",
              "\n",
              "<style>\n",
              "  .colab-df-quickchart {\n",
              "      --bg-color: #E8F0FE;\n",
              "      --fill-color: #1967D2;\n",
              "      --hover-bg-color: #E2EBFA;\n",
              "      --hover-fill-color: #174EA6;\n",
              "      --disabled-fill-color: #AAA;\n",
              "      --disabled-bg-color: #DDD;\n",
              "  }\n",
              "\n",
              "  [theme=dark] .colab-df-quickchart {\n",
              "      --bg-color: #3B4455;\n",
              "      --fill-color: #D2E3FC;\n",
              "      --hover-bg-color: #434B5C;\n",
              "      --hover-fill-color: #FFFFFF;\n",
              "      --disabled-bg-color: #3B4455;\n",
              "      --disabled-fill-color: #666;\n",
              "  }\n",
              "\n",
              "  .colab-df-quickchart {\n",
              "    background-color: var(--bg-color);\n",
              "    border: none;\n",
              "    border-radius: 50%;\n",
              "    cursor: pointer;\n",
              "    display: none;\n",
              "    fill: var(--fill-color);\n",
              "    height: 32px;\n",
              "    padding: 0;\n",
              "    width: 32px;\n",
              "  }\n",
              "\n",
              "  .colab-df-quickchart:hover {\n",
              "    background-color: var(--hover-bg-color);\n",
              "    box-shadow: 0 1px 2px rgba(60, 64, 67, 0.3), 0 1px 3px 1px rgba(60, 64, 67, 0.15);\n",
              "    fill: var(--button-hover-fill-color);\n",
              "  }\n",
              "\n",
              "  .colab-df-quickchart-complete:disabled,\n",
              "  .colab-df-quickchart-complete:disabled:hover {\n",
              "    background-color: var(--disabled-bg-color);\n",
              "    fill: var(--disabled-fill-color);\n",
              "    box-shadow: none;\n",
              "  }\n",
              "\n",
              "  .colab-df-spinner {\n",
              "    border: 2px solid var(--fill-color);\n",
              "    border-color: transparent;\n",
              "    border-bottom-color: var(--fill-color);\n",
              "    animation:\n",
              "      spin 1s steps(1) infinite;\n",
              "  }\n",
              "\n",
              "  @keyframes spin {\n",
              "    0% {\n",
              "      border-color: transparent;\n",
              "      border-bottom-color: var(--fill-color);\n",
              "      border-left-color: var(--fill-color);\n",
              "    }\n",
              "    20% {\n",
              "      border-color: transparent;\n",
              "      border-left-color: var(--fill-color);\n",
              "      border-top-color: var(--fill-color);\n",
              "    }\n",
              "    30% {\n",
              "      border-color: transparent;\n",
              "      border-left-color: var(--fill-color);\n",
              "      border-top-color: var(--fill-color);\n",
              "      border-right-color: var(--fill-color);\n",
              "    }\n",
              "    40% {\n",
              "      border-color: transparent;\n",
              "      border-right-color: var(--fill-color);\n",
              "      border-top-color: var(--fill-color);\n",
              "    }\n",
              "    60% {\n",
              "      border-color: transparent;\n",
              "      border-right-color: var(--fill-color);\n",
              "    }\n",
              "    80% {\n",
              "      border-color: transparent;\n",
              "      border-right-color: var(--fill-color);\n",
              "      border-bottom-color: var(--fill-color);\n",
              "    }\n",
              "    90% {\n",
              "      border-color: transparent;\n",
              "      border-bottom-color: var(--fill-color);\n",
              "    }\n",
              "  }\n",
              "</style>\n",
              "\n",
              "  <script>\n",
              "    async function quickchart(key) {\n",
              "      const quickchartButtonEl =\n",
              "        document.querySelector('#' + key + ' button');\n",
              "      quickchartButtonEl.disabled = true;  // To prevent multiple clicks.\n",
              "      quickchartButtonEl.classList.add('colab-df-spinner');\n",
              "      try {\n",
              "        const charts = await google.colab.kernel.invokeFunction(\n",
              "            'suggestCharts', [key], {});\n",
              "      } catch (error) {\n",
              "        console.error('Error during call to suggestCharts:', error);\n",
              "      }\n",
              "      quickchartButtonEl.classList.remove('colab-df-spinner');\n",
              "      quickchartButtonEl.classList.add('colab-df-quickchart-complete');\n",
              "    }\n",
              "    (() => {\n",
              "      let quickchartButtonEl =\n",
              "        document.querySelector('#df-418f5822-edce-4420-b349-c0a195d0548a button');\n",
              "      quickchartButtonEl.style.display =\n",
              "        google.colab.kernel.accessAllowed ? 'block' : 'none';\n",
              "    })();\n",
              "  </script>\n",
              "</div>\n",
              "\n",
              "  <div id=\"id_35422477-03b0-4d96-a40b-87a1f0970be2\">\n",
              "    <style>\n",
              "      .colab-df-generate {\n",
              "        background-color: #E8F0FE;\n",
              "        border: none;\n",
              "        border-radius: 50%;\n",
              "        cursor: pointer;\n",
              "        display: none;\n",
              "        fill: #1967D2;\n",
              "        height: 32px;\n",
              "        padding: 0 0 0 0;\n",
              "        width: 32px;\n",
              "      }\n",
              "\n",
              "      .colab-df-generate:hover {\n",
              "        background-color: #E2EBFA;\n",
              "        box-shadow: 0px 1px 2px rgba(60, 64, 67, 0.3), 0px 1px 3px 1px rgba(60, 64, 67, 0.15);\n",
              "        fill: #174EA6;\n",
              "      }\n",
              "\n",
              "      [theme=dark] .colab-df-generate {\n",
              "        background-color: #3B4455;\n",
              "        fill: #D2E3FC;\n",
              "      }\n",
              "\n",
              "      [theme=dark] .colab-df-generate:hover {\n",
              "        background-color: #434B5C;\n",
              "        box-shadow: 0px 1px 3px 1px rgba(0, 0, 0, 0.15);\n",
              "        filter: drop-shadow(0px 1px 2px rgba(0, 0, 0, 0.3));\n",
              "        fill: #FFFFFF;\n",
              "      }\n",
              "    </style>\n",
              "    <button class=\"colab-df-generate\" onclick=\"generateWithVariable('train')\"\n",
              "            title=\"Generate code using this dataframe.\"\n",
              "            style=\"display:none;\">\n",
              "\n",
              "  <svg xmlns=\"http://www.w3.org/2000/svg\" height=\"24px\"viewBox=\"0 0 24 24\"\n",
              "       width=\"24px\">\n",
              "    <path d=\"M7,19H8.4L18.45,9,17,7.55,7,17.6ZM5,21V16.75L18.45,3.32a2,2,0,0,1,2.83,0l1.4,1.43a1.91,1.91,0,0,1,.58,1.4,1.91,1.91,0,0,1-.58,1.4L9.25,21ZM18.45,9,17,7.55Zm-12,3A5.31,5.31,0,0,0,4.9,8.1,5.31,5.31,0,0,0,1,6.5,5.31,5.31,0,0,0,4.9,4.9,5.31,5.31,0,0,0,6.5,1,5.31,5.31,0,0,0,8.1,4.9,5.31,5.31,0,0,0,12,6.5,5.46,5.46,0,0,0,6.5,12Z\"/>\n",
              "  </svg>\n",
              "    </button>\n",
              "    <script>\n",
              "      (() => {\n",
              "      const buttonEl =\n",
              "        document.querySelector('#id_35422477-03b0-4d96-a40b-87a1f0970be2 button.colab-df-generate');\n",
              "      buttonEl.style.display =\n",
              "        google.colab.kernel.accessAllowed ? 'block' : 'none';\n",
              "\n",
              "      buttonEl.onclick = () => {\n",
              "        google.colab.notebook.generateWithVariable('train');\n",
              "      }\n",
              "      })();\n",
              "    </script>\n",
              "  </div>\n",
              "\n",
              "    </div>\n",
              "  </div>\n"
            ],
            "application/vnd.google.colaboratory.intrinsic+json": {
              "type": "dataframe",
              "variable_name": "train"
            }
          },
          "metadata": {},
          "execution_count": 1034
        }
      ],
      "source": [
        "train"
      ]
    },
    {
      "cell_type": "markdown",
      "metadata": {
        "id": "vu8mymc9Gn51"
      },
      "source": [
        "# APPLICATION LOGIN DATE"
      ]
    },
    {
      "cell_type": "code",
      "execution_count": 1035,
      "metadata": {
        "colab": {
          "base_uri": "https://localhost:8080/",
          "height": 458
        },
        "id": "swfI7yIQGn51",
        "outputId": "cc4a4749-433f-4bbb-cc21-bf5b6e2299d9"
      },
      "outputs": [
        {
          "output_type": "execute_result",
          "data": {
            "text/plain": [
              "0       07/20/2022\n",
              "1       07/28/2022\n",
              "2       07/15/2022\n",
              "3         07/04/22\n",
              "4       07/15/2022\n",
              "           ...    \n",
              "9995      07/11/22\n",
              "9996      07/04/22\n",
              "9997      07/10/22\n",
              "9998    07/29/2022\n",
              "9999    07/14/2022\n",
              "Name: APPLICATION LOGIN DATE, Length: 9991, dtype: object"
            ],
            "text/html": [
              "<div>\n",
              "<style scoped>\n",
              "    .dataframe tbody tr th:only-of-type {\n",
              "        vertical-align: middle;\n",
              "    }\n",
              "\n",
              "    .dataframe tbody tr th {\n",
              "        vertical-align: top;\n",
              "    }\n",
              "\n",
              "    .dataframe thead th {\n",
              "        text-align: right;\n",
              "    }\n",
              "</style>\n",
              "<table border=\"1\" class=\"dataframe\">\n",
              "  <thead>\n",
              "    <tr style=\"text-align: right;\">\n",
              "      <th></th>\n",
              "      <th>APPLICATION LOGIN DATE</th>\n",
              "    </tr>\n",
              "  </thead>\n",
              "  <tbody>\n",
              "    <tr>\n",
              "      <th>0</th>\n",
              "      <td>07/20/2022</td>\n",
              "    </tr>\n",
              "    <tr>\n",
              "      <th>1</th>\n",
              "      <td>07/28/2022</td>\n",
              "    </tr>\n",
              "    <tr>\n",
              "      <th>2</th>\n",
              "      <td>07/15/2022</td>\n",
              "    </tr>\n",
              "    <tr>\n",
              "      <th>3</th>\n",
              "      <td>07/04/22</td>\n",
              "    </tr>\n",
              "    <tr>\n",
              "      <th>4</th>\n",
              "      <td>07/15/2022</td>\n",
              "    </tr>\n",
              "    <tr>\n",
              "      <th>...</th>\n",
              "      <td>...</td>\n",
              "    </tr>\n",
              "    <tr>\n",
              "      <th>9995</th>\n",
              "      <td>07/11/22</td>\n",
              "    </tr>\n",
              "    <tr>\n",
              "      <th>9996</th>\n",
              "      <td>07/04/22</td>\n",
              "    </tr>\n",
              "    <tr>\n",
              "      <th>9997</th>\n",
              "      <td>07/10/22</td>\n",
              "    </tr>\n",
              "    <tr>\n",
              "      <th>9998</th>\n",
              "      <td>07/29/2022</td>\n",
              "    </tr>\n",
              "    <tr>\n",
              "      <th>9999</th>\n",
              "      <td>07/14/2022</td>\n",
              "    </tr>\n",
              "  </tbody>\n",
              "</table>\n",
              "<p>9991 rows × 1 columns</p>\n",
              "</div><br><label><b>dtype:</b> object</label>"
            ]
          },
          "metadata": {},
          "execution_count": 1035
        }
      ],
      "source": [
        "train['APPLICATION LOGIN DATE']"
      ]
    },
    {
      "cell_type": "code",
      "execution_count": 1036,
      "metadata": {
        "colab": {
          "base_uri": "https://localhost:8080/",
          "height": 178
        },
        "id": "rLu6YIA4Gn51",
        "outputId": "8b07cc1b-d06a-4185-ccf4-cdb15c73d1fb"
      },
      "outputs": [
        {
          "output_type": "execute_result",
          "data": {
            "text/plain": [
              "2\n",
              "2022    6455\n",
              "22      3536\n",
              "Name: count, dtype: int64"
            ],
            "text/html": [
              "<div>\n",
              "<style scoped>\n",
              "    .dataframe tbody tr th:only-of-type {\n",
              "        vertical-align: middle;\n",
              "    }\n",
              "\n",
              "    .dataframe tbody tr th {\n",
              "        vertical-align: top;\n",
              "    }\n",
              "\n",
              "    .dataframe thead th {\n",
              "        text-align: right;\n",
              "    }\n",
              "</style>\n",
              "<table border=\"1\" class=\"dataframe\">\n",
              "  <thead>\n",
              "    <tr style=\"text-align: right;\">\n",
              "      <th></th>\n",
              "      <th>count</th>\n",
              "    </tr>\n",
              "    <tr>\n",
              "      <th>2</th>\n",
              "      <th></th>\n",
              "    </tr>\n",
              "  </thead>\n",
              "  <tbody>\n",
              "    <tr>\n",
              "      <th>2022</th>\n",
              "      <td>6455</td>\n",
              "    </tr>\n",
              "    <tr>\n",
              "      <th>22</th>\n",
              "      <td>3536</td>\n",
              "    </tr>\n",
              "  </tbody>\n",
              "</table>\n",
              "</div><br><label><b>dtype:</b> int64</label>"
            ]
          },
          "metadata": {},
          "execution_count": 1036
        }
      ],
      "source": [
        "train['APPLICATION LOGIN DATE'].str.split(\"/\", expand=True)[2].value_counts()\n"
      ]
    },
    {
      "cell_type": "code",
      "execution_count": 1037,
      "metadata": {
        "id": "X47bFt_iGn53"
      },
      "outputs": [],
      "source": [
        "import re\n",
        "\n",
        "def convert_date_format(date_string):\n",
        "    # Regular expression patterns\n",
        "    short_year_pattern = r\"(\\d{2})/(\\d{2})/(\\d{2})\"\n",
        "    long_year_pattern = r\"(\\d{2})/(\\d{2})/(\\d{4})\"\n",
        "\n",
        "    # Check if the date string is already in the long year format\n",
        "    if re.match(long_year_pattern, date_string):\n",
        "        return date_string  # No change needed\n",
        "\n",
        "    # Otherwise, convert from short year format to long year format\n",
        "    def replace(match):\n",
        "        month, day, year = match.groups()\n",
        "        year = \"20\" + year  # Assuming the year is in 2000s\n",
        "        return f\"{month}/{day}/{year}\"\n",
        "\n",
        "    # Apply conversion\n",
        "    return re.sub(short_year_pattern, replace, date_string)\n"
      ]
    },
    {
      "cell_type": "code",
      "execution_count": 1038,
      "metadata": {
        "id": "QOVKRp31Gn54"
      },
      "outputs": [],
      "source": [
        "train['APPLICATION LOGIN DATE']=train['APPLICATION LOGIN DATE'].apply(convert_date_format)"
      ]
    },
    {
      "cell_type": "code",
      "execution_count": 1039,
      "metadata": {
        "colab": {
          "base_uri": "https://localhost:8080/",
          "height": 146
        },
        "id": "-Dfyiej4Gn54",
        "outputId": "aca613d2-1ead-4cd1-8566-5c800e4e6800"
      },
      "outputs": [
        {
          "output_type": "execute_result",
          "data": {
            "text/plain": [
              "2\n",
              "2022    9991\n",
              "Name: count, dtype: int64"
            ],
            "text/html": [
              "<div>\n",
              "<style scoped>\n",
              "    .dataframe tbody tr th:only-of-type {\n",
              "        vertical-align: middle;\n",
              "    }\n",
              "\n",
              "    .dataframe tbody tr th {\n",
              "        vertical-align: top;\n",
              "    }\n",
              "\n",
              "    .dataframe thead th {\n",
              "        text-align: right;\n",
              "    }\n",
              "</style>\n",
              "<table border=\"1\" class=\"dataframe\">\n",
              "  <thead>\n",
              "    <tr style=\"text-align: right;\">\n",
              "      <th></th>\n",
              "      <th>count</th>\n",
              "    </tr>\n",
              "    <tr>\n",
              "      <th>2</th>\n",
              "      <th></th>\n",
              "    </tr>\n",
              "  </thead>\n",
              "  <tbody>\n",
              "    <tr>\n",
              "      <th>2022</th>\n",
              "      <td>9991</td>\n",
              "    </tr>\n",
              "  </tbody>\n",
              "</table>\n",
              "</div><br><label><b>dtype:</b> int64</label>"
            ]
          },
          "metadata": {},
          "execution_count": 1039
        }
      ],
      "source": [
        "train['APPLICATION LOGIN DATE'].str.split(\"/\", expand=True)[2].value_counts()"
      ]
    },
    {
      "cell_type": "code",
      "execution_count": 1040,
      "metadata": {
        "id": "lD4ewAPvGn55"
      },
      "outputs": [],
      "source": [
        "train['APPLICATION LOGIN DATE']=pd.to_datetime(train['APPLICATION LOGIN DATE'])"
      ]
    },
    {
      "cell_type": "code",
      "execution_count": 1041,
      "metadata": {
        "id": "P-8gtcroGn55"
      },
      "outputs": [],
      "source": [
        "train['year'] = train['APPLICATION LOGIN DATE'].dt.year\n",
        "train['month'] = train['APPLICATION LOGIN DATE'].dt.month\n",
        "train['day'] = train['APPLICATION LOGIN DATE'].dt.day\n",
        "train.drop('APPLICATION LOGIN DATE', axis=1, inplace=True)"
      ]
    },
    {
      "cell_type": "code",
      "execution_count": 1042,
      "metadata": {
        "colab": {
          "base_uri": "https://localhost:8080/"
        },
        "id": "6ToB5cvZGn55",
        "outputId": "d528362e-c43e-464f-beca-4ab72920344f"
      },
      "outputs": [
        {
          "output_type": "stream",
          "name": "stdout",
          "text": [
            "<class 'pandas.core.frame.DataFrame'>\n",
            "Index: 9991 entries, 0 to 9999\n",
            "Data columns (total 57 columns):\n",
            " #   Column                               Non-Null Count  Dtype  \n",
            "---  ------                               --------------  -----  \n",
            " 0   DEALER ID                            9991 non-null   int64  \n",
            " 1   HDB BRANCH NAME                      9990 non-null   object \n",
            " 2   HDB BRANCH STATE                     9138 non-null   object \n",
            " 3   FIRST NAME                           9991 non-null   object \n",
            " 4   MIDDLE NAME                          2853 non-null   object \n",
            " 5   LAST NAME                            9310 non-null   object \n",
            " 6   mobile                               9991 non-null   int64  \n",
            " 7   AADHAR VERIFIED                      9991 non-null   object \n",
            " 8   Cibil Score                          5699 non-null   object \n",
            " 9   MOBILE VERIFICATION                  9991 non-null   bool   \n",
            " 10  DEALER NAME                          9987 non-null   object \n",
            " 11  TOTAL ASSET COST                     4892 non-null   float64\n",
            " 12  ASSET CTG                            4892 non-null   object \n",
            " 13  ASSET MODEL NO                       9991 non-null   int64  \n",
            " 14  APPLIED AMOUNT                       9991 non-null   int64  \n",
            " 15  PRIMARY ASSET MAKE                   9991 non-null   object \n",
            " 16  Primary Asset Model No               9991 non-null   object \n",
            " 17  Personal Email Address               9991 non-null   object \n",
            " 18  MARITAL STATUS                       5106 non-null   object \n",
            " 19  GENDER                               9991 non-null   object \n",
            " 20  DOB                                  9991 non-null   int64  \n",
            " 21  AGE                                  9991 non-null   int64  \n",
            " 22  ADDRESS TYPE                         6684 non-null   object \n",
            " 23  EMPLOY CONSTITUTION                  5002 non-null   object \n",
            " 24  EMPLOYER NAME                        4990 non-null   object \n",
            " 25  EMPLOYER TYPE                        5002 non-null   object \n",
            " 26  Pan Name                             8940 non-null   object \n",
            " 27  name                                 9991 non-null   object \n",
            " 28  vpa                                  7208 non-null   object \n",
            " 29  upi_name                             7206 non-null   object \n",
            " 30  Phone Social Premium.a23games        1 non-null      float64\n",
            " 31  Phone Social Premium.amazon          8076 non-null   float64\n",
            " 32  Phone Social Premium.byjus           8044 non-null   float64\n",
            " 33  Phone Social Premium.flipkart        8160 non-null   float64\n",
            " 34  Phone Social Premium.housing         8216 non-null   float64\n",
            " 35  Phone Social Premium.indiamart       8217 non-null   float64\n",
            " 36  Phone Social Premium.instagram       3363 non-null   float64\n",
            " 37  Phone Social Premium.isWABusiness    1570 non-null   float64\n",
            " 38  Phone Social Premium.jeevansaathi    8163 non-null   float64\n",
            " 39  Phone Social Premium.jiomart         410 non-null    float64\n",
            " 40  Phone Social Premium.microsoft       8120 non-null   float64\n",
            " 41  Phone Social Premium.my11            2 non-null      float64\n",
            " 42  Phone Social Premium.paytm           8235 non-null   float64\n",
            " 43  Phone Social Premium.rummycircle     1 non-null      float64\n",
            " 44  Phone Social Premium.shaadi          8213 non-null   float64\n",
            " 45  Phone Social Premium.skype           8207 non-null   float64\n",
            " 46  Phone Social Premium.toi             8050 non-null   float64\n",
            " 47  Phone Social Premium.whatsapp        1570 non-null   float64\n",
            " 48  Phone Social Premium.yatra           9 non-null      float64\n",
            " 49  Phone Social Premium.zoho            8210 non-null   float64\n",
            " 50  phone_digitalage                     9987 non-null   float64\n",
            " 51  phone_nameMatchScore                 9987 non-null   float64\n",
            " 52  phone_phoneFootprintStrengthOverall  9985 non-null   object \n",
            " 53  Application Status                   9991 non-null   object \n",
            " 54  year                                 9991 non-null   int32  \n",
            " 55  month                                9991 non-null   int32  \n",
            " 56  day                                  9991 non-null   int32  \n",
            "dtypes: bool(1), float64(23), int32(3), int64(6), object(24)\n",
            "memory usage: 4.2+ MB\n"
          ]
        }
      ],
      "source": [
        "train.info()"
      ]
    },
    {
      "cell_type": "markdown",
      "metadata": {
        "id": "BY_uGsOUGn55"
      },
      "source": [
        "# HDB BRANCH NAME"
      ]
    },
    {
      "cell_type": "code",
      "execution_count": 1043,
      "metadata": {
        "colab": {
          "base_uri": "https://localhost:8080/",
          "height": 489
        },
        "id": "UG7KcwjHGn56",
        "outputId": "776ce3fd-d596-4746-a140-5756c43ae3ec"
      },
      "outputs": [
        {
          "output_type": "execute_result",
          "data": {
            "text/plain": [
              "HDB BRANCH NAME\n",
              "NOIDA-SF         306\n",
              "DELHI-SF         238\n",
              "HYDERABAD-SF     210\n",
              "DEHRADUN-SF      200\n",
              "BANGALORE-SF     147\n",
              "                ... \n",
              "PHULPUR-SF         1\n",
              "JALPAIGURI-SF      1\n",
              "UDAIPUR-SF         1\n",
              "HUNSUR-SF          1\n",
              "NIMAPARA-SF        1\n",
              "Name: count, Length: 542, dtype: int64"
            ],
            "text/html": [
              "<div>\n",
              "<style scoped>\n",
              "    .dataframe tbody tr th:only-of-type {\n",
              "        vertical-align: middle;\n",
              "    }\n",
              "\n",
              "    .dataframe tbody tr th {\n",
              "        vertical-align: top;\n",
              "    }\n",
              "\n",
              "    .dataframe thead th {\n",
              "        text-align: right;\n",
              "    }\n",
              "</style>\n",
              "<table border=\"1\" class=\"dataframe\">\n",
              "  <thead>\n",
              "    <tr style=\"text-align: right;\">\n",
              "      <th></th>\n",
              "      <th>count</th>\n",
              "    </tr>\n",
              "    <tr>\n",
              "      <th>HDB BRANCH NAME</th>\n",
              "      <th></th>\n",
              "    </tr>\n",
              "  </thead>\n",
              "  <tbody>\n",
              "    <tr>\n",
              "      <th>NOIDA-SF</th>\n",
              "      <td>306</td>\n",
              "    </tr>\n",
              "    <tr>\n",
              "      <th>DELHI-SF</th>\n",
              "      <td>238</td>\n",
              "    </tr>\n",
              "    <tr>\n",
              "      <th>HYDERABAD-SF</th>\n",
              "      <td>210</td>\n",
              "    </tr>\n",
              "    <tr>\n",
              "      <th>DEHRADUN-SF</th>\n",
              "      <td>200</td>\n",
              "    </tr>\n",
              "    <tr>\n",
              "      <th>BANGALORE-SF</th>\n",
              "      <td>147</td>\n",
              "    </tr>\n",
              "    <tr>\n",
              "      <th>...</th>\n",
              "      <td>...</td>\n",
              "    </tr>\n",
              "    <tr>\n",
              "      <th>PHULPUR-SF</th>\n",
              "      <td>1</td>\n",
              "    </tr>\n",
              "    <tr>\n",
              "      <th>JALPAIGURI-SF</th>\n",
              "      <td>1</td>\n",
              "    </tr>\n",
              "    <tr>\n",
              "      <th>UDAIPUR-SF</th>\n",
              "      <td>1</td>\n",
              "    </tr>\n",
              "    <tr>\n",
              "      <th>HUNSUR-SF</th>\n",
              "      <td>1</td>\n",
              "    </tr>\n",
              "    <tr>\n",
              "      <th>NIMAPARA-SF</th>\n",
              "      <td>1</td>\n",
              "    </tr>\n",
              "  </tbody>\n",
              "</table>\n",
              "<p>542 rows × 1 columns</p>\n",
              "</div><br><label><b>dtype:</b> int64</label>"
            ]
          },
          "metadata": {},
          "execution_count": 1043
        }
      ],
      "source": [
        "train['HDB BRANCH NAME'].value_counts()"
      ]
    },
    {
      "cell_type": "code",
      "execution_count": 1044,
      "metadata": {
        "colab": {
          "base_uri": "https://localhost:8080/",
          "height": 182
        },
        "id": "wGK0YERHGn56",
        "outputId": "d2ebf001-f77c-4f1c-94ab-a89e420d22ff"
      },
      "outputs": [
        {
          "output_type": "execute_result",
          "data": {
            "text/plain": [
              "      DEALER ID HDB BRANCH NAME HDB BRANCH STATE FIRST NAME MIDDLE NAME  \\\n",
              "2418     195581             NaN   MADHYA PRADESH      ARJUN         NaN   \n",
              "\n",
              "     LAST NAME      mobile AADHAR VERIFIED Cibil Score  MOBILE VERIFICATION  \\\n",
              "2418     PATEL  9103047854              NO         NaN                 True   \n",
              "\n",
              "      ... Phone Social Premium.whatsapp  Phone Social Premium.yatra  \\\n",
              "2418  ...                           1.0                         NaN   \n",
              "\n",
              "     Phone Social Premium.zoho  phone_digitalage  phone_nameMatchScore  \\\n",
              "2418                       0.0             625.0                  -1.0   \n",
              "\n",
              "     phone_phoneFootprintStrengthOverall Application Status  year month day  \n",
              "2418                              Medium           APPROVED  2022     7   4  \n",
              "\n",
              "[1 rows x 57 columns]"
            ],
            "text/html": [
              "\n",
              "  <div id=\"df-c0d872d6-f251-4311-a9f9-8d8d8bb1cd23\" class=\"colab-df-container\">\n",
              "    <div>\n",
              "<style scoped>\n",
              "    .dataframe tbody tr th:only-of-type {\n",
              "        vertical-align: middle;\n",
              "    }\n",
              "\n",
              "    .dataframe tbody tr th {\n",
              "        vertical-align: top;\n",
              "    }\n",
              "\n",
              "    .dataframe thead th {\n",
              "        text-align: right;\n",
              "    }\n",
              "</style>\n",
              "<table border=\"1\" class=\"dataframe\">\n",
              "  <thead>\n",
              "    <tr style=\"text-align: right;\">\n",
              "      <th></th>\n",
              "      <th>DEALER ID</th>\n",
              "      <th>HDB BRANCH NAME</th>\n",
              "      <th>HDB BRANCH STATE</th>\n",
              "      <th>FIRST NAME</th>\n",
              "      <th>MIDDLE NAME</th>\n",
              "      <th>LAST NAME</th>\n",
              "      <th>mobile</th>\n",
              "      <th>AADHAR VERIFIED</th>\n",
              "      <th>Cibil Score</th>\n",
              "      <th>MOBILE VERIFICATION</th>\n",
              "      <th>...</th>\n",
              "      <th>Phone Social Premium.whatsapp</th>\n",
              "      <th>Phone Social Premium.yatra</th>\n",
              "      <th>Phone Social Premium.zoho</th>\n",
              "      <th>phone_digitalage</th>\n",
              "      <th>phone_nameMatchScore</th>\n",
              "      <th>phone_phoneFootprintStrengthOverall</th>\n",
              "      <th>Application Status</th>\n",
              "      <th>year</th>\n",
              "      <th>month</th>\n",
              "      <th>day</th>\n",
              "    </tr>\n",
              "  </thead>\n",
              "  <tbody>\n",
              "    <tr>\n",
              "      <th>2418</th>\n",
              "      <td>195581</td>\n",
              "      <td>NaN</td>\n",
              "      <td>MADHYA PRADESH</td>\n",
              "      <td>ARJUN</td>\n",
              "      <td>NaN</td>\n",
              "      <td>PATEL</td>\n",
              "      <td>9103047854</td>\n",
              "      <td>NO</td>\n",
              "      <td>NaN</td>\n",
              "      <td>True</td>\n",
              "      <td>...</td>\n",
              "      <td>1.0</td>\n",
              "      <td>NaN</td>\n",
              "      <td>0.0</td>\n",
              "      <td>625.0</td>\n",
              "      <td>-1.0</td>\n",
              "      <td>Medium</td>\n",
              "      <td>APPROVED</td>\n",
              "      <td>2022</td>\n",
              "      <td>7</td>\n",
              "      <td>4</td>\n",
              "    </tr>\n",
              "  </tbody>\n",
              "</table>\n",
              "<p>1 rows × 57 columns</p>\n",
              "</div>\n",
              "    <div class=\"colab-df-buttons\">\n",
              "\n",
              "  <div class=\"colab-df-container\">\n",
              "    <button class=\"colab-df-convert\" onclick=\"convertToInteractive('df-c0d872d6-f251-4311-a9f9-8d8d8bb1cd23')\"\n",
              "            title=\"Convert this dataframe to an interactive table.\"\n",
              "            style=\"display:none;\">\n",
              "\n",
              "  <svg xmlns=\"http://www.w3.org/2000/svg\" height=\"24px\" viewBox=\"0 -960 960 960\">\n",
              "    <path d=\"M120-120v-720h720v720H120Zm60-500h600v-160H180v160Zm220 220h160v-160H400v160Zm0 220h160v-160H400v160ZM180-400h160v-160H180v160Zm440 0h160v-160H620v160ZM180-180h160v-160H180v160Zm440 0h160v-160H620v160Z\"/>\n",
              "  </svg>\n",
              "    </button>\n",
              "\n",
              "  <style>\n",
              "    .colab-df-container {\n",
              "      display:flex;\n",
              "      gap: 12px;\n",
              "    }\n",
              "\n",
              "    .colab-df-convert {\n",
              "      background-color: #E8F0FE;\n",
              "      border: none;\n",
              "      border-radius: 50%;\n",
              "      cursor: pointer;\n",
              "      display: none;\n",
              "      fill: #1967D2;\n",
              "      height: 32px;\n",
              "      padding: 0 0 0 0;\n",
              "      width: 32px;\n",
              "    }\n",
              "\n",
              "    .colab-df-convert:hover {\n",
              "      background-color: #E2EBFA;\n",
              "      box-shadow: 0px 1px 2px rgba(60, 64, 67, 0.3), 0px 1px 3px 1px rgba(60, 64, 67, 0.15);\n",
              "      fill: #174EA6;\n",
              "    }\n",
              "\n",
              "    .colab-df-buttons div {\n",
              "      margin-bottom: 4px;\n",
              "    }\n",
              "\n",
              "    [theme=dark] .colab-df-convert {\n",
              "      background-color: #3B4455;\n",
              "      fill: #D2E3FC;\n",
              "    }\n",
              "\n",
              "    [theme=dark] .colab-df-convert:hover {\n",
              "      background-color: #434B5C;\n",
              "      box-shadow: 0px 1px 3px 1px rgba(0, 0, 0, 0.15);\n",
              "      filter: drop-shadow(0px 1px 2px rgba(0, 0, 0, 0.3));\n",
              "      fill: #FFFFFF;\n",
              "    }\n",
              "  </style>\n",
              "\n",
              "    <script>\n",
              "      const buttonEl =\n",
              "        document.querySelector('#df-c0d872d6-f251-4311-a9f9-8d8d8bb1cd23 button.colab-df-convert');\n",
              "      buttonEl.style.display =\n",
              "        google.colab.kernel.accessAllowed ? 'block' : 'none';\n",
              "\n",
              "      async function convertToInteractive(key) {\n",
              "        const element = document.querySelector('#df-c0d872d6-f251-4311-a9f9-8d8d8bb1cd23');\n",
              "        const dataTable =\n",
              "          await google.colab.kernel.invokeFunction('convertToInteractive',\n",
              "                                                    [key], {});\n",
              "        if (!dataTable) return;\n",
              "\n",
              "        const docLinkHtml = 'Like what you see? Visit the ' +\n",
              "          '<a target=\"_blank\" href=https://colab.research.google.com/notebooks/data_table.ipynb>data table notebook</a>'\n",
              "          + ' to learn more about interactive tables.';\n",
              "        element.innerHTML = '';\n",
              "        dataTable['output_type'] = 'display_data';\n",
              "        await google.colab.output.renderOutput(dataTable, element);\n",
              "        const docLink = document.createElement('div');\n",
              "        docLink.innerHTML = docLinkHtml;\n",
              "        element.appendChild(docLink);\n",
              "      }\n",
              "    </script>\n",
              "  </div>\n",
              "\n",
              "\n",
              "    </div>\n",
              "  </div>\n"
            ],
            "application/vnd.google.colaboratory.intrinsic+json": {
              "type": "dataframe"
            }
          },
          "metadata": {},
          "execution_count": 1044
        }
      ],
      "source": [
        "train[train['HDB BRANCH NAME'].isnull()]"
      ]
    },
    {
      "cell_type": "code",
      "execution_count": 1045,
      "metadata": {
        "id": "NQio2qKRGn56"
      },
      "outputs": [],
      "source": [
        "train = train.dropna(subset=['HDB BRANCH NAME'])\n"
      ]
    },
    {
      "cell_type": "code",
      "execution_count": 1046,
      "metadata": {
        "colab": {
          "base_uri": "https://localhost:8080/"
        },
        "id": "Yga1PGmuGn57",
        "outputId": "c9ecda6a-a766-4ed3-a903-80996d16a4ba"
      },
      "outputs": [
        {
          "output_type": "execute_result",
          "data": {
            "text/plain": [
              "(9990, 57)"
            ]
          },
          "metadata": {},
          "execution_count": 1046
        }
      ],
      "source": [
        "train.shape"
      ]
    },
    {
      "cell_type": "markdown",
      "metadata": {
        "id": "188EsmcnGn57"
      },
      "source": [
        "# HDB BRANCH STATE"
      ]
    },
    {
      "cell_type": "code",
      "execution_count": 1047,
      "metadata": {
        "colab": {
          "base_uri": "https://localhost:8080/"
        },
        "id": "C41CqTc9Gn58",
        "outputId": "0dc02f2d-3495-47ce-e816-bdfdb0118e7a"
      },
      "outputs": [
        {
          "output_type": "execute_result",
          "data": {
            "text/plain": [
              "853"
            ]
          },
          "metadata": {},
          "execution_count": 1047
        }
      ],
      "source": [
        "train['HDB BRANCH STATE'].isnull().sum()"
      ]
    },
    {
      "cell_type": "code",
      "execution_count": 1048,
      "metadata": {
        "colab": {
          "base_uri": "https://localhost:8080/",
          "height": 868
        },
        "id": "7xwu3ahKGn5-",
        "outputId": "652827fb-a57e-4fe2-e8da-9836938750f0"
      },
      "outputs": [
        {
          "output_type": "execute_result",
          "data": {
            "text/plain": [
              "HDB BRANCH STATE\n",
              "UTTAR PRADESH       1979\n",
              "BIHAR                818\n",
              "HARYANA              618\n",
              "MADHYA PRADESH       605\n",
              "MAHARASHTRA          531\n",
              "DELHI                509\n",
              "TAMIL NADU           500\n",
              "RAJASTHAN            452\n",
              "JHARKHAND            381\n",
              "UTTARAKHAND          372\n",
              "KARNATAKA            369\n",
              "WEST BENGAL          356\n",
              "TELANGANA            294\n",
              "PUNJAB               256\n",
              "ORISSA               249\n",
              "KERALA               227\n",
              "GUJARAT              218\n",
              "ASSAM                207\n",
              "ANDHRA PRADESH       104\n",
              "CHHATTISGARH          49\n",
              "SIKKIM                17\n",
              "PUDUCHERRY            13\n",
              "TRIPURA                8\n",
              "HIMACHAL PRADESH       5\n",
              "Name: count, dtype: int64"
            ],
            "text/html": [
              "<div>\n",
              "<style scoped>\n",
              "    .dataframe tbody tr th:only-of-type {\n",
              "        vertical-align: middle;\n",
              "    }\n",
              "\n",
              "    .dataframe tbody tr th {\n",
              "        vertical-align: top;\n",
              "    }\n",
              "\n",
              "    .dataframe thead th {\n",
              "        text-align: right;\n",
              "    }\n",
              "</style>\n",
              "<table border=\"1\" class=\"dataframe\">\n",
              "  <thead>\n",
              "    <tr style=\"text-align: right;\">\n",
              "      <th></th>\n",
              "      <th>count</th>\n",
              "    </tr>\n",
              "    <tr>\n",
              "      <th>HDB BRANCH STATE</th>\n",
              "      <th></th>\n",
              "    </tr>\n",
              "  </thead>\n",
              "  <tbody>\n",
              "    <tr>\n",
              "      <th>UTTAR PRADESH</th>\n",
              "      <td>1979</td>\n",
              "    </tr>\n",
              "    <tr>\n",
              "      <th>BIHAR</th>\n",
              "      <td>818</td>\n",
              "    </tr>\n",
              "    <tr>\n",
              "      <th>HARYANA</th>\n",
              "      <td>618</td>\n",
              "    </tr>\n",
              "    <tr>\n",
              "      <th>MADHYA PRADESH</th>\n",
              "      <td>605</td>\n",
              "    </tr>\n",
              "    <tr>\n",
              "      <th>MAHARASHTRA</th>\n",
              "      <td>531</td>\n",
              "    </tr>\n",
              "    <tr>\n",
              "      <th>DELHI</th>\n",
              "      <td>509</td>\n",
              "    </tr>\n",
              "    <tr>\n",
              "      <th>TAMIL NADU</th>\n",
              "      <td>500</td>\n",
              "    </tr>\n",
              "    <tr>\n",
              "      <th>RAJASTHAN</th>\n",
              "      <td>452</td>\n",
              "    </tr>\n",
              "    <tr>\n",
              "      <th>JHARKHAND</th>\n",
              "      <td>381</td>\n",
              "    </tr>\n",
              "    <tr>\n",
              "      <th>UTTARAKHAND</th>\n",
              "      <td>372</td>\n",
              "    </tr>\n",
              "    <tr>\n",
              "      <th>KARNATAKA</th>\n",
              "      <td>369</td>\n",
              "    </tr>\n",
              "    <tr>\n",
              "      <th>WEST BENGAL</th>\n",
              "      <td>356</td>\n",
              "    </tr>\n",
              "    <tr>\n",
              "      <th>TELANGANA</th>\n",
              "      <td>294</td>\n",
              "    </tr>\n",
              "    <tr>\n",
              "      <th>PUNJAB</th>\n",
              "      <td>256</td>\n",
              "    </tr>\n",
              "    <tr>\n",
              "      <th>ORISSA</th>\n",
              "      <td>249</td>\n",
              "    </tr>\n",
              "    <tr>\n",
              "      <th>KERALA</th>\n",
              "      <td>227</td>\n",
              "    </tr>\n",
              "    <tr>\n",
              "      <th>GUJARAT</th>\n",
              "      <td>218</td>\n",
              "    </tr>\n",
              "    <tr>\n",
              "      <th>ASSAM</th>\n",
              "      <td>207</td>\n",
              "    </tr>\n",
              "    <tr>\n",
              "      <th>ANDHRA PRADESH</th>\n",
              "      <td>104</td>\n",
              "    </tr>\n",
              "    <tr>\n",
              "      <th>CHHATTISGARH</th>\n",
              "      <td>49</td>\n",
              "    </tr>\n",
              "    <tr>\n",
              "      <th>SIKKIM</th>\n",
              "      <td>17</td>\n",
              "    </tr>\n",
              "    <tr>\n",
              "      <th>PUDUCHERRY</th>\n",
              "      <td>13</td>\n",
              "    </tr>\n",
              "    <tr>\n",
              "      <th>TRIPURA</th>\n",
              "      <td>8</td>\n",
              "    </tr>\n",
              "    <tr>\n",
              "      <th>HIMACHAL PRADESH</th>\n",
              "      <td>5</td>\n",
              "    </tr>\n",
              "  </tbody>\n",
              "</table>\n",
              "</div><br><label><b>dtype:</b> int64</label>"
            ]
          },
          "metadata": {},
          "execution_count": 1048
        }
      ],
      "source": [
        "train['HDB BRANCH STATE'].value_counts()"
      ]
    },
    {
      "cell_type": "code",
      "execution_count": 1049,
      "metadata": {
        "id": "SFj3q4FHGn5_"
      },
      "outputs": [],
      "source": [
        "train['HDB BRANCH STATE'].fillna(\"NOT-KNOWN\",inplace=True)"
      ]
    },
    {
      "cell_type": "code",
      "execution_count": 1050,
      "metadata": {
        "colab": {
          "base_uri": "https://localhost:8080/"
        },
        "id": "BeXnzkGcGn6A",
        "outputId": "b7373d41-6c23-48a0-f74d-22d3526f385c"
      },
      "outputs": [
        {
          "output_type": "execute_result",
          "data": {
            "text/plain": [
              "0"
            ]
          },
          "metadata": {},
          "execution_count": 1050
        }
      ],
      "source": [
        "train['HDB BRANCH STATE'].isnull().sum()"
      ]
    },
    {
      "cell_type": "code",
      "execution_count": 1051,
      "metadata": {
        "id": "Su5U7bF2Gn6A"
      },
      "outputs": [],
      "source": [
        "import pandas as pd\n",
        "from sklearn.preprocessing import OneHotEncoder\n",
        "from sklearn.compose import ColumnTransformer\n",
        "from sklearn.pipeline import Pipeline"
      ]
    },
    {
      "cell_type": "code",
      "execution_count": 1052,
      "metadata": {
        "id": "QSoqeTTyGn6B"
      },
      "outputs": [],
      "source": [
        "ohe_encoder1 = OneHotEncoder(drop='first', sparse_output=False, handle_unknown='ignore')\n"
      ]
    },
    {
      "cell_type": "markdown",
      "metadata": {
        "id": "66fftPAcGn6B"
      },
      "source": [
        "# FIRST NAME\n"
      ]
    },
    {
      "cell_type": "code",
      "execution_count": 1053,
      "metadata": {
        "colab": {
          "base_uri": "https://localhost:8080/"
        },
        "id": "uDI1ilQKGn6T",
        "outputId": "1c350242-14ac-43a9-af59-d2e5d4389fac"
      },
      "outputs": [
        {
          "output_type": "execute_result",
          "data": {
            "text/plain": [
              "0"
            ]
          },
          "metadata": {},
          "execution_count": 1053
        }
      ],
      "source": [
        "train['FIRST NAME'].isnull().sum()"
      ]
    },
    {
      "cell_type": "code",
      "execution_count": 1054,
      "metadata": {
        "colab": {
          "base_uri": "https://localhost:8080/",
          "height": 489
        },
        "id": "U8U6udibGn6U",
        "outputId": "976068d1-2191-4282-f032-877eff7b0d78"
      },
      "outputs": [
        {
          "output_type": "execute_result",
          "data": {
            "text/plain": [
              "FIRST NAME\n",
              "MOHD        201\n",
              "MOHAMMAD    149\n",
              "RAHUL        65\n",
              "SUNIL        61\n",
              "RAM          56\n",
              "           ... \n",
              "SHAHIDA       1\n",
              "RIBBUL        1\n",
              "INTEJAR       1\n",
              "DEVANTI       1\n",
              "JHAROKHA      1\n",
              "Name: count, Length: 4463, dtype: int64"
            ],
            "text/html": [
              "<div>\n",
              "<style scoped>\n",
              "    .dataframe tbody tr th:only-of-type {\n",
              "        vertical-align: middle;\n",
              "    }\n",
              "\n",
              "    .dataframe tbody tr th {\n",
              "        vertical-align: top;\n",
              "    }\n",
              "\n",
              "    .dataframe thead th {\n",
              "        text-align: right;\n",
              "    }\n",
              "</style>\n",
              "<table border=\"1\" class=\"dataframe\">\n",
              "  <thead>\n",
              "    <tr style=\"text-align: right;\">\n",
              "      <th></th>\n",
              "      <th>count</th>\n",
              "    </tr>\n",
              "    <tr>\n",
              "      <th>FIRST NAME</th>\n",
              "      <th></th>\n",
              "    </tr>\n",
              "  </thead>\n",
              "  <tbody>\n",
              "    <tr>\n",
              "      <th>MOHD</th>\n",
              "      <td>201</td>\n",
              "    </tr>\n",
              "    <tr>\n",
              "      <th>MOHAMMAD</th>\n",
              "      <td>149</td>\n",
              "    </tr>\n",
              "    <tr>\n",
              "      <th>RAHUL</th>\n",
              "      <td>65</td>\n",
              "    </tr>\n",
              "    <tr>\n",
              "      <th>SUNIL</th>\n",
              "      <td>61</td>\n",
              "    </tr>\n",
              "    <tr>\n",
              "      <th>RAM</th>\n",
              "      <td>56</td>\n",
              "    </tr>\n",
              "    <tr>\n",
              "      <th>...</th>\n",
              "      <td>...</td>\n",
              "    </tr>\n",
              "    <tr>\n",
              "      <th>SHAHIDA</th>\n",
              "      <td>1</td>\n",
              "    </tr>\n",
              "    <tr>\n",
              "      <th>RIBBUL</th>\n",
              "      <td>1</td>\n",
              "    </tr>\n",
              "    <tr>\n",
              "      <th>INTEJAR</th>\n",
              "      <td>1</td>\n",
              "    </tr>\n",
              "    <tr>\n",
              "      <th>DEVANTI</th>\n",
              "      <td>1</td>\n",
              "    </tr>\n",
              "    <tr>\n",
              "      <th>JHAROKHA</th>\n",
              "      <td>1</td>\n",
              "    </tr>\n",
              "  </tbody>\n",
              "</table>\n",
              "<p>4463 rows × 1 columns</p>\n",
              "</div><br><label><b>dtype:</b> int64</label>"
            ]
          },
          "metadata": {},
          "execution_count": 1054
        }
      ],
      "source": [
        "train['FIRST NAME'].value_counts()"
      ]
    },
    {
      "cell_type": "markdown",
      "metadata": {
        "id": "MfXbLtDCGn6U"
      },
      "source": [
        "<h5>NAME doesnt add any value while predictions we are going to drop First Name column</h5>"
      ]
    },
    {
      "cell_type": "code",
      "execution_count": 1055,
      "metadata": {
        "id": "4M8uxdemGn6V"
      },
      "outputs": [],
      "source": [
        "train.drop('FIRST NAME',axis=1,inplace=True)"
      ]
    },
    {
      "cell_type": "markdown",
      "metadata": {
        "id": "gkhkjZjcGn6V"
      },
      "source": [
        "# MIDDLE NAME"
      ]
    },
    {
      "cell_type": "code",
      "execution_count": 1056,
      "metadata": {
        "colab": {
          "base_uri": "https://localhost:8080/"
        },
        "id": "HnZ7am3fGn6W",
        "outputId": "a302d57a-df49-4266-809f-d198310785e8"
      },
      "outputs": [
        {
          "output_type": "execute_result",
          "data": {
            "text/plain": [
              "7137"
            ]
          },
          "metadata": {},
          "execution_count": 1056
        }
      ],
      "source": [
        "train['MIDDLE NAME'].isnull().sum()"
      ]
    },
    {
      "cell_type": "code",
      "execution_count": 1057,
      "metadata": {
        "id": "5JMZXnoPGn6W"
      },
      "outputs": [],
      "source": [
        "train.drop('MIDDLE NAME',axis=1,inplace=True)"
      ]
    },
    {
      "cell_type": "markdown",
      "metadata": {
        "id": "2zoEGda4Gn6W"
      },
      "source": [
        "# LAST NAME"
      ]
    },
    {
      "cell_type": "code",
      "execution_count": 1058,
      "metadata": {
        "colab": {
          "base_uri": "https://localhost:8080/"
        },
        "id": "GphIzUC_Gn6X",
        "outputId": "e325e841-bcd1-4297-b4dc-e8ebcfcdb6d2"
      },
      "outputs": [
        {
          "output_type": "execute_result",
          "data": {
            "text/plain": [
              "681"
            ]
          },
          "metadata": {},
          "execution_count": 1058
        }
      ],
      "source": [
        "train['LAST NAME'].isnull().sum()"
      ]
    },
    {
      "cell_type": "code",
      "execution_count": 1059,
      "metadata": {
        "colab": {
          "base_uri": "https://localhost:8080/",
          "height": 489
        },
        "id": "fZrCiB9pGn6X",
        "outputId": "2095ea96-9edd-45f4-c763-bcba0864d5db"
      },
      "outputs": [
        {
          "output_type": "execute_result",
          "data": {
            "text/plain": [
              "LAST NAME\n",
              "SINGH              874\n",
              "KUMAR              716\n",
              "YADAV              185\n",
              "KHAN               173\n",
              "RAM                160\n",
              "                  ... \n",
              "SHAQIB               1\n",
              "HANWTE               1\n",
              "MMANJEGOWDA          1\n",
              "RAMESHPONNUSAMY      1\n",
              "AAGAN                1\n",
              "Name: count, Length: 3101, dtype: int64"
            ],
            "text/html": [
              "<div>\n",
              "<style scoped>\n",
              "    .dataframe tbody tr th:only-of-type {\n",
              "        vertical-align: middle;\n",
              "    }\n",
              "\n",
              "    .dataframe tbody tr th {\n",
              "        vertical-align: top;\n",
              "    }\n",
              "\n",
              "    .dataframe thead th {\n",
              "        text-align: right;\n",
              "    }\n",
              "</style>\n",
              "<table border=\"1\" class=\"dataframe\">\n",
              "  <thead>\n",
              "    <tr style=\"text-align: right;\">\n",
              "      <th></th>\n",
              "      <th>count</th>\n",
              "    </tr>\n",
              "    <tr>\n",
              "      <th>LAST NAME</th>\n",
              "      <th></th>\n",
              "    </tr>\n",
              "  </thead>\n",
              "  <tbody>\n",
              "    <tr>\n",
              "      <th>SINGH</th>\n",
              "      <td>874</td>\n",
              "    </tr>\n",
              "    <tr>\n",
              "      <th>KUMAR</th>\n",
              "      <td>716</td>\n",
              "    </tr>\n",
              "    <tr>\n",
              "      <th>YADAV</th>\n",
              "      <td>185</td>\n",
              "    </tr>\n",
              "    <tr>\n",
              "      <th>KHAN</th>\n",
              "      <td>173</td>\n",
              "    </tr>\n",
              "    <tr>\n",
              "      <th>RAM</th>\n",
              "      <td>160</td>\n",
              "    </tr>\n",
              "    <tr>\n",
              "      <th>...</th>\n",
              "      <td>...</td>\n",
              "    </tr>\n",
              "    <tr>\n",
              "      <th>SHAQIB</th>\n",
              "      <td>1</td>\n",
              "    </tr>\n",
              "    <tr>\n",
              "      <th>HANWTE</th>\n",
              "      <td>1</td>\n",
              "    </tr>\n",
              "    <tr>\n",
              "      <th>MMANJEGOWDA</th>\n",
              "      <td>1</td>\n",
              "    </tr>\n",
              "    <tr>\n",
              "      <th>RAMESHPONNUSAMY</th>\n",
              "      <td>1</td>\n",
              "    </tr>\n",
              "    <tr>\n",
              "      <th>AAGAN</th>\n",
              "      <td>1</td>\n",
              "    </tr>\n",
              "  </tbody>\n",
              "</table>\n",
              "<p>3101 rows × 1 columns</p>\n",
              "</div><br><label><b>dtype:</b> int64</label>"
            ]
          },
          "metadata": {},
          "execution_count": 1059
        }
      ],
      "source": [
        "train['LAST NAME'].value_counts()\n"
      ]
    },
    {
      "cell_type": "code",
      "execution_count": 1060,
      "metadata": {
        "id": "-SDylxDFGn6Y"
      },
      "outputs": [],
      "source": [
        "train.drop('LAST NAME',axis=1,inplace=True)"
      ]
    },
    {
      "cell_type": "markdown",
      "metadata": {
        "id": "Epbt3SDqGn6Y"
      },
      "source": [
        "# HDB BRANCH NAME"
      ]
    },
    {
      "cell_type": "code",
      "execution_count": 1061,
      "metadata": {
        "colab": {
          "base_uri": "https://localhost:8080/"
        },
        "id": "d1TKOJmTGn6Y",
        "outputId": "f4d7f7a5-a55b-4855-ba7a-81b4e07ddd7a"
      },
      "outputs": [
        {
          "output_type": "execute_result",
          "data": {
            "text/plain": [
              "542"
            ]
          },
          "metadata": {},
          "execution_count": 1061
        }
      ],
      "source": [
        "len(train['HDB BRANCH NAME'].unique())"
      ]
    },
    {
      "cell_type": "code",
      "execution_count": 1062,
      "metadata": {
        "colab": {
          "base_uri": "https://localhost:8080/",
          "height": 489
        },
        "id": "CJ6dJ63hGn6Z",
        "outputId": "9aaecf3f-a685-405f-e5ea-927246c226b7"
      },
      "outputs": [
        {
          "output_type": "execute_result",
          "data": {
            "text/plain": [
              "HDB BRANCH NAME\n",
              "NOIDA-SF         306\n",
              "DELHI-SF         238\n",
              "HYDERABAD-SF     210\n",
              "DEHRADUN-SF      200\n",
              "BANGALORE-SF     147\n",
              "                ... \n",
              "PHULPUR-SF         1\n",
              "JALPAIGURI-SF      1\n",
              "UDAIPUR-SF         1\n",
              "HUNSUR-SF          1\n",
              "NIMAPARA-SF        1\n",
              "Name: count, Length: 542, dtype: int64"
            ],
            "text/html": [
              "<div>\n",
              "<style scoped>\n",
              "    .dataframe tbody tr th:only-of-type {\n",
              "        vertical-align: middle;\n",
              "    }\n",
              "\n",
              "    .dataframe tbody tr th {\n",
              "        vertical-align: top;\n",
              "    }\n",
              "\n",
              "    .dataframe thead th {\n",
              "        text-align: right;\n",
              "    }\n",
              "</style>\n",
              "<table border=\"1\" class=\"dataframe\">\n",
              "  <thead>\n",
              "    <tr style=\"text-align: right;\">\n",
              "      <th></th>\n",
              "      <th>count</th>\n",
              "    </tr>\n",
              "    <tr>\n",
              "      <th>HDB BRANCH NAME</th>\n",
              "      <th></th>\n",
              "    </tr>\n",
              "  </thead>\n",
              "  <tbody>\n",
              "    <tr>\n",
              "      <th>NOIDA-SF</th>\n",
              "      <td>306</td>\n",
              "    </tr>\n",
              "    <tr>\n",
              "      <th>DELHI-SF</th>\n",
              "      <td>238</td>\n",
              "    </tr>\n",
              "    <tr>\n",
              "      <th>HYDERABAD-SF</th>\n",
              "      <td>210</td>\n",
              "    </tr>\n",
              "    <tr>\n",
              "      <th>DEHRADUN-SF</th>\n",
              "      <td>200</td>\n",
              "    </tr>\n",
              "    <tr>\n",
              "      <th>BANGALORE-SF</th>\n",
              "      <td>147</td>\n",
              "    </tr>\n",
              "    <tr>\n",
              "      <th>...</th>\n",
              "      <td>...</td>\n",
              "    </tr>\n",
              "    <tr>\n",
              "      <th>PHULPUR-SF</th>\n",
              "      <td>1</td>\n",
              "    </tr>\n",
              "    <tr>\n",
              "      <th>JALPAIGURI-SF</th>\n",
              "      <td>1</td>\n",
              "    </tr>\n",
              "    <tr>\n",
              "      <th>UDAIPUR-SF</th>\n",
              "      <td>1</td>\n",
              "    </tr>\n",
              "    <tr>\n",
              "      <th>HUNSUR-SF</th>\n",
              "      <td>1</td>\n",
              "    </tr>\n",
              "    <tr>\n",
              "      <th>NIMAPARA-SF</th>\n",
              "      <td>1</td>\n",
              "    </tr>\n",
              "  </tbody>\n",
              "</table>\n",
              "<p>542 rows × 1 columns</p>\n",
              "</div><br><label><b>dtype:</b> int64</label>"
            ]
          },
          "metadata": {},
          "execution_count": 1062
        }
      ],
      "source": [
        "train['HDB BRANCH NAME'].value_counts()"
      ]
    },
    {
      "cell_type": "code",
      "execution_count": 1063,
      "metadata": {
        "id": "dkiT4PFOGn6Z"
      },
      "outputs": [],
      "source": [
        "train.drop('HDB BRANCH NAME',axis=1,inplace=True)"
      ]
    },
    {
      "cell_type": "markdown",
      "metadata": {
        "id": "G3iRrXhgGn6a"
      },
      "source": [
        "# mobile"
      ]
    },
    {
      "cell_type": "code",
      "execution_count": 1063,
      "metadata": {
        "id": "h7JKdWFiGn6a"
      },
      "outputs": [],
      "source": []
    },
    {
      "cell_type": "code",
      "execution_count": 1064,
      "metadata": {
        "colab": {
          "base_uri": "https://localhost:8080/"
        },
        "id": "Dena-EWjGn6a",
        "outputId": "28c17507-fa3c-4326-fcd8-672da0e3598e"
      },
      "outputs": [
        {
          "output_type": "execute_result",
          "data": {
            "text/plain": [
              "0"
            ]
          },
          "metadata": {},
          "execution_count": 1064
        }
      ],
      "source": [
        "train['mobile'].isnull().sum()"
      ]
    },
    {
      "cell_type": "code",
      "execution_count": 1065,
      "metadata": {
        "colab": {
          "base_uri": "https://localhost:8080/",
          "height": 489
        },
        "id": "1VuKA1zDGn6b",
        "outputId": "07c44041-a84f-4eeb-f0cd-64839139c597"
      },
      "outputs": [
        {
          "output_type": "execute_result",
          "data": {
            "text/plain": [
              "mobile\n",
              "9771931048    4\n",
              "8590213895    4\n",
              "9813642304    4\n",
              "8470999891    3\n",
              "9883872142    3\n",
              "             ..\n",
              "8800231095    1\n",
              "9599348541    1\n",
              "7873414506    1\n",
              "9597928448    1\n",
              "8923338426    1\n",
              "Name: count, Length: 9771, dtype: int64"
            ],
            "text/html": [
              "<div>\n",
              "<style scoped>\n",
              "    .dataframe tbody tr th:only-of-type {\n",
              "        vertical-align: middle;\n",
              "    }\n",
              "\n",
              "    .dataframe tbody tr th {\n",
              "        vertical-align: top;\n",
              "    }\n",
              "\n",
              "    .dataframe thead th {\n",
              "        text-align: right;\n",
              "    }\n",
              "</style>\n",
              "<table border=\"1\" class=\"dataframe\">\n",
              "  <thead>\n",
              "    <tr style=\"text-align: right;\">\n",
              "      <th></th>\n",
              "      <th>count</th>\n",
              "    </tr>\n",
              "    <tr>\n",
              "      <th>mobile</th>\n",
              "      <th></th>\n",
              "    </tr>\n",
              "  </thead>\n",
              "  <tbody>\n",
              "    <tr>\n",
              "      <th>9771931048</th>\n",
              "      <td>4</td>\n",
              "    </tr>\n",
              "    <tr>\n",
              "      <th>8590213895</th>\n",
              "      <td>4</td>\n",
              "    </tr>\n",
              "    <tr>\n",
              "      <th>9813642304</th>\n",
              "      <td>4</td>\n",
              "    </tr>\n",
              "    <tr>\n",
              "      <th>8470999891</th>\n",
              "      <td>3</td>\n",
              "    </tr>\n",
              "    <tr>\n",
              "      <th>9883872142</th>\n",
              "      <td>3</td>\n",
              "    </tr>\n",
              "    <tr>\n",
              "      <th>...</th>\n",
              "      <td>...</td>\n",
              "    </tr>\n",
              "    <tr>\n",
              "      <th>8800231095</th>\n",
              "      <td>1</td>\n",
              "    </tr>\n",
              "    <tr>\n",
              "      <th>9599348541</th>\n",
              "      <td>1</td>\n",
              "    </tr>\n",
              "    <tr>\n",
              "      <th>7873414506</th>\n",
              "      <td>1</td>\n",
              "    </tr>\n",
              "    <tr>\n",
              "      <th>9597928448</th>\n",
              "      <td>1</td>\n",
              "    </tr>\n",
              "    <tr>\n",
              "      <th>8923338426</th>\n",
              "      <td>1</td>\n",
              "    </tr>\n",
              "  </tbody>\n",
              "</table>\n",
              "<p>9771 rows × 1 columns</p>\n",
              "</div><br><label><b>dtype:</b> int64</label>"
            ]
          },
          "metadata": {},
          "execution_count": 1065
        }
      ],
      "source": [
        "train['mobile'].value_counts()"
      ]
    },
    {
      "cell_type": "code",
      "execution_count": 1066,
      "metadata": {
        "colab": {
          "base_uri": "https://localhost:8080/",
          "height": 606
        },
        "id": "yB5Tu4Y1Gn6b",
        "outputId": "3ce62746-5d1d-4e50-ebfb-219d9694e0f9"
      },
      "outputs": [
        {
          "output_type": "execute_result",
          "data": {
            "text/plain": [
              "      DEALER ID HDB BRANCH STATE      mobile AADHAR VERIFIED Cibil Score  \\\n",
              "2425      72223          HARYANA  9813642304              NO         NaN   \n",
              "3773      72223          HARYANA  9813642304              NO         NaN   \n",
              "8014      72223          HARYANA  9813642304              NO         NaN   \n",
              "9885      72223          HARYANA  9813642304              NO         NaN   \n",
              "\n",
              "      MOBILE VERIFICATION                    DEALER NAME  TOTAL ASSET COST  \\\n",
              "2425                 True  MRM AUTOS PVT LTD VIDYA NAGAR               NaN   \n",
              "3773                 True  MRM AUTOS PVT LTD VIDYA NAGAR               NaN   \n",
              "8014                 True  MRM AUTOS PVT LTD VIDYA NAGAR               NaN   \n",
              "9885                 True  MRM AUTOS PVT LTD VIDYA NAGAR               NaN   \n",
              "\n",
              "     ASSET CTG  ASSET MODEL NO  ...  Phone Social Premium.whatsapp  \\\n",
              "2425       NaN          145941  ...                            1.0   \n",
              "3773       NaN          145941  ...                            1.0   \n",
              "8014       NaN          145942  ...                            1.0   \n",
              "9885       NaN          145942  ...                            1.0   \n",
              "\n",
              "     Phone Social Premium.yatra Phone Social Premium.zoho phone_digitalage  \\\n",
              "2425                        NaN                       0.0             -1.0   \n",
              "3773                        NaN                       0.0             -1.0   \n",
              "8014                        NaN                       0.0             -1.0   \n",
              "9885                        NaN                       0.0             -1.0   \n",
              "\n",
              "     phone_nameMatchScore phone_phoneFootprintStrengthOverall  \\\n",
              "2425            76.818182                              Medium   \n",
              "3773            85.000000                              Medium   \n",
              "8014            76.818182                              Medium   \n",
              "9885            76.818182                              Medium   \n",
              "\n",
              "      Application Status  year month day  \n",
              "2425            DECLINED  2022     7  12  \n",
              "3773            DECLINED  2022     7  12  \n",
              "8014            DECLINED  2022     7  12  \n",
              "9885            DECLINED  2022     7  12  \n",
              "\n",
              "[4 rows x 53 columns]"
            ],
            "text/html": [
              "\n",
              "  <div id=\"df-2e4ba0f8-18d6-4c43-b3ed-cf7f45bae47d\" class=\"colab-df-container\">\n",
              "    <div>\n",
              "<style scoped>\n",
              "    .dataframe tbody tr th:only-of-type {\n",
              "        vertical-align: middle;\n",
              "    }\n",
              "\n",
              "    .dataframe tbody tr th {\n",
              "        vertical-align: top;\n",
              "    }\n",
              "\n",
              "    .dataframe thead th {\n",
              "        text-align: right;\n",
              "    }\n",
              "</style>\n",
              "<table border=\"1\" class=\"dataframe\">\n",
              "  <thead>\n",
              "    <tr style=\"text-align: right;\">\n",
              "      <th></th>\n",
              "      <th>DEALER ID</th>\n",
              "      <th>HDB BRANCH STATE</th>\n",
              "      <th>mobile</th>\n",
              "      <th>AADHAR VERIFIED</th>\n",
              "      <th>Cibil Score</th>\n",
              "      <th>MOBILE VERIFICATION</th>\n",
              "      <th>DEALER NAME</th>\n",
              "      <th>TOTAL ASSET COST</th>\n",
              "      <th>ASSET CTG</th>\n",
              "      <th>ASSET MODEL NO</th>\n",
              "      <th>...</th>\n",
              "      <th>Phone Social Premium.whatsapp</th>\n",
              "      <th>Phone Social Premium.yatra</th>\n",
              "      <th>Phone Social Premium.zoho</th>\n",
              "      <th>phone_digitalage</th>\n",
              "      <th>phone_nameMatchScore</th>\n",
              "      <th>phone_phoneFootprintStrengthOverall</th>\n",
              "      <th>Application Status</th>\n",
              "      <th>year</th>\n",
              "      <th>month</th>\n",
              "      <th>day</th>\n",
              "    </tr>\n",
              "  </thead>\n",
              "  <tbody>\n",
              "    <tr>\n",
              "      <th>2425</th>\n",
              "      <td>72223</td>\n",
              "      <td>HARYANA</td>\n",
              "      <td>9813642304</td>\n",
              "      <td>NO</td>\n",
              "      <td>NaN</td>\n",
              "      <td>True</td>\n",
              "      <td>MRM AUTOS PVT LTD VIDYA NAGAR</td>\n",
              "      <td>NaN</td>\n",
              "      <td>NaN</td>\n",
              "      <td>145941</td>\n",
              "      <td>...</td>\n",
              "      <td>1.0</td>\n",
              "      <td>NaN</td>\n",
              "      <td>0.0</td>\n",
              "      <td>-1.0</td>\n",
              "      <td>76.818182</td>\n",
              "      <td>Medium</td>\n",
              "      <td>DECLINED</td>\n",
              "      <td>2022</td>\n",
              "      <td>7</td>\n",
              "      <td>12</td>\n",
              "    </tr>\n",
              "    <tr>\n",
              "      <th>3773</th>\n",
              "      <td>72223</td>\n",
              "      <td>HARYANA</td>\n",
              "      <td>9813642304</td>\n",
              "      <td>NO</td>\n",
              "      <td>NaN</td>\n",
              "      <td>True</td>\n",
              "      <td>MRM AUTOS PVT LTD VIDYA NAGAR</td>\n",
              "      <td>NaN</td>\n",
              "      <td>NaN</td>\n",
              "      <td>145941</td>\n",
              "      <td>...</td>\n",
              "      <td>1.0</td>\n",
              "      <td>NaN</td>\n",
              "      <td>0.0</td>\n",
              "      <td>-1.0</td>\n",
              "      <td>85.000000</td>\n",
              "      <td>Medium</td>\n",
              "      <td>DECLINED</td>\n",
              "      <td>2022</td>\n",
              "      <td>7</td>\n",
              "      <td>12</td>\n",
              "    </tr>\n",
              "    <tr>\n",
              "      <th>8014</th>\n",
              "      <td>72223</td>\n",
              "      <td>HARYANA</td>\n",
              "      <td>9813642304</td>\n",
              "      <td>NO</td>\n",
              "      <td>NaN</td>\n",
              "      <td>True</td>\n",
              "      <td>MRM AUTOS PVT LTD VIDYA NAGAR</td>\n",
              "      <td>NaN</td>\n",
              "      <td>NaN</td>\n",
              "      <td>145942</td>\n",
              "      <td>...</td>\n",
              "      <td>1.0</td>\n",
              "      <td>NaN</td>\n",
              "      <td>0.0</td>\n",
              "      <td>-1.0</td>\n",
              "      <td>76.818182</td>\n",
              "      <td>Medium</td>\n",
              "      <td>DECLINED</td>\n",
              "      <td>2022</td>\n",
              "      <td>7</td>\n",
              "      <td>12</td>\n",
              "    </tr>\n",
              "    <tr>\n",
              "      <th>9885</th>\n",
              "      <td>72223</td>\n",
              "      <td>HARYANA</td>\n",
              "      <td>9813642304</td>\n",
              "      <td>NO</td>\n",
              "      <td>NaN</td>\n",
              "      <td>True</td>\n",
              "      <td>MRM AUTOS PVT LTD VIDYA NAGAR</td>\n",
              "      <td>NaN</td>\n",
              "      <td>NaN</td>\n",
              "      <td>145942</td>\n",
              "      <td>...</td>\n",
              "      <td>1.0</td>\n",
              "      <td>NaN</td>\n",
              "      <td>0.0</td>\n",
              "      <td>-1.0</td>\n",
              "      <td>76.818182</td>\n",
              "      <td>Medium</td>\n",
              "      <td>DECLINED</td>\n",
              "      <td>2022</td>\n",
              "      <td>7</td>\n",
              "      <td>12</td>\n",
              "    </tr>\n",
              "  </tbody>\n",
              "</table>\n",
              "<p>4 rows × 53 columns</p>\n",
              "</div>\n",
              "    <div class=\"colab-df-buttons\">\n",
              "\n",
              "  <div class=\"colab-df-container\">\n",
              "    <button class=\"colab-df-convert\" onclick=\"convertToInteractive('df-2e4ba0f8-18d6-4c43-b3ed-cf7f45bae47d')\"\n",
              "            title=\"Convert this dataframe to an interactive table.\"\n",
              "            style=\"display:none;\">\n",
              "\n",
              "  <svg xmlns=\"http://www.w3.org/2000/svg\" height=\"24px\" viewBox=\"0 -960 960 960\">\n",
              "    <path d=\"M120-120v-720h720v720H120Zm60-500h600v-160H180v160Zm220 220h160v-160H400v160Zm0 220h160v-160H400v160ZM180-400h160v-160H180v160Zm440 0h160v-160H620v160ZM180-180h160v-160H180v160Zm440 0h160v-160H620v160Z\"/>\n",
              "  </svg>\n",
              "    </button>\n",
              "\n",
              "  <style>\n",
              "    .colab-df-container {\n",
              "      display:flex;\n",
              "      gap: 12px;\n",
              "    }\n",
              "\n",
              "    .colab-df-convert {\n",
              "      background-color: #E8F0FE;\n",
              "      border: none;\n",
              "      border-radius: 50%;\n",
              "      cursor: pointer;\n",
              "      display: none;\n",
              "      fill: #1967D2;\n",
              "      height: 32px;\n",
              "      padding: 0 0 0 0;\n",
              "      width: 32px;\n",
              "    }\n",
              "\n",
              "    .colab-df-convert:hover {\n",
              "      background-color: #E2EBFA;\n",
              "      box-shadow: 0px 1px 2px rgba(60, 64, 67, 0.3), 0px 1px 3px 1px rgba(60, 64, 67, 0.15);\n",
              "      fill: #174EA6;\n",
              "    }\n",
              "\n",
              "    .colab-df-buttons div {\n",
              "      margin-bottom: 4px;\n",
              "    }\n",
              "\n",
              "    [theme=dark] .colab-df-convert {\n",
              "      background-color: #3B4455;\n",
              "      fill: #D2E3FC;\n",
              "    }\n",
              "\n",
              "    [theme=dark] .colab-df-convert:hover {\n",
              "      background-color: #434B5C;\n",
              "      box-shadow: 0px 1px 3px 1px rgba(0, 0, 0, 0.15);\n",
              "      filter: drop-shadow(0px 1px 2px rgba(0, 0, 0, 0.3));\n",
              "      fill: #FFFFFF;\n",
              "    }\n",
              "  </style>\n",
              "\n",
              "    <script>\n",
              "      const buttonEl =\n",
              "        document.querySelector('#df-2e4ba0f8-18d6-4c43-b3ed-cf7f45bae47d button.colab-df-convert');\n",
              "      buttonEl.style.display =\n",
              "        google.colab.kernel.accessAllowed ? 'block' : 'none';\n",
              "\n",
              "      async function convertToInteractive(key) {\n",
              "        const element = document.querySelector('#df-2e4ba0f8-18d6-4c43-b3ed-cf7f45bae47d');\n",
              "        const dataTable =\n",
              "          await google.colab.kernel.invokeFunction('convertToInteractive',\n",
              "                                                    [key], {});\n",
              "        if (!dataTable) return;\n",
              "\n",
              "        const docLinkHtml = 'Like what you see? Visit the ' +\n",
              "          '<a target=\"_blank\" href=https://colab.research.google.com/notebooks/data_table.ipynb>data table notebook</a>'\n",
              "          + ' to learn more about interactive tables.';\n",
              "        element.innerHTML = '';\n",
              "        dataTable['output_type'] = 'display_data';\n",
              "        await google.colab.output.renderOutput(dataTable, element);\n",
              "        const docLink = document.createElement('div');\n",
              "        docLink.innerHTML = docLinkHtml;\n",
              "        element.appendChild(docLink);\n",
              "      }\n",
              "    </script>\n",
              "  </div>\n",
              "\n",
              "\n",
              "<div id=\"df-47a25e27-4567-4202-8dc7-f5a651f9f10e\">\n",
              "  <button class=\"colab-df-quickchart\" onclick=\"quickchart('df-47a25e27-4567-4202-8dc7-f5a651f9f10e')\"\n",
              "            title=\"Suggest charts\"\n",
              "            style=\"display:none;\">\n",
              "\n",
              "<svg xmlns=\"http://www.w3.org/2000/svg\" height=\"24px\"viewBox=\"0 0 24 24\"\n",
              "     width=\"24px\">\n",
              "    <g>\n",
              "        <path d=\"M19 3H5c-1.1 0-2 .9-2 2v14c0 1.1.9 2 2 2h14c1.1 0 2-.9 2-2V5c0-1.1-.9-2-2-2zM9 17H7v-7h2v7zm4 0h-2V7h2v10zm4 0h-2v-4h2v4z\"/>\n",
              "    </g>\n",
              "</svg>\n",
              "  </button>\n",
              "\n",
              "<style>\n",
              "  .colab-df-quickchart {\n",
              "      --bg-color: #E8F0FE;\n",
              "      --fill-color: #1967D2;\n",
              "      --hover-bg-color: #E2EBFA;\n",
              "      --hover-fill-color: #174EA6;\n",
              "      --disabled-fill-color: #AAA;\n",
              "      --disabled-bg-color: #DDD;\n",
              "  }\n",
              "\n",
              "  [theme=dark] .colab-df-quickchart {\n",
              "      --bg-color: #3B4455;\n",
              "      --fill-color: #D2E3FC;\n",
              "      --hover-bg-color: #434B5C;\n",
              "      --hover-fill-color: #FFFFFF;\n",
              "      --disabled-bg-color: #3B4455;\n",
              "      --disabled-fill-color: #666;\n",
              "  }\n",
              "\n",
              "  .colab-df-quickchart {\n",
              "    background-color: var(--bg-color);\n",
              "    border: none;\n",
              "    border-radius: 50%;\n",
              "    cursor: pointer;\n",
              "    display: none;\n",
              "    fill: var(--fill-color);\n",
              "    height: 32px;\n",
              "    padding: 0;\n",
              "    width: 32px;\n",
              "  }\n",
              "\n",
              "  .colab-df-quickchart:hover {\n",
              "    background-color: var(--hover-bg-color);\n",
              "    box-shadow: 0 1px 2px rgba(60, 64, 67, 0.3), 0 1px 3px 1px rgba(60, 64, 67, 0.15);\n",
              "    fill: var(--button-hover-fill-color);\n",
              "  }\n",
              "\n",
              "  .colab-df-quickchart-complete:disabled,\n",
              "  .colab-df-quickchart-complete:disabled:hover {\n",
              "    background-color: var(--disabled-bg-color);\n",
              "    fill: var(--disabled-fill-color);\n",
              "    box-shadow: none;\n",
              "  }\n",
              "\n",
              "  .colab-df-spinner {\n",
              "    border: 2px solid var(--fill-color);\n",
              "    border-color: transparent;\n",
              "    border-bottom-color: var(--fill-color);\n",
              "    animation:\n",
              "      spin 1s steps(1) infinite;\n",
              "  }\n",
              "\n",
              "  @keyframes spin {\n",
              "    0% {\n",
              "      border-color: transparent;\n",
              "      border-bottom-color: var(--fill-color);\n",
              "      border-left-color: var(--fill-color);\n",
              "    }\n",
              "    20% {\n",
              "      border-color: transparent;\n",
              "      border-left-color: var(--fill-color);\n",
              "      border-top-color: var(--fill-color);\n",
              "    }\n",
              "    30% {\n",
              "      border-color: transparent;\n",
              "      border-left-color: var(--fill-color);\n",
              "      border-top-color: var(--fill-color);\n",
              "      border-right-color: var(--fill-color);\n",
              "    }\n",
              "    40% {\n",
              "      border-color: transparent;\n",
              "      border-right-color: var(--fill-color);\n",
              "      border-top-color: var(--fill-color);\n",
              "    }\n",
              "    60% {\n",
              "      border-color: transparent;\n",
              "      border-right-color: var(--fill-color);\n",
              "    }\n",
              "    80% {\n",
              "      border-color: transparent;\n",
              "      border-right-color: var(--fill-color);\n",
              "      border-bottom-color: var(--fill-color);\n",
              "    }\n",
              "    90% {\n",
              "      border-color: transparent;\n",
              "      border-bottom-color: var(--fill-color);\n",
              "    }\n",
              "  }\n",
              "</style>\n",
              "\n",
              "  <script>\n",
              "    async function quickchart(key) {\n",
              "      const quickchartButtonEl =\n",
              "        document.querySelector('#' + key + ' button');\n",
              "      quickchartButtonEl.disabled = true;  // To prevent multiple clicks.\n",
              "      quickchartButtonEl.classList.add('colab-df-spinner');\n",
              "      try {\n",
              "        const charts = await google.colab.kernel.invokeFunction(\n",
              "            'suggestCharts', [key], {});\n",
              "      } catch (error) {\n",
              "        console.error('Error during call to suggestCharts:', error);\n",
              "      }\n",
              "      quickchartButtonEl.classList.remove('colab-df-spinner');\n",
              "      quickchartButtonEl.classList.add('colab-df-quickchart-complete');\n",
              "    }\n",
              "    (() => {\n",
              "      let quickchartButtonEl =\n",
              "        document.querySelector('#df-47a25e27-4567-4202-8dc7-f5a651f9f10e button');\n",
              "      quickchartButtonEl.style.display =\n",
              "        google.colab.kernel.accessAllowed ? 'block' : 'none';\n",
              "    })();\n",
              "  </script>\n",
              "</div>\n",
              "\n",
              "    </div>\n",
              "  </div>\n"
            ],
            "application/vnd.google.colaboratory.intrinsic+json": {
              "type": "dataframe"
            }
          },
          "metadata": {},
          "execution_count": 1066
        }
      ],
      "source": [
        "train[train['mobile']==9813642304]"
      ]
    },
    {
      "cell_type": "code",
      "execution_count": 1067,
      "metadata": {
        "id": "NVyq81kHGn6b"
      },
      "outputs": [],
      "source": [
        "train=train.drop_duplicates()\n"
      ]
    },
    {
      "cell_type": "code",
      "execution_count": 1068,
      "metadata": {
        "id": "NjsbVVqGGn6c"
      },
      "outputs": [],
      "source": [
        "# We will drop Mobile Number Column as it is Almost unique for each person and doesnt add that much value\n",
        "train.drop('mobile',axis=1,inplace=True)"
      ]
    },
    {
      "cell_type": "markdown",
      "metadata": {
        "id": "4QBOE_3aGn6c"
      },
      "source": [
        "# AADHAR VERIFIED"
      ]
    },
    {
      "cell_type": "code",
      "execution_count": 1069,
      "metadata": {
        "colab": {
          "base_uri": "https://localhost:8080/",
          "height": 146
        },
        "id": "f_CZoJUpGn6c",
        "outputId": "3a5ed39b-48e4-4889-9c54-b5492c427cce"
      },
      "outputs": [
        {
          "output_type": "execute_result",
          "data": {
            "text/plain": [
              "AADHAR VERIFIED\n",
              "NO    9990\n",
              "Name: count, dtype: int64"
            ],
            "text/html": [
              "<div>\n",
              "<style scoped>\n",
              "    .dataframe tbody tr th:only-of-type {\n",
              "        vertical-align: middle;\n",
              "    }\n",
              "\n",
              "    .dataframe tbody tr th {\n",
              "        vertical-align: top;\n",
              "    }\n",
              "\n",
              "    .dataframe thead th {\n",
              "        text-align: right;\n",
              "    }\n",
              "</style>\n",
              "<table border=\"1\" class=\"dataframe\">\n",
              "  <thead>\n",
              "    <tr style=\"text-align: right;\">\n",
              "      <th></th>\n",
              "      <th>count</th>\n",
              "    </tr>\n",
              "    <tr>\n",
              "      <th>AADHAR VERIFIED</th>\n",
              "      <th></th>\n",
              "    </tr>\n",
              "  </thead>\n",
              "  <tbody>\n",
              "    <tr>\n",
              "      <th>NO</th>\n",
              "      <td>9990</td>\n",
              "    </tr>\n",
              "  </tbody>\n",
              "</table>\n",
              "</div><br><label><b>dtype:</b> int64</label>"
            ]
          },
          "metadata": {},
          "execution_count": 1069
        }
      ],
      "source": [
        "train['AADHAR VERIFIED'].value_counts()"
      ]
    },
    {
      "cell_type": "code",
      "execution_count": 1070,
      "metadata": {
        "id": "fwlLPs0BGn6d"
      },
      "outputs": [],
      "source": [
        "# We will drop AADHAR VERIFIED column it contains only one values and it doesnt add any value to prediction\n",
        "train.drop('AADHAR VERIFIED',axis=1,inplace=True)"
      ]
    },
    {
      "cell_type": "code",
      "execution_count": 1070,
      "metadata": {
        "id": "7zW_esO_Gn6d"
      },
      "outputs": [],
      "source": []
    },
    {
      "cell_type": "markdown",
      "metadata": {
        "id": "YZoGQoEDGn6e"
      },
      "source": [
        "# Cibil Score"
      ]
    },
    {
      "cell_type": "code",
      "execution_count": 1071,
      "metadata": {
        "colab": {
          "base_uri": "https://localhost:8080/"
        },
        "id": "ZY7lWS2XGn6e",
        "outputId": "2cc7fc4b-f66a-4e10-988c-4c537def2975"
      },
      "outputs": [
        {
          "output_type": "execute_result",
          "data": {
            "text/plain": [
              "0.42952952952952955"
            ]
          },
          "metadata": {},
          "execution_count": 1071
        }
      ],
      "source": [
        "# Percentage of Missing values\n",
        "train['Cibil Score'].isnull().sum()/len(train)"
      ]
    },
    {
      "cell_type": "code",
      "execution_count": 1072,
      "metadata": {
        "id": "nVdswtDhGn6e"
      },
      "outputs": [],
      "source": [
        "def Cibil_Score(row):\n",
        "    if (row =='NO RESPONSE') or (row == \"-\"):\n",
        "        return 0\n",
        "    else:\n",
        "        return float(row)\n",
        "\n",
        "train['Cibil Score']=train['Cibil Score'].apply(Cibil_Score)"
      ]
    },
    {
      "cell_type": "code",
      "execution_count": 1073,
      "metadata": {
        "id": "aOQCaky4Gn6f"
      },
      "outputs": [],
      "source": [
        "train['Cibil Score'].fillna(0, inplace=True)"
      ]
    },
    {
      "cell_type": "code",
      "execution_count": 1074,
      "metadata": {
        "colab": {
          "base_uri": "https://localhost:8080/",
          "height": 133
        },
        "id": "j-G5sO00Gn6g",
        "outputId": "9783642d-dd42-477f-8347-97d27525973a"
      },
      "outputs": [
        {
          "output_type": "execute_result",
          "data": {
            "text/plain": [
              "Empty DataFrame\n",
              "Columns: [DEALER ID, HDB BRANCH STATE, Cibil Score, MOBILE VERIFICATION, DEALER NAME, TOTAL ASSET COST, ASSET CTG, ASSET MODEL NO, APPLIED AMOUNT, PRIMARY ASSET MAKE, Primary Asset Model No, Personal Email Address, MARITAL STATUS, GENDER, DOB, AGE, ADDRESS TYPE, EMPLOY CONSTITUTION, EMPLOYER NAME, EMPLOYER TYPE, Pan Name, name, vpa, upi_name, Phone Social Premium.a23games, Phone Social Premium.amazon, Phone Social Premium.byjus, Phone Social Premium.flipkart, Phone Social Premium.housing, Phone Social Premium.indiamart, Phone Social Premium.instagram, Phone Social Premium.isWABusiness, Phone Social Premium.jeevansaathi, Phone Social Premium.jiomart, Phone Social Premium.microsoft, Phone Social Premium.my11, Phone Social Premium.paytm, Phone Social Premium.rummycircle, Phone Social Premium.shaadi, Phone Social Premium.skype, Phone Social Premium.toi, Phone Social Premium.whatsapp, Phone Social Premium.yatra, Phone Social Premium.zoho, phone_digitalage, phone_nameMatchScore, phone_phoneFootprintStrengthOverall, Application Status, year, month, day]\n",
              "Index: []\n",
              "\n",
              "[0 rows x 51 columns]"
            ],
            "text/html": [
              "\n",
              "  <div id=\"df-e80751c7-086e-4251-a3d1-51cf997dc34d\" class=\"colab-df-container\">\n",
              "    <div>\n",
              "<style scoped>\n",
              "    .dataframe tbody tr th:only-of-type {\n",
              "        vertical-align: middle;\n",
              "    }\n",
              "\n",
              "    .dataframe tbody tr th {\n",
              "        vertical-align: top;\n",
              "    }\n",
              "\n",
              "    .dataframe thead th {\n",
              "        text-align: right;\n",
              "    }\n",
              "</style>\n",
              "<table border=\"1\" class=\"dataframe\">\n",
              "  <thead>\n",
              "    <tr style=\"text-align: right;\">\n",
              "      <th></th>\n",
              "      <th>DEALER ID</th>\n",
              "      <th>HDB BRANCH STATE</th>\n",
              "      <th>Cibil Score</th>\n",
              "      <th>MOBILE VERIFICATION</th>\n",
              "      <th>DEALER NAME</th>\n",
              "      <th>TOTAL ASSET COST</th>\n",
              "      <th>ASSET CTG</th>\n",
              "      <th>ASSET MODEL NO</th>\n",
              "      <th>APPLIED AMOUNT</th>\n",
              "      <th>PRIMARY ASSET MAKE</th>\n",
              "      <th>...</th>\n",
              "      <th>Phone Social Premium.whatsapp</th>\n",
              "      <th>Phone Social Premium.yatra</th>\n",
              "      <th>Phone Social Premium.zoho</th>\n",
              "      <th>phone_digitalage</th>\n",
              "      <th>phone_nameMatchScore</th>\n",
              "      <th>phone_phoneFootprintStrengthOverall</th>\n",
              "      <th>Application Status</th>\n",
              "      <th>year</th>\n",
              "      <th>month</th>\n",
              "      <th>day</th>\n",
              "    </tr>\n",
              "  </thead>\n",
              "  <tbody>\n",
              "  </tbody>\n",
              "</table>\n",
              "<p>0 rows × 51 columns</p>\n",
              "</div>\n",
              "    <div class=\"colab-df-buttons\">\n",
              "\n",
              "  <div class=\"colab-df-container\">\n",
              "    <button class=\"colab-df-convert\" onclick=\"convertToInteractive('df-e80751c7-086e-4251-a3d1-51cf997dc34d')\"\n",
              "            title=\"Convert this dataframe to an interactive table.\"\n",
              "            style=\"display:none;\">\n",
              "\n",
              "  <svg xmlns=\"http://www.w3.org/2000/svg\" height=\"24px\" viewBox=\"0 -960 960 960\">\n",
              "    <path d=\"M120-120v-720h720v720H120Zm60-500h600v-160H180v160Zm220 220h160v-160H400v160Zm0 220h160v-160H400v160ZM180-400h160v-160H180v160Zm440 0h160v-160H620v160ZM180-180h160v-160H180v160Zm440 0h160v-160H620v160Z\"/>\n",
              "  </svg>\n",
              "    </button>\n",
              "\n",
              "  <style>\n",
              "    .colab-df-container {\n",
              "      display:flex;\n",
              "      gap: 12px;\n",
              "    }\n",
              "\n",
              "    .colab-df-convert {\n",
              "      background-color: #E8F0FE;\n",
              "      border: none;\n",
              "      border-radius: 50%;\n",
              "      cursor: pointer;\n",
              "      display: none;\n",
              "      fill: #1967D2;\n",
              "      height: 32px;\n",
              "      padding: 0 0 0 0;\n",
              "      width: 32px;\n",
              "    }\n",
              "\n",
              "    .colab-df-convert:hover {\n",
              "      background-color: #E2EBFA;\n",
              "      box-shadow: 0px 1px 2px rgba(60, 64, 67, 0.3), 0px 1px 3px 1px rgba(60, 64, 67, 0.15);\n",
              "      fill: #174EA6;\n",
              "    }\n",
              "\n",
              "    .colab-df-buttons div {\n",
              "      margin-bottom: 4px;\n",
              "    }\n",
              "\n",
              "    [theme=dark] .colab-df-convert {\n",
              "      background-color: #3B4455;\n",
              "      fill: #D2E3FC;\n",
              "    }\n",
              "\n",
              "    [theme=dark] .colab-df-convert:hover {\n",
              "      background-color: #434B5C;\n",
              "      box-shadow: 0px 1px 3px 1px rgba(0, 0, 0, 0.15);\n",
              "      filter: drop-shadow(0px 1px 2px rgba(0, 0, 0, 0.3));\n",
              "      fill: #FFFFFF;\n",
              "    }\n",
              "  </style>\n",
              "\n",
              "    <script>\n",
              "      const buttonEl =\n",
              "        document.querySelector('#df-e80751c7-086e-4251-a3d1-51cf997dc34d button.colab-df-convert');\n",
              "      buttonEl.style.display =\n",
              "        google.colab.kernel.accessAllowed ? 'block' : 'none';\n",
              "\n",
              "      async function convertToInteractive(key) {\n",
              "        const element = document.querySelector('#df-e80751c7-086e-4251-a3d1-51cf997dc34d');\n",
              "        const dataTable =\n",
              "          await google.colab.kernel.invokeFunction('convertToInteractive',\n",
              "                                                    [key], {});\n",
              "        if (!dataTable) return;\n",
              "\n",
              "        const docLinkHtml = 'Like what you see? Visit the ' +\n",
              "          '<a target=\"_blank\" href=https://colab.research.google.com/notebooks/data_table.ipynb>data table notebook</a>'\n",
              "          + ' to learn more about interactive tables.';\n",
              "        element.innerHTML = '';\n",
              "        dataTable['output_type'] = 'display_data';\n",
              "        await google.colab.output.renderOutput(dataTable, element);\n",
              "        const docLink = document.createElement('div');\n",
              "        docLink.innerHTML = docLinkHtml;\n",
              "        element.appendChild(docLink);\n",
              "      }\n",
              "    </script>\n",
              "  </div>\n",
              "\n",
              "\n",
              "    </div>\n",
              "  </div>\n"
            ],
            "application/vnd.google.colaboratory.intrinsic+json": {
              "type": "dataframe"
            }
          },
          "metadata": {},
          "execution_count": 1074
        }
      ],
      "source": [
        "train[train['Cibil Score'].isnull()]"
      ]
    },
    {
      "cell_type": "markdown",
      "metadata": {
        "id": "YGMsppMpGn6g"
      },
      "source": [
        "# MOBILE VERIFICATION"
      ]
    },
    {
      "cell_type": "code",
      "execution_count": 1075,
      "metadata": {
        "colab": {
          "base_uri": "https://localhost:8080/",
          "height": 146
        },
        "id": "MzbualmnGn6g",
        "outputId": "c9708fc4-eec3-482a-c1ea-ac957cb209a0"
      },
      "outputs": [
        {
          "output_type": "execute_result",
          "data": {
            "text/plain": [
              "MOBILE VERIFICATION\n",
              "True    1.0\n",
              "Name: count, dtype: float64"
            ],
            "text/html": [
              "<div>\n",
              "<style scoped>\n",
              "    .dataframe tbody tr th:only-of-type {\n",
              "        vertical-align: middle;\n",
              "    }\n",
              "\n",
              "    .dataframe tbody tr th {\n",
              "        vertical-align: top;\n",
              "    }\n",
              "\n",
              "    .dataframe thead th {\n",
              "        text-align: right;\n",
              "    }\n",
              "</style>\n",
              "<table border=\"1\" class=\"dataframe\">\n",
              "  <thead>\n",
              "    <tr style=\"text-align: right;\">\n",
              "      <th></th>\n",
              "      <th>count</th>\n",
              "    </tr>\n",
              "    <tr>\n",
              "      <th>MOBILE VERIFICATION</th>\n",
              "      <th></th>\n",
              "    </tr>\n",
              "  </thead>\n",
              "  <tbody>\n",
              "    <tr>\n",
              "      <th>True</th>\n",
              "      <td>1.0</td>\n",
              "    </tr>\n",
              "  </tbody>\n",
              "</table>\n",
              "</div><br><label><b>dtype:</b> float64</label>"
            ]
          },
          "metadata": {},
          "execution_count": 1075
        }
      ],
      "source": [
        "# percentage of values of people did mobile verification\n",
        "train['MOBILE VERIFICATION'].value_counts()/len(train)\n"
      ]
    },
    {
      "cell_type": "code",
      "execution_count": 1076,
      "metadata": {
        "id": "QGk1-E91Gn6h"
      },
      "outputs": [],
      "source": [
        "# We will drop this column as it contains the Single value\n",
        "train.drop('MOBILE VERIFICATION',axis=1,inplace=True)"
      ]
    },
    {
      "cell_type": "code",
      "execution_count": 1076,
      "metadata": {
        "id": "3dffpjL8Gn6h"
      },
      "outputs": [],
      "source": []
    },
    {
      "cell_type": "markdown",
      "metadata": {
        "id": "ZnJY1_XYGn6h"
      },
      "source": [
        "# DEALER NAME"
      ]
    },
    {
      "cell_type": "code",
      "execution_count": 1077,
      "metadata": {
        "colab": {
          "base_uri": "https://localhost:8080/",
          "height": 458
        },
        "id": "jTz23JtwGn6h",
        "outputId": "9a8fb682-bf5a-4024-9a3d-8168a53423cd"
      },
      "outputs": [
        {
          "output_type": "execute_result",
          "data": {
            "text/plain": [
              "0                  V D AUTO WHEELS CHHOTIAL\n",
              "1         CHANDAN AUTOMOBILES 259 KGS TOWER\n",
              "2                KN VISION 53HILL CART ROAD\n",
              "3              MAHADEV AUTOMOBILES MANGLAUR\n",
              "4               DWARKESH AUTO SHAMLAJI ROAD\n",
              "                       ...                 \n",
              "9995             GUPTA AUTO DEALERS BARHPUR\n",
              "9996    RAMESHWARAM ENTERPRISES DR R P ROAD\n",
              "9997        SHREE DADU AUTOS P L GANDHI NGR\n",
              "9998    SHREE SHIV SHAKTI AUTOMOTIVE RORKRD\n",
              "9999     MASCOT AUTOMOTIVE INDIA P L INDUST\n",
              "Name: DEALER NAME, Length: 9990, dtype: object"
            ],
            "text/html": [
              "<div>\n",
              "<style scoped>\n",
              "    .dataframe tbody tr th:only-of-type {\n",
              "        vertical-align: middle;\n",
              "    }\n",
              "\n",
              "    .dataframe tbody tr th {\n",
              "        vertical-align: top;\n",
              "    }\n",
              "\n",
              "    .dataframe thead th {\n",
              "        text-align: right;\n",
              "    }\n",
              "</style>\n",
              "<table border=\"1\" class=\"dataframe\">\n",
              "  <thead>\n",
              "    <tr style=\"text-align: right;\">\n",
              "      <th></th>\n",
              "      <th>DEALER NAME</th>\n",
              "    </tr>\n",
              "  </thead>\n",
              "  <tbody>\n",
              "    <tr>\n",
              "      <th>0</th>\n",
              "      <td>V D AUTO WHEELS CHHOTIAL</td>\n",
              "    </tr>\n",
              "    <tr>\n",
              "      <th>1</th>\n",
              "      <td>CHANDAN AUTOMOBILES 259 KGS TOWER</td>\n",
              "    </tr>\n",
              "    <tr>\n",
              "      <th>2</th>\n",
              "      <td>KN VISION 53HILL CART ROAD</td>\n",
              "    </tr>\n",
              "    <tr>\n",
              "      <th>3</th>\n",
              "      <td>MAHADEV AUTOMOBILES MANGLAUR</td>\n",
              "    </tr>\n",
              "    <tr>\n",
              "      <th>4</th>\n",
              "      <td>DWARKESH AUTO SHAMLAJI ROAD</td>\n",
              "    </tr>\n",
              "    <tr>\n",
              "      <th>...</th>\n",
              "      <td>...</td>\n",
              "    </tr>\n",
              "    <tr>\n",
              "      <th>9995</th>\n",
              "      <td>GUPTA AUTO DEALERS BARHPUR</td>\n",
              "    </tr>\n",
              "    <tr>\n",
              "      <th>9996</th>\n",
              "      <td>RAMESHWARAM ENTERPRISES DR R P ROAD</td>\n",
              "    </tr>\n",
              "    <tr>\n",
              "      <th>9997</th>\n",
              "      <td>SHREE DADU AUTOS P L GANDHI NGR</td>\n",
              "    </tr>\n",
              "    <tr>\n",
              "      <th>9998</th>\n",
              "      <td>SHREE SHIV SHAKTI AUTOMOTIVE RORKRD</td>\n",
              "    </tr>\n",
              "    <tr>\n",
              "      <th>9999</th>\n",
              "      <td>MASCOT AUTOMOTIVE INDIA P L INDUST</td>\n",
              "    </tr>\n",
              "  </tbody>\n",
              "</table>\n",
              "<p>9990 rows × 1 columns</p>\n",
              "</div><br><label><b>dtype:</b> object</label>"
            ]
          },
          "metadata": {},
          "execution_count": 1077
        }
      ],
      "source": [
        "train['DEALER NAME']"
      ]
    },
    {
      "cell_type": "code",
      "execution_count": 1078,
      "metadata": {
        "colab": {
          "base_uri": "https://localhost:8080/",
          "height": 415
        },
        "id": "th-je_mtGn6i",
        "outputId": "774f6a52-f1cb-4f3e-b254-9faf7b45d11e"
      },
      "outputs": [
        {
          "output_type": "execute_result",
          "data": {
            "text/plain": [
              "      DEALER ID HDB BRANCH STATE  Cibil Score DEALER NAME  TOTAL ASSET COST  \\\n",
              "108      201737        NOT-KNOWN          0.0         NaN               NaN   \n",
              "1443     201871        NOT-KNOWN          0.0         NaN               NaN   \n",
              "3395     201747        NOT-KNOWN          0.0         NaN               NaN   \n",
              "5989     201839        NOT-KNOWN          0.0         NaN               NaN   \n",
              "\n",
              "     ASSET CTG  ASSET MODEL NO  APPLIED AMOUNT PRIMARY ASSET MAKE  \\\n",
              "108        NaN          183085          113602       TVS MOTOR CO   \n",
              "1443       NaN          198311           85000       AMO ELECTRIC   \n",
              "3395       NaN          155304           99000        HERO MOTORS   \n",
              "5989       NaN          139542           65981       HONDA MOTORS   \n",
              "\n",
              "                   Primary Asset Model No  ... Phone Social Premium.whatsapp  \\\n",
              "108                  RAIDER 125 DISC BSVI  ...                           NaN   \n",
              "1443                            FIESTY EV  ...                           0.0   \n",
              "3395  MAESTRO EDGE 110 ALOY WHEEL FI BSVI  ...                           NaN   \n",
              "5989                      SHINE DRUM BSVI  ...                           0.0   \n",
              "\n",
              "     Phone Social Premium.yatra Phone Social Premium.zoho  phone_digitalage  \\\n",
              "108                         NaN                       0.0            1998.0   \n",
              "1443                        NaN                       0.0             912.0   \n",
              "3395                        NaN                       0.0             458.0   \n",
              "5989                        NaN                       0.0            2524.0   \n",
              "\n",
              "      phone_nameMatchScore phone_phoneFootprintStrengthOverall  \\\n",
              "108              72.222222                                High   \n",
              "1443             -1.000000                                 Low   \n",
              "3395             -1.000000                              Medium   \n",
              "5989             -1.000000                                High   \n",
              "\n",
              "     Application Status  year month day  \n",
              "108            APPROVED  2022     7  19  \n",
              "1443           DECLINED  2022     7  21  \n",
              "3395           DECLINED  2022     7  18  \n",
              "5989           DECLINED  2022     7  16  \n",
              "\n",
              "[4 rows x 50 columns]"
            ],
            "text/html": [
              "\n",
              "  <div id=\"df-0c3cbe93-ac5c-49f9-bbaf-647f2db1aa8a\" class=\"colab-df-container\">\n",
              "    <div>\n",
              "<style scoped>\n",
              "    .dataframe tbody tr th:only-of-type {\n",
              "        vertical-align: middle;\n",
              "    }\n",
              "\n",
              "    .dataframe tbody tr th {\n",
              "        vertical-align: top;\n",
              "    }\n",
              "\n",
              "    .dataframe thead th {\n",
              "        text-align: right;\n",
              "    }\n",
              "</style>\n",
              "<table border=\"1\" class=\"dataframe\">\n",
              "  <thead>\n",
              "    <tr style=\"text-align: right;\">\n",
              "      <th></th>\n",
              "      <th>DEALER ID</th>\n",
              "      <th>HDB BRANCH STATE</th>\n",
              "      <th>Cibil Score</th>\n",
              "      <th>DEALER NAME</th>\n",
              "      <th>TOTAL ASSET COST</th>\n",
              "      <th>ASSET CTG</th>\n",
              "      <th>ASSET MODEL NO</th>\n",
              "      <th>APPLIED AMOUNT</th>\n",
              "      <th>PRIMARY ASSET MAKE</th>\n",
              "      <th>Primary Asset Model No</th>\n",
              "      <th>...</th>\n",
              "      <th>Phone Social Premium.whatsapp</th>\n",
              "      <th>Phone Social Premium.yatra</th>\n",
              "      <th>Phone Social Premium.zoho</th>\n",
              "      <th>phone_digitalage</th>\n",
              "      <th>phone_nameMatchScore</th>\n",
              "      <th>phone_phoneFootprintStrengthOverall</th>\n",
              "      <th>Application Status</th>\n",
              "      <th>year</th>\n",
              "      <th>month</th>\n",
              "      <th>day</th>\n",
              "    </tr>\n",
              "  </thead>\n",
              "  <tbody>\n",
              "    <tr>\n",
              "      <th>108</th>\n",
              "      <td>201737</td>\n",
              "      <td>NOT-KNOWN</td>\n",
              "      <td>0.0</td>\n",
              "      <td>NaN</td>\n",
              "      <td>NaN</td>\n",
              "      <td>NaN</td>\n",
              "      <td>183085</td>\n",
              "      <td>113602</td>\n",
              "      <td>TVS MOTOR CO</td>\n",
              "      <td>RAIDER 125 DISC BSVI</td>\n",
              "      <td>...</td>\n",
              "      <td>NaN</td>\n",
              "      <td>NaN</td>\n",
              "      <td>0.0</td>\n",
              "      <td>1998.0</td>\n",
              "      <td>72.222222</td>\n",
              "      <td>High</td>\n",
              "      <td>APPROVED</td>\n",
              "      <td>2022</td>\n",
              "      <td>7</td>\n",
              "      <td>19</td>\n",
              "    </tr>\n",
              "    <tr>\n",
              "      <th>1443</th>\n",
              "      <td>201871</td>\n",
              "      <td>NOT-KNOWN</td>\n",
              "      <td>0.0</td>\n",
              "      <td>NaN</td>\n",
              "      <td>NaN</td>\n",
              "      <td>NaN</td>\n",
              "      <td>198311</td>\n",
              "      <td>85000</td>\n",
              "      <td>AMO ELECTRIC</td>\n",
              "      <td>FIESTY EV</td>\n",
              "      <td>...</td>\n",
              "      <td>0.0</td>\n",
              "      <td>NaN</td>\n",
              "      <td>0.0</td>\n",
              "      <td>912.0</td>\n",
              "      <td>-1.000000</td>\n",
              "      <td>Low</td>\n",
              "      <td>DECLINED</td>\n",
              "      <td>2022</td>\n",
              "      <td>7</td>\n",
              "      <td>21</td>\n",
              "    </tr>\n",
              "    <tr>\n",
              "      <th>3395</th>\n",
              "      <td>201747</td>\n",
              "      <td>NOT-KNOWN</td>\n",
              "      <td>0.0</td>\n",
              "      <td>NaN</td>\n",
              "      <td>NaN</td>\n",
              "      <td>NaN</td>\n",
              "      <td>155304</td>\n",
              "      <td>99000</td>\n",
              "      <td>HERO MOTORS</td>\n",
              "      <td>MAESTRO EDGE 110 ALOY WHEEL FI BSVI</td>\n",
              "      <td>...</td>\n",
              "      <td>NaN</td>\n",
              "      <td>NaN</td>\n",
              "      <td>0.0</td>\n",
              "      <td>458.0</td>\n",
              "      <td>-1.000000</td>\n",
              "      <td>Medium</td>\n",
              "      <td>DECLINED</td>\n",
              "      <td>2022</td>\n",
              "      <td>7</td>\n",
              "      <td>18</td>\n",
              "    </tr>\n",
              "    <tr>\n",
              "      <th>5989</th>\n",
              "      <td>201839</td>\n",
              "      <td>NOT-KNOWN</td>\n",
              "      <td>0.0</td>\n",
              "      <td>NaN</td>\n",
              "      <td>NaN</td>\n",
              "      <td>NaN</td>\n",
              "      <td>139542</td>\n",
              "      <td>65981</td>\n",
              "      <td>HONDA MOTORS</td>\n",
              "      <td>SHINE DRUM BSVI</td>\n",
              "      <td>...</td>\n",
              "      <td>0.0</td>\n",
              "      <td>NaN</td>\n",
              "      <td>0.0</td>\n",
              "      <td>2524.0</td>\n",
              "      <td>-1.000000</td>\n",
              "      <td>High</td>\n",
              "      <td>DECLINED</td>\n",
              "      <td>2022</td>\n",
              "      <td>7</td>\n",
              "      <td>16</td>\n",
              "    </tr>\n",
              "  </tbody>\n",
              "</table>\n",
              "<p>4 rows × 50 columns</p>\n",
              "</div>\n",
              "    <div class=\"colab-df-buttons\">\n",
              "\n",
              "  <div class=\"colab-df-container\">\n",
              "    <button class=\"colab-df-convert\" onclick=\"convertToInteractive('df-0c3cbe93-ac5c-49f9-bbaf-647f2db1aa8a')\"\n",
              "            title=\"Convert this dataframe to an interactive table.\"\n",
              "            style=\"display:none;\">\n",
              "\n",
              "  <svg xmlns=\"http://www.w3.org/2000/svg\" height=\"24px\" viewBox=\"0 -960 960 960\">\n",
              "    <path d=\"M120-120v-720h720v720H120Zm60-500h600v-160H180v160Zm220 220h160v-160H400v160Zm0 220h160v-160H400v160ZM180-400h160v-160H180v160Zm440 0h160v-160H620v160ZM180-180h160v-160H180v160Zm440 0h160v-160H620v160Z\"/>\n",
              "  </svg>\n",
              "    </button>\n",
              "\n",
              "  <style>\n",
              "    .colab-df-container {\n",
              "      display:flex;\n",
              "      gap: 12px;\n",
              "    }\n",
              "\n",
              "    .colab-df-convert {\n",
              "      background-color: #E8F0FE;\n",
              "      border: none;\n",
              "      border-radius: 50%;\n",
              "      cursor: pointer;\n",
              "      display: none;\n",
              "      fill: #1967D2;\n",
              "      height: 32px;\n",
              "      padding: 0 0 0 0;\n",
              "      width: 32px;\n",
              "    }\n",
              "\n",
              "    .colab-df-convert:hover {\n",
              "      background-color: #E2EBFA;\n",
              "      box-shadow: 0px 1px 2px rgba(60, 64, 67, 0.3), 0px 1px 3px 1px rgba(60, 64, 67, 0.15);\n",
              "      fill: #174EA6;\n",
              "    }\n",
              "\n",
              "    .colab-df-buttons div {\n",
              "      margin-bottom: 4px;\n",
              "    }\n",
              "\n",
              "    [theme=dark] .colab-df-convert {\n",
              "      background-color: #3B4455;\n",
              "      fill: #D2E3FC;\n",
              "    }\n",
              "\n",
              "    [theme=dark] .colab-df-convert:hover {\n",
              "      background-color: #434B5C;\n",
              "      box-shadow: 0px 1px 3px 1px rgba(0, 0, 0, 0.15);\n",
              "      filter: drop-shadow(0px 1px 2px rgba(0, 0, 0, 0.3));\n",
              "      fill: #FFFFFF;\n",
              "    }\n",
              "  </style>\n",
              "\n",
              "    <script>\n",
              "      const buttonEl =\n",
              "        document.querySelector('#df-0c3cbe93-ac5c-49f9-bbaf-647f2db1aa8a button.colab-df-convert');\n",
              "      buttonEl.style.display =\n",
              "        google.colab.kernel.accessAllowed ? 'block' : 'none';\n",
              "\n",
              "      async function convertToInteractive(key) {\n",
              "        const element = document.querySelector('#df-0c3cbe93-ac5c-49f9-bbaf-647f2db1aa8a');\n",
              "        const dataTable =\n",
              "          await google.colab.kernel.invokeFunction('convertToInteractive',\n",
              "                                                    [key], {});\n",
              "        if (!dataTable) return;\n",
              "\n",
              "        const docLinkHtml = 'Like what you see? Visit the ' +\n",
              "          '<a target=\"_blank\" href=https://colab.research.google.com/notebooks/data_table.ipynb>data table notebook</a>'\n",
              "          + ' to learn more about interactive tables.';\n",
              "        element.innerHTML = '';\n",
              "        dataTable['output_type'] = 'display_data';\n",
              "        await google.colab.output.renderOutput(dataTable, element);\n",
              "        const docLink = document.createElement('div');\n",
              "        docLink.innerHTML = docLinkHtml;\n",
              "        element.appendChild(docLink);\n",
              "      }\n",
              "    </script>\n",
              "  </div>\n",
              "\n",
              "\n",
              "<div id=\"df-a2f053f0-7c8c-40d6-88c6-d12b08beb382\">\n",
              "  <button class=\"colab-df-quickchart\" onclick=\"quickchart('df-a2f053f0-7c8c-40d6-88c6-d12b08beb382')\"\n",
              "            title=\"Suggest charts\"\n",
              "            style=\"display:none;\">\n",
              "\n",
              "<svg xmlns=\"http://www.w3.org/2000/svg\" height=\"24px\"viewBox=\"0 0 24 24\"\n",
              "     width=\"24px\">\n",
              "    <g>\n",
              "        <path d=\"M19 3H5c-1.1 0-2 .9-2 2v14c0 1.1.9 2 2 2h14c1.1 0 2-.9 2-2V5c0-1.1-.9-2-2-2zM9 17H7v-7h2v7zm4 0h-2V7h2v10zm4 0h-2v-4h2v4z\"/>\n",
              "    </g>\n",
              "</svg>\n",
              "  </button>\n",
              "\n",
              "<style>\n",
              "  .colab-df-quickchart {\n",
              "      --bg-color: #E8F0FE;\n",
              "      --fill-color: #1967D2;\n",
              "      --hover-bg-color: #E2EBFA;\n",
              "      --hover-fill-color: #174EA6;\n",
              "      --disabled-fill-color: #AAA;\n",
              "      --disabled-bg-color: #DDD;\n",
              "  }\n",
              "\n",
              "  [theme=dark] .colab-df-quickchart {\n",
              "      --bg-color: #3B4455;\n",
              "      --fill-color: #D2E3FC;\n",
              "      --hover-bg-color: #434B5C;\n",
              "      --hover-fill-color: #FFFFFF;\n",
              "      --disabled-bg-color: #3B4455;\n",
              "      --disabled-fill-color: #666;\n",
              "  }\n",
              "\n",
              "  .colab-df-quickchart {\n",
              "    background-color: var(--bg-color);\n",
              "    border: none;\n",
              "    border-radius: 50%;\n",
              "    cursor: pointer;\n",
              "    display: none;\n",
              "    fill: var(--fill-color);\n",
              "    height: 32px;\n",
              "    padding: 0;\n",
              "    width: 32px;\n",
              "  }\n",
              "\n",
              "  .colab-df-quickchart:hover {\n",
              "    background-color: var(--hover-bg-color);\n",
              "    box-shadow: 0 1px 2px rgba(60, 64, 67, 0.3), 0 1px 3px 1px rgba(60, 64, 67, 0.15);\n",
              "    fill: var(--button-hover-fill-color);\n",
              "  }\n",
              "\n",
              "  .colab-df-quickchart-complete:disabled,\n",
              "  .colab-df-quickchart-complete:disabled:hover {\n",
              "    background-color: var(--disabled-bg-color);\n",
              "    fill: var(--disabled-fill-color);\n",
              "    box-shadow: none;\n",
              "  }\n",
              "\n",
              "  .colab-df-spinner {\n",
              "    border: 2px solid var(--fill-color);\n",
              "    border-color: transparent;\n",
              "    border-bottom-color: var(--fill-color);\n",
              "    animation:\n",
              "      spin 1s steps(1) infinite;\n",
              "  }\n",
              "\n",
              "  @keyframes spin {\n",
              "    0% {\n",
              "      border-color: transparent;\n",
              "      border-bottom-color: var(--fill-color);\n",
              "      border-left-color: var(--fill-color);\n",
              "    }\n",
              "    20% {\n",
              "      border-color: transparent;\n",
              "      border-left-color: var(--fill-color);\n",
              "      border-top-color: var(--fill-color);\n",
              "    }\n",
              "    30% {\n",
              "      border-color: transparent;\n",
              "      border-left-color: var(--fill-color);\n",
              "      border-top-color: var(--fill-color);\n",
              "      border-right-color: var(--fill-color);\n",
              "    }\n",
              "    40% {\n",
              "      border-color: transparent;\n",
              "      border-right-color: var(--fill-color);\n",
              "      border-top-color: var(--fill-color);\n",
              "    }\n",
              "    60% {\n",
              "      border-color: transparent;\n",
              "      border-right-color: var(--fill-color);\n",
              "    }\n",
              "    80% {\n",
              "      border-color: transparent;\n",
              "      border-right-color: var(--fill-color);\n",
              "      border-bottom-color: var(--fill-color);\n",
              "    }\n",
              "    90% {\n",
              "      border-color: transparent;\n",
              "      border-bottom-color: var(--fill-color);\n",
              "    }\n",
              "  }\n",
              "</style>\n",
              "\n",
              "  <script>\n",
              "    async function quickchart(key) {\n",
              "      const quickchartButtonEl =\n",
              "        document.querySelector('#' + key + ' button');\n",
              "      quickchartButtonEl.disabled = true;  // To prevent multiple clicks.\n",
              "      quickchartButtonEl.classList.add('colab-df-spinner');\n",
              "      try {\n",
              "        const charts = await google.colab.kernel.invokeFunction(\n",
              "            'suggestCharts', [key], {});\n",
              "      } catch (error) {\n",
              "        console.error('Error during call to suggestCharts:', error);\n",
              "      }\n",
              "      quickchartButtonEl.classList.remove('colab-df-spinner');\n",
              "      quickchartButtonEl.classList.add('colab-df-quickchart-complete');\n",
              "    }\n",
              "    (() => {\n",
              "      let quickchartButtonEl =\n",
              "        document.querySelector('#df-a2f053f0-7c8c-40d6-88c6-d12b08beb382 button');\n",
              "      quickchartButtonEl.style.display =\n",
              "        google.colab.kernel.accessAllowed ? 'block' : 'none';\n",
              "    })();\n",
              "  </script>\n",
              "</div>\n",
              "\n",
              "    </div>\n",
              "  </div>\n"
            ],
            "application/vnd.google.colaboratory.intrinsic+json": {
              "type": "dataframe"
            }
          },
          "metadata": {},
          "execution_count": 1078
        }
      ],
      "source": [
        "train[train['DEALER NAME'].isnull()]"
      ]
    },
    {
      "cell_type": "code",
      "execution_count": 1079,
      "metadata": {
        "colab": {
          "base_uri": "https://localhost:8080/",
          "height": 926
        },
        "id": "PsBMlJOEGn6i",
        "outputId": "0b68191b-3e5d-431c-ea7a-270539aa2bae"
      },
      "outputs": [
        {
          "output_type": "execute_result",
          "data": {
            "text/plain": [
              "      DEALER ID HDB BRANCH STATE  Cibil Score               DEALER NAME  \\\n",
              "0        106989            DELHI        726.0  V D AUTO WHEELS CHHOTIAL   \n",
              "596      106989            DELHI        683.0  V D AUTO WHEELS CHHOTIAL   \n",
              "2517     106989            DELHI          0.0  V D AUTO WHEELS CHHOTIAL   \n",
              "2955     106989            DELHI        620.0  V D AUTO WHEELS CHHOTIAL   \n",
              "3166     106989            DELHI        768.0  V D AUTO WHEELS CHHOTIAL   \n",
              "4700     106989            DELHI          0.0  V D AUTO WHEELS CHHOTIAL   \n",
              "4874     106989            DELHI        716.0  V D AUTO WHEELS CHHOTIAL   \n",
              "5615     106989            DELHI          0.0  V D AUTO WHEELS CHHOTIAL   \n",
              "6524     106989            DELHI        653.0  V D AUTO WHEELS CHHOTIAL   \n",
              "7156     106989            DELHI        546.0  V D AUTO WHEELS CHHOTIAL   \n",
              "8155     106989            DELHI        775.0  V D AUTO WHEELS CHHOTIAL   \n",
              "8596     106989            DELHI          0.0  V D AUTO WHEELS CHHOTIAL   \n",
              "\n",
              "      TOTAL ASSET COST ASSET CTG  ASSET MODEL NO  APPLIED AMOUNT  \\\n",
              "0              95041.0     MCEXA          139542           85000   \n",
              "596                NaN       NaN          124650           92000   \n",
              "2517               NaN       NaN          143240           90000   \n",
              "2955               NaN       NaN          134123           80000   \n",
              "3166          128081.0     MCPRA          140210           99900   \n",
              "4700           95528.0     SCECA          143240           90000   \n",
              "4874               NaN       NaN          143240           90000   \n",
              "5615               NaN       NaN          124648           99500   \n",
              "6524               NaN       NaN          124650           93000   \n",
              "7156               NaN       NaN          134123           80000   \n",
              "8155          105222.0     MCEXA          129101           97000   \n",
              "8596               NaN       NaN          143240           95000   \n",
              "\n",
              "     PRIMARY ASSET MAKE Primary Asset Model No  ...  \\\n",
              "0          HONDA MOTORS        SHINE DRUM BSVI  ...   \n",
              "596        HONDA MOTORS  ACTIVA 125 DRUM(BSVI)  ...   \n",
              "2517       HONDA MOTORS     ACTIVA 6G DLX BSVI  ...   \n",
              "2955       HONDA MOTORS          ACTIVA 6G DLX  ...   \n",
              "3166       HONDA MOTORS    CB UNICORN 160 BSVI  ...   \n",
              "4700       HONDA MOTORS     ACTIVA 6G DLX BSVI  ...   \n",
              "4874       HONDA MOTORS     ACTIVA 6G DLX BSVI  ...   \n",
              "5615       HONDA MOTORS  ACTIVA 125 DISC(BSVI)  ...   \n",
              "6524       HONDA MOTORS  ACTIVA 125 DRUM(BSVI)  ...   \n",
              "7156       HONDA MOTORS          ACTIVA 6G DLX  ...   \n",
              "8155       HONDA MOTORS      SP 125 DISC BS VI  ...   \n",
              "8596       HONDA MOTORS     ACTIVA 6G DLX BSVI  ...   \n",
              "\n",
              "     Phone Social Premium.whatsapp Phone Social Premium.yatra  \\\n",
              "0                              NaN                        NaN   \n",
              "596                            NaN                        NaN   \n",
              "2517                           NaN                        NaN   \n",
              "2955                           NaN                        NaN   \n",
              "3166                           NaN                        NaN   \n",
              "4700                           NaN                        NaN   \n",
              "4874                           1.0                        NaN   \n",
              "5615                           NaN                        NaN   \n",
              "6524                           1.0                        NaN   \n",
              "7156                           NaN                        NaN   \n",
              "8155                           NaN                        NaN   \n",
              "8596                           NaN                        NaN   \n",
              "\n",
              "     Phone Social Premium.zoho  phone_digitalage  phone_nameMatchScore  \\\n",
              "0                          0.0            5324.0             67.222222   \n",
              "596                        0.0            2312.0            100.000000   \n",
              "2517                       0.0             853.0             -1.000000   \n",
              "2955                       0.0            1998.0             89.444444   \n",
              "3166                       0.0            2312.0             92.307692   \n",
              "4700                       0.0             790.0             83.333333   \n",
              "4874                       0.0            2312.0             90.909091   \n",
              "5615                       0.0            1998.0             83.333333   \n",
              "6524                       0.0             468.0             50.000000   \n",
              "7156                       NaN             118.0             23.529412   \n",
              "8155                       NaN             790.0             56.862745   \n",
              "8596                       NaN            2847.0             -1.000000   \n",
              "\n",
              "     phone_phoneFootprintStrengthOverall Application Status  year month day  \n",
              "0                                   High           APPROVED  2022     7  20  \n",
              "596                                 High           DECLINED  2022     7   8  \n",
              "2517                                 Low           APPROVED  2022     7  31  \n",
              "2955                                High           DECLINED  2022     7  10  \n",
              "3166                                High           APPROVED  2022     7  31  \n",
              "4700                              Medium           APPROVED  2022     7   4  \n",
              "4874                                High           APPROVED  2022     7   3  \n",
              "5615                                High           DECLINED  2022     7  28  \n",
              "6524                                High           DECLINED  2022     7   3  \n",
              "7156                                 Low           DECLINED  2022     7  21  \n",
              "8155                                 Low           APPROVED  2022     7  10  \n",
              "8596                                 Low           APPROVED  2022     7  14  \n",
              "\n",
              "[12 rows x 50 columns]"
            ],
            "text/html": [
              "\n",
              "  <div id=\"df-66791cdb-cdd8-4e72-bf4a-296ae3dec853\" class=\"colab-df-container\">\n",
              "    <div>\n",
              "<style scoped>\n",
              "    .dataframe tbody tr th:only-of-type {\n",
              "        vertical-align: middle;\n",
              "    }\n",
              "\n",
              "    .dataframe tbody tr th {\n",
              "        vertical-align: top;\n",
              "    }\n",
              "\n",
              "    .dataframe thead th {\n",
              "        text-align: right;\n",
              "    }\n",
              "</style>\n",
              "<table border=\"1\" class=\"dataframe\">\n",
              "  <thead>\n",
              "    <tr style=\"text-align: right;\">\n",
              "      <th></th>\n",
              "      <th>DEALER ID</th>\n",
              "      <th>HDB BRANCH STATE</th>\n",
              "      <th>Cibil Score</th>\n",
              "      <th>DEALER NAME</th>\n",
              "      <th>TOTAL ASSET COST</th>\n",
              "      <th>ASSET CTG</th>\n",
              "      <th>ASSET MODEL NO</th>\n",
              "      <th>APPLIED AMOUNT</th>\n",
              "      <th>PRIMARY ASSET MAKE</th>\n",
              "      <th>Primary Asset Model No</th>\n",
              "      <th>...</th>\n",
              "      <th>Phone Social Premium.whatsapp</th>\n",
              "      <th>Phone Social Premium.yatra</th>\n",
              "      <th>Phone Social Premium.zoho</th>\n",
              "      <th>phone_digitalage</th>\n",
              "      <th>phone_nameMatchScore</th>\n",
              "      <th>phone_phoneFootprintStrengthOverall</th>\n",
              "      <th>Application Status</th>\n",
              "      <th>year</th>\n",
              "      <th>month</th>\n",
              "      <th>day</th>\n",
              "    </tr>\n",
              "  </thead>\n",
              "  <tbody>\n",
              "    <tr>\n",
              "      <th>0</th>\n",
              "      <td>106989</td>\n",
              "      <td>DELHI</td>\n",
              "      <td>726.0</td>\n",
              "      <td>V D AUTO WHEELS CHHOTIAL</td>\n",
              "      <td>95041.0</td>\n",
              "      <td>MCEXA</td>\n",
              "      <td>139542</td>\n",
              "      <td>85000</td>\n",
              "      <td>HONDA MOTORS</td>\n",
              "      <td>SHINE DRUM BSVI</td>\n",
              "      <td>...</td>\n",
              "      <td>NaN</td>\n",
              "      <td>NaN</td>\n",
              "      <td>0.0</td>\n",
              "      <td>5324.0</td>\n",
              "      <td>67.222222</td>\n",
              "      <td>High</td>\n",
              "      <td>APPROVED</td>\n",
              "      <td>2022</td>\n",
              "      <td>7</td>\n",
              "      <td>20</td>\n",
              "    </tr>\n",
              "    <tr>\n",
              "      <th>596</th>\n",
              "      <td>106989</td>\n",
              "      <td>DELHI</td>\n",
              "      <td>683.0</td>\n",
              "      <td>V D AUTO WHEELS CHHOTIAL</td>\n",
              "      <td>NaN</td>\n",
              "      <td>NaN</td>\n",
              "      <td>124650</td>\n",
              "      <td>92000</td>\n",
              "      <td>HONDA MOTORS</td>\n",
              "      <td>ACTIVA 125 DRUM(BSVI)</td>\n",
              "      <td>...</td>\n",
              "      <td>NaN</td>\n",
              "      <td>NaN</td>\n",
              "      <td>0.0</td>\n",
              "      <td>2312.0</td>\n",
              "      <td>100.000000</td>\n",
              "      <td>High</td>\n",
              "      <td>DECLINED</td>\n",
              "      <td>2022</td>\n",
              "      <td>7</td>\n",
              "      <td>8</td>\n",
              "    </tr>\n",
              "    <tr>\n",
              "      <th>2517</th>\n",
              "      <td>106989</td>\n",
              "      <td>DELHI</td>\n",
              "      <td>0.0</td>\n",
              "      <td>V D AUTO WHEELS CHHOTIAL</td>\n",
              "      <td>NaN</td>\n",
              "      <td>NaN</td>\n",
              "      <td>143240</td>\n",
              "      <td>90000</td>\n",
              "      <td>HONDA MOTORS</td>\n",
              "      <td>ACTIVA 6G DLX BSVI</td>\n",
              "      <td>...</td>\n",
              "      <td>NaN</td>\n",
              "      <td>NaN</td>\n",
              "      <td>0.0</td>\n",
              "      <td>853.0</td>\n",
              "      <td>-1.000000</td>\n",
              "      <td>Low</td>\n",
              "      <td>APPROVED</td>\n",
              "      <td>2022</td>\n",
              "      <td>7</td>\n",
              "      <td>31</td>\n",
              "    </tr>\n",
              "    <tr>\n",
              "      <th>2955</th>\n",
              "      <td>106989</td>\n",
              "      <td>DELHI</td>\n",
              "      <td>620.0</td>\n",
              "      <td>V D AUTO WHEELS CHHOTIAL</td>\n",
              "      <td>NaN</td>\n",
              "      <td>NaN</td>\n",
              "      <td>134123</td>\n",
              "      <td>80000</td>\n",
              "      <td>HONDA MOTORS</td>\n",
              "      <td>ACTIVA 6G DLX</td>\n",
              "      <td>...</td>\n",
              "      <td>NaN</td>\n",
              "      <td>NaN</td>\n",
              "      <td>0.0</td>\n",
              "      <td>1998.0</td>\n",
              "      <td>89.444444</td>\n",
              "      <td>High</td>\n",
              "      <td>DECLINED</td>\n",
              "      <td>2022</td>\n",
              "      <td>7</td>\n",
              "      <td>10</td>\n",
              "    </tr>\n",
              "    <tr>\n",
              "      <th>3166</th>\n",
              "      <td>106989</td>\n",
              "      <td>DELHI</td>\n",
              "      <td>768.0</td>\n",
              "      <td>V D AUTO WHEELS CHHOTIAL</td>\n",
              "      <td>128081.0</td>\n",
              "      <td>MCPRA</td>\n",
              "      <td>140210</td>\n",
              "      <td>99900</td>\n",
              "      <td>HONDA MOTORS</td>\n",
              "      <td>CB UNICORN 160 BSVI</td>\n",
              "      <td>...</td>\n",
              "      <td>NaN</td>\n",
              "      <td>NaN</td>\n",
              "      <td>0.0</td>\n",
              "      <td>2312.0</td>\n",
              "      <td>92.307692</td>\n",
              "      <td>High</td>\n",
              "      <td>APPROVED</td>\n",
              "      <td>2022</td>\n",
              "      <td>7</td>\n",
              "      <td>31</td>\n",
              "    </tr>\n",
              "    <tr>\n",
              "      <th>4700</th>\n",
              "      <td>106989</td>\n",
              "      <td>DELHI</td>\n",
              "      <td>0.0</td>\n",
              "      <td>V D AUTO WHEELS CHHOTIAL</td>\n",
              "      <td>95528.0</td>\n",
              "      <td>SCECA</td>\n",
              "      <td>143240</td>\n",
              "      <td>90000</td>\n",
              "      <td>HONDA MOTORS</td>\n",
              "      <td>ACTIVA 6G DLX BSVI</td>\n",
              "      <td>...</td>\n",
              "      <td>NaN</td>\n",
              "      <td>NaN</td>\n",
              "      <td>0.0</td>\n",
              "      <td>790.0</td>\n",
              "      <td>83.333333</td>\n",
              "      <td>Medium</td>\n",
              "      <td>APPROVED</td>\n",
              "      <td>2022</td>\n",
              "      <td>7</td>\n",
              "      <td>4</td>\n",
              "    </tr>\n",
              "    <tr>\n",
              "      <th>4874</th>\n",
              "      <td>106989</td>\n",
              "      <td>DELHI</td>\n",
              "      <td>716.0</td>\n",
              "      <td>V D AUTO WHEELS CHHOTIAL</td>\n",
              "      <td>NaN</td>\n",
              "      <td>NaN</td>\n",
              "      <td>143240</td>\n",
              "      <td>90000</td>\n",
              "      <td>HONDA MOTORS</td>\n",
              "      <td>ACTIVA 6G DLX BSVI</td>\n",
              "      <td>...</td>\n",
              "      <td>1.0</td>\n",
              "      <td>NaN</td>\n",
              "      <td>0.0</td>\n",
              "      <td>2312.0</td>\n",
              "      <td>90.909091</td>\n",
              "      <td>High</td>\n",
              "      <td>APPROVED</td>\n",
              "      <td>2022</td>\n",
              "      <td>7</td>\n",
              "      <td>3</td>\n",
              "    </tr>\n",
              "    <tr>\n",
              "      <th>5615</th>\n",
              "      <td>106989</td>\n",
              "      <td>DELHI</td>\n",
              "      <td>0.0</td>\n",
              "      <td>V D AUTO WHEELS CHHOTIAL</td>\n",
              "      <td>NaN</td>\n",
              "      <td>NaN</td>\n",
              "      <td>124648</td>\n",
              "      <td>99500</td>\n",
              "      <td>HONDA MOTORS</td>\n",
              "      <td>ACTIVA 125 DISC(BSVI)</td>\n",
              "      <td>...</td>\n",
              "      <td>NaN</td>\n",
              "      <td>NaN</td>\n",
              "      <td>0.0</td>\n",
              "      <td>1998.0</td>\n",
              "      <td>83.333333</td>\n",
              "      <td>High</td>\n",
              "      <td>DECLINED</td>\n",
              "      <td>2022</td>\n",
              "      <td>7</td>\n",
              "      <td>28</td>\n",
              "    </tr>\n",
              "    <tr>\n",
              "      <th>6524</th>\n",
              "      <td>106989</td>\n",
              "      <td>DELHI</td>\n",
              "      <td>653.0</td>\n",
              "      <td>V D AUTO WHEELS CHHOTIAL</td>\n",
              "      <td>NaN</td>\n",
              "      <td>NaN</td>\n",
              "      <td>124650</td>\n",
              "      <td>93000</td>\n",
              "      <td>HONDA MOTORS</td>\n",
              "      <td>ACTIVA 125 DRUM(BSVI)</td>\n",
              "      <td>...</td>\n",
              "      <td>1.0</td>\n",
              "      <td>NaN</td>\n",
              "      <td>0.0</td>\n",
              "      <td>468.0</td>\n",
              "      <td>50.000000</td>\n",
              "      <td>High</td>\n",
              "      <td>DECLINED</td>\n",
              "      <td>2022</td>\n",
              "      <td>7</td>\n",
              "      <td>3</td>\n",
              "    </tr>\n",
              "    <tr>\n",
              "      <th>7156</th>\n",
              "      <td>106989</td>\n",
              "      <td>DELHI</td>\n",
              "      <td>546.0</td>\n",
              "      <td>V D AUTO WHEELS CHHOTIAL</td>\n",
              "      <td>NaN</td>\n",
              "      <td>NaN</td>\n",
              "      <td>134123</td>\n",
              "      <td>80000</td>\n",
              "      <td>HONDA MOTORS</td>\n",
              "      <td>ACTIVA 6G DLX</td>\n",
              "      <td>...</td>\n",
              "      <td>NaN</td>\n",
              "      <td>NaN</td>\n",
              "      <td>NaN</td>\n",
              "      <td>118.0</td>\n",
              "      <td>23.529412</td>\n",
              "      <td>Low</td>\n",
              "      <td>DECLINED</td>\n",
              "      <td>2022</td>\n",
              "      <td>7</td>\n",
              "      <td>21</td>\n",
              "    </tr>\n",
              "    <tr>\n",
              "      <th>8155</th>\n",
              "      <td>106989</td>\n",
              "      <td>DELHI</td>\n",
              "      <td>775.0</td>\n",
              "      <td>V D AUTO WHEELS CHHOTIAL</td>\n",
              "      <td>105222.0</td>\n",
              "      <td>MCEXA</td>\n",
              "      <td>129101</td>\n",
              "      <td>97000</td>\n",
              "      <td>HONDA MOTORS</td>\n",
              "      <td>SP 125 DISC BS VI</td>\n",
              "      <td>...</td>\n",
              "      <td>NaN</td>\n",
              "      <td>NaN</td>\n",
              "      <td>NaN</td>\n",
              "      <td>790.0</td>\n",
              "      <td>56.862745</td>\n",
              "      <td>Low</td>\n",
              "      <td>APPROVED</td>\n",
              "      <td>2022</td>\n",
              "      <td>7</td>\n",
              "      <td>10</td>\n",
              "    </tr>\n",
              "    <tr>\n",
              "      <th>8596</th>\n",
              "      <td>106989</td>\n",
              "      <td>DELHI</td>\n",
              "      <td>0.0</td>\n",
              "      <td>V D AUTO WHEELS CHHOTIAL</td>\n",
              "      <td>NaN</td>\n",
              "      <td>NaN</td>\n",
              "      <td>143240</td>\n",
              "      <td>95000</td>\n",
              "      <td>HONDA MOTORS</td>\n",
              "      <td>ACTIVA 6G DLX BSVI</td>\n",
              "      <td>...</td>\n",
              "      <td>NaN</td>\n",
              "      <td>NaN</td>\n",
              "      <td>NaN</td>\n",
              "      <td>2847.0</td>\n",
              "      <td>-1.000000</td>\n",
              "      <td>Low</td>\n",
              "      <td>APPROVED</td>\n",
              "      <td>2022</td>\n",
              "      <td>7</td>\n",
              "      <td>14</td>\n",
              "    </tr>\n",
              "  </tbody>\n",
              "</table>\n",
              "<p>12 rows × 50 columns</p>\n",
              "</div>\n",
              "    <div class=\"colab-df-buttons\">\n",
              "\n",
              "  <div class=\"colab-df-container\">\n",
              "    <button class=\"colab-df-convert\" onclick=\"convertToInteractive('df-66791cdb-cdd8-4e72-bf4a-296ae3dec853')\"\n",
              "            title=\"Convert this dataframe to an interactive table.\"\n",
              "            style=\"display:none;\">\n",
              "\n",
              "  <svg xmlns=\"http://www.w3.org/2000/svg\" height=\"24px\" viewBox=\"0 -960 960 960\">\n",
              "    <path d=\"M120-120v-720h720v720H120Zm60-500h600v-160H180v160Zm220 220h160v-160H400v160Zm0 220h160v-160H400v160ZM180-400h160v-160H180v160Zm440 0h160v-160H620v160ZM180-180h160v-160H180v160Zm440 0h160v-160H620v160Z\"/>\n",
              "  </svg>\n",
              "    </button>\n",
              "\n",
              "  <style>\n",
              "    .colab-df-container {\n",
              "      display:flex;\n",
              "      gap: 12px;\n",
              "    }\n",
              "\n",
              "    .colab-df-convert {\n",
              "      background-color: #E8F0FE;\n",
              "      border: none;\n",
              "      border-radius: 50%;\n",
              "      cursor: pointer;\n",
              "      display: none;\n",
              "      fill: #1967D2;\n",
              "      height: 32px;\n",
              "      padding: 0 0 0 0;\n",
              "      width: 32px;\n",
              "    }\n",
              "\n",
              "    .colab-df-convert:hover {\n",
              "      background-color: #E2EBFA;\n",
              "      box-shadow: 0px 1px 2px rgba(60, 64, 67, 0.3), 0px 1px 3px 1px rgba(60, 64, 67, 0.15);\n",
              "      fill: #174EA6;\n",
              "    }\n",
              "\n",
              "    .colab-df-buttons div {\n",
              "      margin-bottom: 4px;\n",
              "    }\n",
              "\n",
              "    [theme=dark] .colab-df-convert {\n",
              "      background-color: #3B4455;\n",
              "      fill: #D2E3FC;\n",
              "    }\n",
              "\n",
              "    [theme=dark] .colab-df-convert:hover {\n",
              "      background-color: #434B5C;\n",
              "      box-shadow: 0px 1px 3px 1px rgba(0, 0, 0, 0.15);\n",
              "      filter: drop-shadow(0px 1px 2px rgba(0, 0, 0, 0.3));\n",
              "      fill: #FFFFFF;\n",
              "    }\n",
              "  </style>\n",
              "\n",
              "    <script>\n",
              "      const buttonEl =\n",
              "        document.querySelector('#df-66791cdb-cdd8-4e72-bf4a-296ae3dec853 button.colab-df-convert');\n",
              "      buttonEl.style.display =\n",
              "        google.colab.kernel.accessAllowed ? 'block' : 'none';\n",
              "\n",
              "      async function convertToInteractive(key) {\n",
              "        const element = document.querySelector('#df-66791cdb-cdd8-4e72-bf4a-296ae3dec853');\n",
              "        const dataTable =\n",
              "          await google.colab.kernel.invokeFunction('convertToInteractive',\n",
              "                                                    [key], {});\n",
              "        if (!dataTable) return;\n",
              "\n",
              "        const docLinkHtml = 'Like what you see? Visit the ' +\n",
              "          '<a target=\"_blank\" href=https://colab.research.google.com/notebooks/data_table.ipynb>data table notebook</a>'\n",
              "          + ' to learn more about interactive tables.';\n",
              "        element.innerHTML = '';\n",
              "        dataTable['output_type'] = 'display_data';\n",
              "        await google.colab.output.renderOutput(dataTable, element);\n",
              "        const docLink = document.createElement('div');\n",
              "        docLink.innerHTML = docLinkHtml;\n",
              "        element.appendChild(docLink);\n",
              "      }\n",
              "    </script>\n",
              "  </div>\n",
              "\n",
              "\n",
              "<div id=\"df-04db9745-1bab-4864-960b-a5ae509c9c32\">\n",
              "  <button class=\"colab-df-quickchart\" onclick=\"quickchart('df-04db9745-1bab-4864-960b-a5ae509c9c32')\"\n",
              "            title=\"Suggest charts\"\n",
              "            style=\"display:none;\">\n",
              "\n",
              "<svg xmlns=\"http://www.w3.org/2000/svg\" height=\"24px\"viewBox=\"0 0 24 24\"\n",
              "     width=\"24px\">\n",
              "    <g>\n",
              "        <path d=\"M19 3H5c-1.1 0-2 .9-2 2v14c0 1.1.9 2 2 2h14c1.1 0 2-.9 2-2V5c0-1.1-.9-2-2-2zM9 17H7v-7h2v7zm4 0h-2V7h2v10zm4 0h-2v-4h2v4z\"/>\n",
              "    </g>\n",
              "</svg>\n",
              "  </button>\n",
              "\n",
              "<style>\n",
              "  .colab-df-quickchart {\n",
              "      --bg-color: #E8F0FE;\n",
              "      --fill-color: #1967D2;\n",
              "      --hover-bg-color: #E2EBFA;\n",
              "      --hover-fill-color: #174EA6;\n",
              "      --disabled-fill-color: #AAA;\n",
              "      --disabled-bg-color: #DDD;\n",
              "  }\n",
              "\n",
              "  [theme=dark] .colab-df-quickchart {\n",
              "      --bg-color: #3B4455;\n",
              "      --fill-color: #D2E3FC;\n",
              "      --hover-bg-color: #434B5C;\n",
              "      --hover-fill-color: #FFFFFF;\n",
              "      --disabled-bg-color: #3B4455;\n",
              "      --disabled-fill-color: #666;\n",
              "  }\n",
              "\n",
              "  .colab-df-quickchart {\n",
              "    background-color: var(--bg-color);\n",
              "    border: none;\n",
              "    border-radius: 50%;\n",
              "    cursor: pointer;\n",
              "    display: none;\n",
              "    fill: var(--fill-color);\n",
              "    height: 32px;\n",
              "    padding: 0;\n",
              "    width: 32px;\n",
              "  }\n",
              "\n",
              "  .colab-df-quickchart:hover {\n",
              "    background-color: var(--hover-bg-color);\n",
              "    box-shadow: 0 1px 2px rgba(60, 64, 67, 0.3), 0 1px 3px 1px rgba(60, 64, 67, 0.15);\n",
              "    fill: var(--button-hover-fill-color);\n",
              "  }\n",
              "\n",
              "  .colab-df-quickchart-complete:disabled,\n",
              "  .colab-df-quickchart-complete:disabled:hover {\n",
              "    background-color: var(--disabled-bg-color);\n",
              "    fill: var(--disabled-fill-color);\n",
              "    box-shadow: none;\n",
              "  }\n",
              "\n",
              "  .colab-df-spinner {\n",
              "    border: 2px solid var(--fill-color);\n",
              "    border-color: transparent;\n",
              "    border-bottom-color: var(--fill-color);\n",
              "    animation:\n",
              "      spin 1s steps(1) infinite;\n",
              "  }\n",
              "\n",
              "  @keyframes spin {\n",
              "    0% {\n",
              "      border-color: transparent;\n",
              "      border-bottom-color: var(--fill-color);\n",
              "      border-left-color: var(--fill-color);\n",
              "    }\n",
              "    20% {\n",
              "      border-color: transparent;\n",
              "      border-left-color: var(--fill-color);\n",
              "      border-top-color: var(--fill-color);\n",
              "    }\n",
              "    30% {\n",
              "      border-color: transparent;\n",
              "      border-left-color: var(--fill-color);\n",
              "      border-top-color: var(--fill-color);\n",
              "      border-right-color: var(--fill-color);\n",
              "    }\n",
              "    40% {\n",
              "      border-color: transparent;\n",
              "      border-right-color: var(--fill-color);\n",
              "      border-top-color: var(--fill-color);\n",
              "    }\n",
              "    60% {\n",
              "      border-color: transparent;\n",
              "      border-right-color: var(--fill-color);\n",
              "    }\n",
              "    80% {\n",
              "      border-color: transparent;\n",
              "      border-right-color: var(--fill-color);\n",
              "      border-bottom-color: var(--fill-color);\n",
              "    }\n",
              "    90% {\n",
              "      border-color: transparent;\n",
              "      border-bottom-color: var(--fill-color);\n",
              "    }\n",
              "  }\n",
              "</style>\n",
              "\n",
              "  <script>\n",
              "    async function quickchart(key) {\n",
              "      const quickchartButtonEl =\n",
              "        document.querySelector('#' + key + ' button');\n",
              "      quickchartButtonEl.disabled = true;  // To prevent multiple clicks.\n",
              "      quickchartButtonEl.classList.add('colab-df-spinner');\n",
              "      try {\n",
              "        const charts = await google.colab.kernel.invokeFunction(\n",
              "            'suggestCharts', [key], {});\n",
              "      } catch (error) {\n",
              "        console.error('Error during call to suggestCharts:', error);\n",
              "      }\n",
              "      quickchartButtonEl.classList.remove('colab-df-spinner');\n",
              "      quickchartButtonEl.classList.add('colab-df-quickchart-complete');\n",
              "    }\n",
              "    (() => {\n",
              "      let quickchartButtonEl =\n",
              "        document.querySelector('#df-04db9745-1bab-4864-960b-a5ae509c9c32 button');\n",
              "      quickchartButtonEl.style.display =\n",
              "        google.colab.kernel.accessAllowed ? 'block' : 'none';\n",
              "    })();\n",
              "  </script>\n",
              "</div>\n",
              "\n",
              "    </div>\n",
              "  </div>\n"
            ],
            "application/vnd.google.colaboratory.intrinsic+json": {
              "type": "dataframe"
            }
          },
          "metadata": {},
          "execution_count": 1079
        }
      ],
      "source": [
        "train[train['DEALER ID']==106989]\n"
      ]
    },
    {
      "cell_type": "code",
      "execution_count": 1080,
      "metadata": {
        "id": "dv7Ah7YHGn6i"
      },
      "outputs": [],
      "source": [
        "# As we already have DEALER ID we will drop DEALER NAME\n",
        "train.drop('DEALER NAME',axis=1,inplace=True)"
      ]
    },
    {
      "cell_type": "markdown",
      "metadata": {
        "id": "2HsGrysmGn6j"
      },
      "source": [
        "# TOTAL ASSET COST"
      ]
    },
    {
      "cell_type": "code",
      "execution_count": 1081,
      "metadata": {
        "colab": {
          "base_uri": "https://localhost:8080/",
          "height": 458
        },
        "id": "Nhb7VdBpGn6j",
        "outputId": "a15451d0-73b7-4c8c-b608-7aacdd984692"
      },
      "outputs": [
        {
          "output_type": "execute_result",
          "data": {
            "text/plain": [
              "0        95041.0\n",
              "1            NaN\n",
              "2       119436.0\n",
              "3        87000.0\n",
              "4            NaN\n",
              "          ...   \n",
              "9995     88970.0\n",
              "9996    120000.0\n",
              "9997     89929.0\n",
              "9998     89340.0\n",
              "9999    101262.0\n",
              "Name: TOTAL ASSET COST, Length: 9990, dtype: float64"
            ],
            "text/html": [
              "<div>\n",
              "<style scoped>\n",
              "    .dataframe tbody tr th:only-of-type {\n",
              "        vertical-align: middle;\n",
              "    }\n",
              "\n",
              "    .dataframe tbody tr th {\n",
              "        vertical-align: top;\n",
              "    }\n",
              "\n",
              "    .dataframe thead th {\n",
              "        text-align: right;\n",
              "    }\n",
              "</style>\n",
              "<table border=\"1\" class=\"dataframe\">\n",
              "  <thead>\n",
              "    <tr style=\"text-align: right;\">\n",
              "      <th></th>\n",
              "      <th>TOTAL ASSET COST</th>\n",
              "    </tr>\n",
              "  </thead>\n",
              "  <tbody>\n",
              "    <tr>\n",
              "      <th>0</th>\n",
              "      <td>95041.0</td>\n",
              "    </tr>\n",
              "    <tr>\n",
              "      <th>1</th>\n",
              "      <td>NaN</td>\n",
              "    </tr>\n",
              "    <tr>\n",
              "      <th>2</th>\n",
              "      <td>119436.0</td>\n",
              "    </tr>\n",
              "    <tr>\n",
              "      <th>3</th>\n",
              "      <td>87000.0</td>\n",
              "    </tr>\n",
              "    <tr>\n",
              "      <th>4</th>\n",
              "      <td>NaN</td>\n",
              "    </tr>\n",
              "    <tr>\n",
              "      <th>...</th>\n",
              "      <td>...</td>\n",
              "    </tr>\n",
              "    <tr>\n",
              "      <th>9995</th>\n",
              "      <td>88970.0</td>\n",
              "    </tr>\n",
              "    <tr>\n",
              "      <th>9996</th>\n",
              "      <td>120000.0</td>\n",
              "    </tr>\n",
              "    <tr>\n",
              "      <th>9997</th>\n",
              "      <td>89929.0</td>\n",
              "    </tr>\n",
              "    <tr>\n",
              "      <th>9998</th>\n",
              "      <td>89340.0</td>\n",
              "    </tr>\n",
              "    <tr>\n",
              "      <th>9999</th>\n",
              "      <td>101262.0</td>\n",
              "    </tr>\n",
              "  </tbody>\n",
              "</table>\n",
              "<p>9990 rows × 1 columns</p>\n",
              "</div><br><label><b>dtype:</b> float64</label>"
            ]
          },
          "metadata": {},
          "execution_count": 1081
        }
      ],
      "source": [
        "train['TOTAL ASSET COST']"
      ]
    },
    {
      "cell_type": "code",
      "execution_count": 1082,
      "metadata": {
        "colab": {
          "base_uri": "https://localhost:8080/"
        },
        "id": "i1TDQHbKGn6j",
        "outputId": "07cfe79f-27cc-4b4c-9502-7486bf2267f3"
      },
      "outputs": [
        {
          "output_type": "execute_result",
          "data": {
            "text/plain": [
              "0.5104104104104105"
            ]
          },
          "metadata": {},
          "execution_count": 1082
        }
      ],
      "source": [
        "train['TOTAL ASSET COST'].isnull().sum()/len(train)\n",
        "# 50% of values are null"
      ]
    },
    {
      "cell_type": "code",
      "source": [
        "sns.boxplot(train['TOTAL ASSET COST'])"
      ],
      "metadata": {
        "id": "FWRw2WINKq1U",
        "outputId": "d119cf7d-a423-43fc-878d-9d8d310cb84e",
        "colab": {
          "base_uri": "https://localhost:8080/",
          "height": 432
        }
      },
      "execution_count": 1083,
      "outputs": [
        {
          "output_type": "execute_result",
          "data": {
            "text/plain": [
              "<Axes: ylabel='TOTAL ASSET COST'>"
            ]
          },
          "metadata": {},
          "execution_count": 1083
        },
        {
          "output_type": "display_data",
          "data": {
            "text/plain": [
              "<Figure size 640x480 with 1 Axes>"
            ],
            "image/png": "[encoded data removed]"
          },
          "metadata": {}
        }
      ]
    },
    {
      "cell_type": "markdown",
      "metadata": {
        "id": "TPRKtAcCGn6k"
      },
      "source": []
    },
    {
      "cell_type": "code",
      "execution_count": 1084,
      "metadata": {
        "id": "K33L-HvIGn6k"
      },
      "outputs": [],
      "source": [
        "# As this is a important column we need to impute using appropriate method\n",
        "from sklearn.impute import SimpleImputer\n",
        "imputer1=SimpleImputer(strategy='median')\n",
        "train['TOTAL ASSET COST']=imputer1.fit_transform(train[['TOTAL ASSET COST']])"
      ]
    },
    {
      "cell_type": "markdown",
      "metadata": {
        "id": "RtuVpoewGn6k"
      },
      "source": [
        "# ASSET CTG"
      ]
    },
    {
      "cell_type": "code",
      "execution_count": 1085,
      "metadata": {
        "colab": {
          "base_uri": "https://localhost:8080/",
          "height": 523
        },
        "id": "dCYhbXyQGn6k",
        "outputId": "0cd19c64-97f5-4a56-957c-22063f220814"
      },
      "outputs": [
        {
          "output_type": "execute_result",
          "data": {
            "text/plain": [
              "ASSET CTG\n",
              "MCECA    1820\n",
              "SCECA    1227\n",
              "MCEXA    1186\n",
              "SCEXA     264\n",
              "MCPRA     126\n",
              "MCECB      69\n",
              "MOECA      67\n",
              "MCECC      46\n",
              "MCEXB      28\n",
              "ESECB      25\n",
              "ESNRC      22\n",
              "EMECA      10\n",
              "ESNRB       1\n",
              "Name: count, dtype: int64"
            ],
            "text/html": [
              "<div>\n",
              "<style scoped>\n",
              "    .dataframe tbody tr th:only-of-type {\n",
              "        vertical-align: middle;\n",
              "    }\n",
              "\n",
              "    .dataframe tbody tr th {\n",
              "        vertical-align: top;\n",
              "    }\n",
              "\n",
              "    .dataframe thead th {\n",
              "        text-align: right;\n",
              "    }\n",
              "</style>\n",
              "<table border=\"1\" class=\"dataframe\">\n",
              "  <thead>\n",
              "    <tr style=\"text-align: right;\">\n",
              "      <th></th>\n",
              "      <th>count</th>\n",
              "    </tr>\n",
              "    <tr>\n",
              "      <th>ASSET CTG</th>\n",
              "      <th></th>\n",
              "    </tr>\n",
              "  </thead>\n",
              "  <tbody>\n",
              "    <tr>\n",
              "      <th>MCECA</th>\n",
              "      <td>1820</td>\n",
              "    </tr>\n",
              "    <tr>\n",
              "      <th>SCECA</th>\n",
              "      <td>1227</td>\n",
              "    </tr>\n",
              "    <tr>\n",
              "      <th>MCEXA</th>\n",
              "      <td>1186</td>\n",
              "    </tr>\n",
              "    <tr>\n",
              "      <th>SCEXA</th>\n",
              "      <td>264</td>\n",
              "    </tr>\n",
              "    <tr>\n",
              "      <th>MCPRA</th>\n",
              "      <td>126</td>\n",
              "    </tr>\n",
              "    <tr>\n",
              "      <th>MCECB</th>\n",
              "      <td>69</td>\n",
              "    </tr>\n",
              "    <tr>\n",
              "      <th>MOECA</th>\n",
              "      <td>67</td>\n",
              "    </tr>\n",
              "    <tr>\n",
              "      <th>MCECC</th>\n",
              "      <td>46</td>\n",
              "    </tr>\n",
              "    <tr>\n",
              "      <th>MCEXB</th>\n",
              "      <td>28</td>\n",
              "    </tr>\n",
              "    <tr>\n",
              "      <th>ESECB</th>\n",
              "      <td>25</td>\n",
              "    </tr>\n",
              "    <tr>\n",
              "      <th>ESNRC</th>\n",
              "      <td>22</td>\n",
              "    </tr>\n",
              "    <tr>\n",
              "      <th>EMECA</th>\n",
              "      <td>10</td>\n",
              "    </tr>\n",
              "    <tr>\n",
              "      <th>ESNRB</th>\n",
              "      <td>1</td>\n",
              "    </tr>\n",
              "  </tbody>\n",
              "</table>\n",
              "</div><br><label><b>dtype:</b> int64</label>"
            ]
          },
          "metadata": {},
          "execution_count": 1085
        }
      ],
      "source": [
        "train['ASSET CTG'].value_counts()"
      ]
    },
    {
      "cell_type": "code",
      "execution_count": 1086,
      "metadata": {
        "colab": {
          "base_uri": "https://localhost:8080/"
        },
        "id": "AJuZiIKzGn6l",
        "outputId": "abf8aef1-f6cc-4514-f795-2f3f9001753b"
      },
      "outputs": [
        {
          "output_type": "execute_result",
          "data": {
            "text/plain": [
              "0.5104104104104105"
            ]
          },
          "metadata": {},
          "execution_count": 1086
        }
      ],
      "source": [
        "# 50% of the Values are Missing\n",
        "train['ASSET CTG'].isnull().sum()/len(train)"
      ]
    },
    {
      "cell_type": "code",
      "execution_count": 1087,
      "metadata": {
        "id": "MaL_ZNkIGn6r"
      },
      "outputs": [],
      "source": [
        "train.drop('ASSET CTG',axis=1,inplace=True)\n"
      ]
    },
    {
      "cell_type": "markdown",
      "metadata": {
        "id": "-FxdHwS3Gn6s"
      },
      "source": [
        "# ASSET MODEL NO"
      ]
    },
    {
      "cell_type": "code",
      "execution_count": 1088,
      "metadata": {
        "colab": {
          "base_uri": "https://localhost:8080/",
          "height": 458
        },
        "id": "6yIoPSm5Gn6s",
        "outputId": "69b97270-e7fc-493e-e6e9-95f057838aa6"
      },
      "outputs": [
        {
          "output_type": "execute_result",
          "data": {
            "text/plain": [
              "0       139542\n",
              "1       140208\n",
              "2       160001\n",
              "3       160832\n",
              "4       174641\n",
              "         ...  \n",
              "9995    160832\n",
              "9996    183085\n",
              "9997    143240\n",
              "9998    160832\n",
              "9999    129102\n",
              "Name: ASSET MODEL NO, Length: 9990, dtype: int64"
            ],
            "text/html": [
              "<div>\n",
              "<style scoped>\n",
              "    .dataframe tbody tr th:only-of-type {\n",
              "        vertical-align: middle;\n",
              "    }\n",
              "\n",
              "    .dataframe tbody tr th {\n",
              "        vertical-align: top;\n",
              "    }\n",
              "\n",
              "    .dataframe thead th {\n",
              "        text-align: right;\n",
              "    }\n",
              "</style>\n",
              "<table border=\"1\" class=\"dataframe\">\n",
              "  <thead>\n",
              "    <tr style=\"text-align: right;\">\n",
              "      <th></th>\n",
              "      <th>ASSET MODEL NO</th>\n",
              "    </tr>\n",
              "  </thead>\n",
              "  <tbody>\n",
              "    <tr>\n",
              "      <th>0</th>\n",
              "      <td>139542</td>\n",
              "    </tr>\n",
              "    <tr>\n",
              "      <th>1</th>\n",
              "      <td>140208</td>\n",
              "    </tr>\n",
              "    <tr>\n",
              "      <th>2</th>\n",
              "      <td>160001</td>\n",
              "    </tr>\n",
              "    <tr>\n",
              "      <th>3</th>\n",
              "      <td>160832</td>\n",
              "    </tr>\n",
              "    <tr>\n",
              "      <th>4</th>\n",
              "      <td>174641</td>\n",
              "    </tr>\n",
              "    <tr>\n",
              "      <th>...</th>\n",
              "      <td>...</td>\n",
              "    </tr>\n",
              "    <tr>\n",
              "      <th>9995</th>\n",
              "      <td>160832</td>\n",
              "    </tr>\n",
              "    <tr>\n",
              "      <th>9996</th>\n",
              "      <td>183085</td>\n",
              "    </tr>\n",
              "    <tr>\n",
              "      <th>9997</th>\n",
              "      <td>143240</td>\n",
              "    </tr>\n",
              "    <tr>\n",
              "      <th>9998</th>\n",
              "      <td>160832</td>\n",
              "    </tr>\n",
              "    <tr>\n",
              "      <th>9999</th>\n",
              "      <td>129102</td>\n",
              "    </tr>\n",
              "  </tbody>\n",
              "</table>\n",
              "<p>9990 rows × 1 columns</p>\n",
              "</div><br><label><b>dtype:</b> int64</label>"
            ]
          },
          "metadata": {},
          "execution_count": 1088
        }
      ],
      "source": [
        "train['ASSET MODEL NO']\n"
      ]
    },
    {
      "cell_type": "code",
      "execution_count": 1089,
      "metadata": {
        "colab": {
          "base_uri": "https://localhost:8080/"
        },
        "id": "DKv0P_h_Gn6t",
        "outputId": "74cf4329-6ac1-4941-ddcf-40e6fe20f2b1"
      },
      "outputs": [
        {
          "output_type": "execute_result",
          "data": {
            "text/plain": [
              "0"
            ]
          },
          "metadata": {},
          "execution_count": 1089
        }
      ],
      "source": [
        "train['ASSET MODEL NO'].isnull().sum()"
      ]
    },
    {
      "cell_type": "markdown",
      "metadata": {
        "id": "uTHP2xeKGn6t"
      },
      "source": [
        "# APPLIED AMOUNT"
      ]
    },
    {
      "cell_type": "code",
      "execution_count": 1090,
      "metadata": {
        "colab": {
          "base_uri": "https://localhost:8080/"
        },
        "id": "3I2w4jyYGn6t",
        "outputId": "b802930a-0f64-44e4-b3ac-cf29d394502e"
      },
      "outputs": [
        {
          "output_type": "execute_result",
          "data": {
            "text/plain": [
              "91788.50900900901"
            ]
          },
          "metadata": {},
          "execution_count": 1090
        }
      ],
      "source": [
        "train['APPLIED AMOUNT'].mean()"
      ]
    },
    {
      "cell_type": "code",
      "execution_count": 1091,
      "metadata": {
        "colab": {
          "base_uri": "https://localhost:8080/"
        },
        "id": "gDUW7trgGn6u",
        "outputId": "da7d6de6-cda6-4105-a752-ae1de045b957"
      },
      "outputs": [
        {
          "output_type": "execute_result",
          "data": {
            "text/plain": [
              "10400"
            ]
          },
          "metadata": {},
          "execution_count": 1091
        }
      ],
      "source": [
        "train['APPLIED AMOUNT'].min()"
      ]
    },
    {
      "cell_type": "code",
      "execution_count": 1092,
      "metadata": {
        "colab": {
          "base_uri": "https://localhost:8080/"
        },
        "id": "w6MsA88AGn6u",
        "outputId": "d4bc4658-aeee-4e34-c13b-1227abdb4e6f"
      },
      "outputs": [
        {
          "output_type": "execute_result",
          "data": {
            "text/plain": [
              "1420000"
            ]
          },
          "metadata": {},
          "execution_count": 1092
        }
      ],
      "source": [
        "train['APPLIED AMOUNT'].max()\n"
      ]
    },
    {
      "cell_type": "code",
      "execution_count": 1093,
      "metadata": {
        "colab": {
          "base_uri": "https://localhost:8080/"
        },
        "id": "569ME24JGn6u",
        "outputId": "6b0c881e-f0d8-4144-8e43-58febf4100cb"
      },
      "outputs": [
        {
          "output_type": "execute_result",
          "data": {
            "text/plain": [
              "0"
            ]
          },
          "metadata": {},
          "execution_count": 1093
        }
      ],
      "source": [
        "train['APPLIED AMOUNT'].isnull().sum()"
      ]
    },
    {
      "cell_type": "markdown",
      "metadata": {
        "id": "n8iS92vRGn6v"
      },
      "source": [
        "# PRIMARY ASSET MAKE"
      ]
    },
    {
      "cell_type": "code",
      "execution_count": 1094,
      "metadata": {
        "colab": {
          "base_uri": "https://localhost:8080/",
          "height": 458
        },
        "id": "68U2mc5NGn6v",
        "outputId": "b8361b2a-713e-466a-c901-ccf439362aca"
      },
      "outputs": [
        {
          "output_type": "execute_result",
          "data": {
            "text/plain": [
              "0       HONDA MOTORS\n",
              "1        HERO MOTORS\n",
              "2       TVS MOTOR CO\n",
              "3        HERO MOTORS\n",
              "4       HONDA MOTORS\n",
              "            ...     \n",
              "9995     HERO MOTORS\n",
              "9996    TVS MOTOR CO\n",
              "9997    HONDA MOTORS\n",
              "9998     HERO MOTORS\n",
              "9999    HONDA MOTORS\n",
              "Name: PRIMARY ASSET MAKE, Length: 9990, dtype: object"
            ],
            "text/html": [
              "<div>\n",
              "<style scoped>\n",
              "    .dataframe tbody tr th:only-of-type {\n",
              "        vertical-align: middle;\n",
              "    }\n",
              "\n",
              "    .dataframe tbody tr th {\n",
              "        vertical-align: top;\n",
              "    }\n",
              "\n",
              "    .dataframe thead th {\n",
              "        text-align: right;\n",
              "    }\n",
              "</style>\n",
              "<table border=\"1\" class=\"dataframe\">\n",
              "  <thead>\n",
              "    <tr style=\"text-align: right;\">\n",
              "      <th></th>\n",
              "      <th>PRIMARY ASSET MAKE</th>\n",
              "    </tr>\n",
              "  </thead>\n",
              "  <tbody>\n",
              "    <tr>\n",
              "      <th>0</th>\n",
              "      <td>HONDA MOTORS</td>\n",
              "    </tr>\n",
              "    <tr>\n",
              "      <th>1</th>\n",
              "      <td>HERO MOTORS</td>\n",
              "    </tr>\n",
              "    <tr>\n",
              "      <th>2</th>\n",
              "      <td>TVS MOTOR CO</td>\n",
              "    </tr>\n",
              "    <tr>\n",
              "      <th>3</th>\n",
              "      <td>HERO MOTORS</td>\n",
              "    </tr>\n",
              "    <tr>\n",
              "      <th>4</th>\n",
              "      <td>HONDA MOTORS</td>\n",
              "    </tr>\n",
              "    <tr>\n",
              "      <th>...</th>\n",
              "      <td>...</td>\n",
              "    </tr>\n",
              "    <tr>\n",
              "      <th>9995</th>\n",
              "      <td>HERO MOTORS</td>\n",
              "    </tr>\n",
              "    <tr>\n",
              "      <th>9996</th>\n",
              "      <td>TVS MOTOR CO</td>\n",
              "    </tr>\n",
              "    <tr>\n",
              "      <th>9997</th>\n",
              "      <td>HONDA MOTORS</td>\n",
              "    </tr>\n",
              "    <tr>\n",
              "      <th>9998</th>\n",
              "      <td>HERO MOTORS</td>\n",
              "    </tr>\n",
              "    <tr>\n",
              "      <th>9999</th>\n",
              "      <td>HONDA MOTORS</td>\n",
              "    </tr>\n",
              "  </tbody>\n",
              "</table>\n",
              "<p>9990 rows × 1 columns</p>\n",
              "</div><br><label><b>dtype:</b> object</label>"
            ]
          },
          "metadata": {},
          "execution_count": 1094
        }
      ],
      "source": [
        "train['PRIMARY ASSET MAKE']"
      ]
    },
    {
      "cell_type": "code",
      "execution_count": 1095,
      "metadata": {
        "colab": {
          "base_uri": "https://localhost:8080/"
        },
        "id": "nVEKtaUlGn6v",
        "outputId": "3052e707-71a4-4fc3-b123-13c210b8f471"
      },
      "outputs": [
        {
          "output_type": "execute_result",
          "data": {
            "text/plain": [
              "17"
            ]
          },
          "metadata": {},
          "execution_count": 1095
        }
      ],
      "source": [
        "len(train['PRIMARY ASSET MAKE'].unique())\n"
      ]
    },
    {
      "cell_type": "code",
      "execution_count": 1096,
      "metadata": {
        "colab": {
          "base_uri": "https://localhost:8080/"
        },
        "id": "vJzN1EZ0Gn6v",
        "outputId": "f15c1ed1-c408-42cb-cd45-09eee3ba125a"
      },
      "outputs": [
        {
          "output_type": "execute_result",
          "data": {
            "text/plain": [
              "0"
            ]
          },
          "metadata": {},
          "execution_count": 1096
        }
      ],
      "source": [
        "train['PRIMARY ASSET MAKE'].isnull().sum()\n"
      ]
    },
    {
      "cell_type": "code",
      "execution_count": 1097,
      "metadata": {
        "colab": {
          "base_uri": "https://localhost:8080/",
          "height": 648
        },
        "id": "oqzGa6VwGn6w",
        "outputId": "fbc7d169-b308-4f40-952e-61765eea0b63"
      },
      "outputs": [
        {
          "output_type": "execute_result",
          "data": {
            "text/plain": [
              "PRIMARY ASSET MAKE\n",
              "HERO MOTORS                     3616\n",
              "HONDA MOTORS                    3257\n",
              "TVS MOTOR CO                    1413\n",
              "BAJAJ AUTO INDIA                 746\n",
              "SUZUKI MOTORCYCLE                483\n",
              "YAMAHA MOTOR                     224\n",
              "AMO ELECTRIC                      68\n",
              "OKAYA ELECTRIC                    49\n",
              "OKINAWA ELECTRIC                  26\n",
              "AMPERE MOTORS                     26\n",
              "HOP ELECTRIC                      19\n",
              "BENLING ELECTRIC                  17\n",
              "HERO ELECTRIC VEHICLES P LTD      15\n",
              "ROYAL ENFIELD BIKES INDIA         12\n",
              "PIAGGIO INDIA                     12\n",
              "JAWA MOTORS                        6\n",
              "ATHER ELECTRIC                     1\n",
              "Name: count, dtype: int64"
            ],
            "text/html": [
              "<div>\n",
              "<style scoped>\n",
              "    .dataframe tbody tr th:only-of-type {\n",
              "        vertical-align: middle;\n",
              "    }\n",
              "\n",
              "    .dataframe tbody tr th {\n",
              "        vertical-align: top;\n",
              "    }\n",
              "\n",
              "    .dataframe thead th {\n",
              "        text-align: right;\n",
              "    }\n",
              "</style>\n",
              "<table border=\"1\" class=\"dataframe\">\n",
              "  <thead>\n",
              "    <tr style=\"text-align: right;\">\n",
              "      <th></th>\n",
              "      <th>count</th>\n",
              "    </tr>\n",
              "    <tr>\n",
              "      <th>PRIMARY ASSET MAKE</th>\n",
              "      <th></th>\n",
              "    </tr>\n",
              "  </thead>\n",
              "  <tbody>\n",
              "    <tr>\n",
              "      <th>HERO MOTORS</th>\n",
              "      <td>3616</td>\n",
              "    </tr>\n",
              "    <tr>\n",
              "      <th>HONDA MOTORS</th>\n",
              "      <td>3257</td>\n",
              "    </tr>\n",
              "    <tr>\n",
              "      <th>TVS MOTOR CO</th>\n",
              "      <td>1413</td>\n",
              "    </tr>\n",
              "    <tr>\n",
              "      <th>BAJAJ AUTO INDIA</th>\n",
              "      <td>746</td>\n",
              "    </tr>\n",
              "    <tr>\n",
              "      <th>SUZUKI MOTORCYCLE</th>\n",
              "      <td>483</td>\n",
              "    </tr>\n",
              "    <tr>\n",
              "      <th>YAMAHA MOTOR</th>\n",
              "      <td>224</td>\n",
              "    </tr>\n",
              "    <tr>\n",
              "      <th>AMO ELECTRIC</th>\n",
              "      <td>68</td>\n",
              "    </tr>\n",
              "    <tr>\n",
              "      <th>OKAYA ELECTRIC</th>\n",
              "      <td>49</td>\n",
              "    </tr>\n",
              "    <tr>\n",
              "      <th>OKINAWA ELECTRIC</th>\n",
              "      <td>26</td>\n",
              "    </tr>\n",
              "    <tr>\n",
              "      <th>AMPERE MOTORS</th>\n",
              "      <td>26</td>\n",
              "    </tr>\n",
              "    <tr>\n",
              "      <th>HOP ELECTRIC</th>\n",
              "      <td>19</td>\n",
              "    </tr>\n",
              "    <tr>\n",
              "      <th>BENLING ELECTRIC</th>\n",
              "      <td>17</td>\n",
              "    </tr>\n",
              "    <tr>\n",
              "      <th>HERO ELECTRIC VEHICLES P LTD</th>\n",
              "      <td>15</td>\n",
              "    </tr>\n",
              "    <tr>\n",
              "      <th>ROYAL ENFIELD BIKES INDIA</th>\n",
              "      <td>12</td>\n",
              "    </tr>\n",
              "    <tr>\n",
              "      <th>PIAGGIO INDIA</th>\n",
              "      <td>12</td>\n",
              "    </tr>\n",
              "    <tr>\n",
              "      <th>JAWA MOTORS</th>\n",
              "      <td>6</td>\n",
              "    </tr>\n",
              "    <tr>\n",
              "      <th>ATHER ELECTRIC</th>\n",
              "      <td>1</td>\n",
              "    </tr>\n",
              "  </tbody>\n",
              "</table>\n",
              "</div><br><label><b>dtype:</b> int64</label>"
            ]
          },
          "metadata": {},
          "execution_count": 1097
        }
      ],
      "source": [
        "train[\"PRIMARY ASSET MAKE\"].value_counts()"
      ]
    },
    {
      "cell_type": "code",
      "execution_count": 1098,
      "metadata": {
        "id": "1VBsrQyUGn6w"
      },
      "outputs": [],
      "source": [
        "ohe_encoder2 = OneHotEncoder(drop='first', sparse_output=False, handle_unknown='ignore')\n"
      ]
    },
    {
      "cell_type": "markdown",
      "metadata": {
        "id": "tvJMBqkpGn6x"
      },
      "source": [
        "# Primary Asset Model No"
      ]
    },
    {
      "cell_type": "code",
      "execution_count": 1099,
      "metadata": {
        "colab": {
          "base_uri": "https://localhost:8080/",
          "height": 458
        },
        "id": "rAJCpD-AGn6x",
        "outputId": "06877541-51fe-426e-e197-e51262010a9a"
      },
      "outputs": [
        {
          "output_type": "execute_result",
          "data": {
            "text/plain": [
              "0                           SHINE DRUM BSVI\n",
              "1          SPLENDOR PLUS SELF DRUM BSVI I3S\n",
              "2        TVS NTORQ SUPER SQUAD EDITION BSVI\n",
              "3       SPLENDOR+ BLK ACCT SS DRUM I3S BSVI\n",
              "4                              DIO STD BSVI\n",
              "                       ...                 \n",
              "9995    SPLENDOR+ BLK ACCT SS DRUM I3S BSVI\n",
              "9996                   RAIDER 125 DISC BSVI\n",
              "9997                     ACTIVA 6G DLX BSVI\n",
              "9998    SPLENDOR+ BLK ACCT SS DRUM I3S BSVI\n",
              "9999                      SP 125 DRUM BS VI\n",
              "Name: Primary Asset Model No, Length: 9990, dtype: object"
            ],
            "text/html": [
              "<div>\n",
              "<style scoped>\n",
              "    .dataframe tbody tr th:only-of-type {\n",
              "        vertical-align: middle;\n",
              "    }\n",
              "\n",
              "    .dataframe tbody tr th {\n",
              "        vertical-align: top;\n",
              "    }\n",
              "\n",
              "    .dataframe thead th {\n",
              "        text-align: right;\n",
              "    }\n",
              "</style>\n",
              "<table border=\"1\" class=\"dataframe\">\n",
              "  <thead>\n",
              "    <tr style=\"text-align: right;\">\n",
              "      <th></th>\n",
              "      <th>Primary Asset Model No</th>\n",
              "    </tr>\n",
              "  </thead>\n",
              "  <tbody>\n",
              "    <tr>\n",
              "      <th>0</th>\n",
              "      <td>SHINE DRUM BSVI</td>\n",
              "    </tr>\n",
              "    <tr>\n",
              "      <th>1</th>\n",
              "      <td>SPLENDOR PLUS SELF DRUM BSVI I3S</td>\n",
              "    </tr>\n",
              "    <tr>\n",
              "      <th>2</th>\n",
              "      <td>TVS NTORQ SUPER SQUAD EDITION BSVI</td>\n",
              "    </tr>\n",
              "    <tr>\n",
              "      <th>3</th>\n",
              "      <td>SPLENDOR+ BLK ACCT SS DRUM I3S BSVI</td>\n",
              "    </tr>\n",
              "    <tr>\n",
              "      <th>4</th>\n",
              "      <td>DIO STD BSVI</td>\n",
              "    </tr>\n",
              "    <tr>\n",
              "      <th>...</th>\n",
              "      <td>...</td>\n",
              "    </tr>\n",
              "    <tr>\n",
              "      <th>9995</th>\n",
              "      <td>SPLENDOR+ BLK ACCT SS DRUM I3S BSVI</td>\n",
              "    </tr>\n",
              "    <tr>\n",
              "      <th>9996</th>\n",
              "      <td>RAIDER 125 DISC BSVI</td>\n",
              "    </tr>\n",
              "    <tr>\n",
              "      <th>9997</th>\n",
              "      <td>ACTIVA 6G DLX BSVI</td>\n",
              "    </tr>\n",
              "    <tr>\n",
              "      <th>9998</th>\n",
              "      <td>SPLENDOR+ BLK ACCT SS DRUM I3S BSVI</td>\n",
              "    </tr>\n",
              "    <tr>\n",
              "      <th>9999</th>\n",
              "      <td>SP 125 DRUM BS VI</td>\n",
              "    </tr>\n",
              "  </tbody>\n",
              "</table>\n",
              "<p>9990 rows × 1 columns</p>\n",
              "</div><br><label><b>dtype:</b> object</label>"
            ]
          },
          "metadata": {},
          "execution_count": 1099
        }
      ],
      "source": [
        "train['Primary Asset Model No']"
      ]
    },
    {
      "cell_type": "code",
      "execution_count": 1100,
      "metadata": {
        "colab": {
          "base_uri": "https://localhost:8080/"
        },
        "id": "FDEZ8XeyGn6x",
        "outputId": "477bbf7b-eee6-454c-e35a-313157ac9e03"
      },
      "outputs": [
        {
          "output_type": "execute_result",
          "data": {
            "text/plain": [
              "0"
            ]
          },
          "metadata": {},
          "execution_count": 1100
        }
      ],
      "source": [
        "train[\"Primary Asset Model No\"].isnull().sum()"
      ]
    },
    {
      "cell_type": "code",
      "execution_count": 1101,
      "metadata": {
        "colab": {
          "base_uri": "https://localhost:8080/"
        },
        "id": "Lr8odkwyGn6y",
        "outputId": "e9668bad-1b3a-400e-c2e1-971c6c190dc1"
      },
      "outputs": [
        {
          "output_type": "execute_result",
          "data": {
            "text/plain": [
              "267"
            ]
          },
          "metadata": {},
          "execution_count": 1101
        }
      ],
      "source": [
        "train[\"Primary Asset Model No\"].nunique()"
      ]
    },
    {
      "cell_type": "code",
      "execution_count": 1102,
      "metadata": {
        "id": "aZgJDsYJGn6y"
      },
      "outputs": [],
      "source": [
        "train.drop('Primary Asset Model No',axis=1,inplace=True)"
      ]
    },
    {
      "cell_type": "markdown",
      "metadata": {
        "id": "Nf1iqU9oGn6y"
      },
      "source": [
        "# Personal Email Address"
      ]
    },
    {
      "cell_type": "code",
      "execution_count": 1103,
      "metadata": {
        "colab": {
          "base_uri": "https://localhost:8080/",
          "height": 458
        },
        "id": "Pqsn-9RNGn6z",
        "outputId": "5ea73645-c71b-40af-d026-55b7ea286613"
      },
      "outputs": [
        {
          "output_type": "execute_result",
          "data": {
            "text/plain": [
              "0          SUNILSEHRAWAT7355@GMAIL.COM\n",
              "1                       NULL@GMAIL.COM\n",
              "2              CHETTRIDIKSHA@GMAIL.COM\n",
              "3                   ADITYA98@GAMIL.COM\n",
              "4       PARMARHARESHBHAI1989@GMAIL.COM\n",
              "                     ...              \n",
              "9995           AJAYDEVSHAKYA@GMAIL.COM\n",
              "9996      SURESHWISHKARMA356@GMAIL.COM\n",
              "9997                  SANJAY@GMAIL.COM\n",
              "9998                  NOMAIL@GMAIL.COM\n",
              "9999        SAMEER.KHAN12345@GMAIL.COM\n",
              "Name: Personal Email Address, Length: 9990, dtype: object"
            ],
            "text/html": [
              "<div>\n",
              "<style scoped>\n",
              "    .dataframe tbody tr th:only-of-type {\n",
              "        vertical-align: middle;\n",
              "    }\n",
              "\n",
              "    .dataframe tbody tr th {\n",
              "        vertical-align: top;\n",
              "    }\n",
              "\n",
              "    .dataframe thead th {\n",
              "        text-align: right;\n",
              "    }\n",
              "</style>\n",
              "<table border=\"1\" class=\"dataframe\">\n",
              "  <thead>\n",
              "    <tr style=\"text-align: right;\">\n",
              "      <th></th>\n",
              "      <th>Personal Email Address</th>\n",
              "    </tr>\n",
              "  </thead>\n",
              "  <tbody>\n",
              "    <tr>\n",
              "      <th>0</th>\n",
              "      <td>SUNILSEHRAWAT7355@GMAIL.COM</td>\n",
              "    </tr>\n",
              "    <tr>\n",
              "      <th>1</th>\n",
              "      <td>NULL@GMAIL.COM</td>\n",
              "    </tr>\n",
              "    <tr>\n",
              "      <th>2</th>\n",
              "      <td>CHETTRIDIKSHA@GMAIL.COM</td>\n",
              "    </tr>\n",
              "    <tr>\n",
              "      <th>3</th>\n",
              "      <td>ADITYA98@GAMIL.COM</td>\n",
              "    </tr>\n",
              "    <tr>\n",
              "      <th>4</th>\n",
              "      <td>PARMARHARESHBHAI1989@GMAIL.COM</td>\n",
              "    </tr>\n",
              "    <tr>\n",
              "      <th>...</th>\n",
              "      <td>...</td>\n",
              "    </tr>\n",
              "    <tr>\n",
              "      <th>9995</th>\n",
              "      <td>AJAYDEVSHAKYA@GMAIL.COM</td>\n",
              "    </tr>\n",
              "    <tr>\n",
              "      <th>9996</th>\n",
              "      <td>SURESHWISHKARMA356@GMAIL.COM</td>\n",
              "    </tr>\n",
              "    <tr>\n",
              "      <th>9997</th>\n",
              "      <td>SANJAY@GMAIL.COM</td>\n",
              "    </tr>\n",
              "    <tr>\n",
              "      <th>9998</th>\n",
              "      <td>NOMAIL@GMAIL.COM</td>\n",
              "    </tr>\n",
              "    <tr>\n",
              "      <th>9999</th>\n",
              "      <td>SAMEER.KHAN12345@GMAIL.COM</td>\n",
              "    </tr>\n",
              "  </tbody>\n",
              "</table>\n",
              "<p>9990 rows × 1 columns</p>\n",
              "</div><br><label><b>dtype:</b> object</label>"
            ]
          },
          "metadata": {},
          "execution_count": 1103
        }
      ],
      "source": [
        "train['Personal Email Address']"
      ]
    },
    {
      "cell_type": "code",
      "execution_count": 1104,
      "metadata": {
        "colab": {
          "base_uri": "https://localhost:8080/"
        },
        "id": "K5a7lKzgGn61",
        "outputId": "4cf60100-e030-44d9-e1e3-795b8223f9d7"
      },
      "outputs": [
        {
          "output_type": "execute_result",
          "data": {
            "text/plain": [
              "0"
            ]
          },
          "metadata": {},
          "execution_count": 1104
        }
      ],
      "source": [
        "train[\"Personal Email Address\"].isnull().sum()"
      ]
    },
    {
      "cell_type": "code",
      "execution_count": 1105,
      "metadata": {
        "colab": {
          "base_uri": "https://localhost:8080/",
          "height": 489
        },
        "id": "07_1ZNKhGn62",
        "outputId": "33e13691-95e9-4aeb-8a0b-abdd075224aa"
      },
      "outputs": [
        {
          "output_type": "execute_result",
          "data": {
            "text/plain": [
              "Personal Email Address\n",
              "NULL@GMAIL.COM                  932\n",
              "NOMAIL@GMAIL.COM                475\n",
              "NULL123@GMAIL.COM               168\n",
              "NOMAIL@NOMAIL.COM               136\n",
              "NUL@GMAIL.COM                   106\n",
              "                               ... \n",
              "PRADEEP123@GMAIL.COM              1\n",
              "PRINCEKR1454@GMAIL.COM            1\n",
              "RAJESH1988@GMAIL.COM              1\n",
              "NEETHUM@GMAIL.COM                 1\n",
              "SURESHWISHKARMA356@GMAIL.COM      1\n",
              "Name: count, Length: 6349, dtype: int64"
            ],
            "text/html": [
              "<div>\n",
              "<style scoped>\n",
              "    .dataframe tbody tr th:only-of-type {\n",
              "        vertical-align: middle;\n",
              "    }\n",
              "\n",
              "    .dataframe tbody tr th {\n",
              "        vertical-align: top;\n",
              "    }\n",
              "\n",
              "    .dataframe thead th {\n",
              "        text-align: right;\n",
              "    }\n",
              "</style>\n",
              "<table border=\"1\" class=\"dataframe\">\n",
              "  <thead>\n",
              "    <tr style=\"text-align: right;\">\n",
              "      <th></th>\n",
              "      <th>count</th>\n",
              "    </tr>\n",
              "    <tr>\n",
              "      <th>Personal Email Address</th>\n",
              "      <th></th>\n",
              "    </tr>\n",
              "  </thead>\n",
              "  <tbody>\n",
              "    <tr>\n",
              "      <th>NULL@GMAIL.COM</th>\n",
              "      <td>932</td>\n",
              "    </tr>\n",
              "    <tr>\n",
              "      <th>NOMAIL@GMAIL.COM</th>\n",
              "      <td>475</td>\n",
              "    </tr>\n",
              "    <tr>\n",
              "      <th>NULL123@GMAIL.COM</th>\n",
              "      <td>168</td>\n",
              "    </tr>\n",
              "    <tr>\n",
              "      <th>NOMAIL@NOMAIL.COM</th>\n",
              "      <td>136</td>\n",
              "    </tr>\n",
              "    <tr>\n",
              "      <th>NUL@GMAIL.COM</th>\n",
              "      <td>106</td>\n",
              "    </tr>\n",
              "    <tr>\n",
              "      <th>...</th>\n",
              "      <td>...</td>\n",
              "    </tr>\n",
              "    <tr>\n",
              "      <th>PRADEEP123@GMAIL.COM</th>\n",
              "      <td>1</td>\n",
              "    </tr>\n",
              "    <tr>\n",
              "      <th>PRINCEKR1454@GMAIL.COM</th>\n",
              "      <td>1</td>\n",
              "    </tr>\n",
              "    <tr>\n",
              "      <th>RAJESH1988@GMAIL.COM</th>\n",
              "      <td>1</td>\n",
              "    </tr>\n",
              "    <tr>\n",
              "      <th>NEETHUM@GMAIL.COM</th>\n",
              "      <td>1</td>\n",
              "    </tr>\n",
              "    <tr>\n",
              "      <th>SURESHWISHKARMA356@GMAIL.COM</th>\n",
              "      <td>1</td>\n",
              "    </tr>\n",
              "  </tbody>\n",
              "</table>\n",
              "<p>6349 rows × 1 columns</p>\n",
              "</div><br><label><b>dtype:</b> int64</label>"
            ]
          },
          "metadata": {},
          "execution_count": 1105
        }
      ],
      "source": [
        "train[\"Personal Email Address\"].value_counts()"
      ]
    },
    {
      "cell_type": "code",
      "execution_count": 1106,
      "metadata": {
        "id": "urMVjZduGn62"
      },
      "outputs": [],
      "source": [
        "# We drop Personal Email Address column\n",
        "train.drop('Personal Email Address',axis=1,inplace=True)"
      ]
    },
    {
      "cell_type": "markdown",
      "metadata": {
        "id": "Fx_57YWeGn63"
      },
      "source": [
        "# MARITAL STATUS"
      ]
    },
    {
      "cell_type": "code",
      "execution_count": 1107,
      "metadata": {
        "colab": {
          "base_uri": "https://localhost:8080/"
        },
        "id": "yE-1mEHnGn63",
        "outputId": "93820dbd-4c63-4fd0-c86a-05535c8b2c77"
      },
      "outputs": [
        {
          "output_type": "execute_result",
          "data": {
            "text/plain": [
              "0.488988988988989"
            ]
          },
          "metadata": {},
          "execution_count": 1107
        }
      ],
      "source": [
        "# % of Null Values\n",
        "train['MARITAL STATUS'].isnull().sum()/len(train)"
      ]
    },
    {
      "cell_type": "code",
      "execution_count": 1108,
      "metadata": {
        "colab": {
          "base_uri": "https://localhost:8080/"
        },
        "id": "uIoSwIoeGn64",
        "outputId": "6c1e80d3-06ee-4437-8cc3-4aa8a81c151f"
      },
      "outputs": [
        {
          "output_type": "execute_result",
          "data": {
            "text/plain": [
              "array(['Married', nan, 'Single'], dtype=object)"
            ]
          },
          "metadata": {},
          "execution_count": 1108
        }
      ],
      "source": [
        "train['MARITAL STATUS'].unique()"
      ]
    },
    {
      "cell_type": "code",
      "execution_count": 1109,
      "metadata": {
        "colab": {
          "base_uri": "https://localhost:8080/",
          "height": 178
        },
        "id": "GI8SeSn3Gn64",
        "outputId": "72f81487-e7a7-4799-8619-0d0d7c27ce51"
      },
      "outputs": [
        {
          "output_type": "execute_result",
          "data": {
            "text/plain": [
              "MARITAL STATUS\n",
              "Married    38.368368\n",
              "Single     12.732733\n",
              "Name: count, dtype: float64"
            ],
            "text/html": [
              "<div>\n",
              "<style scoped>\n",
              "    .dataframe tbody tr th:only-of-type {\n",
              "        vertical-align: middle;\n",
              "    }\n",
              "\n",
              "    .dataframe tbody tr th {\n",
              "        vertical-align: top;\n",
              "    }\n",
              "\n",
              "    .dataframe thead th {\n",
              "        text-align: right;\n",
              "    }\n",
              "</style>\n",
              "<table border=\"1\" class=\"dataframe\">\n",
              "  <thead>\n",
              "    <tr style=\"text-align: right;\">\n",
              "      <th></th>\n",
              "      <th>count</th>\n",
              "    </tr>\n",
              "    <tr>\n",
              "      <th>MARITAL STATUS</th>\n",
              "      <th></th>\n",
              "    </tr>\n",
              "  </thead>\n",
              "  <tbody>\n",
              "    <tr>\n",
              "      <th>Married</th>\n",
              "      <td>38.368368</td>\n",
              "    </tr>\n",
              "    <tr>\n",
              "      <th>Single</th>\n",
              "      <td>12.732733</td>\n",
              "    </tr>\n",
              "  </tbody>\n",
              "</table>\n",
              "</div><br><label><b>dtype:</b> float64</label>"
            ]
          },
          "metadata": {},
          "execution_count": 1109
        }
      ],
      "source": [
        "train['MARITAL STATUS'].value_counts()/len(train['MARITAL STATUS'])*100"
      ]
    },
    {
      "cell_type": "code",
      "execution_count": 1110,
      "metadata": {
        "id": "NwYyW0jQGn65"
      },
      "outputs": [],
      "source": [
        "#Encode\n",
        "train['MARITAL STATUS'].fillna(\"NOT-KNOWN\", inplace=True)"
      ]
    },
    {
      "cell_type": "code",
      "execution_count": 1111,
      "metadata": {
        "id": "iwJVtUQXGn65"
      },
      "outputs": [],
      "source": [
        "ohe_encoder3 = OneHotEncoder(drop='first', sparse_output=False, handle_unknown='ignore')\n"
      ]
    },
    {
      "cell_type": "markdown",
      "metadata": {
        "id": "ecHJqaB9Gn65"
      },
      "source": [
        "# GENDER\n"
      ]
    },
    {
      "cell_type": "code",
      "execution_count": 1112,
      "metadata": {
        "colab": {
          "base_uri": "https://localhost:8080/",
          "height": 178
        },
        "id": "WdODM8LfGn65",
        "outputId": "abdfd71c-c023-4718-af48-784ab087f262"
      },
      "outputs": [
        {
          "output_type": "execute_result",
          "data": {
            "text/plain": [
              "GENDER\n",
              "Male      0.840741\n",
              "Female    0.159259\n",
              "Name: count, dtype: float64"
            ],
            "text/html": [
              "<div>\n",
              "<style scoped>\n",
              "    .dataframe tbody tr th:only-of-type {\n",
              "        vertical-align: middle;\n",
              "    }\n",
              "\n",
              "    .dataframe tbody tr th {\n",
              "        vertical-align: top;\n",
              "    }\n",
              "\n",
              "    .dataframe thead th {\n",
              "        text-align: right;\n",
              "    }\n",
              "</style>\n",
              "<table border=\"1\" class=\"dataframe\">\n",
              "  <thead>\n",
              "    <tr style=\"text-align: right;\">\n",
              "      <th></th>\n",
              "      <th>count</th>\n",
              "    </tr>\n",
              "    <tr>\n",
              "      <th>GENDER</th>\n",
              "      <th></th>\n",
              "    </tr>\n",
              "  </thead>\n",
              "  <tbody>\n",
              "    <tr>\n",
              "      <th>Male</th>\n",
              "      <td>0.840741</td>\n",
              "    </tr>\n",
              "    <tr>\n",
              "      <th>Female</th>\n",
              "      <td>0.159259</td>\n",
              "    </tr>\n",
              "  </tbody>\n",
              "</table>\n",
              "</div><br><label><b>dtype:</b> float64</label>"
            ]
          },
          "metadata": {},
          "execution_count": 1112
        }
      ],
      "source": [
        "train['GENDER'].value_counts()/len(train)"
      ]
    },
    {
      "cell_type": "code",
      "execution_count": 1113,
      "metadata": {
        "colab": {
          "base_uri": "https://localhost:8080/"
        },
        "id": "DzuVhTSFGn66",
        "outputId": "943106aa-b697-4e5c-eb7f-2239a045c9b6"
      },
      "outputs": [
        {
          "output_type": "execute_result",
          "data": {
            "text/plain": [
              "0"
            ]
          },
          "metadata": {},
          "execution_count": 1113
        }
      ],
      "source": [
        "train['GENDER'].isnull().sum()"
      ]
    },
    {
      "cell_type": "code",
      "execution_count": 1114,
      "metadata": {
        "id": "Y9apsX3TGn66"
      },
      "outputs": [],
      "source": [
        "ohe_encoder4 = OneHotEncoder(drop='first', sparse_output=False, handle_unknown='ignore')\n"
      ]
    },
    {
      "cell_type": "markdown",
      "metadata": {
        "id": "9eCb1Sy_Gn67"
      },
      "source": [
        "# DOB"
      ]
    },
    {
      "cell_type": "code",
      "execution_count": 1115,
      "metadata": {
        "colab": {
          "base_uri": "https://localhost:8080/",
          "height": 458
        },
        "id": "l3rsE3KzGn67",
        "outputId": "a7f426a2-8b51-4b7c-b615-5d43d1f0c115"
      },
      "outputs": [
        {
          "output_type": "execute_result",
          "data": {
            "text/plain": [
              "0        1041978\n",
              "1        1011997\n",
              "2        9081999\n",
              "3        3071998\n",
              "4        5071989\n",
              "          ...   \n",
              "9995    12042000\n",
              "9996     2101971\n",
              "9997     1011983\n",
              "9998    19121970\n",
              "9999     1011997\n",
              "Name: DOB, Length: 9990, dtype: int64"
            ],
            "text/html": [
              "<div>\n",
              "<style scoped>\n",
              "    .dataframe tbody tr th:only-of-type {\n",
              "        vertical-align: middle;\n",
              "    }\n",
              "\n",
              "    .dataframe tbody tr th {\n",
              "        vertical-align: top;\n",
              "    }\n",
              "\n",
              "    .dataframe thead th {\n",
              "        text-align: right;\n",
              "    }\n",
              "</style>\n",
              "<table border=\"1\" class=\"dataframe\">\n",
              "  <thead>\n",
              "    <tr style=\"text-align: right;\">\n",
              "      <th></th>\n",
              "      <th>DOB</th>\n",
              "    </tr>\n",
              "  </thead>\n",
              "  <tbody>\n",
              "    <tr>\n",
              "      <th>0</th>\n",
              "      <td>1041978</td>\n",
              "    </tr>\n",
              "    <tr>\n",
              "      <th>1</th>\n",
              "      <td>1011997</td>\n",
              "    </tr>\n",
              "    <tr>\n",
              "      <th>2</th>\n",
              "      <td>9081999</td>\n",
              "    </tr>\n",
              "    <tr>\n",
              "      <th>3</th>\n",
              "      <td>3071998</td>\n",
              "    </tr>\n",
              "    <tr>\n",
              "      <th>4</th>\n",
              "      <td>5071989</td>\n",
              "    </tr>\n",
              "    <tr>\n",
              "      <th>...</th>\n",
              "      <td>...</td>\n",
              "    </tr>\n",
              "    <tr>\n",
              "      <th>9995</th>\n",
              "      <td>12042000</td>\n",
              "    </tr>\n",
              "    <tr>\n",
              "      <th>9996</th>\n",
              "      <td>2101971</td>\n",
              "    </tr>\n",
              "    <tr>\n",
              "      <th>9997</th>\n",
              "      <td>1011983</td>\n",
              "    </tr>\n",
              "    <tr>\n",
              "      <th>9998</th>\n",
              "      <td>19121970</td>\n",
              "    </tr>\n",
              "    <tr>\n",
              "      <th>9999</th>\n",
              "      <td>1011997</td>\n",
              "    </tr>\n",
              "  </tbody>\n",
              "</table>\n",
              "<p>9990 rows × 1 columns</p>\n",
              "</div><br><label><b>dtype:</b> int64</label>"
            ]
          },
          "metadata": {},
          "execution_count": 1115
        }
      ],
      "source": [
        "train['DOB']"
      ]
    },
    {
      "cell_type": "code",
      "execution_count": 1116,
      "metadata": {
        "colab": {
          "base_uri": "https://localhost:8080/"
        },
        "id": "L47F0_F5Gn67",
        "outputId": "5dd4f868-6418-4b3e-a0cf-0946cccfcb7c"
      },
      "outputs": [
        {
          "output_type": "execute_result",
          "data": {
            "text/plain": [
              "0"
            ]
          },
          "metadata": {},
          "execution_count": 1116
        }
      ],
      "source": [
        "train['DOB'].isnull().sum()"
      ]
    },
    {
      "cell_type": "code",
      "execution_count": 1117,
      "metadata": {
        "id": "9kc_UBfFGn7A"
      },
      "outputs": [],
      "source": [
        "# we can drop DOB column as we have age\n",
        "train.drop('DOB',axis=1,inplace=True)"
      ]
    },
    {
      "cell_type": "markdown",
      "metadata": {
        "id": "k4Mbh1V5Gn7B"
      },
      "source": [
        "# AGE"
      ]
    },
    {
      "cell_type": "code",
      "execution_count": 1118,
      "metadata": {
        "colab": {
          "base_uri": "https://localhost:8080/",
          "height": 458
        },
        "id": "0YkPFXPyGn7B",
        "outputId": "84d725c0-8e80-4f76-ee8b-2a5583ab8b3c"
      },
      "outputs": [
        {
          "output_type": "execute_result",
          "data": {
            "text/plain": [
              "0       44\n",
              "1       25\n",
              "2       22\n",
              "3       24\n",
              "4       33\n",
              "        ..\n",
              "9995    22\n",
              "9996    50\n",
              "9997    39\n",
              "9998    51\n",
              "9999    25\n",
              "Name: AGE, Length: 9990, dtype: int64"
            ],
            "text/html": [
              "<div>\n",
              "<style scoped>\n",
              "    .dataframe tbody tr th:only-of-type {\n",
              "        vertical-align: middle;\n",
              "    }\n",
              "\n",
              "    .dataframe tbody tr th {\n",
              "        vertical-align: top;\n",
              "    }\n",
              "\n",
              "    .dataframe thead th {\n",
              "        text-align: right;\n",
              "    }\n",
              "</style>\n",
              "<table border=\"1\" class=\"dataframe\">\n",
              "  <thead>\n",
              "    <tr style=\"text-align: right;\">\n",
              "      <th></th>\n",
              "      <th>AGE</th>\n",
              "    </tr>\n",
              "  </thead>\n",
              "  <tbody>\n",
              "    <tr>\n",
              "      <th>0</th>\n",
              "      <td>44</td>\n",
              "    </tr>\n",
              "    <tr>\n",
              "      <th>1</th>\n",
              "      <td>25</td>\n",
              "    </tr>\n",
              "    <tr>\n",
              "      <th>2</th>\n",
              "      <td>22</td>\n",
              "    </tr>\n",
              "    <tr>\n",
              "      <th>3</th>\n",
              "      <td>24</td>\n",
              "    </tr>\n",
              "    <tr>\n",
              "      <th>4</th>\n",
              "      <td>33</td>\n",
              "    </tr>\n",
              "    <tr>\n",
              "      <th>...</th>\n",
              "      <td>...</td>\n",
              "    </tr>\n",
              "    <tr>\n",
              "      <th>9995</th>\n",
              "      <td>22</td>\n",
              "    </tr>\n",
              "    <tr>\n",
              "      <th>9996</th>\n",
              "      <td>50</td>\n",
              "    </tr>\n",
              "    <tr>\n",
              "      <th>9997</th>\n",
              "      <td>39</td>\n",
              "    </tr>\n",
              "    <tr>\n",
              "      <th>9998</th>\n",
              "      <td>51</td>\n",
              "    </tr>\n",
              "    <tr>\n",
              "      <th>9999</th>\n",
              "      <td>25</td>\n",
              "    </tr>\n",
              "  </tbody>\n",
              "</table>\n",
              "<p>9990 rows × 1 columns</p>\n",
              "</div><br><label><b>dtype:</b> int64</label>"
            ]
          },
          "metadata": {},
          "execution_count": 1118
        }
      ],
      "source": [
        "train['AGE']"
      ]
    },
    {
      "cell_type": "code",
      "execution_count": 1119,
      "metadata": {
        "colab": {
          "base_uri": "https://localhost:8080/"
        },
        "id": "FXPJ-7edGn7C",
        "outputId": "621d4797-8131-4ae3-9822-75aa58e7c4ed"
      },
      "outputs": [
        {
          "output_type": "execute_result",
          "data": {
            "text/plain": [
              "0"
            ]
          },
          "metadata": {},
          "execution_count": 1119
        }
      ],
      "source": [
        "train['AGE'].isnull().sum()"
      ]
    },
    {
      "cell_type": "code",
      "execution_count": 1120,
      "metadata": {
        "colab": {
          "base_uri": "https://localhost:8080/"
        },
        "id": "eUJceBuVGn7D",
        "outputId": "525649ff-b413-4dc0-b706-837b85b52c43"
      },
      "outputs": [
        {
          "output_type": "execute_result",
          "data": {
            "text/plain": [
              "0"
            ]
          },
          "metadata": {},
          "execution_count": 1120
        }
      ],
      "source": [
        "train['AGE'].min()\n"
      ]
    },
    {
      "cell_type": "code",
      "execution_count": 1121,
      "metadata": {
        "colab": {
          "base_uri": "https://localhost:8080/"
        },
        "id": "1tOtVwhgGn7D",
        "outputId": "15649e04-1a56-4001-b818-3b8614f29a7f"
      },
      "outputs": [
        {
          "output_type": "execute_result",
          "data": {
            "text/plain": [
              "79"
            ]
          },
          "metadata": {},
          "execution_count": 1121
        }
      ],
      "source": [
        "train['AGE'].max()\n"
      ]
    },
    {
      "cell_type": "markdown",
      "metadata": {
        "id": "_t_oLdgTGn7E"
      },
      "source": [
        "# ADDRESS TYPE"
      ]
    },
    {
      "cell_type": "code",
      "execution_count": 1122,
      "metadata": {
        "colab": {
          "base_uri": "https://localhost:8080/",
          "height": 458
        },
        "id": "h-u3HEBRGn7F",
        "outputId": "141ec282-f60d-4659-ea7c-4b58cab3c23c"
      },
      "outputs": [
        {
          "output_type": "execute_result",
          "data": {
            "text/plain": [
              "0                Parental\n",
              "1                     NaN\n",
              "2       Self/Spouse Owned\n",
              "3                Parental\n",
              "4                     NaN\n",
              "              ...        \n",
              "9995             Parental\n",
              "9996    Self/Spouse Owned\n",
              "9997               Rented\n",
              "9998    Self/Spouse Owned\n",
              "9999             Parental\n",
              "Name: ADDRESS TYPE, Length: 9990, dtype: object"
            ],
            "text/html": [
              "<div>\n",
              "<style scoped>\n",
              "    .dataframe tbody tr th:only-of-type {\n",
              "        vertical-align: middle;\n",
              "    }\n",
              "\n",
              "    .dataframe tbody tr th {\n",
              "        vertical-align: top;\n",
              "    }\n",
              "\n",
              "    .dataframe thead th {\n",
              "        text-align: right;\n",
              "    }\n",
              "</style>\n",
              "<table border=\"1\" class=\"dataframe\">\n",
              "  <thead>\n",
              "    <tr style=\"text-align: right;\">\n",
              "      <th></th>\n",
              "      <th>ADDRESS TYPE</th>\n",
              "    </tr>\n",
              "  </thead>\n",
              "  <tbody>\n",
              "    <tr>\n",
              "      <th>0</th>\n",
              "      <td>Parental</td>\n",
              "    </tr>\n",
              "    <tr>\n",
              "      <th>1</th>\n",
              "      <td>NaN</td>\n",
              "    </tr>\n",
              "    <tr>\n",
              "      <th>2</th>\n",
              "      <td>Self/Spouse Owned</td>\n",
              "    </tr>\n",
              "    <tr>\n",
              "      <th>3</th>\n",
              "      <td>Parental</td>\n",
              "    </tr>\n",
              "    <tr>\n",
              "      <th>4</th>\n",
              "      <td>NaN</td>\n",
              "    </tr>\n",
              "    <tr>\n",
              "      <th>...</th>\n",
              "      <td>...</td>\n",
              "    </tr>\n",
              "    <tr>\n",
              "      <th>9995</th>\n",
              "      <td>Parental</td>\n",
              "    </tr>\n",
              "    <tr>\n",
              "      <th>9996</th>\n",
              "      <td>Self/Spouse Owned</td>\n",
              "    </tr>\n",
              "    <tr>\n",
              "      <th>9997</th>\n",
              "      <td>Rented</td>\n",
              "    </tr>\n",
              "    <tr>\n",
              "      <th>9998</th>\n",
              "      <td>Self/Spouse Owned</td>\n",
              "    </tr>\n",
              "    <tr>\n",
              "      <th>9999</th>\n",
              "      <td>Parental</td>\n",
              "    </tr>\n",
              "  </tbody>\n",
              "</table>\n",
              "<p>9990 rows × 1 columns</p>\n",
              "</div><br><label><b>dtype:</b> object</label>"
            ]
          },
          "metadata": {},
          "execution_count": 1122
        }
      ],
      "source": [
        "train['ADDRESS TYPE']"
      ]
    },
    {
      "cell_type": "code",
      "execution_count": 1123,
      "metadata": {
        "colab": {
          "base_uri": "https://localhost:8080/"
        },
        "id": "h---Bb8ZGn7G",
        "outputId": "0ff91275-4a26-49d6-8fc9-5d36423f0ce3"
      },
      "outputs": [
        {
          "output_type": "execute_result",
          "data": {
            "text/plain": [
              "array(['Parental', nan, 'Self/Spouse Owned', 'Rented', 'RESIDENCE',\n",
              "       'PARENT OWNED-HOUSE', 'OWNED-PENTHOUSE', 'Company Provided',\n",
              "       'OWNDED-FLAT', 'OWNED-BUNGLOW', 'OWNED-ROWHOUSE',\n",
              "       'PARENT OWNED-FLAT', 'RENTED-ROWHOUSE'], dtype=object)"
            ]
          },
          "metadata": {},
          "execution_count": 1123
        }
      ],
      "source": [
        "train['ADDRESS TYPE'].unique()"
      ]
    },
    {
      "cell_type": "code",
      "execution_count": 1124,
      "metadata": {
        "colab": {
          "base_uri": "https://localhost:8080/"
        },
        "id": "B4UtsQ4iGn7H",
        "outputId": "0a82637d-a740-4b60-f753-02880a816975"
      },
      "outputs": [
        {
          "output_type": "execute_result",
          "data": {
            "text/plain": [
              "0.33103103103103104"
            ]
          },
          "metadata": {},
          "execution_count": 1124
        }
      ],
      "source": [
        "train['ADDRESS TYPE'].isnull().sum()/len(train)\n"
      ]
    },
    {
      "cell_type": "code",
      "execution_count": 1125,
      "metadata": {
        "id": "AIXtwt3JGn7K"
      },
      "outputs": [],
      "source": [
        "# Impute\n",
        "train['ADDRESS TYPE'].fillna(\"NOT-KNOWN\", inplace=True)\n"
      ]
    },
    {
      "cell_type": "code",
      "execution_count": 1126,
      "metadata": {
        "id": "eXMcrqLSGn7K"
      },
      "outputs": [],
      "source": [
        "ohe_encoder5 = OneHotEncoder(drop='first', sparse_output=False, handle_unknown='ignore')\n"
      ]
    },
    {
      "cell_type": "markdown",
      "metadata": {
        "id": "vMwfWL4PGn7L"
      },
      "source": [
        "# EMPLOY CONSTITUTION"
      ]
    },
    {
      "cell_type": "code",
      "execution_count": 1127,
      "metadata": {
        "colab": {
          "base_uri": "https://localhost:8080/",
          "height": 458
        },
        "id": "8CJ9155BGn7M",
        "outputId": "30f15366-9070-4f00-d880-425159ae1587"
      },
      "outputs": [
        {
          "output_type": "execute_result",
          "data": {
            "text/plain": [
              "0            SALARIED\n",
              "1                 NaN\n",
              "2       SELF-EMPLOYED\n",
              "3       SELF-EMPLOYED\n",
              "4                 NaN\n",
              "            ...      \n",
              "9995         SALARIED\n",
              "9996    SELF-EMPLOYED\n",
              "9997    SELF-EMPLOYED\n",
              "9998    SELF-EMPLOYED\n",
              "9999         SALARIED\n",
              "Name: EMPLOY CONSTITUTION, Length: 9990, dtype: object"
            ],
            "text/html": [
              "<div>\n",
              "<style scoped>\n",
              "    .dataframe tbody tr th:only-of-type {\n",
              "        vertical-align: middle;\n",
              "    }\n",
              "\n",
              "    .dataframe tbody tr th {\n",
              "        vertical-align: top;\n",
              "    }\n",
              "\n",
              "    .dataframe thead th {\n",
              "        text-align: right;\n",
              "    }\n",
              "</style>\n",
              "<table border=\"1\" class=\"dataframe\">\n",
              "  <thead>\n",
              "    <tr style=\"text-align: right;\">\n",
              "      <th></th>\n",
              "      <th>EMPLOY CONSTITUTION</th>\n",
              "    </tr>\n",
              "  </thead>\n",
              "  <tbody>\n",
              "    <tr>\n",
              "      <th>0</th>\n",
              "      <td>SALARIED</td>\n",
              "    </tr>\n",
              "    <tr>\n",
              "      <th>1</th>\n",
              "      <td>NaN</td>\n",
              "    </tr>\n",
              "    <tr>\n",
              "      <th>2</th>\n",
              "      <td>SELF-EMPLOYED</td>\n",
              "    </tr>\n",
              "    <tr>\n",
              "      <th>3</th>\n",
              "      <td>SELF-EMPLOYED</td>\n",
              "    </tr>\n",
              "    <tr>\n",
              "      <th>4</th>\n",
              "      <td>NaN</td>\n",
              "    </tr>\n",
              "    <tr>\n",
              "      <th>...</th>\n",
              "      <td>...</td>\n",
              "    </tr>\n",
              "    <tr>\n",
              "      <th>9995</th>\n",
              "      <td>SALARIED</td>\n",
              "    </tr>\n",
              "    <tr>\n",
              "      <th>9996</th>\n",
              "      <td>SELF-EMPLOYED</td>\n",
              "    </tr>\n",
              "    <tr>\n",
              "      <th>9997</th>\n",
              "      <td>SELF-EMPLOYED</td>\n",
              "    </tr>\n",
              "    <tr>\n",
              "      <th>9998</th>\n",
              "      <td>SELF-EMPLOYED</td>\n",
              "    </tr>\n",
              "    <tr>\n",
              "      <th>9999</th>\n",
              "      <td>SALARIED</td>\n",
              "    </tr>\n",
              "  </tbody>\n",
              "</table>\n",
              "<p>9990 rows × 1 columns</p>\n",
              "</div><br><label><b>dtype:</b> object</label>"
            ]
          },
          "metadata": {},
          "execution_count": 1127
        }
      ],
      "source": [
        "train['EMPLOY CONSTITUTION']"
      ]
    },
    {
      "cell_type": "code",
      "execution_count": 1128,
      "metadata": {
        "colab": {
          "base_uri": "https://localhost:8080/"
        },
        "id": "b_KvkxiaGn7M",
        "outputId": "87a7ed03-a292-46e0-c217-ff9f13acbd83"
      },
      "outputs": [
        {
          "output_type": "execute_result",
          "data": {
            "text/plain": [
              "0.4993993993993994"
            ]
          },
          "metadata": {},
          "execution_count": 1128
        }
      ],
      "source": [
        "train['EMPLOY CONSTITUTION'].isnull().sum()/len(train)\n"
      ]
    },
    {
      "cell_type": "code",
      "execution_count": 1129,
      "metadata": {
        "colab": {
          "base_uri": "https://localhost:8080/"
        },
        "id": "023xLIBHGn7O",
        "outputId": "de88f430-6f48-4132-a85e-2f46bfa53fb1"
      },
      "outputs": [
        {
          "output_type": "execute_result",
          "data": {
            "text/plain": [
              "array(['SALARIED', nan, 'SELF-EMPLOYED'], dtype=object)"
            ]
          },
          "metadata": {},
          "execution_count": 1129
        }
      ],
      "source": [
        "train['EMPLOY CONSTITUTION'].unique()"
      ]
    },
    {
      "cell_type": "code",
      "execution_count": 1130,
      "metadata": {
        "id": "3sBBUBC_Gn7O"
      },
      "outputs": [],
      "source": [
        "# Impute\n",
        "train['EMPLOY CONSTITUTION'].fillna(\"NOT-KNOWN\", inplace=True)\n"
      ]
    },
    {
      "cell_type": "code",
      "execution_count": 1131,
      "metadata": {
        "id": "_1b5oCfYGn7O"
      },
      "outputs": [],
      "source": [
        "# Encode\n",
        "ohe_encoder6 = OneHotEncoder(drop='first', sparse_output=False, handle_unknown='ignore')\n"
      ]
    },
    {
      "cell_type": "markdown",
      "metadata": {
        "id": "T1-eQt4cGn7O"
      },
      "source": [
        "# EMPLOYER NAME"
      ]
    },
    {
      "cell_type": "code",
      "execution_count": 1132,
      "metadata": {
        "colab": {
          "base_uri": "https://localhost:8080/",
          "height": 458
        },
        "id": "KpjmYFoQGn7P",
        "outputId": "963aaa59-024f-4fc4-d9ff-1ee1b5ec09c1"
      },
      "outputs": [
        {
          "output_type": "execute_result",
          "data": {
            "text/plain": [
              "0                    sehrawat spare parts\n",
              "1                                     NaN\n",
              "2                             Thapas shop\n",
              "3                     agriculture farming\n",
              "4                                     NaN\n",
              "                      ...                \n",
              "9995    GROWFAST ORGANIC DIAMAOND PVT LTD\n",
              "9996                   Raj Ayurved centre\n",
              "9997                 Sanjay karyana store\n",
              "9998                     SANJAY MILK DARY\n",
              "9999                   alana meet factory\n",
              "Name: EMPLOYER NAME, Length: 9990, dtype: object"
            ],
            "text/html": [
              "<div>\n",
              "<style scoped>\n",
              "    .dataframe tbody tr th:only-of-type {\n",
              "        vertical-align: middle;\n",
              "    }\n",
              "\n",
              "    .dataframe tbody tr th {\n",
              "        vertical-align: top;\n",
              "    }\n",
              "\n",
              "    .dataframe thead th {\n",
              "        text-align: right;\n",
              "    }\n",
              "</style>\n",
              "<table border=\"1\" class=\"dataframe\">\n",
              "  <thead>\n",
              "    <tr style=\"text-align: right;\">\n",
              "      <th></th>\n",
              "      <th>EMPLOYER NAME</th>\n",
              "    </tr>\n",
              "  </thead>\n",
              "  <tbody>\n",
              "    <tr>\n",
              "      <th>0</th>\n",
              "      <td>sehrawat spare parts</td>\n",
              "    </tr>\n",
              "    <tr>\n",
              "      <th>1</th>\n",
              "      <td>NaN</td>\n",
              "    </tr>\n",
              "    <tr>\n",
              "      <th>2</th>\n",
              "      <td>Thapas shop</td>\n",
              "    </tr>\n",
              "    <tr>\n",
              "      <th>3</th>\n",
              "      <td>agriculture farming</td>\n",
              "    </tr>\n",
              "    <tr>\n",
              "      <th>4</th>\n",
              "      <td>NaN</td>\n",
              "    </tr>\n",
              "    <tr>\n",
              "      <th>...</th>\n",
              "      <td>...</td>\n",
              "    </tr>\n",
              "    <tr>\n",
              "      <th>9995</th>\n",
              "      <td>GROWFAST ORGANIC DIAMAOND PVT LTD</td>\n",
              "    </tr>\n",
              "    <tr>\n",
              "      <th>9996</th>\n",
              "      <td>Raj Ayurved centre</td>\n",
              "    </tr>\n",
              "    <tr>\n",
              "      <th>9997</th>\n",
              "      <td>Sanjay karyana store</td>\n",
              "    </tr>\n",
              "    <tr>\n",
              "      <th>9998</th>\n",
              "      <td>SANJAY MILK DARY</td>\n",
              "    </tr>\n",
              "    <tr>\n",
              "      <th>9999</th>\n",
              "      <td>alana meet factory</td>\n",
              "    </tr>\n",
              "  </tbody>\n",
              "</table>\n",
              "<p>9990 rows × 1 columns</p>\n",
              "</div><br><label><b>dtype:</b> object</label>"
            ]
          },
          "metadata": {},
          "execution_count": 1132
        }
      ],
      "source": [
        "train['EMPLOYER NAME']"
      ]
    },
    {
      "cell_type": "code",
      "execution_count": 1133,
      "metadata": {
        "colab": {
          "base_uri": "https://localhost:8080/"
        },
        "id": "IP2dxRoOGn7P",
        "outputId": "6f77d2b9-d397-41a5-f11c-92877c527574"
      },
      "outputs": [
        {
          "output_type": "execute_result",
          "data": {
            "text/plain": [
              "0.5006006006006006"
            ]
          },
          "metadata": {},
          "execution_count": 1133
        }
      ],
      "source": [
        "train['EMPLOYER NAME'].isnull().sum()/len(train)"
      ]
    },
    {
      "cell_type": "code",
      "execution_count": 1134,
      "metadata": {
        "colab": {
          "base_uri": "https://localhost:8080/"
        },
        "id": "gX-Ms3ZaGn7P",
        "outputId": "49b6886f-4abc-4a14-9088-7b400997fb7e"
      },
      "outputs": [
        {
          "output_type": "execute_result",
          "data": {
            "text/plain": [
              "3693"
            ]
          },
          "metadata": {},
          "execution_count": 1134
        }
      ],
      "source": [
        "train['EMPLOYER NAME'].nunique()"
      ]
    },
    {
      "cell_type": "code",
      "execution_count": 1135,
      "metadata": {
        "id": "xXtC8D9pGn7Q"
      },
      "outputs": [],
      "source": [
        "# Drop\n",
        "train.drop('EMPLOYER NAME',axis=1,inplace=True)"
      ]
    },
    {
      "cell_type": "markdown",
      "metadata": {
        "id": "6FzbiUK2Gn7Q"
      },
      "source": [
        "# EMPLOYER TYPE"
      ]
    },
    {
      "cell_type": "code",
      "execution_count": 1136,
      "metadata": {
        "colab": {
          "base_uri": "https://localhost:8080/",
          "height": 458
        },
        "id": "U4Ri-NrUGn7Q",
        "outputId": "162dd588-1c8a-45f7-b8a1-91b90e901b65"
      },
      "outputs": [
        {
          "output_type": "execute_result",
          "data": {
            "text/plain": [
              "0            SALARIED\n",
              "1                 NaN\n",
              "2       SELF-EMPLOYED\n",
              "3       SELF-EMPLOYED\n",
              "4                 NaN\n",
              "            ...      \n",
              "9995         SALARIED\n",
              "9996    SELF-EMPLOYED\n",
              "9997    SELF-EMPLOYED\n",
              "9998    SELF-EMPLOYED\n",
              "9999         SALARIED\n",
              "Name: EMPLOYER TYPE, Length: 9990, dtype: object"
            ],
            "text/html": [
              "<div>\n",
              "<style scoped>\n",
              "    .dataframe tbody tr th:only-of-type {\n",
              "        vertical-align: middle;\n",
              "    }\n",
              "\n",
              "    .dataframe tbody tr th {\n",
              "        vertical-align: top;\n",
              "    }\n",
              "\n",
              "    .dataframe thead th {\n",
              "        text-align: right;\n",
              "    }\n",
              "</style>\n",
              "<table border=\"1\" class=\"dataframe\">\n",
              "  <thead>\n",
              "    <tr style=\"text-align: right;\">\n",
              "      <th></th>\n",
              "      <th>EMPLOYER TYPE</th>\n",
              "    </tr>\n",
              "  </thead>\n",
              "  <tbody>\n",
              "    <tr>\n",
              "      <th>0</th>\n",
              "      <td>SALARIED</td>\n",
              "    </tr>\n",
              "    <tr>\n",
              "      <th>1</th>\n",
              "      <td>NaN</td>\n",
              "    </tr>\n",
              "    <tr>\n",
              "      <th>2</th>\n",
              "      <td>SELF-EMPLOYED</td>\n",
              "    </tr>\n",
              "    <tr>\n",
              "      <th>3</th>\n",
              "      <td>SELF-EMPLOYED</td>\n",
              "    </tr>\n",
              "    <tr>\n",
              "      <th>4</th>\n",
              "      <td>NaN</td>\n",
              "    </tr>\n",
              "    <tr>\n",
              "      <th>...</th>\n",
              "      <td>...</td>\n",
              "    </tr>\n",
              "    <tr>\n",
              "      <th>9995</th>\n",
              "      <td>SALARIED</td>\n",
              "    </tr>\n",
              "    <tr>\n",
              "      <th>9996</th>\n",
              "      <td>SELF-EMPLOYED</td>\n",
              "    </tr>\n",
              "    <tr>\n",
              "      <th>9997</th>\n",
              "      <td>SELF-EMPLOYED</td>\n",
              "    </tr>\n",
              "    <tr>\n",
              "      <th>9998</th>\n",
              "      <td>SELF-EMPLOYED</td>\n",
              "    </tr>\n",
              "    <tr>\n",
              "      <th>9999</th>\n",
              "      <td>SALARIED</td>\n",
              "    </tr>\n",
              "  </tbody>\n",
              "</table>\n",
              "<p>9990 rows × 1 columns</p>\n",
              "</div><br><label><b>dtype:</b> object</label>"
            ]
          },
          "metadata": {},
          "execution_count": 1136
        }
      ],
      "source": [
        "train['EMPLOYER TYPE']"
      ]
    },
    {
      "cell_type": "code",
      "execution_count": 1137,
      "metadata": {
        "colab": {
          "base_uri": "https://localhost:8080/"
        },
        "id": "pKvrK5UrGn7R",
        "outputId": "d17fa9d8-9972-487a-830a-05382f5b7bc8"
      },
      "outputs": [
        {
          "output_type": "execute_result",
          "data": {
            "text/plain": [
              "0.4993993993993994"
            ]
          },
          "metadata": {},
          "execution_count": 1137
        }
      ],
      "source": [
        "train['EMPLOYER TYPE'].isnull().sum()/len(train)"
      ]
    },
    {
      "cell_type": "code",
      "execution_count": 1138,
      "metadata": {
        "colab": {
          "base_uri": "https://localhost:8080/",
          "height": 423
        },
        "id": "S--Zl1rLGn7S",
        "outputId": "552530c1-9306-4c1a-bd56-2060aece1212"
      },
      "outputs": [
        {
          "output_type": "execute_result",
          "data": {
            "text/plain": [
              "      EMPLOYER TYPE EMPLOY CONSTITUTION\n",
              "0          SALARIED            SALARIED\n",
              "1               NaN           NOT-KNOWN\n",
              "2     SELF-EMPLOYED       SELF-EMPLOYED\n",
              "3     SELF-EMPLOYED       SELF-EMPLOYED\n",
              "4               NaN           NOT-KNOWN\n",
              "...             ...                 ...\n",
              "9995       SALARIED            SALARIED\n",
              "9996  SELF-EMPLOYED       SELF-EMPLOYED\n",
              "9997  SELF-EMPLOYED       SELF-EMPLOYED\n",
              "9998  SELF-EMPLOYED       SELF-EMPLOYED\n",
              "9999       SALARIED            SALARIED\n",
              "\n",
              "[9990 rows x 2 columns]"
            ],
            "text/html": [
              "\n",
              "  <div id=\"df-da295671-14ab-45ca-83c1-592eae3a5b68\" class=\"colab-df-container\">\n",
              "    <div>\n",
              "<style scoped>\n",
              "    .dataframe tbody tr th:only-of-type {\n",
              "        vertical-align: middle;\n",
              "    }\n",
              "\n",
              "    .dataframe tbody tr th {\n",
              "        vertical-align: top;\n",
              "    }\n",
              "\n",
              "    .dataframe thead th {\n",
              "        text-align: right;\n",
              "    }\n",
              "</style>\n",
              "<table border=\"1\" class=\"dataframe\">\n",
              "  <thead>\n",
              "    <tr style=\"text-align: right;\">\n",
              "      <th></th>\n",
              "      <th>EMPLOYER TYPE</th>\n",
              "      <th>EMPLOY CONSTITUTION</th>\n",
              "    </tr>\n",
              "  </thead>\n",
              "  <tbody>\n",
              "    <tr>\n",
              "      <th>0</th>\n",
              "      <td>SALARIED</td>\n",
              "      <td>SALARIED</td>\n",
              "    </tr>\n",
              "    <tr>\n",
              "      <th>1</th>\n",
              "      <td>NaN</td>\n",
              "      <td>NOT-KNOWN</td>\n",
              "    </tr>\n",
              "    <tr>\n",
              "      <th>2</th>\n",
              "      <td>SELF-EMPLOYED</td>\n",
              "      <td>SELF-EMPLOYED</td>\n",
              "    </tr>\n",
              "    <tr>\n",
              "      <th>3</th>\n",
              "      <td>SELF-EMPLOYED</td>\n",
              "      <td>SELF-EMPLOYED</td>\n",
              "    </tr>\n",
              "    <tr>\n",
              "      <th>4</th>\n",
              "      <td>NaN</td>\n",
              "      <td>NOT-KNOWN</td>\n",
              "    </tr>\n",
              "    <tr>\n",
              "      <th>...</th>\n",
              "      <td>...</td>\n",
              "      <td>...</td>\n",
              "    </tr>\n",
              "    <tr>\n",
              "      <th>9995</th>\n",
              "      <td>SALARIED</td>\n",
              "      <td>SALARIED</td>\n",
              "    </tr>\n",
              "    <tr>\n",
              "      <th>9996</th>\n",
              "      <td>SELF-EMPLOYED</td>\n",
              "      <td>SELF-EMPLOYED</td>\n",
              "    </tr>\n",
              "    <tr>\n",
              "      <th>9997</th>\n",
              "      <td>SELF-EMPLOYED</td>\n",
              "      <td>SELF-EMPLOYED</td>\n",
              "    </tr>\n",
              "    <tr>\n",
              "      <th>9998</th>\n",
              "      <td>SELF-EMPLOYED</td>\n",
              "      <td>SELF-EMPLOYED</td>\n",
              "    </tr>\n",
              "    <tr>\n",
              "      <th>9999</th>\n",
              "      <td>SALARIED</td>\n",
              "      <td>SALARIED</td>\n",
              "    </tr>\n",
              "  </tbody>\n",
              "</table>\n",
              "<p>9990 rows × 2 columns</p>\n",
              "</div>\n",
              "    <div class=\"colab-df-buttons\">\n",
              "\n",
              "  <div class=\"colab-df-container\">\n",
              "    <button class=\"colab-df-convert\" onclick=\"convertToInteractive('df-da295671-14ab-45ca-83c1-592eae3a5b68')\"\n",
              "            title=\"Convert this dataframe to an interactive table.\"\n",
              "            style=\"display:none;\">\n",
              "\n",
              "  <svg xmlns=\"http://www.w3.org/2000/svg\" height=\"24px\" viewBox=\"0 -960 960 960\">\n",
              "    <path d=\"M120-120v-720h720v720H120Zm60-500h600v-160H180v160Zm220 220h160v-160H400v160Zm0 220h160v-160H400v160ZM180-400h160v-160H180v160Zm440 0h160v-160H620v160ZM180-180h160v-160H180v160Zm440 0h160v-160H620v160Z\"/>\n",
              "  </svg>\n",
              "    </button>\n",
              "\n",
              "  <style>\n",
              "    .colab-df-container {\n",
              "      display:flex;\n",
              "      gap: 12px;\n",
              "    }\n",
              "\n",
              "    .colab-df-convert {\n",
              "      background-color: #E8F0FE;\n",
              "      border: none;\n",
              "      border-radius: 50%;\n",
              "      cursor: pointer;\n",
              "      display: none;\n",
              "      fill: #1967D2;\n",
              "      height: 32px;\n",
              "      padding: 0 0 0 0;\n",
              "      width: 32px;\n",
              "    }\n",
              "\n",
              "    .colab-df-convert:hover {\n",
              "      background-color: #E2EBFA;\n",
              "      box-shadow: 0px 1px 2px rgba(60, 64, 67, 0.3), 0px 1px 3px 1px rgba(60, 64, 67, 0.15);\n",
              "      fill: #174EA6;\n",
              "    }\n",
              "\n",
              "    .colab-df-buttons div {\n",
              "      margin-bottom: 4px;\n",
              "    }\n",
              "\n",
              "    [theme=dark] .colab-df-convert {\n",
              "      background-color: #3B4455;\n",
              "      fill: #D2E3FC;\n",
              "    }\n",
              "\n",
              "    [theme=dark] .colab-df-convert:hover {\n",
              "      background-color: #434B5C;\n",
              "      box-shadow: 0px 1px 3px 1px rgba(0, 0, 0, 0.15);\n",
              "      filter: drop-shadow(0px 1px 2px rgba(0, 0, 0, 0.3));\n",
              "      fill: #FFFFFF;\n",
              "    }\n",
              "  </style>\n",
              "\n",
              "    <script>\n",
              "      const buttonEl =\n",
              "        document.querySelector('#df-da295671-14ab-45ca-83c1-592eae3a5b68 button.colab-df-convert');\n",
              "      buttonEl.style.display =\n",
              "        google.colab.kernel.accessAllowed ? 'block' : 'none';\n",
              "\n",
              "      async function convertToInteractive(key) {\n",
              "        const element = document.querySelector('#df-da295671-14ab-45ca-83c1-592eae3a5b68');\n",
              "        const dataTable =\n",
              "          await google.colab.kernel.invokeFunction('convertToInteractive',\n",
              "                                                    [key], {});\n",
              "        if (!dataTable) return;\n",
              "\n",
              "        const docLinkHtml = 'Like what you see? Visit the ' +\n",
              "          '<a target=\"_blank\" href=https://colab.research.google.com/notebooks/data_table.ipynb>data table notebook</a>'\n",
              "          + ' to learn more about interactive tables.';\n",
              "        element.innerHTML = '';\n",
              "        dataTable['output_type'] = 'display_data';\n",
              "        await google.colab.output.renderOutput(dataTable, element);\n",
              "        const docLink = document.createElement('div');\n",
              "        docLink.innerHTML = docLinkHtml;\n",
              "        element.appendChild(docLink);\n",
              "      }\n",
              "    </script>\n",
              "  </div>\n",
              "\n",
              "\n",
              "<div id=\"df-1145319d-8e7f-4c58-b6f2-66fd0379ee20\">\n",
              "  <button class=\"colab-df-quickchart\" onclick=\"quickchart('df-1145319d-8e7f-4c58-b6f2-66fd0379ee20')\"\n",
              "            title=\"Suggest charts\"\n",
              "            style=\"display:none;\">\n",
              "\n",
              "<svg xmlns=\"http://www.w3.org/2000/svg\" height=\"24px\"viewBox=\"0 0 24 24\"\n",
              "     width=\"24px\">\n",
              "    <g>\n",
              "        <path d=\"M19 3H5c-1.1 0-2 .9-2 2v14c0 1.1.9 2 2 2h14c1.1 0 2-.9 2-2V5c0-1.1-.9-2-2-2zM9 17H7v-7h2v7zm4 0h-2V7h2v10zm4 0h-2v-4h2v4z\"/>\n",
              "    </g>\n",
              "</svg>\n",
              "  </button>\n",
              "\n",
              "<style>\n",
              "  .colab-df-quickchart {\n",
              "      --bg-color: #E8F0FE;\n",
              "      --fill-color: #1967D2;\n",
              "      --hover-bg-color: #E2EBFA;\n",
              "      --hover-fill-color: #174EA6;\n",
              "      --disabled-fill-color: #AAA;\n",
              "      --disabled-bg-color: #DDD;\n",
              "  }\n",
              "\n",
              "  [theme=dark] .colab-df-quickchart {\n",
              "      --bg-color: #3B4455;\n",
              "      --fill-color: #D2E3FC;\n",
              "      --hover-bg-color: #434B5C;\n",
              "      --hover-fill-color: #FFFFFF;\n",
              "      --disabled-bg-color: #3B4455;\n",
              "      --disabled-fill-color: #666;\n",
              "  }\n",
              "\n",
              "  .colab-df-quickchart {\n",
              "    background-color: var(--bg-color);\n",
              "    border: none;\n",
              "    border-radius: 50%;\n",
              "    cursor: pointer;\n",
              "    display: none;\n",
              "    fill: var(--fill-color);\n",
              "    height: 32px;\n",
              "    padding: 0;\n",
              "    width: 32px;\n",
              "  }\n",
              "\n",
              "  .colab-df-quickchart:hover {\n",
              "    background-color: var(--hover-bg-color);\n",
              "    box-shadow: 0 1px 2px rgba(60, 64, 67, 0.3), 0 1px 3px 1px rgba(60, 64, 67, 0.15);\n",
              "    fill: var(--button-hover-fill-color);\n",
              "  }\n",
              "\n",
              "  .colab-df-quickchart-complete:disabled,\n",
              "  .colab-df-quickchart-complete:disabled:hover {\n",
              "    background-color: var(--disabled-bg-color);\n",
              "    fill: var(--disabled-fill-color);\n",
              "    box-shadow: none;\n",
              "  }\n",
              "\n",
              "  .colab-df-spinner {\n",
              "    border: 2px solid var(--fill-color);\n",
              "    border-color: transparent;\n",
              "    border-bottom-color: var(--fill-color);\n",
              "    animation:\n",
              "      spin 1s steps(1) infinite;\n",
              "  }\n",
              "\n",
              "  @keyframes spin {\n",
              "    0% {\n",
              "      border-color: transparent;\n",
              "      border-bottom-color: var(--fill-color);\n",
              "      border-left-color: var(--fill-color);\n",
              "    }\n",
              "    20% {\n",
              "      border-color: transparent;\n",
              "      border-left-color: var(--fill-color);\n",
              "      border-top-color: var(--fill-color);\n",
              "    }\n",
              "    30% {\n",
              "      border-color: transparent;\n",
              "      border-left-color: var(--fill-color);\n",
              "      border-top-color: var(--fill-color);\n",
              "      border-right-color: var(--fill-color);\n",
              "    }\n",
              "    40% {\n",
              "      border-color: transparent;\n",
              "      border-right-color: var(--fill-color);\n",
              "      border-top-color: var(--fill-color);\n",
              "    }\n",
              "    60% {\n",
              "      border-color: transparent;\n",
              "      border-right-color: var(--fill-color);\n",
              "    }\n",
              "    80% {\n",
              "      border-color: transparent;\n",
              "      border-right-color: var(--fill-color);\n",
              "      border-bottom-color: var(--fill-color);\n",
              "    }\n",
              "    90% {\n",
              "      border-color: transparent;\n",
              "      border-bottom-color: var(--fill-color);\n",
              "    }\n",
              "  }\n",
              "</style>\n",
              "\n",
              "  <script>\n",
              "    async function quickchart(key) {\n",
              "      const quickchartButtonEl =\n",
              "        document.querySelector('#' + key + ' button');\n",
              "      quickchartButtonEl.disabled = true;  // To prevent multiple clicks.\n",
              "      quickchartButtonEl.classList.add('colab-df-spinner');\n",
              "      try {\n",
              "        const charts = await google.colab.kernel.invokeFunction(\n",
              "            'suggestCharts', [key], {});\n",
              "      } catch (error) {\n",
              "        console.error('Error during call to suggestCharts:', error);\n",
              "      }\n",
              "      quickchartButtonEl.classList.remove('colab-df-spinner');\n",
              "      quickchartButtonEl.classList.add('colab-df-quickchart-complete');\n",
              "    }\n",
              "    (() => {\n",
              "      let quickchartButtonEl =\n",
              "        document.querySelector('#df-1145319d-8e7f-4c58-b6f2-66fd0379ee20 button');\n",
              "      quickchartButtonEl.style.display =\n",
              "        google.colab.kernel.accessAllowed ? 'block' : 'none';\n",
              "    })();\n",
              "  </script>\n",
              "</div>\n",
              "\n",
              "    </div>\n",
              "  </div>\n"
            ],
            "application/vnd.google.colaboratory.intrinsic+json": {
              "type": "dataframe",
              "summary": "{\n  \"name\": \"train[['EMPLOYER TYPE',\\\"EMPLOY CONSTITUTION\\\"]]\",\n  \"rows\": 9990,\n  \"fields\": [\n    {\n      \"column\": \"EMPLOYER TYPE\",\n      \"properties\": {\n        \"dtype\": \"category\",\n        \"num_unique_values\": 4,\n        \"samples\": [\n          \"SELF-EMPLOYED\",\n          \"Government\",\n          \"SALARIED\"\n        ],\n        \"semantic_type\": \"\",\n        \"description\": \"\"\n      }\n    },\n    {\n      \"column\": \"EMPLOY CONSTITUTION\",\n      \"properties\": {\n        \"dtype\": \"category\",\n        \"num_unique_values\": 3,\n        \"samples\": [\n          \"SALARIED\",\n          \"NOT-KNOWN\",\n          \"SELF-EMPLOYED\"\n        ],\n        \"semantic_type\": \"\",\n        \"description\": \"\"\n      }\n    }\n  ]\n}"
            }
          },
          "metadata": {},
          "execution_count": 1138
        }
      ],
      "source": [
        "train[['EMPLOYER TYPE',\"EMPLOY CONSTITUTION\"]]"
      ]
    },
    {
      "cell_type": "code",
      "execution_count": 1139,
      "metadata": {
        "id": "yl_60SMgGn7S"
      },
      "outputs": [],
      "source": [
        "train.drop(\"EMPLOYER TYPE\",axis=1,inplace=True)"
      ]
    },
    {
      "cell_type": "markdown",
      "metadata": {
        "id": "_sIZrQdSGn7T"
      },
      "source": [
        "# Pan Name"
      ]
    },
    {
      "cell_type": "code",
      "execution_count": 1140,
      "metadata": {
        "colab": {
          "base_uri": "https://localhost:8080/",
          "height": 458
        },
        "id": "-QIFyacIGn7T",
        "outputId": "8d2e5d43-dfaa-42b9-edcf-bf3631094028"
      },
      "outputs": [
        {
          "output_type": "execute_result",
          "data": {
            "text/plain": [
              "0                       SUNIL KUMAR\n",
              "1                       AMRIT KUMAR\n",
              "2                     ANIMESH THAPA\n",
              "3                      ADITYA KUMAR\n",
              "4       HARESHBHAI AMRUTBHAI PARMAR\n",
              "                   ...             \n",
              "9995                       AJAY DEV\n",
              "9996       SURESH KUMAR VISHWAKARMA\n",
              "9997                   SANJAY AAGAN\n",
              "9998                   SANJAY KUMAR\n",
              "9999                    SAMEER KHAN\n",
              "Name: Pan Name, Length: 9990, dtype: object"
            ],
            "text/html": [
              "<div>\n",
              "<style scoped>\n",
              "    .dataframe tbody tr th:only-of-type {\n",
              "        vertical-align: middle;\n",
              "    }\n",
              "\n",
              "    .dataframe tbody tr th {\n",
              "        vertical-align: top;\n",
              "    }\n",
              "\n",
              "    .dataframe thead th {\n",
              "        text-align: right;\n",
              "    }\n",
              "</style>\n",
              "<table border=\"1\" class=\"dataframe\">\n",
              "  <thead>\n",
              "    <tr style=\"text-align: right;\">\n",
              "      <th></th>\n",
              "      <th>Pan Name</th>\n",
              "    </tr>\n",
              "  </thead>\n",
              "  <tbody>\n",
              "    <tr>\n",
              "      <th>0</th>\n",
              "      <td>SUNIL KUMAR</td>\n",
              "    </tr>\n",
              "    <tr>\n",
              "      <th>1</th>\n",
              "      <td>AMRIT KUMAR</td>\n",
              "    </tr>\n",
              "    <tr>\n",
              "      <th>2</th>\n",
              "      <td>ANIMESH THAPA</td>\n",
              "    </tr>\n",
              "    <tr>\n",
              "      <th>3</th>\n",
              "      <td>ADITYA KUMAR</td>\n",
              "    </tr>\n",
              "    <tr>\n",
              "      <th>4</th>\n",
              "      <td>HARESHBHAI AMRUTBHAI PARMAR</td>\n",
              "    </tr>\n",
              "    <tr>\n",
              "      <th>...</th>\n",
              "      <td>...</td>\n",
              "    </tr>\n",
              "    <tr>\n",
              "      <th>9995</th>\n",
              "      <td>AJAY DEV</td>\n",
              "    </tr>\n",
              "    <tr>\n",
              "      <th>9996</th>\n",
              "      <td>SURESH KUMAR VISHWAKARMA</td>\n",
              "    </tr>\n",
              "    <tr>\n",
              "      <th>9997</th>\n",
              "      <td>SANJAY AAGAN</td>\n",
              "    </tr>\n",
              "    <tr>\n",
              "      <th>9998</th>\n",
              "      <td>SANJAY KUMAR</td>\n",
              "    </tr>\n",
              "    <tr>\n",
              "      <th>9999</th>\n",
              "      <td>SAMEER KHAN</td>\n",
              "    </tr>\n",
              "  </tbody>\n",
              "</table>\n",
              "<p>9990 rows × 1 columns</p>\n",
              "</div><br><label><b>dtype:</b> object</label>"
            ]
          },
          "metadata": {},
          "execution_count": 1140
        }
      ],
      "source": [
        "train['Pan Name']"
      ]
    },
    {
      "cell_type": "code",
      "execution_count": 1141,
      "metadata": {
        "id": "7r8SgCN7Gn7U"
      },
      "outputs": [],
      "source": [
        "train.drop(\"Pan Name\",axis=1,inplace=True)"
      ]
    },
    {
      "cell_type": "markdown",
      "metadata": {
        "id": "L8uBdgl3Gn7V"
      },
      "source": [
        "# name"
      ]
    },
    {
      "cell_type": "code",
      "execution_count": 1142,
      "metadata": {
        "colab": {
          "base_uri": "https://localhost:8080/",
          "height": 458
        },
        "id": "G_NYMYP8Gn7W",
        "outputId": "23b8ebe4-0a0e-49b0-9ce7-a19684cf52c6"
      },
      "outputs": [
        {
          "output_type": "execute_result",
          "data": {
            "text/plain": [
              "0                     SUNIL CHANDER\n",
              "1                       AMRIT KUMAR\n",
              "2                     ANIMESH THAPA\n",
              "3                      ADITYA SINGH\n",
              "4       PARMAR HARESHBHAI AMRUTBHAI\n",
              "                   ...             \n",
              "9995                    AJAY NARESH\n",
              "9996            SURESH KUMAR PRASAD\n",
              "9997                   SANJAY AAGAN\n",
              "9998                   SANJAY SINGH\n",
              "9999                  SAMEER SALEEM\n",
              "Name: name, Length: 9990, dtype: object"
            ],
            "text/html": [
              "<div>\n",
              "<style scoped>\n",
              "    .dataframe tbody tr th:only-of-type {\n",
              "        vertical-align: middle;\n",
              "    }\n",
              "\n",
              "    .dataframe tbody tr th {\n",
              "        vertical-align: top;\n",
              "    }\n",
              "\n",
              "    .dataframe thead th {\n",
              "        text-align: right;\n",
              "    }\n",
              "</style>\n",
              "<table border=\"1\" class=\"dataframe\">\n",
              "  <thead>\n",
              "    <tr style=\"text-align: right;\">\n",
              "      <th></th>\n",
              "      <th>name</th>\n",
              "    </tr>\n",
              "  </thead>\n",
              "  <tbody>\n",
              "    <tr>\n",
              "      <th>0</th>\n",
              "      <td>SUNIL CHANDER</td>\n",
              "    </tr>\n",
              "    <tr>\n",
              "      <th>1</th>\n",
              "      <td>AMRIT KUMAR</td>\n",
              "    </tr>\n",
              "    <tr>\n",
              "      <th>2</th>\n",
              "      <td>ANIMESH THAPA</td>\n",
              "    </tr>\n",
              "    <tr>\n",
              "      <th>3</th>\n",
              "      <td>ADITYA SINGH</td>\n",
              "    </tr>\n",
              "    <tr>\n",
              "      <th>4</th>\n",
              "      <td>PARMAR HARESHBHAI AMRUTBHAI</td>\n",
              "    </tr>\n",
              "    <tr>\n",
              "      <th>...</th>\n",
              "      <td>...</td>\n",
              "    </tr>\n",
              "    <tr>\n",
              "      <th>9995</th>\n",
              "      <td>AJAY NARESH</td>\n",
              "    </tr>\n",
              "    <tr>\n",
              "      <th>9996</th>\n",
              "      <td>SURESH KUMAR PRASAD</td>\n",
              "    </tr>\n",
              "    <tr>\n",
              "      <th>9997</th>\n",
              "      <td>SANJAY AAGAN</td>\n",
              "    </tr>\n",
              "    <tr>\n",
              "      <th>9998</th>\n",
              "      <td>SANJAY SINGH</td>\n",
              "    </tr>\n",
              "    <tr>\n",
              "      <th>9999</th>\n",
              "      <td>SAMEER SALEEM</td>\n",
              "    </tr>\n",
              "  </tbody>\n",
              "</table>\n",
              "<p>9990 rows × 1 columns</p>\n",
              "</div><br><label><b>dtype:</b> object</label>"
            ]
          },
          "metadata": {},
          "execution_count": 1142
        }
      ],
      "source": [
        "train['name']"
      ]
    },
    {
      "cell_type": "code",
      "execution_count": 1143,
      "metadata": {
        "id": "hXgg480rGn7W"
      },
      "outputs": [],
      "source": [
        "train.drop(\"name\",axis=1,inplace=True)"
      ]
    },
    {
      "cell_type": "markdown",
      "metadata": {
        "id": "6cLE3e4GGn7X"
      },
      "source": [
        "# vpa"
      ]
    },
    {
      "cell_type": "code",
      "execution_count": 1144,
      "metadata": {
        "colab": {
          "base_uri": "https://localhost:8080/",
          "height": 458
        },
        "id": "TqkDz8TnGn7X",
        "outputId": "ac4d1c24-b802-4dd1-b2a5-db23cbd202ef"
      },
      "outputs": [
        {
          "output_type": "execute_result",
          "data": {
            "text/plain": [
              "0       ABFSPAY\n",
              "1         OKSBI\n",
              "2           NaN\n",
              "3         PAYTM\n",
              "4         IKWIK\n",
              "         ...   \n",
              "9995    OKICICI\n",
              "9996        YBL\n",
              "9997      OKSBI\n",
              "9998        NaN\n",
              "9999     OKAXIS\n",
              "Name: vpa, Length: 9990, dtype: object"
            ],
            "text/html": [
              "<div>\n",
              "<style scoped>\n",
              "    .dataframe tbody tr th:only-of-type {\n",
              "        vertical-align: middle;\n",
              "    }\n",
              "\n",
              "    .dataframe tbody tr th {\n",
              "        vertical-align: top;\n",
              "    }\n",
              "\n",
              "    .dataframe thead th {\n",
              "        text-align: right;\n",
              "    }\n",
              "</style>\n",
              "<table border=\"1\" class=\"dataframe\">\n",
              "  <thead>\n",
              "    <tr style=\"text-align: right;\">\n",
              "      <th></th>\n",
              "      <th>vpa</th>\n",
              "    </tr>\n",
              "  </thead>\n",
              "  <tbody>\n",
              "    <tr>\n",
              "      <th>0</th>\n",
              "      <td>ABFSPAY</td>\n",
              "    </tr>\n",
              "    <tr>\n",
              "      <th>1</th>\n",
              "      <td>OKSBI</td>\n",
              "    </tr>\n",
              "    <tr>\n",
              "      <th>2</th>\n",
              "      <td>NaN</td>\n",
              "    </tr>\n",
              "    <tr>\n",
              "      <th>3</th>\n",
              "      <td>PAYTM</td>\n",
              "    </tr>\n",
              "    <tr>\n",
              "      <th>4</th>\n",
              "      <td>IKWIK</td>\n",
              "    </tr>\n",
              "    <tr>\n",
              "      <th>...</th>\n",
              "      <td>...</td>\n",
              "    </tr>\n",
              "    <tr>\n",
              "      <th>9995</th>\n",
              "      <td>OKICICI</td>\n",
              "    </tr>\n",
              "    <tr>\n",
              "      <th>9996</th>\n",
              "      <td>YBL</td>\n",
              "    </tr>\n",
              "    <tr>\n",
              "      <th>9997</th>\n",
              "      <td>OKSBI</td>\n",
              "    </tr>\n",
              "    <tr>\n",
              "      <th>9998</th>\n",
              "      <td>NaN</td>\n",
              "    </tr>\n",
              "    <tr>\n",
              "      <th>9999</th>\n",
              "      <td>OKAXIS</td>\n",
              "    </tr>\n",
              "  </tbody>\n",
              "</table>\n",
              "<p>9990 rows × 1 columns</p>\n",
              "</div><br><label><b>dtype:</b> object</label>"
            ]
          },
          "metadata": {},
          "execution_count": 1144
        }
      ],
      "source": [
        "train['vpa']"
      ]
    },
    {
      "cell_type": "code",
      "execution_count": 1145,
      "metadata": {
        "colab": {
          "base_uri": "https://localhost:8080/"
        },
        "id": "sE3TLsmXGn7Y",
        "outputId": "bb2d097b-acc8-4848-b44f-0544dbe71c14"
      },
      "outputs": [
        {
          "output_type": "execute_result",
          "data": {
            "text/plain": [
              "2782"
            ]
          },
          "metadata": {},
          "execution_count": 1145
        }
      ],
      "source": [
        "train['vpa'].isnull().sum()"
      ]
    },
    {
      "cell_type": "code",
      "execution_count": 1146,
      "metadata": {
        "id": "ynPcyk3xGn7Y"
      },
      "outputs": [],
      "source": [
        "# Drop\n",
        "train.drop('vpa',axis=1,inplace=True)"
      ]
    },
    {
      "cell_type": "code",
      "execution_count": 1146,
      "metadata": {
        "id": "TfQUpTvBGn7Y"
      },
      "outputs": [],
      "source": []
    },
    {
      "cell_type": "markdown",
      "metadata": {
        "id": "Kv1YB_QZGn7Z"
      },
      "source": [
        "# upi_name"
      ]
    },
    {
      "cell_type": "code",
      "execution_count": 1147,
      "metadata": {
        "colab": {
          "base_uri": "https://localhost:8080/",
          "height": 458
        },
        "id": "yqaH1AkCGn7Z",
        "outputId": "322638ce-ad85-4840-e264-a53666c3fd41"
      },
      "outputs": [
        {
          "output_type": "execute_result",
          "data": {
            "text/plain": [
              "0                         SUNIL KUMAR\n",
              "1                        Amrit  Kumar\n",
              "2                                 NaN\n",
              "3                        Aditya Kumar\n",
              "4                HARESHBHAI AMRUTBHAI\n",
              "                    ...              \n",
              "9995                         AJAY DEV\n",
              "9996      MR SURESH KUMAR VISHWAKARMA\n",
              "9997    SANJAY AAGAN SO GOBINDA AAGAN\n",
              "9998                              NaN\n",
              "9999                     SAMEER  KHAN\n",
              "Name: upi_name, Length: 9990, dtype: object"
            ],
            "text/html": [
              "<div>\n",
              "<style scoped>\n",
              "    .dataframe tbody tr th:only-of-type {\n",
              "        vertical-align: middle;\n",
              "    }\n",
              "\n",
              "    .dataframe tbody tr th {\n",
              "        vertical-align: top;\n",
              "    }\n",
              "\n",
              "    .dataframe thead th {\n",
              "        text-align: right;\n",
              "    }\n",
              "</style>\n",
              "<table border=\"1\" class=\"dataframe\">\n",
              "  <thead>\n",
              "    <tr style=\"text-align: right;\">\n",
              "      <th></th>\n",
              "      <th>upi_name</th>\n",
              "    </tr>\n",
              "  </thead>\n",
              "  <tbody>\n",
              "    <tr>\n",
              "      <th>0</th>\n",
              "      <td>SUNIL KUMAR</td>\n",
              "    </tr>\n",
              "    <tr>\n",
              "      <th>1</th>\n",
              "      <td>Amrit  Kumar</td>\n",
              "    </tr>\n",
              "    <tr>\n",
              "      <th>2</th>\n",
              "      <td>NaN</td>\n",
              "    </tr>\n",
              "    <tr>\n",
              "      <th>3</th>\n",
              "      <td>Aditya Kumar</td>\n",
              "    </tr>\n",
              "    <tr>\n",
              "      <th>4</th>\n",
              "      <td>HARESHBHAI AMRUTBHAI</td>\n",
              "    </tr>\n",
              "    <tr>\n",
              "      <th>...</th>\n",
              "      <td>...</td>\n",
              "    </tr>\n",
              "    <tr>\n",
              "      <th>9995</th>\n",
              "      <td>AJAY DEV</td>\n",
              "    </tr>\n",
              "    <tr>\n",
              "      <th>9996</th>\n",
              "      <td>MR SURESH KUMAR VISHWAKARMA</td>\n",
              "    </tr>\n",
              "    <tr>\n",
              "      <th>9997</th>\n",
              "      <td>SANJAY AAGAN SO GOBINDA AAGAN</td>\n",
              "    </tr>\n",
              "    <tr>\n",
              "      <th>9998</th>\n",
              "      <td>NaN</td>\n",
              "    </tr>\n",
              "    <tr>\n",
              "      <th>9999</th>\n",
              "      <td>SAMEER  KHAN</td>\n",
              "    </tr>\n",
              "  </tbody>\n",
              "</table>\n",
              "<p>9990 rows × 1 columns</p>\n",
              "</div><br><label><b>dtype:</b> object</label>"
            ]
          },
          "metadata": {},
          "execution_count": 1147
        }
      ],
      "source": [
        "train['upi_name']"
      ]
    },
    {
      "cell_type": "code",
      "execution_count": 1148,
      "metadata": {
        "id": "wC4dD4rYGn7Z"
      },
      "outputs": [],
      "source": [
        "train.drop(\"upi_name\",axis=1,inplace=True)"
      ]
    },
    {
      "cell_type": "markdown",
      "metadata": {
        "id": "_em-R6iNGn7Z"
      },
      "source": [
        "# Phone Social Premium.a23games"
      ]
    },
    {
      "cell_type": "code",
      "execution_count": 1149,
      "metadata": {
        "colab": {
          "base_uri": "https://localhost:8080/"
        },
        "id": "N4pSyOC8Gn7a",
        "outputId": "1e2c7adc-dda1-450e-df4f-cd353eb9fa5b"
      },
      "outputs": [
        {
          "output_type": "execute_result",
          "data": {
            "text/plain": [
              "array([nan,  0.])"
            ]
          },
          "metadata": {},
          "execution_count": 1149
        }
      ],
      "source": [
        "train['Phone Social Premium.a23games'].unique()"
      ]
    },
    {
      "cell_type": "code",
      "execution_count": 1150,
      "metadata": {
        "id": "h0dmU2jhGn7a"
      },
      "outputs": [],
      "source": [
        "# We drop as we have only 0\n",
        "train.drop(\"Phone Social Premium.a23games\",axis=1,inplace=True)"
      ]
    },
    {
      "cell_type": "markdown",
      "metadata": {
        "id": "GnPEUXEmGn7a"
      },
      "source": [
        "# Phone Social Premium.amazon"
      ]
    },
    {
      "cell_type": "code",
      "execution_count": 1151,
      "metadata": {
        "colab": {
          "base_uri": "https://localhost:8080/",
          "height": 458
        },
        "id": "elB71XboGn7b",
        "outputId": "afc4984d-fd95-44db-bbc9-aa266e8d5f3f"
      },
      "outputs": [
        {
          "output_type": "execute_result",
          "data": {
            "text/plain": [
              "0       1.0\n",
              "1       1.0\n",
              "2       0.0\n",
              "3       0.0\n",
              "4       1.0\n",
              "       ... \n",
              "9995    1.0\n",
              "9996    1.0\n",
              "9997    0.0\n",
              "9998    0.0\n",
              "9999    1.0\n",
              "Name: Phone Social Premium.amazon, Length: 9990, dtype: float64"
            ],
            "text/html": [
              "<div>\n",
              "<style scoped>\n",
              "    .dataframe tbody tr th:only-of-type {\n",
              "        vertical-align: middle;\n",
              "    }\n",
              "\n",
              "    .dataframe tbody tr th {\n",
              "        vertical-align: top;\n",
              "    }\n",
              "\n",
              "    .dataframe thead th {\n",
              "        text-align: right;\n",
              "    }\n",
              "</style>\n",
              "<table border=\"1\" class=\"dataframe\">\n",
              "  <thead>\n",
              "    <tr style=\"text-align: right;\">\n",
              "      <th></th>\n",
              "      <th>Phone Social Premium.amazon</th>\n",
              "    </tr>\n",
              "  </thead>\n",
              "  <tbody>\n",
              "    <tr>\n",
              "      <th>0</th>\n",
              "      <td>1.0</td>\n",
              "    </tr>\n",
              "    <tr>\n",
              "      <th>1</th>\n",
              "      <td>1.0</td>\n",
              "    </tr>\n",
              "    <tr>\n",
              "      <th>2</th>\n",
              "      <td>0.0</td>\n",
              "    </tr>\n",
              "    <tr>\n",
              "      <th>3</th>\n",
              "      <td>0.0</td>\n",
              "    </tr>\n",
              "    <tr>\n",
              "      <th>4</th>\n",
              "      <td>1.0</td>\n",
              "    </tr>\n",
              "    <tr>\n",
              "      <th>...</th>\n",
              "      <td>...</td>\n",
              "    </tr>\n",
              "    <tr>\n",
              "      <th>9995</th>\n",
              "      <td>1.0</td>\n",
              "    </tr>\n",
              "    <tr>\n",
              "      <th>9996</th>\n",
              "      <td>1.0</td>\n",
              "    </tr>\n",
              "    <tr>\n",
              "      <th>9997</th>\n",
              "      <td>0.0</td>\n",
              "    </tr>\n",
              "    <tr>\n",
              "      <th>9998</th>\n",
              "      <td>0.0</td>\n",
              "    </tr>\n",
              "    <tr>\n",
              "      <th>9999</th>\n",
              "      <td>1.0</td>\n",
              "    </tr>\n",
              "  </tbody>\n",
              "</table>\n",
              "<p>9990 rows × 1 columns</p>\n",
              "</div><br><label><b>dtype:</b> float64</label>"
            ]
          },
          "metadata": {},
          "execution_count": 1151
        }
      ],
      "source": [
        "train['Phone Social Premium.amazon']"
      ]
    },
    {
      "cell_type": "code",
      "execution_count": 1152,
      "metadata": {
        "colab": {
          "base_uri": "https://localhost:8080/"
        },
        "id": "VnRp8vxKGn7c",
        "outputId": "3fdc9c0b-557a-438a-da0a-68b62306d179"
      },
      "outputs": [
        {
          "output_type": "execute_result",
          "data": {
            "text/plain": [
              "0.1916916916916917"
            ]
          },
          "metadata": {},
          "execution_count": 1152
        }
      ],
      "source": [
        "train['Phone Social Premium.amazon'].isnull().sum()/len(train)"
      ]
    },
    {
      "cell_type": "code",
      "execution_count": 1153,
      "metadata": {
        "colab": {
          "base_uri": "https://localhost:8080/"
        },
        "id": "C6M02SdqGn7d",
        "outputId": "da53bb11-94b7-46e3-de4c-a8926adee96a"
      },
      "outputs": [
        {
          "output_type": "execute_result",
          "data": {
            "text/plain": [
              "array([ 1.,  0., nan])"
            ]
          },
          "metadata": {},
          "execution_count": 1153
        }
      ],
      "source": [
        "train['Phone Social Premium.amazon'].unique()"
      ]
    },
    {
      "cell_type": "code",
      "execution_count": 1154,
      "metadata": {
        "colab": {
          "base_uri": "https://localhost:8080/"
        },
        "id": "iJaIsKIYGn7d",
        "outputId": "1e12b34f-087d-4cb9-e9c9-659ad72bb6b1"
      },
      "outputs": [
        {
          "output_type": "execute_result",
          "data": {
            "text/plain": [
              "0.1916916916916917"
            ]
          },
          "metadata": {},
          "execution_count": 1154
        }
      ],
      "source": [
        "train['Phone Social Premium.amazon'].isnull().sum()/len(train)"
      ]
    },
    {
      "cell_type": "code",
      "execution_count": 1155,
      "metadata": {
        "id": "Wwwvbp1iGn7f"
      },
      "outputs": [],
      "source": [
        "# FIll Missing Values with 0\n",
        "train['Phone Social Premium.amazon'].fillna(0, inplace=True)"
      ]
    },
    {
      "cell_type": "markdown",
      "metadata": {
        "id": "RDMkYuqlGn7g"
      },
      "source": [
        "# Phone Social Premium.byjus"
      ]
    },
    {
      "cell_type": "code",
      "execution_count": 1156,
      "metadata": {
        "colab": {
          "base_uri": "https://localhost:8080/",
          "height": 458
        },
        "id": "BvthWTX7Gn7g",
        "outputId": "a5613a12-b3b4-4441-8086-4f6da48e91ed"
      },
      "outputs": [
        {
          "output_type": "execute_result",
          "data": {
            "text/plain": [
              "0       0.0\n",
              "1       1.0\n",
              "2       0.0\n",
              "3       0.0\n",
              "4       0.0\n",
              "       ... \n",
              "9995    1.0\n",
              "9996    0.0\n",
              "9997    1.0\n",
              "9998    0.0\n",
              "9999    1.0\n",
              "Name: Phone Social Premium.byjus, Length: 9990, dtype: float64"
            ],
            "text/html": [
              "<div>\n",
              "<style scoped>\n",
              "    .dataframe tbody tr th:only-of-type {\n",
              "        vertical-align: middle;\n",
              "    }\n",
              "\n",
              "    .dataframe tbody tr th {\n",
              "        vertical-align: top;\n",
              "    }\n",
              "\n",
              "    .dataframe thead th {\n",
              "        text-align: right;\n",
              "    }\n",
              "</style>\n",
              "<table border=\"1\" class=\"dataframe\">\n",
              "  <thead>\n",
              "    <tr style=\"text-align: right;\">\n",
              "      <th></th>\n",
              "      <th>Phone Social Premium.byjus</th>\n",
              "    </tr>\n",
              "  </thead>\n",
              "  <tbody>\n",
              "    <tr>\n",
              "      <th>0</th>\n",
              "      <td>0.0</td>\n",
              "    </tr>\n",
              "    <tr>\n",
              "      <th>1</th>\n",
              "      <td>1.0</td>\n",
              "    </tr>\n",
              "    <tr>\n",
              "      <th>2</th>\n",
              "      <td>0.0</td>\n",
              "    </tr>\n",
              "    <tr>\n",
              "      <th>3</th>\n",
              "      <td>0.0</td>\n",
              "    </tr>\n",
              "    <tr>\n",
              "      <th>4</th>\n",
              "      <td>0.0</td>\n",
              "    </tr>\n",
              "    <tr>\n",
              "      <th>...</th>\n",
              "      <td>...</td>\n",
              "    </tr>\n",
              "    <tr>\n",
              "      <th>9995</th>\n",
              "      <td>1.0</td>\n",
              "    </tr>\n",
              "    <tr>\n",
              "      <th>9996</th>\n",
              "      <td>0.0</td>\n",
              "    </tr>\n",
              "    <tr>\n",
              "      <th>9997</th>\n",
              "      <td>1.0</td>\n",
              "    </tr>\n",
              "    <tr>\n",
              "      <th>9998</th>\n",
              "      <td>0.0</td>\n",
              "    </tr>\n",
              "    <tr>\n",
              "      <th>9999</th>\n",
              "      <td>1.0</td>\n",
              "    </tr>\n",
              "  </tbody>\n",
              "</table>\n",
              "<p>9990 rows × 1 columns</p>\n",
              "</div><br><label><b>dtype:</b> float64</label>"
            ]
          },
          "metadata": {},
          "execution_count": 1156
        }
      ],
      "source": [
        "train['Phone Social Premium.byjus']"
      ]
    },
    {
      "cell_type": "code",
      "execution_count": 1157,
      "metadata": {
        "colab": {
          "base_uri": "https://localhost:8080/"
        },
        "id": "LgxnwJ4SGn7h",
        "outputId": "7393556a-49b3-44c4-c4fa-cdbaea5ea029"
      },
      "outputs": [
        {
          "output_type": "execute_result",
          "data": {
            "text/plain": [
              "0.1948948948948949"
            ]
          },
          "metadata": {},
          "execution_count": 1157
        }
      ],
      "source": [
        "train['Phone Social Premium.byjus'].isnull().sum()/len(train)"
      ]
    },
    {
      "cell_type": "code",
      "execution_count": 1158,
      "metadata": {
        "colab": {
          "base_uri": "https://localhost:8080/"
        },
        "id": "ih2z-32iGn7j",
        "outputId": "34a455e5-fbc5-4d04-f57b-79de6e83ae40"
      },
      "outputs": [
        {
          "output_type": "execute_result",
          "data": {
            "text/plain": [
              "array([ 0.,  1., nan])"
            ]
          },
          "metadata": {},
          "execution_count": 1158
        }
      ],
      "source": [
        "train['Phone Social Premium.byjus'].unique()"
      ]
    },
    {
      "cell_type": "code",
      "execution_count": 1159,
      "metadata": {
        "id": "fimzi2tLGn7k"
      },
      "outputs": [],
      "source": [
        "# FIll Missing Values with 0\n",
        "train['Phone Social Premium.byjus'].fillna(0, inplace=True)\n"
      ]
    },
    {
      "cell_type": "code",
      "execution_count": 1160,
      "metadata": {
        "colab": {
          "base_uri": "https://localhost:8080/"
        },
        "id": "4NyDFf5jGn7k",
        "outputId": "cdbc0fc7-b5ea-4807-d68d-9183023b278f"
      },
      "outputs": [
        {
          "output_type": "execute_result",
          "data": {
            "text/plain": [
              "0.0"
            ]
          },
          "metadata": {},
          "execution_count": 1160
        }
      ],
      "source": [
        "train['Phone Social Premium.byjus'].isnull().sum()/len(train)"
      ]
    },
    {
      "cell_type": "markdown",
      "metadata": {
        "id": "O5FME9DBGn7l"
      },
      "source": [
        "# Phone Social Premium.flipkart"
      ]
    },
    {
      "cell_type": "code",
      "execution_count": 1161,
      "metadata": {
        "colab": {
          "base_uri": "https://localhost:8080/",
          "height": 458
        },
        "id": "0goAtLEuGn7l",
        "outputId": "f87cae08-7fb1-48e0-d1a8-e39d8a688d6c"
      },
      "outputs": [
        {
          "output_type": "execute_result",
          "data": {
            "text/plain": [
              "0       1.0\n",
              "1       1.0\n",
              "2       1.0\n",
              "3       1.0\n",
              "4       0.0\n",
              "       ... \n",
              "9995    0.0\n",
              "9996    1.0\n",
              "9997    0.0\n",
              "9998    0.0\n",
              "9999    1.0\n",
              "Name: Phone Social Premium.flipkart, Length: 9990, dtype: float64"
            ],
            "text/html": [
              "<div>\n",
              "<style scoped>\n",
              "    .dataframe tbody tr th:only-of-type {\n",
              "        vertical-align: middle;\n",
              "    }\n",
              "\n",
              "    .dataframe tbody tr th {\n",
              "        vertical-align: top;\n",
              "    }\n",
              "\n",
              "    .dataframe thead th {\n",
              "        text-align: right;\n",
              "    }\n",
              "</style>\n",
              "<table border=\"1\" class=\"dataframe\">\n",
              "  <thead>\n",
              "    <tr style=\"text-align: right;\">\n",
              "      <th></th>\n",
              "      <th>Phone Social Premium.flipkart</th>\n",
              "    </tr>\n",
              "  </thead>\n",
              "  <tbody>\n",
              "    <tr>\n",
              "      <th>0</th>\n",
              "      <td>1.0</td>\n",
              "    </tr>\n",
              "    <tr>\n",
              "      <th>1</th>\n",
              "      <td>1.0</td>\n",
              "    </tr>\n",
              "    <tr>\n",
              "      <th>2</th>\n",
              "      <td>1.0</td>\n",
              "    </tr>\n",
              "    <tr>\n",
              "      <th>3</th>\n",
              "      <td>1.0</td>\n",
              "    </tr>\n",
              "    <tr>\n",
              "      <th>4</th>\n",
              "      <td>0.0</td>\n",
              "    </tr>\n",
              "    <tr>\n",
              "      <th>...</th>\n",
              "      <td>...</td>\n",
              "    </tr>\n",
              "    <tr>\n",
              "      <th>9995</th>\n",
              "      <td>0.0</td>\n",
              "    </tr>\n",
              "    <tr>\n",
              "      <th>9996</th>\n",
              "      <td>1.0</td>\n",
              "    </tr>\n",
              "    <tr>\n",
              "      <th>9997</th>\n",
              "      <td>0.0</td>\n",
              "    </tr>\n",
              "    <tr>\n",
              "      <th>9998</th>\n",
              "      <td>0.0</td>\n",
              "    </tr>\n",
              "    <tr>\n",
              "      <th>9999</th>\n",
              "      <td>1.0</td>\n",
              "    </tr>\n",
              "  </tbody>\n",
              "</table>\n",
              "<p>9990 rows × 1 columns</p>\n",
              "</div><br><label><b>dtype:</b> float64</label>"
            ]
          },
          "metadata": {},
          "execution_count": 1161
        }
      ],
      "source": [
        "train['Phone Social Premium.flipkart']"
      ]
    },
    {
      "cell_type": "code",
      "execution_count": 1162,
      "metadata": {
        "colab": {
          "base_uri": "https://localhost:8080/"
        },
        "id": "jZhRlxQ4Gn7m",
        "outputId": "8c20ace0-53ad-4813-bade-7c43b0797bca"
      },
      "outputs": [
        {
          "output_type": "execute_result",
          "data": {
            "text/plain": [
              "0.18328328328328328"
            ]
          },
          "metadata": {},
          "execution_count": 1162
        }
      ],
      "source": [
        "train['Phone Social Premium.flipkart'].isnull().sum()/len(train)"
      ]
    },
    {
      "cell_type": "code",
      "execution_count": 1163,
      "metadata": {
        "colab": {
          "base_uri": "https://localhost:8080/"
        },
        "id": "ouTQVjAtGn7m",
        "outputId": "184958b7-aba5-4260-a9cd-8f1505c1382b"
      },
      "outputs": [
        {
          "output_type": "execute_result",
          "data": {
            "text/plain": [
              "array([ 1.,  0., nan])"
            ]
          },
          "metadata": {},
          "execution_count": 1163
        }
      ],
      "source": [
        "train['Phone Social Premium.flipkart'].unique()"
      ]
    },
    {
      "cell_type": "code",
      "execution_count": 1164,
      "metadata": {
        "id": "kcLrAZXWGn7n"
      },
      "outputs": [],
      "source": [
        "# FIll Missing Values with 0\n",
        "train['Phone Social Premium.flipkart'].fillna(0, inplace=True)"
      ]
    },
    {
      "cell_type": "code",
      "execution_count": 1165,
      "metadata": {
        "colab": {
          "base_uri": "https://localhost:8080/"
        },
        "id": "vTqOwJHtGn7n",
        "outputId": "af775d75-8941-4b9c-c578-7625f8f466fa"
      },
      "outputs": [
        {
          "output_type": "execute_result",
          "data": {
            "text/plain": [
              "0.0"
            ]
          },
          "metadata": {},
          "execution_count": 1165
        }
      ],
      "source": [
        "train['Phone Social Premium.flipkart'].isnull().sum()/len(train)"
      ]
    },
    {
      "cell_type": "markdown",
      "metadata": {
        "id": "Dw3VhCITGn7o"
      },
      "source": [
        "# Phone Social Premium.housing"
      ]
    },
    {
      "cell_type": "code",
      "execution_count": 1166,
      "metadata": {
        "colab": {
          "base_uri": "https://localhost:8080/",
          "height": 458
        },
        "id": "tRMy3w2mGn7o",
        "outputId": "eafd1e0d-77b0-4b7a-c94d-39f60910e9ea"
      },
      "outputs": [
        {
          "output_type": "execute_result",
          "data": {
            "text/plain": [
              "0       0.0\n",
              "1       0.0\n",
              "2       0.0\n",
              "3       1.0\n",
              "4       0.0\n",
              "       ... \n",
              "9995    0.0\n",
              "9996    0.0\n",
              "9997    0.0\n",
              "9998    0.0\n",
              "9999    0.0\n",
              "Name: Phone Social Premium.housing, Length: 9990, dtype: float64"
            ],
            "text/html": [
              "<div>\n",
              "<style scoped>\n",
              "    .dataframe tbody tr th:only-of-type {\n",
              "        vertical-align: middle;\n",
              "    }\n",
              "\n",
              "    .dataframe tbody tr th {\n",
              "        vertical-align: top;\n",
              "    }\n",
              "\n",
              "    .dataframe thead th {\n",
              "        text-align: right;\n",
              "    }\n",
              "</style>\n",
              "<table border=\"1\" class=\"dataframe\">\n",
              "  <thead>\n",
              "    <tr style=\"text-align: right;\">\n",
              "      <th></th>\n",
              "      <th>Phone Social Premium.housing</th>\n",
              "    </tr>\n",
              "  </thead>\n",
              "  <tbody>\n",
              "    <tr>\n",
              "      <th>0</th>\n",
              "      <td>0.0</td>\n",
              "    </tr>\n",
              "    <tr>\n",
              "      <th>1</th>\n",
              "      <td>0.0</td>\n",
              "    </tr>\n",
              "    <tr>\n",
              "      <th>2</th>\n",
              "      <td>0.0</td>\n",
              "    </tr>\n",
              "    <tr>\n",
              "      <th>3</th>\n",
              "      <td>1.0</td>\n",
              "    </tr>\n",
              "    <tr>\n",
              "      <th>4</th>\n",
              "      <td>0.0</td>\n",
              "    </tr>\n",
              "    <tr>\n",
              "      <th>...</th>\n",
              "      <td>...</td>\n",
              "    </tr>\n",
              "    <tr>\n",
              "      <th>9995</th>\n",
              "      <td>0.0</td>\n",
              "    </tr>\n",
              "    <tr>\n",
              "      <th>9996</th>\n",
              "      <td>0.0</td>\n",
              "    </tr>\n",
              "    <tr>\n",
              "      <th>9997</th>\n",
              "      <td>0.0</td>\n",
              "    </tr>\n",
              "    <tr>\n",
              "      <th>9998</th>\n",
              "      <td>0.0</td>\n",
              "    </tr>\n",
              "    <tr>\n",
              "      <th>9999</th>\n",
              "      <td>0.0</td>\n",
              "    </tr>\n",
              "  </tbody>\n",
              "</table>\n",
              "<p>9990 rows × 1 columns</p>\n",
              "</div><br><label><b>dtype:</b> float64</label>"
            ]
          },
          "metadata": {},
          "execution_count": 1166
        }
      ],
      "source": [
        "train['Phone Social Premium.housing']"
      ]
    },
    {
      "cell_type": "code",
      "execution_count": 1167,
      "metadata": {
        "colab": {
          "base_uri": "https://localhost:8080/"
        },
        "id": "XhO9M78CGn7p",
        "outputId": "359eb259-13a9-41c0-8428-90bf12c9ee6d"
      },
      "outputs": [
        {
          "output_type": "execute_result",
          "data": {
            "text/plain": [
              "0.17767767767767767"
            ]
          },
          "metadata": {},
          "execution_count": 1167
        }
      ],
      "source": [
        "train['Phone Social Premium.housing'].isnull().sum()/len(train)"
      ]
    },
    {
      "cell_type": "code",
      "execution_count": 1168,
      "metadata": {
        "colab": {
          "base_uri": "https://localhost:8080/"
        },
        "id": "rirBswjFGn7p",
        "outputId": "8a4682cf-2fe4-4a6c-d453-a6bbfdc0c3cc"
      },
      "outputs": [
        {
          "output_type": "execute_result",
          "data": {
            "text/plain": [
              "array([ 0.,  1., nan])"
            ]
          },
          "metadata": {},
          "execution_count": 1168
        }
      ],
      "source": [
        "train['Phone Social Premium.housing'].unique()"
      ]
    },
    {
      "cell_type": "code",
      "execution_count": 1169,
      "metadata": {
        "id": "rsqvgHcMGn7q"
      },
      "outputs": [],
      "source": [
        "# FIll Missing Values with 0\n",
        "train['Phone Social Premium.housing'].fillna(0, inplace=True)"
      ]
    },
    {
      "cell_type": "markdown",
      "metadata": {
        "id": "EuSSu9IRGn7q"
      },
      "source": [
        "# Phone Social Premium.indiamart"
      ]
    },
    {
      "cell_type": "code",
      "execution_count": 1170,
      "metadata": {
        "colab": {
          "base_uri": "https://localhost:8080/",
          "height": 458
        },
        "id": "86uar6saGn7r",
        "outputId": "29158cbf-19cf-4dbb-a074-6f60f83e0c2d"
      },
      "outputs": [
        {
          "output_type": "execute_result",
          "data": {
            "text/plain": [
              "0       1.0\n",
              "1       1.0\n",
              "2       1.0\n",
              "3       1.0\n",
              "4       1.0\n",
              "       ... \n",
              "9995    1.0\n",
              "9996    1.0\n",
              "9997    1.0\n",
              "9998    1.0\n",
              "9999    1.0\n",
              "Name: Phone Social Premium.indiamart, Length: 9990, dtype: float64"
            ],
            "text/html": [
              "<div>\n",
              "<style scoped>\n",
              "    .dataframe tbody tr th:only-of-type {\n",
              "        vertical-align: middle;\n",
              "    }\n",
              "\n",
              "    .dataframe tbody tr th {\n",
              "        vertical-align: top;\n",
              "    }\n",
              "\n",
              "    .dataframe thead th {\n",
              "        text-align: right;\n",
              "    }\n",
              "</style>\n",
              "<table border=\"1\" class=\"dataframe\">\n",
              "  <thead>\n",
              "    <tr style=\"text-align: right;\">\n",
              "      <th></th>\n",
              "      <th>Phone Social Premium.indiamart</th>\n",
              "    </tr>\n",
              "  </thead>\n",
              "  <tbody>\n",
              "    <tr>\n",
              "      <th>0</th>\n",
              "      <td>1.0</td>\n",
              "    </tr>\n",
              "    <tr>\n",
              "      <th>1</th>\n",
              "      <td>1.0</td>\n",
              "    </tr>\n",
              "    <tr>\n",
              "      <th>2</th>\n",
              "      <td>1.0</td>\n",
              "    </tr>\n",
              "    <tr>\n",
              "      <th>3</th>\n",
              "      <td>1.0</td>\n",
              "    </tr>\n",
              "    <tr>\n",
              "      <th>4</th>\n",
              "      <td>1.0</td>\n",
              "    </tr>\n",
              "    <tr>\n",
              "      <th>...</th>\n",
              "      <td>...</td>\n",
              "    </tr>\n",
              "    <tr>\n",
              "      <th>9995</th>\n",
              "      <td>1.0</td>\n",
              "    </tr>\n",
              "    <tr>\n",
              "      <th>9996</th>\n",
              "      <td>1.0</td>\n",
              "    </tr>\n",
              "    <tr>\n",
              "      <th>9997</th>\n",
              "      <td>1.0</td>\n",
              "    </tr>\n",
              "    <tr>\n",
              "      <th>9998</th>\n",
              "      <td>1.0</td>\n",
              "    </tr>\n",
              "    <tr>\n",
              "      <th>9999</th>\n",
              "      <td>1.0</td>\n",
              "    </tr>\n",
              "  </tbody>\n",
              "</table>\n",
              "<p>9990 rows × 1 columns</p>\n",
              "</div><br><label><b>dtype:</b> float64</label>"
            ]
          },
          "metadata": {},
          "execution_count": 1170
        }
      ],
      "source": [
        "train['Phone Social Premium.indiamart']"
      ]
    },
    {
      "cell_type": "code",
      "execution_count": 1171,
      "metadata": {
        "colab": {
          "base_uri": "https://localhost:8080/"
        },
        "id": "z1nfy7YJGn7r",
        "outputId": "1b3ed133-67f0-42ab-de61-01b29f3bfbc2"
      },
      "outputs": [
        {
          "output_type": "execute_result",
          "data": {
            "text/plain": [
              "0.17757757757757758"
            ]
          },
          "metadata": {},
          "execution_count": 1171
        }
      ],
      "source": [
        "train['Phone Social Premium.indiamart'].isnull().sum()/len(train)\n"
      ]
    },
    {
      "cell_type": "code",
      "execution_count": 1172,
      "metadata": {
        "id": "4hRO7K1kGn7r"
      },
      "outputs": [],
      "source": [
        "# FIll Missing Values with 0\n",
        "train['Phone Social Premium.indiamart'].fillna(0, inplace=True)"
      ]
    },
    {
      "cell_type": "code",
      "execution_count": 1173,
      "metadata": {
        "colab": {
          "base_uri": "https://localhost:8080/"
        },
        "id": "e7dDTKstGn7s",
        "outputId": "23b0dd22-07b8-4339-88fe-e7dce5485ee3"
      },
      "outputs": [
        {
          "output_type": "execute_result",
          "data": {
            "text/plain": [
              "0.0"
            ]
          },
          "metadata": {},
          "execution_count": 1173
        }
      ],
      "source": [
        "train['Phone Social Premium.indiamart'].isnull().sum()/len(train)\n"
      ]
    },
    {
      "cell_type": "markdown",
      "metadata": {
        "id": "LMnfEf41Gn7s"
      },
      "source": [
        "# Phone Social Premium.instagram"
      ]
    },
    {
      "cell_type": "code",
      "execution_count": 1174,
      "metadata": {
        "colab": {
          "base_uri": "https://localhost:8080/",
          "height": 458
        },
        "id": "Id3puPOOGn7t",
        "outputId": "595c1013-6824-4610-9295-720305ac9081"
      },
      "outputs": [
        {
          "output_type": "execute_result",
          "data": {
            "text/plain": [
              "0       NaN\n",
              "1       NaN\n",
              "2       NaN\n",
              "3       1.0\n",
              "4       1.0\n",
              "       ... \n",
              "9995    1.0\n",
              "9996    0.0\n",
              "9997    NaN\n",
              "9998    NaN\n",
              "9999    1.0\n",
              "Name: Phone Social Premium.instagram, Length: 9990, dtype: float64"
            ],
            "text/html": [
              "<div>\n",
              "<style scoped>\n",
              "    .dataframe tbody tr th:only-of-type {\n",
              "        vertical-align: middle;\n",
              "    }\n",
              "\n",
              "    .dataframe tbody tr th {\n",
              "        vertical-align: top;\n",
              "    }\n",
              "\n",
              "    .dataframe thead th {\n",
              "        text-align: right;\n",
              "    }\n",
              "</style>\n",
              "<table border=\"1\" class=\"dataframe\">\n",
              "  <thead>\n",
              "    <tr style=\"text-align: right;\">\n",
              "      <th></th>\n",
              "      <th>Phone Social Premium.instagram</th>\n",
              "    </tr>\n",
              "  </thead>\n",
              "  <tbody>\n",
              "    <tr>\n",
              "      <th>0</th>\n",
              "      <td>NaN</td>\n",
              "    </tr>\n",
              "    <tr>\n",
              "      <th>1</th>\n",
              "      <td>NaN</td>\n",
              "    </tr>\n",
              "    <tr>\n",
              "      <th>2</th>\n",
              "      <td>NaN</td>\n",
              "    </tr>\n",
              "    <tr>\n",
              "      <th>3</th>\n",
              "      <td>1.0</td>\n",
              "    </tr>\n",
              "    <tr>\n",
              "      <th>4</th>\n",
              "      <td>1.0</td>\n",
              "    </tr>\n",
              "    <tr>\n",
              "      <th>...</th>\n",
              "      <td>...</td>\n",
              "    </tr>\n",
              "    <tr>\n",
              "      <th>9995</th>\n",
              "      <td>1.0</td>\n",
              "    </tr>\n",
              "    <tr>\n",
              "      <th>9996</th>\n",
              "      <td>0.0</td>\n",
              "    </tr>\n",
              "    <tr>\n",
              "      <th>9997</th>\n",
              "      <td>NaN</td>\n",
              "    </tr>\n",
              "    <tr>\n",
              "      <th>9998</th>\n",
              "      <td>NaN</td>\n",
              "    </tr>\n",
              "    <tr>\n",
              "      <th>9999</th>\n",
              "      <td>1.0</td>\n",
              "    </tr>\n",
              "  </tbody>\n",
              "</table>\n",
              "<p>9990 rows × 1 columns</p>\n",
              "</div><br><label><b>dtype:</b> float64</label>"
            ]
          },
          "metadata": {},
          "execution_count": 1174
        }
      ],
      "source": [
        "train['Phone Social Premium.instagram']"
      ]
    },
    {
      "cell_type": "code",
      "execution_count": 1175,
      "metadata": {
        "colab": {
          "base_uri": "https://localhost:8080/"
        },
        "id": "BWKWznGOGn7t",
        "outputId": "bc919bf5-ddda-469c-fa9f-e24ee26e7a28"
      },
      "outputs": [
        {
          "output_type": "execute_result",
          "data": {
            "text/plain": [
              "0.6634634634634634"
            ]
          },
          "metadata": {},
          "execution_count": 1175
        }
      ],
      "source": [
        "train['Phone Social Premium.instagram'].isnull().sum()/len(train)"
      ]
    },
    {
      "cell_type": "code",
      "execution_count": 1176,
      "metadata": {
        "id": "fy3iGe-dGn7t"
      },
      "outputs": [],
      "source": [
        "# FIll Missing Values with 0\n",
        "train['Phone Social Premium.instagram'].fillna(0, inplace=True)"
      ]
    },
    {
      "cell_type": "code",
      "execution_count": 1177,
      "metadata": {
        "colab": {
          "base_uri": "https://localhost:8080/"
        },
        "id": "OTli4CfKGn7u",
        "outputId": "ad30ad99-ba66-46df-d574-a90a9dd3e801"
      },
      "outputs": [
        {
          "output_type": "execute_result",
          "data": {
            "text/plain": [
              "0.0"
            ]
          },
          "metadata": {},
          "execution_count": 1177
        }
      ],
      "source": [
        "train['Phone Social Premium.instagram'].isnull().sum()/len(train)"
      ]
    },
    {
      "cell_type": "markdown",
      "metadata": {
        "id": "VF1lvCBIGn7u"
      },
      "source": [
        "# Phone Social Premium.isWABusiness"
      ]
    },
    {
      "cell_type": "code",
      "execution_count": 1178,
      "metadata": {
        "colab": {
          "base_uri": "https://localhost:8080/",
          "height": 458
        },
        "id": "qIaqHjOwGn7v",
        "outputId": "fa7a2b21-c97e-499c-9295-1923acc20228"
      },
      "outputs": [
        {
          "output_type": "execute_result",
          "data": {
            "text/plain": [
              "0       NaN\n",
              "1       NaN\n",
              "2       NaN\n",
              "3       NaN\n",
              "4       NaN\n",
              "       ... \n",
              "9995    NaN\n",
              "9996    0.0\n",
              "9997    0.0\n",
              "9998    NaN\n",
              "9999    0.0\n",
              "Name: Phone Social Premium.isWABusiness, Length: 9990, dtype: float64"
            ],
            "text/html": [
              "<div>\n",
              "<style scoped>\n",
              "    .dataframe tbody tr th:only-of-type {\n",
              "        vertical-align: middle;\n",
              "    }\n",
              "\n",
              "    .dataframe tbody tr th {\n",
              "        vertical-align: top;\n",
              "    }\n",
              "\n",
              "    .dataframe thead th {\n",
              "        text-align: right;\n",
              "    }\n",
              "</style>\n",
              "<table border=\"1\" class=\"dataframe\">\n",
              "  <thead>\n",
              "    <tr style=\"text-align: right;\">\n",
              "      <th></th>\n",
              "      <th>Phone Social Premium.isWABusiness</th>\n",
              "    </tr>\n",
              "  </thead>\n",
              "  <tbody>\n",
              "    <tr>\n",
              "      <th>0</th>\n",
              "      <td>NaN</td>\n",
              "    </tr>\n",
              "    <tr>\n",
              "      <th>1</th>\n",
              "      <td>NaN</td>\n",
              "    </tr>\n",
              "    <tr>\n",
              "      <th>2</th>\n",
              "      <td>NaN</td>\n",
              "    </tr>\n",
              "    <tr>\n",
              "      <th>3</th>\n",
              "      <td>NaN</td>\n",
              "    </tr>\n",
              "    <tr>\n",
              "      <th>4</th>\n",
              "      <td>NaN</td>\n",
              "    </tr>\n",
              "    <tr>\n",
              "      <th>...</th>\n",
              "      <td>...</td>\n",
              "    </tr>\n",
              "    <tr>\n",
              "      <th>9995</th>\n",
              "      <td>NaN</td>\n",
              "    </tr>\n",
              "    <tr>\n",
              "      <th>9996</th>\n",
              "      <td>0.0</td>\n",
              "    </tr>\n",
              "    <tr>\n",
              "      <th>9997</th>\n",
              "      <td>0.0</td>\n",
              "    </tr>\n",
              "    <tr>\n",
              "      <th>9998</th>\n",
              "      <td>NaN</td>\n",
              "    </tr>\n",
              "    <tr>\n",
              "      <th>9999</th>\n",
              "      <td>0.0</td>\n",
              "    </tr>\n",
              "  </tbody>\n",
              "</table>\n",
              "<p>9990 rows × 1 columns</p>\n",
              "</div><br><label><b>dtype:</b> float64</label>"
            ]
          },
          "metadata": {},
          "execution_count": 1178
        }
      ],
      "source": [
        "train['Phone Social Premium.isWABusiness']"
      ]
    },
    {
      "cell_type": "code",
      "execution_count": 1179,
      "metadata": {
        "colab": {
          "base_uri": "https://localhost:8080/"
        },
        "id": "QA8B1G_sGn7v",
        "outputId": "ef52df4a-5237-4016-f0a7-623df0cda563"
      },
      "outputs": [
        {
          "output_type": "execute_result",
          "data": {
            "text/plain": [
              "array([nan,  0.,  1.])"
            ]
          },
          "metadata": {},
          "execution_count": 1179
        }
      ],
      "source": [
        "train['Phone Social Premium.isWABusiness'].unique()"
      ]
    },
    {
      "cell_type": "code",
      "execution_count": 1180,
      "metadata": {
        "colab": {
          "base_uri": "https://localhost:8080/"
        },
        "id": "p4hNedKQGn7w",
        "outputId": "2616f9bf-b965-43d7-8717-e2abacc39631"
      },
      "outputs": [
        {
          "output_type": "execute_result",
          "data": {
            "text/plain": [
              "0.8429429429429429"
            ]
          },
          "metadata": {},
          "execution_count": 1180
        }
      ],
      "source": [
        "train['Phone Social Premium.isWABusiness'].isnull().sum()/len(train)"
      ]
    },
    {
      "cell_type": "code",
      "execution_count": 1181,
      "metadata": {
        "id": "8cKOszDbGn7w"
      },
      "outputs": [],
      "source": [
        "train.drop('Phone Social Premium.isWABusiness',axis=1,inplace=True)"
      ]
    },
    {
      "cell_type": "markdown",
      "metadata": {
        "id": "bNnpp4qJGn7w"
      },
      "source": [
        "# Phone Social Premium.jeevansaathi"
      ]
    },
    {
      "cell_type": "code",
      "execution_count": 1182,
      "metadata": {
        "colab": {
          "base_uri": "https://localhost:8080/",
          "height": 458
        },
        "id": "7XBjFVqPGn7x",
        "outputId": "0f13af1e-4eb3-4bc0-c7f4-05400f9e6253"
      },
      "outputs": [
        {
          "output_type": "execute_result",
          "data": {
            "text/plain": [
              "0       0.0\n",
              "1       0.0\n",
              "2       0.0\n",
              "3       0.0\n",
              "4       0.0\n",
              "       ... \n",
              "9995    0.0\n",
              "9996    0.0\n",
              "9997    0.0\n",
              "9998    0.0\n",
              "9999    0.0\n",
              "Name: Phone Social Premium.jeevansaathi, Length: 9990, dtype: float64"
            ],
            "text/html": [
              "<div>\n",
              "<style scoped>\n",
              "    .dataframe tbody tr th:only-of-type {\n",
              "        vertical-align: middle;\n",
              "    }\n",
              "\n",
              "    .dataframe tbody tr th {\n",
              "        vertical-align: top;\n",
              "    }\n",
              "\n",
              "    .dataframe thead th {\n",
              "        text-align: right;\n",
              "    }\n",
              "</style>\n",
              "<table border=\"1\" class=\"dataframe\">\n",
              "  <thead>\n",
              "    <tr style=\"text-align: right;\">\n",
              "      <th></th>\n",
              "      <th>Phone Social Premium.jeevansaathi</th>\n",
              "    </tr>\n",
              "  </thead>\n",
              "  <tbody>\n",
              "    <tr>\n",
              "      <th>0</th>\n",
              "      <td>0.0</td>\n",
              "    </tr>\n",
              "    <tr>\n",
              "      <th>1</th>\n",
              "      <td>0.0</td>\n",
              "    </tr>\n",
              "    <tr>\n",
              "      <th>2</th>\n",
              "      <td>0.0</td>\n",
              "    </tr>\n",
              "    <tr>\n",
              "      <th>3</th>\n",
              "      <td>0.0</td>\n",
              "    </tr>\n",
              "    <tr>\n",
              "      <th>4</th>\n",
              "      <td>0.0</td>\n",
              "    </tr>\n",
              "    <tr>\n",
              "      <th>...</th>\n",
              "      <td>...</td>\n",
              "    </tr>\n",
              "    <tr>\n",
              "      <th>9995</th>\n",
              "      <td>0.0</td>\n",
              "    </tr>\n",
              "    <tr>\n",
              "      <th>9996</th>\n",
              "      <td>0.0</td>\n",
              "    </tr>\n",
              "    <tr>\n",
              "      <th>9997</th>\n",
              "      <td>0.0</td>\n",
              "    </tr>\n",
              "    <tr>\n",
              "      <th>9998</th>\n",
              "      <td>0.0</td>\n",
              "    </tr>\n",
              "    <tr>\n",
              "      <th>9999</th>\n",
              "      <td>0.0</td>\n",
              "    </tr>\n",
              "  </tbody>\n",
              "</table>\n",
              "<p>9990 rows × 1 columns</p>\n",
              "</div><br><label><b>dtype:</b> float64</label>"
            ]
          },
          "metadata": {},
          "execution_count": 1182
        }
      ],
      "source": [
        "train['Phone Social Premium.jeevansaathi']"
      ]
    },
    {
      "cell_type": "code",
      "execution_count": 1183,
      "metadata": {
        "colab": {
          "base_uri": "https://localhost:8080/"
        },
        "id": "_ayzWJfTGn7x",
        "outputId": "75a7a4a3-ff5e-4357-9663-ef998995f9e2"
      },
      "outputs": [
        {
          "output_type": "execute_result",
          "data": {
            "text/plain": [
              "0.182982982982983"
            ]
          },
          "metadata": {},
          "execution_count": 1183
        }
      ],
      "source": [
        "train['Phone Social Premium.jeevansaathi'].isnull().sum()/len(train)"
      ]
    },
    {
      "cell_type": "code",
      "execution_count": 1184,
      "metadata": {
        "colab": {
          "base_uri": "https://localhost:8080/"
        },
        "id": "blOp5Gk4Gn7x",
        "outputId": "dd1b3511-afa4-474d-b72c-9bac9942c088"
      },
      "outputs": [
        {
          "output_type": "execute_result",
          "data": {
            "text/plain": [
              "array([ 0.,  1., nan])"
            ]
          },
          "metadata": {},
          "execution_count": 1184
        }
      ],
      "source": [
        "train['Phone Social Premium.jeevansaathi'].unique()"
      ]
    },
    {
      "cell_type": "code",
      "execution_count": 1185,
      "metadata": {
        "id": "M-9PCTHmGn7y"
      },
      "outputs": [],
      "source": [
        "# FIll Missing Values with 0\n",
        "train['Phone Social Premium.jeevansaathi'].fillna(0, inplace=True)"
      ]
    },
    {
      "cell_type": "code",
      "execution_count": 1186,
      "metadata": {
        "colab": {
          "base_uri": "https://localhost:8080/"
        },
        "id": "K_SwbpwZGn7z",
        "outputId": "ea44f359-21db-4259-ad47-a872923604b9"
      },
      "outputs": [
        {
          "output_type": "execute_result",
          "data": {
            "text/plain": [
              "0.0"
            ]
          },
          "metadata": {},
          "execution_count": 1186
        }
      ],
      "source": [
        "train['Phone Social Premium.jeevansaathi'].isnull().sum()/len(train)"
      ]
    },
    {
      "cell_type": "markdown",
      "metadata": {
        "id": "8zSy6OznGn70"
      },
      "source": [
        "# Phone Social Premium.jiomart"
      ]
    },
    {
      "cell_type": "code",
      "execution_count": 1187,
      "metadata": {
        "colab": {
          "base_uri": "https://localhost:8080/",
          "height": 458
        },
        "id": "ihpvKmYsGn70",
        "outputId": "40d84cac-b7f1-41c8-fbb5-609e54820d43"
      },
      "outputs": [
        {
          "output_type": "execute_result",
          "data": {
            "text/plain": [
              "0      NaN\n",
              "1      NaN\n",
              "2      NaN\n",
              "3      NaN\n",
              "4      NaN\n",
              "        ..\n",
              "9995   NaN\n",
              "9996   NaN\n",
              "9997   NaN\n",
              "9998   NaN\n",
              "9999   NaN\n",
              "Name: Phone Social Premium.jiomart, Length: 9990, dtype: float64"
            ],
            "text/html": [
              "<div>\n",
              "<style scoped>\n",
              "    .dataframe tbody tr th:only-of-type {\n",
              "        vertical-align: middle;\n",
              "    }\n",
              "\n",
              "    .dataframe tbody tr th {\n",
              "        vertical-align: top;\n",
              "    }\n",
              "\n",
              "    .dataframe thead th {\n",
              "        text-align: right;\n",
              "    }\n",
              "</style>\n",
              "<table border=\"1\" class=\"dataframe\">\n",
              "  <thead>\n",
              "    <tr style=\"text-align: right;\">\n",
              "      <th></th>\n",
              "      <th>Phone Social Premium.jiomart</th>\n",
              "    </tr>\n",
              "  </thead>\n",
              "  <tbody>\n",
              "    <tr>\n",
              "      <th>0</th>\n",
              "      <td>NaN</td>\n",
              "    </tr>\n",
              "    <tr>\n",
              "      <th>1</th>\n",
              "      <td>NaN</td>\n",
              "    </tr>\n",
              "    <tr>\n",
              "      <th>2</th>\n",
              "      <td>NaN</td>\n",
              "    </tr>\n",
              "    <tr>\n",
              "      <th>3</th>\n",
              "      <td>NaN</td>\n",
              "    </tr>\n",
              "    <tr>\n",
              "      <th>4</th>\n",
              "      <td>NaN</td>\n",
              "    </tr>\n",
              "    <tr>\n",
              "      <th>...</th>\n",
              "      <td>...</td>\n",
              "    </tr>\n",
              "    <tr>\n",
              "      <th>9995</th>\n",
              "      <td>NaN</td>\n",
              "    </tr>\n",
              "    <tr>\n",
              "      <th>9996</th>\n",
              "      <td>NaN</td>\n",
              "    </tr>\n",
              "    <tr>\n",
              "      <th>9997</th>\n",
              "      <td>NaN</td>\n",
              "    </tr>\n",
              "    <tr>\n",
              "      <th>9998</th>\n",
              "      <td>NaN</td>\n",
              "    </tr>\n",
              "    <tr>\n",
              "      <th>9999</th>\n",
              "      <td>NaN</td>\n",
              "    </tr>\n",
              "  </tbody>\n",
              "</table>\n",
              "<p>9990 rows × 1 columns</p>\n",
              "</div><br><label><b>dtype:</b> float64</label>"
            ]
          },
          "metadata": {},
          "execution_count": 1187
        }
      ],
      "source": [
        "train['Phone Social Premium.jiomart']"
      ]
    },
    {
      "cell_type": "code",
      "execution_count": 1188,
      "metadata": {
        "colab": {
          "base_uri": "https://localhost:8080/"
        },
        "id": "bBAFm6AfGn71",
        "outputId": "764d171f-a161-43c0-d67c-3c4366b7acd0"
      },
      "outputs": [
        {
          "output_type": "execute_result",
          "data": {
            "text/plain": [
              "0.958958958958959"
            ]
          },
          "metadata": {},
          "execution_count": 1188
        }
      ],
      "source": [
        "train['Phone Social Premium.jiomart'].isnull().sum()/len(train)"
      ]
    },
    {
      "cell_type": "code",
      "execution_count": 1189,
      "metadata": {
        "id": "UsDIjC8wGn72"
      },
      "outputs": [],
      "source": [
        "train.drop('Phone Social Premium.jiomart',axis=1,inplace=True)"
      ]
    },
    {
      "cell_type": "markdown",
      "metadata": {
        "id": "zo_VGQrtGn73"
      },
      "source": [
        "# Phone Social Premium.microsoft"
      ]
    },
    {
      "cell_type": "code",
      "execution_count": 1190,
      "metadata": {
        "colab": {
          "base_uri": "https://localhost:8080/",
          "height": 458
        },
        "id": "sfQyB821Gn73",
        "outputId": "fdd0e509-22d4-44e6-add0-2fc70f05f50d"
      },
      "outputs": [
        {
          "output_type": "execute_result",
          "data": {
            "text/plain": [
              "0       0.0\n",
              "1       0.0\n",
              "2       0.0\n",
              "3       0.0\n",
              "4       0.0\n",
              "       ... \n",
              "9995    1.0\n",
              "9996    0.0\n",
              "9997    0.0\n",
              "9998    0.0\n",
              "9999    0.0\n",
              "Name: Phone Social Premium.microsoft, Length: 9990, dtype: float64"
            ],
            "text/html": [
              "<div>\n",
              "<style scoped>\n",
              "    .dataframe tbody tr th:only-of-type {\n",
              "        vertical-align: middle;\n",
              "    }\n",
              "\n",
              "    .dataframe tbody tr th {\n",
              "        vertical-align: top;\n",
              "    }\n",
              "\n",
              "    .dataframe thead th {\n",
              "        text-align: right;\n",
              "    }\n",
              "</style>\n",
              "<table border=\"1\" class=\"dataframe\">\n",
              "  <thead>\n",
              "    <tr style=\"text-align: right;\">\n",
              "      <th></th>\n",
              "      <th>Phone Social Premium.microsoft</th>\n",
              "    </tr>\n",
              "  </thead>\n",
              "  <tbody>\n",
              "    <tr>\n",
              "      <th>0</th>\n",
              "      <td>0.0</td>\n",
              "    </tr>\n",
              "    <tr>\n",
              "      <th>1</th>\n",
              "      <td>0.0</td>\n",
              "    </tr>\n",
              "    <tr>\n",
              "      <th>2</th>\n",
              "      <td>0.0</td>\n",
              "    </tr>\n",
              "    <tr>\n",
              "      <th>3</th>\n",
              "      <td>0.0</td>\n",
              "    </tr>\n",
              "    <tr>\n",
              "      <th>4</th>\n",
              "      <td>0.0</td>\n",
              "    </tr>\n",
              "    <tr>\n",
              "      <th>...</th>\n",
              "      <td>...</td>\n",
              "    </tr>\n",
              "    <tr>\n",
              "      <th>9995</th>\n",
              "      <td>1.0</td>\n",
              "    </tr>\n",
              "    <tr>\n",
              "      <th>9996</th>\n",
              "      <td>0.0</td>\n",
              "    </tr>\n",
              "    <tr>\n",
              "      <th>9997</th>\n",
              "      <td>0.0</td>\n",
              "    </tr>\n",
              "    <tr>\n",
              "      <th>9998</th>\n",
              "      <td>0.0</td>\n",
              "    </tr>\n",
              "    <tr>\n",
              "      <th>9999</th>\n",
              "      <td>0.0</td>\n",
              "    </tr>\n",
              "  </tbody>\n",
              "</table>\n",
              "<p>9990 rows × 1 columns</p>\n",
              "</div><br><label><b>dtype:</b> float64</label>"
            ]
          },
          "metadata": {},
          "execution_count": 1190
        }
      ],
      "source": [
        "train['Phone Social Premium.microsoft']"
      ]
    },
    {
      "cell_type": "code",
      "execution_count": 1191,
      "metadata": {
        "colab": {
          "base_uri": "https://localhost:8080/"
        },
        "id": "LOULI_BbGn73",
        "outputId": "9d95e0ce-f7b2-4d43-bea0-a79dea6f6f13"
      },
      "outputs": [
        {
          "output_type": "execute_result",
          "data": {
            "text/plain": [
              "0.18728728728728727"
            ]
          },
          "metadata": {},
          "execution_count": 1191
        }
      ],
      "source": [
        "train['Phone Social Premium.microsoft'].isnull().sum()/len(train)"
      ]
    },
    {
      "cell_type": "code",
      "execution_count": 1192,
      "metadata": {
        "id": "o4H7N5VzGn74"
      },
      "outputs": [],
      "source": [
        "# FIll Missing Values with 0\n",
        "train['Phone Social Premium.microsoft'].fillna(0, inplace=True)"
      ]
    },
    {
      "cell_type": "code",
      "execution_count": 1193,
      "metadata": {
        "colab": {
          "base_uri": "https://localhost:8080/"
        },
        "id": "VZgH_y-3Gn74",
        "outputId": "e755748e-d969-43f2-9247-cb8531af8599"
      },
      "outputs": [
        {
          "output_type": "execute_result",
          "data": {
            "text/plain": [
              "0.0"
            ]
          },
          "metadata": {},
          "execution_count": 1193
        }
      ],
      "source": [
        "train['Phone Social Premium.microsoft'].isnull().sum()/len(train)"
      ]
    },
    {
      "cell_type": "markdown",
      "metadata": {
        "id": "wWxeCaBDGn74"
      },
      "source": [
        "# Phone Social Premium.my11"
      ]
    },
    {
      "cell_type": "code",
      "execution_count": 1194,
      "metadata": {
        "colab": {
          "base_uri": "https://localhost:8080/",
          "height": 458
        },
        "id": "vXT_eqc-Gn74",
        "outputId": "85bc66eb-d63e-4a31-c6dd-d57609d4f032"
      },
      "outputs": [
        {
          "output_type": "execute_result",
          "data": {
            "text/plain": [
              "0      NaN\n",
              "1      NaN\n",
              "2      NaN\n",
              "3      NaN\n",
              "4      NaN\n",
              "        ..\n",
              "9995   NaN\n",
              "9996   NaN\n",
              "9997   NaN\n",
              "9998   NaN\n",
              "9999   NaN\n",
              "Name: Phone Social Premium.my11, Length: 9990, dtype: float64"
            ],
            "text/html": [
              "<div>\n",
              "<style scoped>\n",
              "    .dataframe tbody tr th:only-of-type {\n",
              "        vertical-align: middle;\n",
              "    }\n",
              "\n",
              "    .dataframe tbody tr th {\n",
              "        vertical-align: top;\n",
              "    }\n",
              "\n",
              "    .dataframe thead th {\n",
              "        text-align: right;\n",
              "    }\n",
              "</style>\n",
              "<table border=\"1\" class=\"dataframe\">\n",
              "  <thead>\n",
              "    <tr style=\"text-align: right;\">\n",
              "      <th></th>\n",
              "      <th>Phone Social Premium.my11</th>\n",
              "    </tr>\n",
              "  </thead>\n",
              "  <tbody>\n",
              "    <tr>\n",
              "      <th>0</th>\n",
              "      <td>NaN</td>\n",
              "    </tr>\n",
              "    <tr>\n",
              "      <th>1</th>\n",
              "      <td>NaN</td>\n",
              "    </tr>\n",
              "    <tr>\n",
              "      <th>2</th>\n",
              "      <td>NaN</td>\n",
              "    </tr>\n",
              "    <tr>\n",
              "      <th>3</th>\n",
              "      <td>NaN</td>\n",
              "    </tr>\n",
              "    <tr>\n",
              "      <th>4</th>\n",
              "      <td>NaN</td>\n",
              "    </tr>\n",
              "    <tr>\n",
              "      <th>...</th>\n",
              "      <td>...</td>\n",
              "    </tr>\n",
              "    <tr>\n",
              "      <th>9995</th>\n",
              "      <td>NaN</td>\n",
              "    </tr>\n",
              "    <tr>\n",
              "      <th>9996</th>\n",
              "      <td>NaN</td>\n",
              "    </tr>\n",
              "    <tr>\n",
              "      <th>9997</th>\n",
              "      <td>NaN</td>\n",
              "    </tr>\n",
              "    <tr>\n",
              "      <th>9998</th>\n",
              "      <td>NaN</td>\n",
              "    </tr>\n",
              "    <tr>\n",
              "      <th>9999</th>\n",
              "      <td>NaN</td>\n",
              "    </tr>\n",
              "  </tbody>\n",
              "</table>\n",
              "<p>9990 rows × 1 columns</p>\n",
              "</div><br><label><b>dtype:</b> float64</label>"
            ]
          },
          "metadata": {},
          "execution_count": 1194
        }
      ],
      "source": [
        "train['Phone Social Premium.my11']"
      ]
    },
    {
      "cell_type": "code",
      "execution_count": 1195,
      "metadata": {
        "colab": {
          "base_uri": "https://localhost:8080/"
        },
        "id": "ao82g_wrGn75",
        "outputId": "45c3a8e8-3ffb-4818-f1d9-6c5ff03066ad"
      },
      "outputs": [
        {
          "output_type": "execute_result",
          "data": {
            "text/plain": [
              "0.9997997997997998"
            ]
          },
          "metadata": {},
          "execution_count": 1195
        }
      ],
      "source": [
        "train['Phone Social Premium.my11'].isnull().sum()/len(train)"
      ]
    },
    {
      "cell_type": "code",
      "execution_count": 1196,
      "metadata": {
        "id": "b_DzLHF3Gn75"
      },
      "outputs": [],
      "source": [
        "train.drop('Phone Social Premium.my11',axis=1,inplace=True)"
      ]
    },
    {
      "cell_type": "markdown",
      "metadata": {
        "id": "lv0np4K-Gn75"
      },
      "source": [
        "# Phone Social Premium.paytm"
      ]
    },
    {
      "cell_type": "code",
      "execution_count": 1197,
      "metadata": {
        "colab": {
          "base_uri": "https://localhost:8080/",
          "height": 458
        },
        "id": "eh5mlHAFGn76",
        "outputId": "9b825368-1757-4b4d-d38e-99bd4e1d52f0"
      },
      "outputs": [
        {
          "output_type": "execute_result",
          "data": {
            "text/plain": [
              "0       1.0\n",
              "1       1.0\n",
              "2       0.0\n",
              "3       1.0\n",
              "4       1.0\n",
              "       ... \n",
              "9995    1.0\n",
              "9996    1.0\n",
              "9997    1.0\n",
              "9998    0.0\n",
              "9999    1.0\n",
              "Name: Phone Social Premium.paytm, Length: 9990, dtype: float64"
            ],
            "text/html": [
              "<div>\n",
              "<style scoped>\n",
              "    .dataframe tbody tr th:only-of-type {\n",
              "        vertical-align: middle;\n",
              "    }\n",
              "\n",
              "    .dataframe tbody tr th {\n",
              "        vertical-align: top;\n",
              "    }\n",
              "\n",
              "    .dataframe thead th {\n",
              "        text-align: right;\n",
              "    }\n",
              "</style>\n",
              "<table border=\"1\" class=\"dataframe\">\n",
              "  <thead>\n",
              "    <tr style=\"text-align: right;\">\n",
              "      <th></th>\n",
              "      <th>Phone Social Premium.paytm</th>\n",
              "    </tr>\n",
              "  </thead>\n",
              "  <tbody>\n",
              "    <tr>\n",
              "      <th>0</th>\n",
              "      <td>1.0</td>\n",
              "    </tr>\n",
              "    <tr>\n",
              "      <th>1</th>\n",
              "      <td>1.0</td>\n",
              "    </tr>\n",
              "    <tr>\n",
              "      <th>2</th>\n",
              "      <td>0.0</td>\n",
              "    </tr>\n",
              "    <tr>\n",
              "      <th>3</th>\n",
              "      <td>1.0</td>\n",
              "    </tr>\n",
              "    <tr>\n",
              "      <th>4</th>\n",
              "      <td>1.0</td>\n",
              "    </tr>\n",
              "    <tr>\n",
              "      <th>...</th>\n",
              "      <td>...</td>\n",
              "    </tr>\n",
              "    <tr>\n",
              "      <th>9995</th>\n",
              "      <td>1.0</td>\n",
              "    </tr>\n",
              "    <tr>\n",
              "      <th>9996</th>\n",
              "      <td>1.0</td>\n",
              "    </tr>\n",
              "    <tr>\n",
              "      <th>9997</th>\n",
              "      <td>1.0</td>\n",
              "    </tr>\n",
              "    <tr>\n",
              "      <th>9998</th>\n",
              "      <td>0.0</td>\n",
              "    </tr>\n",
              "    <tr>\n",
              "      <th>9999</th>\n",
              "      <td>1.0</td>\n",
              "    </tr>\n",
              "  </tbody>\n",
              "</table>\n",
              "<p>9990 rows × 1 columns</p>\n",
              "</div><br><label><b>dtype:</b> float64</label>"
            ]
          },
          "metadata": {},
          "execution_count": 1197
        }
      ],
      "source": [
        "train['Phone Social Premium.paytm']"
      ]
    },
    {
      "cell_type": "code",
      "execution_count": 1198,
      "metadata": {
        "colab": {
          "base_uri": "https://localhost:8080/"
        },
        "id": "7xh_yqTcGn76",
        "outputId": "3a7b002d-33c9-4669-d701-fc0caf9d9369"
      },
      "outputs": [
        {
          "output_type": "execute_result",
          "data": {
            "text/plain": [
              "0.17577577577577577"
            ]
          },
          "metadata": {},
          "execution_count": 1198
        }
      ],
      "source": [
        "train['Phone Social Premium.paytm'].isnull().sum()/len(train)"
      ]
    },
    {
      "cell_type": "code",
      "execution_count": 1199,
      "metadata": {
        "id": "o4n-pgpwGn76"
      },
      "outputs": [],
      "source": [
        "# FIll Missing Values with 0\n",
        "train['Phone Social Premium.paytm'].fillna(0, inplace=True)"
      ]
    },
    {
      "cell_type": "code",
      "execution_count": 1200,
      "metadata": {
        "colab": {
          "base_uri": "https://localhost:8080/"
        },
        "id": "hWI5Uqv4Gn77",
        "outputId": "aeb12f1e-18d7-4150-df73-1a7f78bf22aa"
      },
      "outputs": [
        {
          "output_type": "execute_result",
          "data": {
            "text/plain": [
              "0.0"
            ]
          },
          "metadata": {},
          "execution_count": 1200
        }
      ],
      "source": [
        "train['Phone Social Premium.paytm'].isnull().sum()/len(train)"
      ]
    },
    {
      "cell_type": "markdown",
      "metadata": {
        "id": "2s2REmbyGn77"
      },
      "source": [
        "# Phone Social Premium.rummycircle"
      ]
    },
    {
      "cell_type": "code",
      "execution_count": 1201,
      "metadata": {
        "colab": {
          "base_uri": "https://localhost:8080/",
          "height": 458
        },
        "id": "jYypBRHqGn77",
        "outputId": "7caa4823-0c90-431d-8e8b-c8068e7ca3ae"
      },
      "outputs": [
        {
          "output_type": "execute_result",
          "data": {
            "text/plain": [
              "0      NaN\n",
              "1      NaN\n",
              "2      NaN\n",
              "3      NaN\n",
              "4      NaN\n",
              "        ..\n",
              "9995   NaN\n",
              "9996   NaN\n",
              "9997   NaN\n",
              "9998   NaN\n",
              "9999   NaN\n",
              "Name: Phone Social Premium.rummycircle, Length: 9990, dtype: float64"
            ],
            "text/html": [
              "<div>\n",
              "<style scoped>\n",
              "    .dataframe tbody tr th:only-of-type {\n",
              "        vertical-align: middle;\n",
              "    }\n",
              "\n",
              "    .dataframe tbody tr th {\n",
              "        vertical-align: top;\n",
              "    }\n",
              "\n",
              "    .dataframe thead th {\n",
              "        text-align: right;\n",
              "    }\n",
              "</style>\n",
              "<table border=\"1\" class=\"dataframe\">\n",
              "  <thead>\n",
              "    <tr style=\"text-align: right;\">\n",
              "      <th></th>\n",
              "      <th>Phone Social Premium.rummycircle</th>\n",
              "    </tr>\n",
              "  </thead>\n",
              "  <tbody>\n",
              "    <tr>\n",
              "      <th>0</th>\n",
              "      <td>NaN</td>\n",
              "    </tr>\n",
              "    <tr>\n",
              "      <th>1</th>\n",
              "      <td>NaN</td>\n",
              "    </tr>\n",
              "    <tr>\n",
              "      <th>2</th>\n",
              "      <td>NaN</td>\n",
              "    </tr>\n",
              "    <tr>\n",
              "      <th>3</th>\n",
              "      <td>NaN</td>\n",
              "    </tr>\n",
              "    <tr>\n",
              "      <th>4</th>\n",
              "      <td>NaN</td>\n",
              "    </tr>\n",
              "    <tr>\n",
              "      <th>...</th>\n",
              "      <td>...</td>\n",
              "    </tr>\n",
              "    <tr>\n",
              "      <th>9995</th>\n",
              "      <td>NaN</td>\n",
              "    </tr>\n",
              "    <tr>\n",
              "      <th>9996</th>\n",
              "      <td>NaN</td>\n",
              "    </tr>\n",
              "    <tr>\n",
              "      <th>9997</th>\n",
              "      <td>NaN</td>\n",
              "    </tr>\n",
              "    <tr>\n",
              "      <th>9998</th>\n",
              "      <td>NaN</td>\n",
              "    </tr>\n",
              "    <tr>\n",
              "      <th>9999</th>\n",
              "      <td>NaN</td>\n",
              "    </tr>\n",
              "  </tbody>\n",
              "</table>\n",
              "<p>9990 rows × 1 columns</p>\n",
              "</div><br><label><b>dtype:</b> float64</label>"
            ]
          },
          "metadata": {},
          "execution_count": 1201
        }
      ],
      "source": [
        "train['Phone Social Premium.rummycircle']"
      ]
    },
    {
      "cell_type": "code",
      "execution_count": 1202,
      "metadata": {
        "colab": {
          "base_uri": "https://localhost:8080/"
        },
        "id": "VijM6ineGn78",
        "outputId": "2010bc8a-7823-4b75-f51b-f004e158d6ad"
      },
      "outputs": [
        {
          "output_type": "execute_result",
          "data": {
            "text/plain": [
              "0.9998998998998999"
            ]
          },
          "metadata": {},
          "execution_count": 1202
        }
      ],
      "source": [
        "train['Phone Social Premium.rummycircle'].isnull().sum()/len(train)\n"
      ]
    },
    {
      "cell_type": "code",
      "execution_count": 1203,
      "metadata": {
        "id": "0OhYVcYcGn79"
      },
      "outputs": [],
      "source": [
        "train.drop('Phone Social Premium.rummycircle',axis=1,inplace=True)"
      ]
    },
    {
      "cell_type": "markdown",
      "metadata": {
        "id": "G7RaVq1fGn7-"
      },
      "source": [
        "# Phone Social Premium.shaadi"
      ]
    },
    {
      "cell_type": "code",
      "execution_count": 1204,
      "metadata": {
        "colab": {
          "base_uri": "https://localhost:8080/",
          "height": 458
        },
        "id": "K0l4opGIGn7-",
        "outputId": "5a1a862d-584d-42f6-aa5b-d10f67c848c9"
      },
      "outputs": [
        {
          "output_type": "execute_result",
          "data": {
            "text/plain": [
              "0       0.0\n",
              "1       0.0\n",
              "2       0.0\n",
              "3       0.0\n",
              "4       0.0\n",
              "       ... \n",
              "9995    0.0\n",
              "9996    0.0\n",
              "9997    0.0\n",
              "9998    0.0\n",
              "9999    0.0\n",
              "Name: Phone Social Premium.shaadi, Length: 9990, dtype: float64"
            ],
            "text/html": [
              "<div>\n",
              "<style scoped>\n",
              "    .dataframe tbody tr th:only-of-type {\n",
              "        vertical-align: middle;\n",
              "    }\n",
              "\n",
              "    .dataframe tbody tr th {\n",
              "        vertical-align: top;\n",
              "    }\n",
              "\n",
              "    .dataframe thead th {\n",
              "        text-align: right;\n",
              "    }\n",
              "</style>\n",
              "<table border=\"1\" class=\"dataframe\">\n",
              "  <thead>\n",
              "    <tr style=\"text-align: right;\">\n",
              "      <th></th>\n",
              "      <th>Phone Social Premium.shaadi</th>\n",
              "    </tr>\n",
              "  </thead>\n",
              "  <tbody>\n",
              "    <tr>\n",
              "      <th>0</th>\n",
              "      <td>0.0</td>\n",
              "    </tr>\n",
              "    <tr>\n",
              "      <th>1</th>\n",
              "      <td>0.0</td>\n",
              "    </tr>\n",
              "    <tr>\n",
              "      <th>2</th>\n",
              "      <td>0.0</td>\n",
              "    </tr>\n",
              "    <tr>\n",
              "      <th>3</th>\n",
              "      <td>0.0</td>\n",
              "    </tr>\n",
              "    <tr>\n",
              "      <th>4</th>\n",
              "      <td>0.0</td>\n",
              "    </tr>\n",
              "    <tr>\n",
              "      <th>...</th>\n",
              "      <td>...</td>\n",
              "    </tr>\n",
              "    <tr>\n",
              "      <th>9995</th>\n",
              "      <td>0.0</td>\n",
              "    </tr>\n",
              "    <tr>\n",
              "      <th>9996</th>\n",
              "      <td>0.0</td>\n",
              "    </tr>\n",
              "    <tr>\n",
              "      <th>9997</th>\n",
              "      <td>0.0</td>\n",
              "    </tr>\n",
              "    <tr>\n",
              "      <th>9998</th>\n",
              "      <td>0.0</td>\n",
              "    </tr>\n",
              "    <tr>\n",
              "      <th>9999</th>\n",
              "      <td>0.0</td>\n",
              "    </tr>\n",
              "  </tbody>\n",
              "</table>\n",
              "<p>9990 rows × 1 columns</p>\n",
              "</div><br><label><b>dtype:</b> float64</label>"
            ]
          },
          "metadata": {},
          "execution_count": 1204
        }
      ],
      "source": [
        "train['Phone Social Premium.shaadi']"
      ]
    },
    {
      "cell_type": "code",
      "execution_count": 1205,
      "metadata": {
        "colab": {
          "base_uri": "https://localhost:8080/"
        },
        "id": "fJNFln7-Gn7_",
        "outputId": "52c1d028-1e5d-49c0-a88b-6f257a3adb43"
      },
      "outputs": [
        {
          "output_type": "execute_result",
          "data": {
            "text/plain": [
              "0.17797797797797799"
            ]
          },
          "metadata": {},
          "execution_count": 1205
        }
      ],
      "source": [
        "train['Phone Social Premium.shaadi'].isnull().sum()/len(train)\n"
      ]
    },
    {
      "cell_type": "code",
      "execution_count": 1206,
      "metadata": {
        "id": "elwCvGIuGn8A"
      },
      "outputs": [],
      "source": [
        "# FIll Missing Values with 0\n",
        "train['Phone Social Premium.shaadi'].fillna(0, inplace=True)"
      ]
    },
    {
      "cell_type": "code",
      "execution_count": 1207,
      "metadata": {
        "colab": {
          "base_uri": "https://localhost:8080/"
        },
        "id": "_19T0TslGn8A",
        "outputId": "d7013927-2120-4e7a-ad99-c0df420eecf2"
      },
      "outputs": [
        {
          "output_type": "execute_result",
          "data": {
            "text/plain": [
              "0.0"
            ]
          },
          "metadata": {},
          "execution_count": 1207
        }
      ],
      "source": [
        "train['Phone Social Premium.shaadi'].isnull().sum()/len(train)\n"
      ]
    },
    {
      "cell_type": "markdown",
      "metadata": {
        "id": "bC0TeUDQGn8A"
      },
      "source": [
        "# Phone Social Premium.skype"
      ]
    },
    {
      "cell_type": "code",
      "execution_count": 1208,
      "metadata": {
        "colab": {
          "base_uri": "https://localhost:8080/",
          "height": 458
        },
        "id": "G7Z-GmdqGn8B",
        "outputId": "65d9d642-6e38-42b1-f789-aa8d66abe7ff"
      },
      "outputs": [
        {
          "output_type": "execute_result",
          "data": {
            "text/plain": [
              "0       0.0\n",
              "1       0.0\n",
              "2       0.0\n",
              "3       0.0\n",
              "4       0.0\n",
              "       ... \n",
              "9995    1.0\n",
              "9996    0.0\n",
              "9997    0.0\n",
              "9998    0.0\n",
              "9999    0.0\n",
              "Name: Phone Social Premium.skype, Length: 9990, dtype: float64"
            ],
            "text/html": [
              "<div>\n",
              "<style scoped>\n",
              "    .dataframe tbody tr th:only-of-type {\n",
              "        vertical-align: middle;\n",
              "    }\n",
              "\n",
              "    .dataframe tbody tr th {\n",
              "        vertical-align: top;\n",
              "    }\n",
              "\n",
              "    .dataframe thead th {\n",
              "        text-align: right;\n",
              "    }\n",
              "</style>\n",
              "<table border=\"1\" class=\"dataframe\">\n",
              "  <thead>\n",
              "    <tr style=\"text-align: right;\">\n",
              "      <th></th>\n",
              "      <th>Phone Social Premium.skype</th>\n",
              "    </tr>\n",
              "  </thead>\n",
              "  <tbody>\n",
              "    <tr>\n",
              "      <th>0</th>\n",
              "      <td>0.0</td>\n",
              "    </tr>\n",
              "    <tr>\n",
              "      <th>1</th>\n",
              "      <td>0.0</td>\n",
              "    </tr>\n",
              "    <tr>\n",
              "      <th>2</th>\n",
              "      <td>0.0</td>\n",
              "    </tr>\n",
              "    <tr>\n",
              "      <th>3</th>\n",
              "      <td>0.0</td>\n",
              "    </tr>\n",
              "    <tr>\n",
              "      <th>4</th>\n",
              "      <td>0.0</td>\n",
              "    </tr>\n",
              "    <tr>\n",
              "      <th>...</th>\n",
              "      <td>...</td>\n",
              "    </tr>\n",
              "    <tr>\n",
              "      <th>9995</th>\n",
              "      <td>1.0</td>\n",
              "    </tr>\n",
              "    <tr>\n",
              "      <th>9996</th>\n",
              "      <td>0.0</td>\n",
              "    </tr>\n",
              "    <tr>\n",
              "      <th>9997</th>\n",
              "      <td>0.0</td>\n",
              "    </tr>\n",
              "    <tr>\n",
              "      <th>9998</th>\n",
              "      <td>0.0</td>\n",
              "    </tr>\n",
              "    <tr>\n",
              "      <th>9999</th>\n",
              "      <td>0.0</td>\n",
              "    </tr>\n",
              "  </tbody>\n",
              "</table>\n",
              "<p>9990 rows × 1 columns</p>\n",
              "</div><br><label><b>dtype:</b> float64</label>"
            ]
          },
          "metadata": {},
          "execution_count": 1208
        }
      ],
      "source": [
        "train['Phone Social Premium.skype']"
      ]
    },
    {
      "cell_type": "code",
      "execution_count": 1209,
      "metadata": {
        "colab": {
          "base_uri": "https://localhost:8080/"
        },
        "id": "QrWjaQHYGn8B",
        "outputId": "b946f6e2-e0f1-45f4-8362-bb5d0936292e"
      },
      "outputs": [
        {
          "output_type": "execute_result",
          "data": {
            "text/plain": [
              "0.1785785785785786"
            ]
          },
          "metadata": {},
          "execution_count": 1209
        }
      ],
      "source": [
        "train['Phone Social Premium.skype'].isnull().sum()/len(train)\n"
      ]
    },
    {
      "cell_type": "code",
      "execution_count": 1210,
      "metadata": {
        "id": "-vc8yWEOGn8B"
      },
      "outputs": [],
      "source": [
        "# FIll Missing Values with 0\n",
        "train['Phone Social Premium.skype'].fillna(0, inplace=True)"
      ]
    },
    {
      "cell_type": "code",
      "execution_count": 1211,
      "metadata": {
        "colab": {
          "base_uri": "https://localhost:8080/"
        },
        "id": "Bb5EM5HQGn8B",
        "outputId": "1a7568d6-82ca-4c25-ea2e-0d04c96d7019"
      },
      "outputs": [
        {
          "output_type": "execute_result",
          "data": {
            "text/plain": [
              "0.0"
            ]
          },
          "metadata": {},
          "execution_count": 1211
        }
      ],
      "source": [
        "train['Phone Social Premium.skype'].isnull().sum()/len(train)\n"
      ]
    },
    {
      "cell_type": "markdown",
      "metadata": {
        "id": "HQvmam6FGn8B"
      },
      "source": [
        "# Phone Social Premium.toi"
      ]
    },
    {
      "cell_type": "code",
      "execution_count": 1212,
      "metadata": {
        "colab": {
          "base_uri": "https://localhost:8080/",
          "height": 458
        },
        "id": "cN5IabODGn8C",
        "outputId": "94b72a63-705c-4bba-e58c-0ca4bfc51fe3"
      },
      "outputs": [
        {
          "output_type": "execute_result",
          "data": {
            "text/plain": [
              "0       1.0\n",
              "1       0.0\n",
              "2       0.0\n",
              "3       1.0\n",
              "4       1.0\n",
              "       ... \n",
              "9995    1.0\n",
              "9996    0.0\n",
              "9997    0.0\n",
              "9998    0.0\n",
              "9999    0.0\n",
              "Name: Phone Social Premium.toi, Length: 9990, dtype: float64"
            ],
            "text/html": [
              "<div>\n",
              "<style scoped>\n",
              "    .dataframe tbody tr th:only-of-type {\n",
              "        vertical-align: middle;\n",
              "    }\n",
              "\n",
              "    .dataframe tbody tr th {\n",
              "        vertical-align: top;\n",
              "    }\n",
              "\n",
              "    .dataframe thead th {\n",
              "        text-align: right;\n",
              "    }\n",
              "</style>\n",
              "<table border=\"1\" class=\"dataframe\">\n",
              "  <thead>\n",
              "    <tr style=\"text-align: right;\">\n",
              "      <th></th>\n",
              "      <th>Phone Social Premium.toi</th>\n",
              "    </tr>\n",
              "  </thead>\n",
              "  <tbody>\n",
              "    <tr>\n",
              "      <th>0</th>\n",
              "      <td>1.0</td>\n",
              "    </tr>\n",
              "    <tr>\n",
              "      <th>1</th>\n",
              "      <td>0.0</td>\n",
              "    </tr>\n",
              "    <tr>\n",
              "      <th>2</th>\n",
              "      <td>0.0</td>\n",
              "    </tr>\n",
              "    <tr>\n",
              "      <th>3</th>\n",
              "      <td>1.0</td>\n",
              "    </tr>\n",
              "    <tr>\n",
              "      <th>4</th>\n",
              "      <td>1.0</td>\n",
              "    </tr>\n",
              "    <tr>\n",
              "      <th>...</th>\n",
              "      <td>...</td>\n",
              "    </tr>\n",
              "    <tr>\n",
              "      <th>9995</th>\n",
              "      <td>1.0</td>\n",
              "    </tr>\n",
              "    <tr>\n",
              "      <th>9996</th>\n",
              "      <td>0.0</td>\n",
              "    </tr>\n",
              "    <tr>\n",
              "      <th>9997</th>\n",
              "      <td>0.0</td>\n",
              "    </tr>\n",
              "    <tr>\n",
              "      <th>9998</th>\n",
              "      <td>0.0</td>\n",
              "    </tr>\n",
              "    <tr>\n",
              "      <th>9999</th>\n",
              "      <td>0.0</td>\n",
              "    </tr>\n",
              "  </tbody>\n",
              "</table>\n",
              "<p>9990 rows × 1 columns</p>\n",
              "</div><br><label><b>dtype:</b> float64</label>"
            ]
          },
          "metadata": {},
          "execution_count": 1212
        }
      ],
      "source": [
        "train['Phone Social Premium.toi']"
      ]
    },
    {
      "cell_type": "code",
      "execution_count": 1213,
      "metadata": {
        "colab": {
          "base_uri": "https://localhost:8080/"
        },
        "id": "Xp6XGmxuGn8C",
        "outputId": "4c485323-9af0-42ea-f4af-e29b41a146ac"
      },
      "outputs": [
        {
          "output_type": "execute_result",
          "data": {
            "text/plain": [
              "0.1942942942942943"
            ]
          },
          "metadata": {},
          "execution_count": 1213
        }
      ],
      "source": [
        "train['Phone Social Premium.toi'].isnull().sum()/len(train)\n"
      ]
    },
    {
      "cell_type": "code",
      "execution_count": 1214,
      "metadata": {
        "id": "N0rcKvlTGn8C"
      },
      "outputs": [],
      "source": [
        "# FIll Missing Values with 0\n",
        "train['Phone Social Premium.toi'].fillna(0, inplace=True)"
      ]
    },
    {
      "cell_type": "code",
      "execution_count": 1215,
      "metadata": {
        "colab": {
          "base_uri": "https://localhost:8080/"
        },
        "id": "Yf53Og00Gn8C",
        "outputId": "0c89f9d8-5833-41b2-9792-df647a425cee"
      },
      "outputs": [
        {
          "output_type": "execute_result",
          "data": {
            "text/plain": [
              "0.0"
            ]
          },
          "metadata": {},
          "execution_count": 1215
        }
      ],
      "source": [
        "train['Phone Social Premium.toi'].isnull().sum()/len(train)\n"
      ]
    },
    {
      "cell_type": "markdown",
      "metadata": {
        "id": "FxdXc2d-Gn8D"
      },
      "source": [
        "# Phone Social Premium.whatsapp"
      ]
    },
    {
      "cell_type": "code",
      "execution_count": 1216,
      "metadata": {
        "colab": {
          "base_uri": "https://localhost:8080/",
          "height": 458
        },
        "id": "eFG61_6ZGn8D",
        "outputId": "dc4d8923-0f1e-4d1b-ebc3-321a8710892e"
      },
      "outputs": [
        {
          "output_type": "execute_result",
          "data": {
            "text/plain": [
              "0       NaN\n",
              "1       NaN\n",
              "2       NaN\n",
              "3       NaN\n",
              "4       NaN\n",
              "       ... \n",
              "9995    NaN\n",
              "9996    0.0\n",
              "9997    1.0\n",
              "9998    NaN\n",
              "9999    1.0\n",
              "Name: Phone Social Premium.whatsapp, Length: 9990, dtype: float64"
            ],
            "text/html": [
              "<div>\n",
              "<style scoped>\n",
              "    .dataframe tbody tr th:only-of-type {\n",
              "        vertical-align: middle;\n",
              "    }\n",
              "\n",
              "    .dataframe tbody tr th {\n",
              "        vertical-align: top;\n",
              "    }\n",
              "\n",
              "    .dataframe thead th {\n",
              "        text-align: right;\n",
              "    }\n",
              "</style>\n",
              "<table border=\"1\" class=\"dataframe\">\n",
              "  <thead>\n",
              "    <tr style=\"text-align: right;\">\n",
              "      <th></th>\n",
              "      <th>Phone Social Premium.whatsapp</th>\n",
              "    </tr>\n",
              "  </thead>\n",
              "  <tbody>\n",
              "    <tr>\n",
              "      <th>0</th>\n",
              "      <td>NaN</td>\n",
              "    </tr>\n",
              "    <tr>\n",
              "      <th>1</th>\n",
              "      <td>NaN</td>\n",
              "    </tr>\n",
              "    <tr>\n",
              "      <th>2</th>\n",
              "      <td>NaN</td>\n",
              "    </tr>\n",
              "    <tr>\n",
              "      <th>3</th>\n",
              "      <td>NaN</td>\n",
              "    </tr>\n",
              "    <tr>\n",
              "      <th>4</th>\n",
              "      <td>NaN</td>\n",
              "    </tr>\n",
              "    <tr>\n",
              "      <th>...</th>\n",
              "      <td>...</td>\n",
              "    </tr>\n",
              "    <tr>\n",
              "      <th>9995</th>\n",
              "      <td>NaN</td>\n",
              "    </tr>\n",
              "    <tr>\n",
              "      <th>9996</th>\n",
              "      <td>0.0</td>\n",
              "    </tr>\n",
              "    <tr>\n",
              "      <th>9997</th>\n",
              "      <td>1.0</td>\n",
              "    </tr>\n",
              "    <tr>\n",
              "      <th>9998</th>\n",
              "      <td>NaN</td>\n",
              "    </tr>\n",
              "    <tr>\n",
              "      <th>9999</th>\n",
              "      <td>1.0</td>\n",
              "    </tr>\n",
              "  </tbody>\n",
              "</table>\n",
              "<p>9990 rows × 1 columns</p>\n",
              "</div><br><label><b>dtype:</b> float64</label>"
            ]
          },
          "metadata": {},
          "execution_count": 1216
        }
      ],
      "source": [
        "train['Phone Social Premium.whatsapp']"
      ]
    },
    {
      "cell_type": "code",
      "execution_count": 1217,
      "metadata": {
        "colab": {
          "base_uri": "https://localhost:8080/"
        },
        "id": "a5ROY7VFGn8D",
        "outputId": "fe6af6f0-1259-4f2b-93fc-45e711cb9937"
      },
      "outputs": [
        {
          "output_type": "execute_result",
          "data": {
            "text/plain": [
              "0.8429429429429429"
            ]
          },
          "metadata": {},
          "execution_count": 1217
        }
      ],
      "source": [
        "train['Phone Social Premium.whatsapp'].isnull().sum()/len(train)\n"
      ]
    },
    {
      "cell_type": "code",
      "execution_count": 1218,
      "metadata": {
        "id": "_6kprVkzGn8E"
      },
      "outputs": [],
      "source": [
        "train.drop('Phone Social Premium.whatsapp',axis=1,inplace=True)"
      ]
    },
    {
      "cell_type": "markdown",
      "metadata": {
        "id": "RA1dvxgXGn8E"
      },
      "source": [
        "# Phone Social Premium.yatra"
      ]
    },
    {
      "cell_type": "code",
      "execution_count": 1219,
      "metadata": {
        "colab": {
          "base_uri": "https://localhost:8080/",
          "height": 458
        },
        "id": "jl4lTCEAGn8E",
        "outputId": "8b31265d-7ef1-4a1d-a238-262137edaa4e"
      },
      "outputs": [
        {
          "output_type": "execute_result",
          "data": {
            "text/plain": [
              "0      NaN\n",
              "1      NaN\n",
              "2      NaN\n",
              "3      NaN\n",
              "4      NaN\n",
              "        ..\n",
              "9995   NaN\n",
              "9996   NaN\n",
              "9997   NaN\n",
              "9998   NaN\n",
              "9999   NaN\n",
              "Name: Phone Social Premium.yatra, Length: 9990, dtype: float64"
            ],
            "text/html": [
              "<div>\n",
              "<style scoped>\n",
              "    .dataframe tbody tr th:only-of-type {\n",
              "        vertical-align: middle;\n",
              "    }\n",
              "\n",
              "    .dataframe tbody tr th {\n",
              "        vertical-align: top;\n",
              "    }\n",
              "\n",
              "    .dataframe thead th {\n",
              "        text-align: right;\n",
              "    }\n",
              "</style>\n",
              "<table border=\"1\" class=\"dataframe\">\n",
              "  <thead>\n",
              "    <tr style=\"text-align: right;\">\n",
              "      <th></th>\n",
              "      <th>Phone Social Premium.yatra</th>\n",
              "    </tr>\n",
              "  </thead>\n",
              "  <tbody>\n",
              "    <tr>\n",
              "      <th>0</th>\n",
              "      <td>NaN</td>\n",
              "    </tr>\n",
              "    <tr>\n",
              "      <th>1</th>\n",
              "      <td>NaN</td>\n",
              "    </tr>\n",
              "    <tr>\n",
              "      <th>2</th>\n",
              "      <td>NaN</td>\n",
              "    </tr>\n",
              "    <tr>\n",
              "      <th>3</th>\n",
              "      <td>NaN</td>\n",
              "    </tr>\n",
              "    <tr>\n",
              "      <th>4</th>\n",
              "      <td>NaN</td>\n",
              "    </tr>\n",
              "    <tr>\n",
              "      <th>...</th>\n",
              "      <td>...</td>\n",
              "    </tr>\n",
              "    <tr>\n",
              "      <th>9995</th>\n",
              "      <td>NaN</td>\n",
              "    </tr>\n",
              "    <tr>\n",
              "      <th>9996</th>\n",
              "      <td>NaN</td>\n",
              "    </tr>\n",
              "    <tr>\n",
              "      <th>9997</th>\n",
              "      <td>NaN</td>\n",
              "    </tr>\n",
              "    <tr>\n",
              "      <th>9998</th>\n",
              "      <td>NaN</td>\n",
              "    </tr>\n",
              "    <tr>\n",
              "      <th>9999</th>\n",
              "      <td>NaN</td>\n",
              "    </tr>\n",
              "  </tbody>\n",
              "</table>\n",
              "<p>9990 rows × 1 columns</p>\n",
              "</div><br><label><b>dtype:</b> float64</label>"
            ]
          },
          "metadata": {},
          "execution_count": 1219
        }
      ],
      "source": [
        "train['Phone Social Premium.yatra']"
      ]
    },
    {
      "cell_type": "code",
      "execution_count": 1220,
      "metadata": {
        "colab": {
          "base_uri": "https://localhost:8080/"
        },
        "id": "ecdC3ot7Gn8F",
        "outputId": "3165a0ed-cfe3-471d-951c-ba3c654354c8"
      },
      "outputs": [
        {
          "output_type": "execute_result",
          "data": {
            "text/plain": [
              "0.9990990990990991"
            ]
          },
          "metadata": {},
          "execution_count": 1220
        }
      ],
      "source": [
        "train['Phone Social Premium.yatra'].isnull().sum()/len(train)\n"
      ]
    },
    {
      "cell_type": "code",
      "execution_count": 1221,
      "metadata": {
        "id": "e_-AayNSGn8F"
      },
      "outputs": [],
      "source": [
        "train.drop('Phone Social Premium.yatra',axis=1,inplace=True)"
      ]
    },
    {
      "cell_type": "markdown",
      "metadata": {
        "id": "Zv9tmQNWGn8G"
      },
      "source": [
        "# Phone Social Premium.zoho"
      ]
    },
    {
      "cell_type": "code",
      "execution_count": 1222,
      "metadata": {
        "colab": {
          "base_uri": "https://localhost:8080/",
          "height": 458
        },
        "id": "b-5AiLopGn8H",
        "outputId": "62623418-51c8-4b12-cd66-96bb4b9cefe9"
      },
      "outputs": [
        {
          "output_type": "execute_result",
          "data": {
            "text/plain": [
              "0       0.0\n",
              "1       0.0\n",
              "2       0.0\n",
              "3       0.0\n",
              "4       0.0\n",
              "       ... \n",
              "9995    0.0\n",
              "9996    0.0\n",
              "9997    0.0\n",
              "9998    0.0\n",
              "9999    0.0\n",
              "Name: Phone Social Premium.zoho, Length: 9990, dtype: float64"
            ],
            "text/html": [
              "<div>\n",
              "<style scoped>\n",
              "    .dataframe tbody tr th:only-of-type {\n",
              "        vertical-align: middle;\n",
              "    }\n",
              "\n",
              "    .dataframe tbody tr th {\n",
              "        vertical-align: top;\n",
              "    }\n",
              "\n",
              "    .dataframe thead th {\n",
              "        text-align: right;\n",
              "    }\n",
              "</style>\n",
              "<table border=\"1\" class=\"dataframe\">\n",
              "  <thead>\n",
              "    <tr style=\"text-align: right;\">\n",
              "      <th></th>\n",
              "      <th>Phone Social Premium.zoho</th>\n",
              "    </tr>\n",
              "  </thead>\n",
              "  <tbody>\n",
              "    <tr>\n",
              "      <th>0</th>\n",
              "      <td>0.0</td>\n",
              "    </tr>\n",
              "    <tr>\n",
              "      <th>1</th>\n",
              "      <td>0.0</td>\n",
              "    </tr>\n",
              "    <tr>\n",
              "      <th>2</th>\n",
              "      <td>0.0</td>\n",
              "    </tr>\n",
              "    <tr>\n",
              "      <th>3</th>\n",
              "      <td>0.0</td>\n",
              "    </tr>\n",
              "    <tr>\n",
              "      <th>4</th>\n",
              "      <td>0.0</td>\n",
              "    </tr>\n",
              "    <tr>\n",
              "      <th>...</th>\n",
              "      <td>...</td>\n",
              "    </tr>\n",
              "    <tr>\n",
              "      <th>9995</th>\n",
              "      <td>0.0</td>\n",
              "    </tr>\n",
              "    <tr>\n",
              "      <th>9996</th>\n",
              "      <td>0.0</td>\n",
              "    </tr>\n",
              "    <tr>\n",
              "      <th>9997</th>\n",
              "      <td>0.0</td>\n",
              "    </tr>\n",
              "    <tr>\n",
              "      <th>9998</th>\n",
              "      <td>0.0</td>\n",
              "    </tr>\n",
              "    <tr>\n",
              "      <th>9999</th>\n",
              "      <td>0.0</td>\n",
              "    </tr>\n",
              "  </tbody>\n",
              "</table>\n",
              "<p>9990 rows × 1 columns</p>\n",
              "</div><br><label><b>dtype:</b> float64</label>"
            ]
          },
          "metadata": {},
          "execution_count": 1222
        }
      ],
      "source": [
        "train['Phone Social Premium.zoho']"
      ]
    },
    {
      "cell_type": "code",
      "execution_count": 1223,
      "metadata": {
        "colab": {
          "base_uri": "https://localhost:8080/"
        },
        "id": "AtfUsWe_Gn8H",
        "outputId": "d9659aa2-d4f6-4461-a8fe-a29e1405661d"
      },
      "outputs": [
        {
          "output_type": "execute_result",
          "data": {
            "text/plain": [
              "0.17827827827827827"
            ]
          },
          "metadata": {},
          "execution_count": 1223
        }
      ],
      "source": [
        "train['Phone Social Premium.zoho'].isnull().sum()/len(train)\n"
      ]
    },
    {
      "cell_type": "code",
      "execution_count": 1224,
      "metadata": {
        "id": "lA9zfnxvGn8H"
      },
      "outputs": [],
      "source": [
        "# FIll Missing Values with 0\n",
        "train['Phone Social Premium.zoho'].fillna(0, inplace=True)"
      ]
    },
    {
      "cell_type": "code",
      "execution_count": 1225,
      "metadata": {
        "colab": {
          "base_uri": "https://localhost:8080/"
        },
        "id": "6szk8C8vGn8I",
        "outputId": "08b4b211-9bef-48de-d202-750da5917615"
      },
      "outputs": [
        {
          "output_type": "execute_result",
          "data": {
            "text/plain": [
              "0.0"
            ]
          },
          "metadata": {},
          "execution_count": 1225
        }
      ],
      "source": [
        "train['Phone Social Premium.zoho'].isnull().sum()/len(train)\n"
      ]
    },
    {
      "cell_type": "markdown",
      "metadata": {
        "id": "R1mOJD-EGn8I"
      },
      "source": [
        "# phone_digitalage"
      ]
    },
    {
      "cell_type": "code",
      "execution_count": 1226,
      "metadata": {
        "colab": {
          "base_uri": "https://localhost:8080/",
          "height": 458
        },
        "id": "bGeyf1rNGn8I",
        "outputId": "d42977a9-b5ed-4748-8bd0-b9aefc17e7d6"
      },
      "outputs": [
        {
          "output_type": "execute_result",
          "data": {
            "text/plain": [
              "0       5324.0\n",
              "1       1998.0\n",
              "2         -1.0\n",
              "3       1998.0\n",
              "4       1998.0\n",
              "         ...  \n",
              "9995      -1.0\n",
              "9996    1998.0\n",
              "9997    1988.0\n",
              "9998    1096.0\n",
              "9999     809.0\n",
              "Name: phone_digitalage, Length: 9990, dtype: float64"
            ],
            "text/html": [
              "<div>\n",
              "<style scoped>\n",
              "    .dataframe tbody tr th:only-of-type {\n",
              "        vertical-align: middle;\n",
              "    }\n",
              "\n",
              "    .dataframe tbody tr th {\n",
              "        vertical-align: top;\n",
              "    }\n",
              "\n",
              "    .dataframe thead th {\n",
              "        text-align: right;\n",
              "    }\n",
              "</style>\n",
              "<table border=\"1\" class=\"dataframe\">\n",
              "  <thead>\n",
              "    <tr style=\"text-align: right;\">\n",
              "      <th></th>\n",
              "      <th>phone_digitalage</th>\n",
              "    </tr>\n",
              "  </thead>\n",
              "  <tbody>\n",
              "    <tr>\n",
              "      <th>0</th>\n",
              "      <td>5324.0</td>\n",
              "    </tr>\n",
              "    <tr>\n",
              "      <th>1</th>\n",
              "      <td>1998.0</td>\n",
              "    </tr>\n",
              "    <tr>\n",
              "      <th>2</th>\n",
              "      <td>-1.0</td>\n",
              "    </tr>\n",
              "    <tr>\n",
              "      <th>3</th>\n",
              "      <td>1998.0</td>\n",
              "    </tr>\n",
              "    <tr>\n",
              "      <th>4</th>\n",
              "      <td>1998.0</td>\n",
              "    </tr>\n",
              "    <tr>\n",
              "      <th>...</th>\n",
              "      <td>...</td>\n",
              "    </tr>\n",
              "    <tr>\n",
              "      <th>9995</th>\n",
              "      <td>-1.0</td>\n",
              "    </tr>\n",
              "    <tr>\n",
              "      <th>9996</th>\n",
              "      <td>1998.0</td>\n",
              "    </tr>\n",
              "    <tr>\n",
              "      <th>9997</th>\n",
              "      <td>1988.0</td>\n",
              "    </tr>\n",
              "    <tr>\n",
              "      <th>9998</th>\n",
              "      <td>1096.0</td>\n",
              "    </tr>\n",
              "    <tr>\n",
              "      <th>9999</th>\n",
              "      <td>809.0</td>\n",
              "    </tr>\n",
              "  </tbody>\n",
              "</table>\n",
              "<p>9990 rows × 1 columns</p>\n",
              "</div><br><label><b>dtype:</b> float64</label>"
            ]
          },
          "metadata": {},
          "execution_count": 1226
        }
      ],
      "source": [
        "train['phone_digitalage']"
      ]
    },
    {
      "cell_type": "code",
      "execution_count": 1227,
      "metadata": {
        "colab": {
          "base_uri": "https://localhost:8080/"
        },
        "id": "RTChQ78eGn8I",
        "outputId": "09d6f02b-052a-4e47-a297-4942396abc01"
      },
      "outputs": [
        {
          "output_type": "execute_result",
          "data": {
            "text/plain": [
              "4"
            ]
          },
          "metadata": {},
          "execution_count": 1227
        }
      ],
      "source": [
        "train['phone_digitalage'].isnull().sum()"
      ]
    },
    {
      "cell_type": "code",
      "execution_count": 1228,
      "metadata": {
        "id": "hm077TVmGn8J"
      },
      "outputs": [],
      "source": [
        "imputer2=SimpleImputer(strategy=\"median\")\n",
        "train['phone_digitalage']=imputer2.fit_transform(train[['phone_digitalage']])"
      ]
    },
    {
      "cell_type": "markdown",
      "metadata": {
        "id": "KEs_szHMGn8J"
      },
      "source": [
        "# phone_nameMatchScore"
      ]
    },
    {
      "cell_type": "code",
      "execution_count": 1229,
      "metadata": {
        "colab": {
          "base_uri": "https://localhost:8080/",
          "height": 458
        },
        "id": "UV_uLkeTGn8J",
        "outputId": "d80a5735-955e-44a1-a389-dc37248ec4f8"
      },
      "outputs": [
        {
          "output_type": "execute_result",
          "data": {
            "text/plain": [
              "0        67.222222\n",
              "1       100.000000\n",
              "2        -1.000000\n",
              "3        72.777778\n",
              "4        68.095238\n",
              "           ...    \n",
              "9995     60.576923\n",
              "9996     71.078431\n",
              "9997    100.000000\n",
              "9998     -1.000000\n",
              "9999     66.239316\n",
              "Name: phone_nameMatchScore, Length: 9990, dtype: float64"
            ],
            "text/html": [
              "<div>\n",
              "<style scoped>\n",
              "    .dataframe tbody tr th:only-of-type {\n",
              "        vertical-align: middle;\n",
              "    }\n",
              "\n",
              "    .dataframe tbody tr th {\n",
              "        vertical-align: top;\n",
              "    }\n",
              "\n",
              "    .dataframe thead th {\n",
              "        text-align: right;\n",
              "    }\n",
              "</style>\n",
              "<table border=\"1\" class=\"dataframe\">\n",
              "  <thead>\n",
              "    <tr style=\"text-align: right;\">\n",
              "      <th></th>\n",
              "      <th>phone_nameMatchScore</th>\n",
              "    </tr>\n",
              "  </thead>\n",
              "  <tbody>\n",
              "    <tr>\n",
              "      <th>0</th>\n",
              "      <td>67.222222</td>\n",
              "    </tr>\n",
              "    <tr>\n",
              "      <th>1</th>\n",
              "      <td>100.000000</td>\n",
              "    </tr>\n",
              "    <tr>\n",
              "      <th>2</th>\n",
              "      <td>-1.000000</td>\n",
              "    </tr>\n",
              "    <tr>\n",
              "      <th>3</th>\n",
              "      <td>72.777778</td>\n",
              "    </tr>\n",
              "    <tr>\n",
              "      <th>4</th>\n",
              "      <td>68.095238</td>\n",
              "    </tr>\n",
              "    <tr>\n",
              "      <th>...</th>\n",
              "      <td>...</td>\n",
              "    </tr>\n",
              "    <tr>\n",
              "      <th>9995</th>\n",
              "      <td>60.576923</td>\n",
              "    </tr>\n",
              "    <tr>\n",
              "      <th>9996</th>\n",
              "      <td>71.078431</td>\n",
              "    </tr>\n",
              "    <tr>\n",
              "      <th>9997</th>\n",
              "      <td>100.000000</td>\n",
              "    </tr>\n",
              "    <tr>\n",
              "      <th>9998</th>\n",
              "      <td>-1.000000</td>\n",
              "    </tr>\n",
              "    <tr>\n",
              "      <th>9999</th>\n",
              "      <td>66.239316</td>\n",
              "    </tr>\n",
              "  </tbody>\n",
              "</table>\n",
              "<p>9990 rows × 1 columns</p>\n",
              "</div><br><label><b>dtype:</b> float64</label>"
            ]
          },
          "metadata": {},
          "execution_count": 1229
        }
      ],
      "source": [
        "train['phone_nameMatchScore']"
      ]
    },
    {
      "cell_type": "code",
      "execution_count": 1230,
      "metadata": {
        "colab": {
          "base_uri": "https://localhost:8080/"
        },
        "id": "kPxoH8pAGn8J",
        "outputId": "e4c939f0-7292-47a0-bfd8-3a2b9692cb31"
      },
      "outputs": [
        {
          "output_type": "execute_result",
          "data": {
            "text/plain": [
              "4"
            ]
          },
          "metadata": {},
          "execution_count": 1230
        }
      ],
      "source": [
        "train['phone_nameMatchScore'].isnull().sum()"
      ]
    },
    {
      "cell_type": "code",
      "execution_count": 1231,
      "metadata": {
        "id": "Y8rDMO_LGn8K"
      },
      "outputs": [],
      "source": [
        "imputer2=SimpleImputer(strategy=\"median\")\n",
        "train['phone_nameMatchScore']=imputer2.fit_transform(train[['phone_nameMatchScore']])"
      ]
    },
    {
      "cell_type": "markdown",
      "metadata": {
        "id": "u-lkKwxGGn8K"
      },
      "source": [
        "# phone_phoneFootprintStrengthOverall"
      ]
    },
    {
      "cell_type": "code",
      "execution_count": 1232,
      "metadata": {
        "colab": {
          "base_uri": "https://localhost:8080/",
          "height": 458
        },
        "id": "hPNw6hZcGn8K",
        "outputId": "3e45200b-13e2-42f1-96eb-bf2db8091be3"
      },
      "outputs": [
        {
          "output_type": "execute_result",
          "data": {
            "text/plain": [
              "0         High\n",
              "1         High\n",
              "2          Low\n",
              "3         High\n",
              "4         High\n",
              "         ...  \n",
              "9995    Medium\n",
              "9996      High\n",
              "9997    Medium\n",
              "9998       Low\n",
              "9999      High\n",
              "Name: phone_phoneFootprintStrengthOverall, Length: 9990, dtype: object"
            ],
            "text/html": [
              "<div>\n",
              "<style scoped>\n",
              "    .dataframe tbody tr th:only-of-type {\n",
              "        vertical-align: middle;\n",
              "    }\n",
              "\n",
              "    .dataframe tbody tr th {\n",
              "        vertical-align: top;\n",
              "    }\n",
              "\n",
              "    .dataframe thead th {\n",
              "        text-align: right;\n",
              "    }\n",
              "</style>\n",
              "<table border=\"1\" class=\"dataframe\">\n",
              "  <thead>\n",
              "    <tr style=\"text-align: right;\">\n",
              "      <th></th>\n",
              "      <th>phone_phoneFootprintStrengthOverall</th>\n",
              "    </tr>\n",
              "  </thead>\n",
              "  <tbody>\n",
              "    <tr>\n",
              "      <th>0</th>\n",
              "      <td>High</td>\n",
              "    </tr>\n",
              "    <tr>\n",
              "      <th>1</th>\n",
              "      <td>High</td>\n",
              "    </tr>\n",
              "    <tr>\n",
              "      <th>2</th>\n",
              "      <td>Low</td>\n",
              "    </tr>\n",
              "    <tr>\n",
              "      <th>3</th>\n",
              "      <td>High</td>\n",
              "    </tr>\n",
              "    <tr>\n",
              "      <th>4</th>\n",
              "      <td>High</td>\n",
              "    </tr>\n",
              "    <tr>\n",
              "      <th>...</th>\n",
              "      <td>...</td>\n",
              "    </tr>\n",
              "    <tr>\n",
              "      <th>9995</th>\n",
              "      <td>Medium</td>\n",
              "    </tr>\n",
              "    <tr>\n",
              "      <th>9996</th>\n",
              "      <td>High</td>\n",
              "    </tr>\n",
              "    <tr>\n",
              "      <th>9997</th>\n",
              "      <td>Medium</td>\n",
              "    </tr>\n",
              "    <tr>\n",
              "      <th>9998</th>\n",
              "      <td>Low</td>\n",
              "    </tr>\n",
              "    <tr>\n",
              "      <th>9999</th>\n",
              "      <td>High</td>\n",
              "    </tr>\n",
              "  </tbody>\n",
              "</table>\n",
              "<p>9990 rows × 1 columns</p>\n",
              "</div><br><label><b>dtype:</b> object</label>"
            ]
          },
          "metadata": {},
          "execution_count": 1232
        }
      ],
      "source": [
        "train['phone_phoneFootprintStrengthOverall']\n"
      ]
    },
    {
      "cell_type": "code",
      "execution_count": 1233,
      "metadata": {
        "colab": {
          "base_uri": "https://localhost:8080/"
        },
        "id": "_lZZnu9YGn8K",
        "outputId": "9cf81ec9-9731-4897-99f3-ef09e75d3b82"
      },
      "outputs": [
        {
          "output_type": "execute_result",
          "data": {
            "text/plain": [
              "6"
            ]
          },
          "metadata": {},
          "execution_count": 1233
        }
      ],
      "source": [
        "train['phone_phoneFootprintStrengthOverall'].isnull().sum()"
      ]
    },
    {
      "cell_type": "code",
      "execution_count": 1234,
      "metadata": {
        "colab": {
          "base_uri": "https://localhost:8080/"
        },
        "id": "YxBH0r9SGn8L",
        "outputId": "81136d12-24c0-44cb-e7c6-4368cbc24c27"
      },
      "outputs": [
        {
          "output_type": "execute_result",
          "data": {
            "text/plain": [
              "array(['High', 'Low', 'Medium', 'Very High', nan, 'Very Low'],\n",
              "      dtype=object)"
            ]
          },
          "metadata": {},
          "execution_count": 1234
        }
      ],
      "source": [
        "train['phone_phoneFootprintStrengthOverall'].unique()"
      ]
    },
    {
      "cell_type": "code",
      "execution_count": 1235,
      "metadata": {
        "id": "7xa0YeLhGn8L"
      },
      "outputs": [],
      "source": [
        "imputer3 = SimpleImputer(strategy=\"most_frequent\")\n",
        "train['phone_phoneFootprintStrengthOverall'] = imputer3.fit_transform(train[['phone_phoneFootprintStrengthOverall']]).ravel()\n"
      ]
    },
    {
      "cell_type": "code",
      "execution_count": 1236,
      "metadata": {
        "colab": {
          "base_uri": "https://localhost:8080/"
        },
        "id": "BXA3lqMnGn8L",
        "outputId": "5dd61083-f518-4b90-c1b6-a906831c4873"
      },
      "outputs": [
        {
          "output_type": "execute_result",
          "data": {
            "text/plain": [
              "0"
            ]
          },
          "metadata": {},
          "execution_count": 1236
        }
      ],
      "source": [
        "train.isnull().sum().sum()"
      ]
    },
    {
      "cell_type": "code",
      "execution_count": 1237,
      "metadata": {
        "id": "Yh3A8l7-Gn8L"
      },
      "outputs": [],
      "source": [
        "# Encode\n",
        "ohe_encoder7 = OneHotEncoder(drop='first', sparse_output=False, handle_unknown='ignore')\n"
      ]
    },
    {
      "cell_type": "markdown",
      "metadata": {
        "id": "EE4wM9swGn8M"
      },
      "source": [
        "# Application Status"
      ]
    },
    {
      "cell_type": "code",
      "execution_count": 1238,
      "metadata": {
        "colab": {
          "base_uri": "https://localhost:8080/",
          "height": 458
        },
        "id": "9CpdpRpcGn8M",
        "outputId": "aaaf0b47-370a-4370-c964-f8786b6113fa"
      },
      "outputs": [
        {
          "output_type": "execute_result",
          "data": {
            "text/plain": [
              "0       APPROVED\n",
              "1       APPROVED\n",
              "2       APPROVED\n",
              "3       APPROVED\n",
              "4       DECLINED\n",
              "          ...   \n",
              "9995    APPROVED\n",
              "9996    APPROVED\n",
              "9997    APPROVED\n",
              "9998    APPROVED\n",
              "9999    APPROVED\n",
              "Name: Application Status, Length: 9990, dtype: object"
            ],
            "text/html": [
              "<div>\n",
              "<style scoped>\n",
              "    .dataframe tbody tr th:only-of-type {\n",
              "        vertical-align: middle;\n",
              "    }\n",
              "\n",
              "    .dataframe tbody tr th {\n",
              "        vertical-align: top;\n",
              "    }\n",
              "\n",
              "    .dataframe thead th {\n",
              "        text-align: right;\n",
              "    }\n",
              "</style>\n",
              "<table border=\"1\" class=\"dataframe\">\n",
              "  <thead>\n",
              "    <tr style=\"text-align: right;\">\n",
              "      <th></th>\n",
              "      <th>Application Status</th>\n",
              "    </tr>\n",
              "  </thead>\n",
              "  <tbody>\n",
              "    <tr>\n",
              "      <th>0</th>\n",
              "      <td>APPROVED</td>\n",
              "    </tr>\n",
              "    <tr>\n",
              "      <th>1</th>\n",
              "      <td>APPROVED</td>\n",
              "    </tr>\n",
              "    <tr>\n",
              "      <th>2</th>\n",
              "      <td>APPROVED</td>\n",
              "    </tr>\n",
              "    <tr>\n",
              "      <th>3</th>\n",
              "      <td>APPROVED</td>\n",
              "    </tr>\n",
              "    <tr>\n",
              "      <th>4</th>\n",
              "      <td>DECLINED</td>\n",
              "    </tr>\n",
              "    <tr>\n",
              "      <th>...</th>\n",
              "      <td>...</td>\n",
              "    </tr>\n",
              "    <tr>\n",
              "      <th>9995</th>\n",
              "      <td>APPROVED</td>\n",
              "    </tr>\n",
              "    <tr>\n",
              "      <th>9996</th>\n",
              "      <td>APPROVED</td>\n",
              "    </tr>\n",
              "    <tr>\n",
              "      <th>9997</th>\n",
              "      <td>APPROVED</td>\n",
              "    </tr>\n",
              "    <tr>\n",
              "      <th>9998</th>\n",
              "      <td>APPROVED</td>\n",
              "    </tr>\n",
              "    <tr>\n",
              "      <th>9999</th>\n",
              "      <td>APPROVED</td>\n",
              "    </tr>\n",
              "  </tbody>\n",
              "</table>\n",
              "<p>9990 rows × 1 columns</p>\n",
              "</div><br><label><b>dtype:</b> object</label>"
            ]
          },
          "metadata": {},
          "execution_count": 1238
        }
      ],
      "source": [
        "train['Application Status']"
      ]
    },
    {
      "cell_type": "code",
      "execution_count": 1239,
      "metadata": {
        "colab": {
          "base_uri": "https://localhost:8080/"
        },
        "id": "fHbwuvvLGn8N",
        "outputId": "e6ae8305-f22e-4ebe-ba78-00e517815373"
      },
      "outputs": [
        {
          "output_type": "execute_result",
          "data": {
            "text/plain": [
              "0"
            ]
          },
          "metadata": {},
          "execution_count": 1239
        }
      ],
      "source": [
        "train['Application Status'].isnull().sum()"
      ]
    },
    {
      "cell_type": "code",
      "execution_count": 1240,
      "metadata": {
        "colab": {
          "base_uri": "https://localhost:8080/"
        },
        "id": "b7zVhow5Gn8P",
        "outputId": "1fc74a18-7d5a-48d8-85f5-6c5e787310da"
      },
      "outputs": [
        {
          "output_type": "execute_result",
          "data": {
            "text/plain": [
              "Index(['DEALER ID', 'HDB BRANCH STATE', 'Cibil Score', 'TOTAL ASSET COST',\n",
              "       'ASSET MODEL NO', 'APPLIED AMOUNT', 'PRIMARY ASSET MAKE',\n",
              "       'MARITAL STATUS', 'GENDER', 'AGE', 'ADDRESS TYPE',\n",
              "       'EMPLOY CONSTITUTION', 'Phone Social Premium.amazon',\n",
              "       'Phone Social Premium.byjus', 'Phone Social Premium.flipkart',\n",
              "       'Phone Social Premium.housing', 'Phone Social Premium.indiamart',\n",
              "       'Phone Social Premium.instagram', 'Phone Social Premium.jeevansaathi',\n",
              "       'Phone Social Premium.microsoft', 'Phone Social Premium.paytm',\n",
              "       'Phone Social Premium.shaadi', 'Phone Social Premium.skype',\n",
              "       'Phone Social Premium.toi', 'Phone Social Premium.zoho',\n",
              "       'phone_digitalage', 'phone_nameMatchScore',\n",
              "       'phone_phoneFootprintStrengthOverall', 'Application Status', 'year',\n",
              "       'month', 'day'],\n",
              "      dtype='object')"
            ]
          },
          "metadata": {},
          "execution_count": 1240
        }
      ],
      "source": [
        "train.columns"
      ]
    },
    {
      "cell_type": "code",
      "execution_count": 1241,
      "metadata": {
        "colab": {
          "base_uri": "https://localhost:8080/",
          "height": 1000
        },
        "id": "_nq7kLg9Gn8P",
        "outputId": "2423a439-99b5-4e87-a7cc-27dad8530dbb"
      },
      "outputs": [
        {
          "output_type": "execute_result",
          "data": {
            "text/plain": [
              "DEALER ID                              0\n",
              "HDB BRANCH STATE                       0\n",
              "Cibil Score                            0\n",
              "TOTAL ASSET COST                       0\n",
              "ASSET MODEL NO                         0\n",
              "APPLIED AMOUNT                         0\n",
              "PRIMARY ASSET MAKE                     0\n",
              "MARITAL STATUS                         0\n",
              "GENDER                                 0\n",
              "AGE                                    0\n",
              "ADDRESS TYPE                           0\n",
              "EMPLOY CONSTITUTION                    0\n",
              "Phone Social Premium.amazon            0\n",
              "Phone Social Premium.byjus             0\n",
              "Phone Social Premium.flipkart          0\n",
              "Phone Social Premium.housing           0\n",
              "Phone Social Premium.indiamart         0\n",
              "Phone Social Premium.instagram         0\n",
              "Phone Social Premium.jeevansaathi      0\n",
              "Phone Social Premium.microsoft         0\n",
              "Phone Social Premium.paytm             0\n",
              "Phone Social Premium.shaadi            0\n",
              "Phone Social Premium.skype             0\n",
              "Phone Social Premium.toi               0\n",
              "Phone Social Premium.zoho              0\n",
              "phone_digitalage                       0\n",
              "phone_nameMatchScore                   0\n",
              "phone_phoneFootprintStrengthOverall    0\n",
              "Application Status                     0\n",
              "year                                   0\n",
              "month                                  0\n",
              "day                                    0\n",
              "dtype: int64"
            ],
            "text/html": [
              "<div>\n",
              "<style scoped>\n",
              "    .dataframe tbody tr th:only-of-type {\n",
              "        vertical-align: middle;\n",
              "    }\n",
              "\n",
              "    .dataframe tbody tr th {\n",
              "        vertical-align: top;\n",
              "    }\n",
              "\n",
              "    .dataframe thead th {\n",
              "        text-align: right;\n",
              "    }\n",
              "</style>\n",
              "<table border=\"1\" class=\"dataframe\">\n",
              "  <thead>\n",
              "    <tr style=\"text-align: right;\">\n",
              "      <th></th>\n",
              "      <th>0</th>\n",
              "    </tr>\n",
              "  </thead>\n",
              "  <tbody>\n",
              "    <tr>\n",
              "      <th>DEALER ID</th>\n",
              "      <td>0</td>\n",
              "    </tr>\n",
              "    <tr>\n",
              "      <th>HDB BRANCH STATE</th>\n",
              "      <td>0</td>\n",
              "    </tr>\n",
              "    <tr>\n",
              "      <th>Cibil Score</th>\n",
              "      <td>0</td>\n",
              "    </tr>\n",
              "    <tr>\n",
              "      <th>TOTAL ASSET COST</th>\n",
              "      <td>0</td>\n",
              "    </tr>\n",
              "    <tr>\n",
              "      <th>ASSET MODEL NO</th>\n",
              "      <td>0</td>\n",
              "    </tr>\n",
              "    <tr>\n",
              "      <th>APPLIED AMOUNT</th>\n",
              "      <td>0</td>\n",
              "    </tr>\n",
              "    <tr>\n",
              "      <th>PRIMARY ASSET MAKE</th>\n",
              "      <td>0</td>\n",
              "    </tr>\n",
              "    <tr>\n",
              "      <th>MARITAL STATUS</th>\n",
              "      <td>0</td>\n",
              "    </tr>\n",
              "    <tr>\n",
              "      <th>GENDER</th>\n",
              "      <td>0</td>\n",
              "    </tr>\n",
              "    <tr>\n",
              "      <th>AGE</th>\n",
              "      <td>0</td>\n",
              "    </tr>\n",
              "    <tr>\n",
              "      <th>ADDRESS TYPE</th>\n",
              "      <td>0</td>\n",
              "    </tr>\n",
              "    <tr>\n",
              "      <th>EMPLOY CONSTITUTION</th>\n",
              "      <td>0</td>\n",
              "    </tr>\n",
              "    <tr>\n",
              "      <th>Phone Social Premium.amazon</th>\n",
              "      <td>0</td>\n",
              "    </tr>\n",
              "    <tr>\n",
              "      <th>Phone Social Premium.byjus</th>\n",
              "      <td>0</td>\n",
              "    </tr>\n",
              "    <tr>\n",
              "      <th>Phone Social Premium.flipkart</th>\n",
              "      <td>0</td>\n",
              "    </tr>\n",
              "    <tr>\n",
              "      <th>Phone Social Premium.housing</th>\n",
              "      <td>0</td>\n",
              "    </tr>\n",
              "    <tr>\n",
              "      <th>Phone Social Premium.indiamart</th>\n",
              "      <td>0</td>\n",
              "    </tr>\n",
              "    <tr>\n",
              "      <th>Phone Social Premium.instagram</th>\n",
              "      <td>0</td>\n",
              "    </tr>\n",
              "    <tr>\n",
              "      <th>Phone Social Premium.jeevansaathi</th>\n",
              "      <td>0</td>\n",
              "    </tr>\n",
              "    <tr>\n",
              "      <th>Phone Social Premium.microsoft</th>\n",
              "      <td>0</td>\n",
              "    </tr>\n",
              "    <tr>\n",
              "      <th>Phone Social Premium.paytm</th>\n",
              "      <td>0</td>\n",
              "    </tr>\n",
              "    <tr>\n",
              "      <th>Phone Social Premium.shaadi</th>\n",
              "      <td>0</td>\n",
              "    </tr>\n",
              "    <tr>\n",
              "      <th>Phone Social Premium.skype</th>\n",
              "      <td>0</td>\n",
              "    </tr>\n",
              "    <tr>\n",
              "      <th>Phone Social Premium.toi</th>\n",
              "      <td>0</td>\n",
              "    </tr>\n",
              "    <tr>\n",
              "      <th>Phone Social Premium.zoho</th>\n",
              "      <td>0</td>\n",
              "    </tr>\n",
              "    <tr>\n",
              "      <th>phone_digitalage</th>\n",
              "      <td>0</td>\n",
              "    </tr>\n",
              "    <tr>\n",
              "      <th>phone_nameMatchScore</th>\n",
              "      <td>0</td>\n",
              "    </tr>\n",
              "    <tr>\n",
              "      <th>phone_phoneFootprintStrengthOverall</th>\n",
              "      <td>0</td>\n",
              "    </tr>\n",
              "    <tr>\n",
              "      <th>Application Status</th>\n",
              "      <td>0</td>\n",
              "    </tr>\n",
              "    <tr>\n",
              "      <th>year</th>\n",
              "      <td>0</td>\n",
              "    </tr>\n",
              "    <tr>\n",
              "      <th>month</th>\n",
              "      <td>0</td>\n",
              "    </tr>\n",
              "    <tr>\n",
              "      <th>day</th>\n",
              "      <td>0</td>\n",
              "    </tr>\n",
              "  </tbody>\n",
              "</table>\n",
              "</div><br><label><b>dtype:</b> int64</label>"
            ]
          },
          "metadata": {},
          "execution_count": 1241
        }
      ],
      "source": [
        "train.isnull().sum()"
      ]
    },
    {
      "cell_type": "code",
      "source": [
        "x=train.drop(\"Application Status\",axis=1)\n",
        "y=train['Application Status']"
      ],
      "metadata": {
        "id": "tWgI5eOwOyJW"
      },
      "execution_count": 1242,
      "outputs": []
    },
    {
      "cell_type": "code",
      "source": [
        "from sklearn.model_selection import train_test_split\n",
        "x_train,x_test,y_train,y_test = train_test_split(x,y,test_size=0.2, random_state=42)"
      ],
      "metadata": {
        "id": "1y8jk0k4Opft"
      },
      "execution_count": 1243,
      "outputs": []
    },
    {
      "cell_type": "code",
      "source": [
        "from sklearn.pipeline import make_pipeline"
      ],
      "metadata": {
        "id": "V5falGmEIDMx"
      },
      "execution_count": 1244,
      "outputs": []
    },
    {
      "cell_type": "markdown",
      "metadata": {
        "id": "G_2q_F3kGn8P"
      },
      "source": []
    },
    {
      "cell_type": "code",
      "execution_count": 1245,
      "metadata": {
        "id": "fPEf-PPqGn8Q"
      },
      "outputs": [],
      "source": [
        "preprocessor = ColumnTransformer(\n",
        "    transformers=[\n",
        "        ('ohe1', ohe_encoder1, ['HDB BRANCH STATE']),\n",
        "        ('ohe2', ohe_encoder2, ['PRIMARY ASSET MAKE']),\n",
        "        ('ohe3', ohe_encoder3, ['MARITAL STATUS']),\n",
        "        ('ohe4', ohe_encoder4, ['GENDER']),\n",
        "        ('ohe5', ohe_encoder5, ['ADDRESS TYPE']),\n",
        "        ('ohe6', ohe_encoder6, ['EMPLOY CONSTITUTION']),\n",
        "        ('ohe7', ohe_encoder7, ['phone_phoneFootprintStrengthOverall']),\n",
        "    ],\n",
        "    remainder='passthrough'\n",
        ")\n",
        "\n",
        "pipeline = make_pipeline(\n",
        "    preprocessor\n",
        "    )\n"
      ]
    },
    {
      "cell_type": "code",
      "execution_count": 1246,
      "metadata": {
        "id": "UEYc3PJHGn8Q"
      },
      "outputs": [],
      "source": [
        "x_train_transformed=pipeline.fit_transform(x_train)\n",
        "x_test_transformed=pipeline.transform(x_test)"
      ]
    },
    {
      "cell_type": "code",
      "source": [],
      "metadata": {
        "id": "ZiYKiCA9SEfD"
      },
      "execution_count": 1246,
      "outputs": []
    },
    {
      "cell_type": "code",
      "source": [
        "from sklearn.preprocessing import StandardScaler\n",
        "scaler=StandardScaler()\n",
        "x_train_scaled=scaler.fit_transform(x_train_transformed)\n",
        "x_test_scaled=scaler.transform(x_test_transformed)"
      ],
      "metadata": {
        "id": "kfO1_o28R-jB"
      },
      "execution_count": 1247,
      "outputs": []
    },
    {
      "cell_type": "code",
      "source": [
        "from sklearn.preprocessing import LabelEncoder\n",
        "label_encoder = LabelEncoder()\n",
        "y_train_transform = label_encoder.fit_transform(y_train)\n",
        "y_test_transform = label_encoder.transform(y_test)"
      ],
      "metadata": {
        "id": "eoqJcyPtPqg9"
      },
      "execution_count": 1248,
      "outputs": []
    },
    {
      "cell_type": "code",
      "source": [
        "y_train_transform=1-y_train_transform\n",
        "y_test_transform=1-y_test_transform"
      ],
      "metadata": {
        "id": "TFkLi3mdQbmU"
      },
      "execution_count": 1249,
      "outputs": []
    },
    {
      "cell_type": "code",
      "source": [
        "import tensorflow as tf\n",
        "from tensorflow import keras\n",
        "from tensorflow.keras.models import Sequential\n",
        "from tensorflow.keras.layers import Dense\n",
        "from keras.callbacks import EarlyStopping\n"
      ],
      "metadata": {
        "id": "LEJHcv6vRB3H"
      },
      "execution_count": 1250,
      "outputs": []
    },
    {
      "cell_type": "code",
      "source": [
        "model=Sequential()\n",
        "from keras.layers import Dropout\n",
        "\n",
        "model = Sequential()\n",
        "model.add(Dense(128, activation='relu', input_shape=(x_train_transformed.shape[1],)))\n",
        "model.add(Dropout(0.2))  # Dropout layer with 50% dropout rate\n",
        "model.add(Dense(64, activation='relu'))\n",
        "model.add(Dropout(0.2))  # Another dropout layer\n",
        "model.add(Dense(1, activation='sigmoid'))\n"
      ],
      "metadata": {
        "id": "Ci0L85waRCA6"
      },
      "execution_count": 1251,
      "outputs": []
    },
    {
      "cell_type": "code",
      "source": [
        "model.summary()"
      ],
      "metadata": {
        "id": "2MqfxOciRCEc",
        "outputId": "a254522a-70ee-4435-a076-4c2cfddf89a5",
        "colab": {
          "base_uri": "https://localhost:8080/",
          "height": 301
        }
      },
      "execution_count": 1252,
      "outputs": [
        {
          "output_type": "display_data",
          "data": {
            "text/plain": [
              "\u001b[1mModel: \"sequential_11\"\u001b[0m\n"
            ],
            "text/html": [
              "<pre style=\"white-space:pre;overflow-x:auto;line-height:normal;font-family:Menlo,'DejaVu Sans Mono',consolas,'Courier New',monospace\"><span style=\"font-weight: bold\">Model: \"sequential_11\"</span>\n",
              "</pre>\n"
            ]
          },
          "metadata": {}
        },
        {
          "output_type": "display_data",
          "data": {
            "text/plain": [
              "┏━━━━━━━━━━━━━━━━━━━━━━━━━━━━━━━━━━━━━━┳━━━━━━━━━━━━━━━━━━━━━━━━━━━━━┳━━━━━━━━━━━━━━━━━┓\n",
              "┃\u001b[1m \u001b[0m\u001b[1mLayer (type)                        \u001b[0m\u001b[1m \u001b[0m┃\u001b[1m \u001b[0m\u001b[1mOutput Shape               \u001b[0m\u001b[1m \u001b[0m┃\u001b[1m \u001b[0m\u001b[1m        Param #\u001b[0m\u001b[1m \u001b[0m┃\n",
              "┡━━━━━━━━━━━━━━━━━━━━━━━━━━━━━━━━━━━━━━╇━━━━━━━━━━━━━━━━━━━━━━━━━━━━━╇━━━━━━━━━━━━━━━━━┩\n",
              "│ dense_21 (\u001b[38;5;33mDense\u001b[0m)                     │ (\u001b[38;5;45mNone\u001b[0m, \u001b[38;5;34m128\u001b[0m)                 │          \u001b[38;5;34m10,880\u001b[0m │\n",
              "├──────────────────────────────────────┼─────────────────────────────┼─────────────────┤\n",
              "│ dropout_6 (\u001b[38;5;33mDropout\u001b[0m)                  │ (\u001b[38;5;45mNone\u001b[0m, \u001b[38;5;34m128\u001b[0m)                 │               \u001b[38;5;34m0\u001b[0m │\n",
              "├──────────────────────────────────────┼─────────────────────────────┼─────────────────┤\n",
              "│ dense_22 (\u001b[38;5;33mDense\u001b[0m)                     │ (\u001b[38;5;45mNone\u001b[0m, \u001b[38;5;34m64\u001b[0m)                  │           \u001b[38;5;34m8,256\u001b[0m │\n",
              "├──────────────────────────────────────┼─────────────────────────────┼─────────────────┤\n",
              "│ dropout_7 (\u001b[38;5;33mDropout\u001b[0m)                  │ (\u001b[38;5;45mNone\u001b[0m, \u001b[38;5;34m64\u001b[0m)                  │               \u001b[38;5;34m0\u001b[0m │\n",
              "├──────────────────────────────────────┼─────────────────────────────┼─────────────────┤\n",
              "│ dense_23 (\u001b[38;5;33mDense\u001b[0m)                     │ (\u001b[38;5;45mNone\u001b[0m, \u001b[38;5;34m1\u001b[0m)                   │              \u001b[38;5;34m65\u001b[0m │\n",
              "└──────────────────────────────────────┴─────────────────────────────┴─────────────────┘\n"
            ],
            "text/html": [
              "<pre style=\"white-space:pre;overflow-x:auto;line-height:normal;font-family:Menlo,'DejaVu Sans Mono',consolas,'Courier New',monospace\">┏━━━━━━━━━━━━━━━━━━━━━━━━━━━━━━━━━━━━━━┳━━━━━━━━━━━━━━━━━━━━━━━━━━━━━┳━━━━━━━━━━━━━━━━━┓\n",
              "┃<span style=\"font-weight: bold\"> Layer (type)                         </span>┃<span style=\"font-weight: bold\"> Output Shape                </span>┃<span style=\"font-weight: bold\">         Param # </span>┃\n",
              "┡━━━━━━━━━━━━━━━━━━━━━━━━━━━━━━━━━━━━━━╇━━━━━━━━━━━━━━━━━━━━━━━━━━━━━╇━━━━━━━━━━━━━━━━━┩\n",
              "│ dense_21 (<span style=\"color: #0087ff; text-decoration-color: #0087ff\">Dense</span>)                     │ (<span style=\"color: #00d7ff; text-decoration-color: #00d7ff\">None</span>, <span style=\"color: #00af00; text-decoration-color: #00af00\">128</span>)                 │          <span style=\"color: #00af00; text-decoration-color: #00af00\">10,880</span> │\n",
              "├──────────────────────────────────────┼─────────────────────────────┼─────────────────┤\n",
              "│ dropout_6 (<span style=\"color: #0087ff; text-decoration-color: #0087ff\">Dropout</span>)                  │ (<span style=\"color: #00d7ff; text-decoration-color: #00d7ff\">None</span>, <span style=\"color: #00af00; text-decoration-color: #00af00\">128</span>)                 │               <span style=\"color: #00af00; text-decoration-color: #00af00\">0</span> │\n",
              "├──────────────────────────────────────┼─────────────────────────────┼─────────────────┤\n",
              "│ dense_22 (<span style=\"color: #0087ff; text-decoration-color: #0087ff\">Dense</span>)                     │ (<span style=\"color: #00d7ff; text-decoration-color: #00d7ff\">None</span>, <span style=\"color: #00af00; text-decoration-color: #00af00\">64</span>)                  │           <span style=\"color: #00af00; text-decoration-color: #00af00\">8,256</span> │\n",
              "├──────────────────────────────────────┼─────────────────────────────┼─────────────────┤\n",
              "│ dropout_7 (<span style=\"color: #0087ff; text-decoration-color: #0087ff\">Dropout</span>)                  │ (<span style=\"color: #00d7ff; text-decoration-color: #00d7ff\">None</span>, <span style=\"color: #00af00; text-decoration-color: #00af00\">64</span>)                  │               <span style=\"color: #00af00; text-decoration-color: #00af00\">0</span> │\n",
              "├──────────────────────────────────────┼─────────────────────────────┼─────────────────┤\n",
              "│ dense_23 (<span style=\"color: #0087ff; text-decoration-color: #0087ff\">Dense</span>)                     │ (<span style=\"color: #00d7ff; text-decoration-color: #00d7ff\">None</span>, <span style=\"color: #00af00; text-decoration-color: #00af00\">1</span>)                   │              <span style=\"color: #00af00; text-decoration-color: #00af00\">65</span> │\n",
              "└──────────────────────────────────────┴─────────────────────────────┴─────────────────┘\n",
              "</pre>\n"
            ]
          },
          "metadata": {}
        },
        {
          "output_type": "display_data",
          "data": {
            "text/plain": [
              "\u001b[1m Total params: \u001b[0m\u001b[38;5;34m19,201\u001b[0m (75.00 KB)\n"
            ],
            "text/html": [
              "<pre style=\"white-space:pre;overflow-x:auto;line-height:normal;font-family:Menlo,'DejaVu Sans Mono',consolas,'Courier New',monospace\"><span style=\"font-weight: bold\"> Total params: </span><span style=\"color: #00af00; text-decoration-color: #00af00\">19,201</span> (75.00 KB)\n",
              "</pre>\n"
            ]
          },
          "metadata": {}
        },
        {
          "output_type": "display_data",
          "data": {
            "text/plain": [
              "\u001b[1m Trainable params: \u001b[0m\u001b[38;5;34m19,201\u001b[0m (75.00 KB)\n"
            ],
            "text/html": [
              "<pre style=\"white-space:pre;overflow-x:auto;line-height:normal;font-family:Menlo,'DejaVu Sans Mono',consolas,'Courier New',monospace\"><span style=\"font-weight: bold\"> Trainable params: </span><span style=\"color: #00af00; text-decoration-color: #00af00\">19,201</span> (75.00 KB)\n",
              "</pre>\n"
            ]
          },
          "metadata": {}
        },
        {
          "output_type": "display_data",
          "data": {
            "text/plain": [
              "\u001b[1m Non-trainable params: \u001b[0m\u001b[38;5;34m0\u001b[0m (0.00 B)\n"
            ],
            "text/html": [
              "<pre style=\"white-space:pre;overflow-x:auto;line-height:normal;font-family:Menlo,'DejaVu Sans Mono',consolas,'Courier New',monospace\"><span style=\"font-weight: bold\"> Non-trainable params: </span><span style=\"color: #00af00; text-decoration-color: #00af00\">0</span> (0.00 B)\n",
              "</pre>\n"
            ]
          },
          "metadata": {}
        }
      ]
    },
    {
      "cell_type": "code",
      "source": [
        "early_stopping = EarlyStopping(\n",
        "    monitor='val_accuracy',  # Metric to monitor\n",
        "    patience=5,          # Number of epochs to wait before stopping\n",
        "    restore_best_weights=True  # Restore the best weights at the end of training\n",
        ")"
      ],
      "metadata": {
        "id": "DCSNa9FKSmDs"
      },
      "execution_count": 1253,
      "outputs": []
    },
    {
      "cell_type": "code",
      "source": [
        "model.compile(optimizer='adam',loss='binary_crossentropy',metrics=['accuracy'])"
      ],
      "metadata": {
        "id": "0IvMWULARCHu"
      },
      "execution_count": 1254,
      "outputs": []
    },
    {
      "cell_type": "code",
      "source": [
        "model.fit(x_train_scaled,y_train_transform,epochs=100,batch_size=32,validation_split=0.2,callbacks=[early_stopping])"
      ],
      "metadata": {
        "id": "C_XGJW4WRS00",
        "outputId": "2bff2539-59a6-463c-83d4-32cd766fb730",
        "colab": {
          "base_uri": "https://localhost:8080/"
        }
      },
      "execution_count": 1255,
      "outputs": [
        {
          "output_type": "stream",
          "name": "stdout",
          "text": [
            "Epoch 1/100\n",
            "\u001b[1m200/200\u001b[0m \u001b[32m━━━━━━━━━━━━━━━━━━━━\u001b[0m\u001b[37m\u001b[0m \u001b[1m4s\u001b[0m 7ms/step - accuracy: 0.7053 - loss: 0.5109 - val_accuracy: 0.8124 - val_loss: 0.3552\n",
            "Epoch 2/100\n",
            "\u001b[1m200/200\u001b[0m \u001b[32m━━━━━━━━━━━━━━━━━━━━\u001b[0m\u001b[37m\u001b[0m \u001b[1m2s\u001b[0m 3ms/step - accuracy: 0.8253 - loss: 0.3478 - val_accuracy: 0.8261 - val_loss: 0.3477\n",
            "Epoch 3/100\n",
            "\u001b[1m200/200\u001b[0m \u001b[32m━━━━━━━━━━━━━━━━━━━━\u001b[0m\u001b[37m\u001b[0m \u001b[1m1s\u001b[0m 3ms/step - accuracy: 0.8205 - loss: 0.3323 - val_accuracy: 0.8249 - val_loss: 0.3456\n",
            "Epoch 4/100\n",
            "\u001b[1m200/200\u001b[0m \u001b[32m━━━━━━━━━━━━━━━━━━━━\u001b[0m\u001b[37m\u001b[0m \u001b[1m1s\u001b[0m 3ms/step - accuracy: 0.8355 - loss: 0.3220 - val_accuracy: 0.8168 - val_loss: 0.3489\n",
            "Epoch 5/100\n",
            "\u001b[1m200/200\u001b[0m \u001b[32m━━━━━━━━━━━━━━━━━━━━\u001b[0m\u001b[37m\u001b[0m \u001b[1m1s\u001b[0m 3ms/step - accuracy: 0.8397 - loss: 0.3143 - val_accuracy: 0.8218 - val_loss: 0.3506\n",
            "Epoch 6/100\n",
            "\u001b[1m200/200\u001b[0m \u001b[32m━━━━━━━━━━━━━━━━━━━━\u001b[0m\u001b[37m\u001b[0m \u001b[1m1s\u001b[0m 3ms/step - accuracy: 0.8363 - loss: 0.3130 - val_accuracy: 0.8130 - val_loss: 0.3537\n",
            "Epoch 7/100\n",
            "\u001b[1m200/200\u001b[0m \u001b[32m━━━━━━━━━━━━━━━━━━━━\u001b[0m\u001b[37m\u001b[0m \u001b[1m1s\u001b[0m 4ms/step - accuracy: 0.8360 - loss: 0.3151 - val_accuracy: 0.8130 - val_loss: 0.3581\n"
          ]
        },
        {
          "output_type": "execute_result",
          "data": {
            "text/plain": [
              "<keras.src.callbacks.history.History at 0x7b4ca16a8d90>"
            ]
          },
          "metadata": {},
          "execution_count": 1255
        }
      ]
    },
    {
      "cell_type": "code",
      "source": [
        "loss,accuracy=model.evaluate(x_test_scaled,y_test_transform)"
      ],
      "metadata": {
        "id": "-h3yfyekRXZi",
        "outputId": "1c88e14d-21fc-41c2-cf1a-3149ef8c7c31",
        "colab": {
          "base_uri": "https://localhost:8080/"
        }
      },
      "execution_count": 1256,
      "outputs": [
        {
          "output_type": "stream",
          "name": "stdout",
          "text": [
            "\u001b[1m63/63\u001b[0m \u001b[32m━━━━━━━━━━━━━━━━━━━━\u001b[0m\u001b[37m\u001b[0m \u001b[1m0s\u001b[0m 1ms/step - accuracy: 0.8174 - loss: 0.3539\n"
          ]
        }
      ]
    },
    {
      "cell_type": "code",
      "source": [
        "print(\"Accuracy:\", accuracy)\n",
        "print(\"Loss:\", loss)"
      ],
      "metadata": {
        "id": "irFIgr7-RoGQ",
        "outputId": "be752dc6-942c-4def-a0a7-781946d4ecdb",
        "colab": {
          "base_uri": "https://localhost:8080/"
        }
      },
      "execution_count": 1257,
      "outputs": [
        {
          "output_type": "stream",
          "name": "stdout",
          "text": [
            "Accuracy: 0.8278278112411499\n",
            "Loss: 0.33892637491226196\n"
          ]
        }
      ]
    }
  ],
  "metadata": {
    "kernelspec": {
      "display_name": "Python 3",
      "language": "python",
      "name": "python3"
    },
    "language_info": {
      "codemirror_mode": {
        "name": "ipython",
        "version": 3
      },
      "file_extension": ".py",
      "mimetype": "text/x-python",
      "name": "python",
      "nbconvert_exporter": "python",
      "pygments_lexer": "ipython3",
      "version": "3.12.4"
    },
    "colab": {
      "provenance": [],
      "include_colab_link": true
    }
  },
  "nbformat": 4,
  "nbformat_minor": 0
}